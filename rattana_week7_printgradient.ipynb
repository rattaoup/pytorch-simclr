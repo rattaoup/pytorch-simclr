{
 "cells": [
  {
   "cell_type": "code",
   "execution_count": 1,
   "metadata": {},
   "outputs": [],
   "source": [
    "'''Train an encoder using Contrastive Learning.'''\n",
    "import argparse\n",
    "import os\n",
    "import subprocess\n",
    "\n",
    "import torch\n",
    "import torch.backends.cudnn as cudnn\n",
    "import torch.nn as nn\n",
    "import torch.optim as optim\n",
    "from torchlars import LARS\n",
    "from tqdm import tqdm\n",
    "\n",
    "from configs import get_datasets\n",
    "from critic import LinearCritic\n",
    "from evaluate import save_checkpoint,save_checkpoint2, encode_train_set, train_clf, test, update_checkpoint\n",
    "from models import *\n",
    "from scheduler import CosineAnnealingWithLinearRampLR\n",
    "from augmentation import ManualNormalise, DifferentiableColourDistortionByTorch_manual, gen_lambda\n",
    "from torchvision import transforms\n",
    "\n",
    "import torch.autograd as autograd"
   ]
  },
  {
   "cell_type": "code",
   "execution_count": 2,
   "metadata": {},
   "outputs": [],
   "source": [
    "import warnings\n",
    "warnings.filterwarnings(\"ignore\")"
   ]
  },
  {
   "cell_type": "code",
   "execution_count": 3,
   "metadata": {},
   "outputs": [],
   "source": [
    "import torch\n",
    "import numbers\n",
    "import random\n",
    "from torch import Tensor\n",
    "import matplotlib.pyplot as plt\n",
    "import numpy as np\n",
    "import seaborn as sns\n",
    "import pandas as pd"
   ]
  },
  {
   "cell_type": "code",
   "execution_count": 4,
   "metadata": {},
   "outputs": [],
   "source": [
    "# config\n",
    "### config ####\n",
    "num_workers = 16\n",
    "batch_size = 512\n",
    "img_size = 32\n",
    "temperature = 0.5\n",
    "dataset = 'cifar10'\n",
    "CACHED_MEAN_STD = {\n",
    "        'cifar10': ((0.4914, 0.4822, 0.4465), (0.2023, 0.1994, 0.2010)),\n",
    "        'cifar100': ((0.5071, 0.4865, 0.4409), (0.2009, 0.1984, 0.2023)),\n",
    "        'stl10': ((0.4409, 0.4279, 0.3868), (0.2309, 0.2262, 0.2237)),\n",
    "        'imagenet': ((0.485, 0.456, 0.406), (0.229, 0.224, 0.225))\n",
    "    }\n",
    "\n",
    "device = 'cuda' if torch.cuda.is_available() else 'cpu'\n",
    "base_lr = 0.25\n",
    "arch = 'resnet18'\n",
    "momentum = 0.9\n",
    "cosine_anneal = True\n",
    "num_epochs = 1\n",
    "test_freq = 1\n",
    "resume = 'resnet18_aam_new_gp5_0_n1.pth99'\n",
    "norm = 1\n",
    "lambda_gp = 5"
   ]
  },
  {
   "cell_type": "code",
   "execution_count": 5,
   "metadata": {},
   "outputs": [
    {
     "name": "stdout",
     "output_type": "stream",
     "text": [
      "==> Preparing data..\n",
      "Files already downloaded and verified\n",
      "Files already downloaded and verified\n",
      "Files already downloaded and verified\n"
     ]
    }
   ],
   "source": [
    "lr = base_lr * (batch_size / 256)\n",
    "device = 'cuda' if torch.cuda.is_available() else 'cpu'\n",
    "best_acc = 0  # best test accuracy\n",
    "start_epoch = 0  # start from epoch 0 or last checkpoint epoch\n",
    "last_epoch = num_epochs #last epoch or from last epoch from checkpoint \n",
    "clf = None\n",
    "current_checkpoint = {}\n",
    "acc = 0\n",
    "\n",
    "print('==> Preparing data..')\n",
    "trainset, testset, clftrainset, num_classes, stem = get_datasets(dataset)\n",
    "\n",
    "trainloader = torch.utils.data.DataLoader(trainset, batch_size=batch_size, shuffle=True,\n",
    "                                          num_workers=num_workers, pin_memory=True)\n",
    "testloader = torch.utils.data.DataLoader(testset, batch_size=1000, shuffle=False, num_workers=num_workers,\n",
    "                                         pin_memory=True)\n",
    "clftrainloader = torch.utils.data.DataLoader(clftrainset, batch_size=1000, shuffle=False, num_workers=num_workers,\n",
    "                                             pin_memory=True)"
   ]
  },
  {
   "cell_type": "markdown",
   "metadata": {},
   "source": [
    "# Print dL/ d lambda"
   ]
  },
  {
   "cell_type": "code",
   "execution_count": 7,
   "metadata": {},
   "outputs": [],
   "source": [
    "def cal_gradient_lambda_full(resume, norm, lambda_gp):\n",
    "    # config\n",
    "    ### config ####\n",
    "    gradient_lambda_list = []\n",
    "\n",
    "    device = 'cuda' if torch.cuda.is_available() else 'cpu'\n",
    "    base_lr = 0.25\n",
    "    arch = 'resnet18'\n",
    "    momentum = 0.9\n",
    "    cosine_anneal = True\n",
    "    num_epochs = 1\n",
    "    test_freq = 1\n",
    "    lr = base_lr * (batch_size / 256)\n",
    "    \n",
    "    best_acc = 0  # best test accuracy\n",
    "    start_epoch = 0  # start from epoch 0 or last checkpoint epoch\n",
    "    last_epoch = num_epochs #last epoch or from last epoch from checkpoint \n",
    "    clf = None\n",
    "    current_checkpoint = {}\n",
    "    acc = 0\n",
    "    # Model\n",
    "    print('==> Building model..')\n",
    "    ##############################################################\n",
    "    # Encoder\n",
    "    ##############################################################\n",
    "    if arch == 'resnet18':\n",
    "        net = ResNet18(stem=stem)\n",
    "    elif arch == 'resnet34':\n",
    "        net = ResNet34(stem=stem)\n",
    "    elif arch == 'resnet50':\n",
    "        net = ResNet50(stem=stem)\n",
    "    else:\n",
    "        raise ValueError(\"Bad architecture specification\")\n",
    "    net = net.to(device)\n",
    "\n",
    "    ##############################################################\n",
    "    # Critic\n",
    "    ##############################################################\n",
    "    critic = LinearCritic(net.representation_dim, temperature=temperature).to(device)\n",
    "\n",
    "    ###### Differentiable augmentation ######\n",
    "    brightness_bound = [0.2, 1.8]\n",
    "    contrast_bound = [0.2, 1.8]\n",
    "    saturation_bound = [0.2, 1.8]\n",
    "    hue_bound = [-0.2, 0.2]\n",
    "\n",
    "    if device == 'cuda':\n",
    "        repr_dim = net.representation_dim\n",
    "        net = torch.nn.DataParallel(net)\n",
    "        net.representation_dim = repr_dim\n",
    "        cudnn.benchmark = True\n",
    "\n",
    "    criterion = nn.CrossEntropyLoss()\n",
    "    base_optimizer = optim.SGD(list(net.parameters()) + list(critic.parameters()), lr=lr, weight_decay=1e-6,\n",
    "                               momentum=momentum)\n",
    "    if cosine_anneal == True:\n",
    "        scheduler = CosineAnnealingWithLinearRampLR(base_optimizer, num_epochs)\n",
    "    encoder_optimizer = LARS(base_optimizer, trust_coef=1e-3)\n",
    "\n",
    "    #Resume\n",
    "    if resume:\n",
    "        # Load checkpoint.\n",
    "        print('==> Resuming from checkpoint..')\n",
    "        assert os.path.isdir('checkpoint'), 'Error: no checkpoint directory found!'\n",
    "        resume_from = os.path.join('./checkpoint', resume)\n",
    "        checkpoint = torch.load(resume_from)\n",
    "        net.load_state_dict(checkpoint['net'])\n",
    "        critic.load_state_dict(checkpoint['critic'])\n",
    "    #     best_acc = checkpoint['acc']\n",
    "        start_epoch = checkpoint['epoch'] + 1\n",
    "        encoder_optimizer.load_state_dict(checkpoint['encoder_optim'])\n",
    "        base_optimizer.load_state_dict(checkpoint['base_optim'])\n",
    "        scheduler.step(start_epoch)\n",
    "        if 'num_epochs' in checkpoint:\n",
    "            last_epoch = checkpoint['num_epochs']\n",
    "        else:\n",
    "            last_epoch = 1000 #default value for num epochs = 1000\n",
    "        current_checkpoint = checkpoint\n",
    "        ##### Train #####\n",
    "        print('\\nEpoch: %d' % start_epoch)\n",
    "        net.train()\n",
    "        critic.train()\n",
    "        train_loss = 0\n",
    "        sum_gradient = 0\n",
    "        train_loss_nogp = 0\n",
    "        t = tqdm(enumerate(trainloader), desc='Loss: **** ', total=len(trainloader), bar_format='{desc}{bar}{r_bar}')\n",
    "        for batch_idx, (inputs, _, _) in t:\n",
    "            x1, x2 = inputs\n",
    "            x1, x2 = x1.to(device), x2.to(device)\n",
    "\n",
    "            #colour augmentation\n",
    "            B = x1.size()[0]\n",
    "            brightness_list1, saturation_list1, contrast_list1, hue_list1 = gen_lambda(B, brightness_bound,\n",
    "                                                                                       contrast_bound,\n",
    "                                                                                       saturation_bound,\n",
    "                                                                                       hue_bound)\n",
    "            brightness_list2, saturation_list2, contrast_list2, hue_list2 = gen_lambda(B, brightness_bound,\n",
    "                                                                                       contrast_bound,\n",
    "                                                                                       saturation_bound,\n",
    "                                                                                       hue_bound)\n",
    "            lambda_ = torch.stack([brightness_list1, saturation_list1, contrast_list1, hue_list1,\n",
    "                                   brightness_list2, saturation_list2, contrast_list2, hue_list2], dim=1)\n",
    "            aug_manual1 = DifferentiableColourDistortionByTorch_manual(brightness = lambda_[:,0],\n",
    "                                                                       contrast = lambda_[:,1],\n",
    "                                                                       saturation = lambda_[:,2],\n",
    "                                                                       hue = lambda_[:,3])\n",
    "            aug_manual2 = DifferentiableColourDistortionByTorch_manual(brightness = lambda_[:,4],\n",
    "                                                                       contrast = lambda_[:,5],\n",
    "                                                                       saturation = lambda_[:,6],\n",
    "                                                                       hue = lambda_[:,7])\n",
    "\n",
    "            x1, x2 = aug_manual1(x1), aug_manual2(x2)\n",
    "            x1, x2 = ManualNormalise(x1, dataset), ManualNormalise(x2, dataset)\n",
    "\n",
    "            encoder_optimizer.zero_grad()\n",
    "            representation1, representation2 = net(x1), net(x2)\n",
    "            raw_scores, pseudotargets = critic(representation1, representation2)\n",
    "            loss = criterion(raw_scores, pseudotargets)\n",
    "\n",
    "            # Gradient penalty\n",
    "            gradient_lambda =  autograd.grad(outputs = loss,\n",
    "                                 inputs = lambda_,\n",
    "                                 create_graph = False,\n",
    "                                 retain_graph = False,\n",
    "                                 only_inputs = True)[0]\n",
    "\n",
    "            # take norm before mean\n",
    "            gradient_penalty = gradient_lambda.norm(p=norm, dim=1).mean(0)\n",
    "\n",
    "\n",
    "            loss_gp = loss + lambda_gp * gradient_penalty.to(device)\n",
    "#             loss_gp.backward()\n",
    "#             encoder_optimizer.step()\n",
    "\n",
    "            train_loss += loss_gp.item()\n",
    "            sum_gradient += gradient_penalty\n",
    "            train_loss_nogp += loss\n",
    "\n",
    "            t.set_description('gp: {:0.5f} ,  loss: {:0.3f},  final_loss: {:0.3f}'.format((sum_gradient / (batch_idx + 1)), (train_loss_nogp / (batch_idx + 1)), (train_loss / (batch_idx + 1))))\n",
    "            \n",
    "            gradient_lambda_list.append(gradient_lambda)\n",
    "    return torch.cat(gradient_lambda_list, dim = 0)"
   ]
  },
  {
   "cell_type": "markdown",
   "metadata": {},
   "source": [
    "## 100 epochs vs 1000 epochs normal simclr"
   ]
  },
  {
   "cell_type": "code",
   "execution_count": 12,
   "metadata": {},
   "outputs": [
    {
     "name": "stdout",
     "output_type": "stream",
     "text": [
      "==> Building model..\n",
      "==> Resuming from checkpoint..\n",
      "\n",
      "Epoch: 1000\n"
     ]
    },
    {
     "name": "stderr",
     "output_type": "stream",
     "text": [
      "gp: 0.00143 ,  loss: 5.281,  final_loss: 5.281: ██████████| 98/98 [00:55<00:00,  1.76it/s]\n"
     ]
    }
   ],
   "source": [
    "gradient_lambda0_e1000_full = cal_gradient_lambda_full(resume = 'resnet18_aam_new_baseline_rerun.pth999', norm = 1, lambda_gp = 0)"
   ]
  },
  {
   "cell_type": "code",
   "execution_count": 18,
   "metadata": {},
   "outputs": [
    {
     "name": "stdout",
     "output_type": "stream",
     "text": [
      "==> Building model..\n",
      "==> Resuming from checkpoint..\n",
      "\n",
      "Epoch: 100\n"
     ]
    },
    {
     "name": "stderr",
     "output_type": "stream",
     "text": [
      "gp: 0.00143 ,  loss: 5.462,  final_loss: 5.462: ████▌     | 45/98 [00:28<00:33,  1.59it/s]\n"
     ]
    },
    {
     "ename": "KeyboardInterrupt",
     "evalue": "",
     "output_type": "error",
     "traceback": [
      "\u001b[0;31m---------------------------------------------------------------------------\u001b[0m",
      "\u001b[0;31mKeyboardInterrupt\u001b[0m                         Traceback (most recent call last)",
      "\u001b[0;32m<ipython-input-18-170a631e7636>\u001b[0m in \u001b[0;36m<module>\u001b[0;34m\u001b[0m\n\u001b[0;32m----> 1\u001b[0;31m \u001b[0mgradient_lambda0_e100_full\u001b[0m \u001b[0;34m=\u001b[0m \u001b[0mcal_gradient_lambda_full\u001b[0m\u001b[0;34m(\u001b[0m\u001b[0mresume\u001b[0m \u001b[0;34m=\u001b[0m \u001b[0;34m'resnet18_aam_new_baseline_rerun.pth99'\u001b[0m\u001b[0;34m,\u001b[0m \u001b[0mnorm\u001b[0m \u001b[0;34m=\u001b[0m \u001b[0;36m1\u001b[0m\u001b[0;34m,\u001b[0m \u001b[0mlambda_gp\u001b[0m \u001b[0;34m=\u001b[0m \u001b[0;36m0\u001b[0m\u001b[0;34m)\u001b[0m\u001b[0;34m\u001b[0m\u001b[0;34m\u001b[0m\u001b[0m\n\u001b[0m",
      "\u001b[0;32m<ipython-input-17-07f5c22fa06e>\u001b[0m in \u001b[0;36mcal_gradient_lambda_full\u001b[0;34m(resume, norm, lambda_gp)\u001b[0m\n\u001b[1;32m    123\u001b[0m                                  \u001b[0mcreate_graph\u001b[0m \u001b[0;34m=\u001b[0m \u001b[0;32mFalse\u001b[0m\u001b[0;34m,\u001b[0m\u001b[0;34m\u001b[0m\u001b[0;34m\u001b[0m\u001b[0m\n\u001b[1;32m    124\u001b[0m                                  \u001b[0mretain_graph\u001b[0m \u001b[0;34m=\u001b[0m \u001b[0;32mFalse\u001b[0m\u001b[0;34m,\u001b[0m\u001b[0;34m\u001b[0m\u001b[0;34m\u001b[0m\u001b[0m\n\u001b[0;32m--> 125\u001b[0;31m                                  only_inputs = True)[0]\n\u001b[0m\u001b[1;32m    126\u001b[0m \u001b[0;34m\u001b[0m\u001b[0m\n\u001b[1;32m    127\u001b[0m             \u001b[0;31m# take norm before mean\u001b[0m\u001b[0;34m\u001b[0m\u001b[0;34m\u001b[0m\u001b[0;34m\u001b[0m\u001b[0m\n",
      "\u001b[0;32m/usr/local/lib/python3.6/dist-packages/torch/autograd/__init__.py\u001b[0m in \u001b[0;36mgrad\u001b[0;34m(outputs, inputs, grad_outputs, retain_graph, create_graph, only_inputs, allow_unused)\u001b[0m\n\u001b[1;32m    147\u001b[0m     return Variable._execution_engine.run_backward(\n\u001b[1;32m    148\u001b[0m         \u001b[0moutputs\u001b[0m\u001b[0;34m,\u001b[0m \u001b[0mgrad_outputs\u001b[0m\u001b[0;34m,\u001b[0m \u001b[0mretain_graph\u001b[0m\u001b[0;34m,\u001b[0m \u001b[0mcreate_graph\u001b[0m\u001b[0;34m,\u001b[0m\u001b[0;34m\u001b[0m\u001b[0;34m\u001b[0m\u001b[0m\n\u001b[0;32m--> 149\u001b[0;31m         inputs, allow_unused)\n\u001b[0m\u001b[1;32m    150\u001b[0m \u001b[0;34m\u001b[0m\u001b[0m\n\u001b[1;32m    151\u001b[0m \u001b[0;34m\u001b[0m\u001b[0m\n",
      "\u001b[0;31mKeyboardInterrupt\u001b[0m: "
     ]
    }
   ],
   "source": [
    "gradient_lambda0_e100_full = cal_gradient_lambda_full(resume = 'resnet18_aam_new_baseline_rerun.pth99', norm = 1, lambda_gp = 0)"
   ]
  },
  {
   "cell_type": "code",
   "execution_count": 55,
   "metadata": {},
   "outputs": [
    {
     "data": {
      "text/plain": [
       "<matplotlib.axes._subplots.AxesSubplot at 0x7f6ef9a3a940>"
      ]
     },
     "execution_count": 55,
     "metadata": {},
     "output_type": "execute_result"
    },
    {
     "data": {
      "image/png": "[encoded data removed]",
      "text/plain": [
       "<Figure size 432x288 with 1 Axes>"
      ]
     },
     "metadata": {
      "needs_background": "light"
     },
     "output_type": "display_data"
    }
   ],
   "source": [
    "sns.boxplot(data = ((gradient_lambda0_e1000_full)).detach(), showfliers = True)"
   ]
  },
  {
   "cell_type": "code",
   "execution_count": 56,
   "metadata": {},
   "outputs": [
    {
     "data": {
      "image/png": "[encoded data removed]",
      "text/plain": [
       "<Figure size 1008x360 with 2 Axes>"
      ]
     },
     "metadata": {
      "needs_background": "light"
     },
     "output_type": "display_data"
    }
   ],
   "source": [
    "fig, (ax1, ax2) = plt.subplots(1, 2, figsize=(14,5))\n",
    "ax1.set_ylim([-0.0005,0.0005])\n",
    "ax2.set_ylim([-0.0005,0.0005])\n",
    "ax1.title.set_text('gradient epoch 100 full')\n",
    "ax2.title.set_text('gradient epoch 1000 full')\n",
    "sns.boxplot(data = ((gradient_lambda0_e100_full)).detach(), ax = ax1, showfliers = False)\n",
    "sns.boxplot(data = ((gradient_lambda0_e1000_full)).detach(), ax = ax2, showfliers = False)\n",
    "plt.show()"
   ]
  },
  {
   "cell_type": "code",
   "execution_count": 57,
   "metadata": {},
   "outputs": [
    {
     "data": {
      "image/png": "[encoded data removed]",
      "text/plain": [
       "<Figure size 1008x360 with 2 Axes>"
      ]
     },
     "metadata": {
      "needs_background": "light"
     },
     "output_type": "display_data"
    }
   ],
   "source": [
    "fig, (ax1, ax2) = plt.subplots(1, 2, figsize=(14,5))\n",
    "# ax1.set_ylim([-0.0005,0.0005])\n",
    "# ax2.set_ylim([-0.0005,0.0005])\n",
    "ax1.title.set_text('gradient epoch 100 full')\n",
    "ax2.title.set_text('gradient epoch 1000 full')\n",
    "sns.boxplot(data = ((gradient_lambda0_e100_full)).detach(), ax = ax1)\n",
    "sns.boxplot(data = ((gradient_lambda0_e1000_full)).detach(), ax = ax2)\n",
    "plt.show()"
   ]
  },
  {
   "cell_type": "code",
   "execution_count": 58,
   "metadata": {},
   "outputs": [
    {
     "data": {
      "image/png": "[encoded data removed]",
      "text/plain": [
       "<Figure size 1008x360 with 2 Axes>"
      ]
     },
     "metadata": {
      "needs_background": "light"
     },
     "output_type": "display_data"
    }
   ],
   "source": [
    "fig, (ax1, ax2) = plt.subplots(1, 2, figsize=(14,5))\n",
    "ax1.set_ylim([-30,0])\n",
    "ax2.set_ylim([-30,0])\n",
    "ax1.title.set_text('log abs gradient epoch 100 full')\n",
    "ax2.title.set_text('log abs gradient epoch 1000 full')\n",
    "sns.boxplot(data = torch.log(torch.abs(gradient_lambda0_e100_full)+0.00000000001).detach(), ax = ax1, showfliers = False)\n",
    "sns.boxplot(data = torch.log(torch.abs(gradient_lambda0_e1000_full)+0.00000000001).detach(), ax = ax2, showfliers = False)\n",
    "plt.show()"
   ]
  },
  {
   "cell_type": "markdown",
   "metadata": {},
   "source": [
    "# 100 epochs original simclr vs with gradient penalty lambda = 5"
   ]
  },
  {
   "cell_type": "code",
   "execution_count": 59,
   "metadata": {},
   "outputs": [
    {
     "name": "stdout",
     "output_type": "stream",
     "text": [
      "==> Building model..\n",
      "==> Resuming from checkpoint..\n",
      "\n",
      "Epoch: 100\n"
     ]
    },
    {
     "name": "stderr",
     "output_type": "stream",
     "text": [
      "gp: 0.00135 ,  loss: 5.462,  final_loss: 5.469: ██████████| 98/98 [00:58<00:00,  1.68it/s]\n"
     ]
    }
   ],
   "source": [
    "gradient_lambda5_e100_full = cal_gradient_lambda_full(resume = 'resnet18_aam_new_gp5_0_n1.pth99', norm = 1, lambda_gp = 5)"
   ]
  },
  {
   "cell_type": "code",
   "execution_count": 60,
   "metadata": {},
   "outputs": [
    {
     "name": "stdout",
     "output_type": "stream",
     "text": [
      "==> Building model..\n",
      "==> Resuming from checkpoint..\n",
      "\n",
      "Epoch: 100\n"
     ]
    },
    {
     "name": "stderr",
     "output_type": "stream",
     "text": [
      "gp: 0.00133 ,  loss: 5.468,  final_loss: 5.482: ██████████| 98/98 [00:58<00:00,  1.67it/s]\n"
     ]
    }
   ],
   "source": [
    "gradient_lambda10_e100_full = cal_gradient_lambda_full(resume = 'resnet18_realaam_gp_10_0_n1.pth99', norm = 1, lambda_gp = 10)"
   ]
  },
  {
   "cell_type": "code",
   "execution_count": 61,
   "metadata": {},
   "outputs": [
    {
     "data": {
      "image/png": "[encoded data removed]",
      "text/plain": [
       "<Figure size 1008x360 with 2 Axes>"
      ]
     },
     "metadata": {
      "needs_background": "light"
     },
     "output_type": "display_data"
    }
   ],
   "source": [
    "fig, (ax1, ax2) = plt.subplots(1, 2, figsize=(14,5))\n",
    "ax1.set_ylim([-0.0005,0.0005])\n",
    "ax2.set_ylim([-0.0005,0.0005])\n",
    "ax1.title.set_text('gradient epoch 100 full')\n",
    "ax2.title.set_text('gradient epoch 100 full with lambda gp 5')\n",
    "sns.boxplot(data = ((gradient_lambda0_e100_full)).detach(), ax = ax1, showfliers = False)\n",
    "sns.boxplot(data = ((gradient_lambda5_e100_full)).detach(), ax = ax2, showfliers = False)\n",
    "plt.show()"
   ]
  },
  {
   "cell_type": "markdown",
   "metadata": {},
   "source": [
    "varinace of 100 epochs vs 1000 epoch"
   ]
  },
  {
   "cell_type": "code",
   "execution_count": 62,
   "metadata": {},
   "outputs": [
    {
     "data": {
      "text/plain": [
       "tensor([1.3520e-06, 6.1596e-07, 2.8725e-08, 3.1165e-08, 1.1495e-06, 5.1528e-07,\n",
       "        3.2879e-08, 3.8187e-08])"
      ]
     },
     "execution_count": 62,
     "metadata": {},
     "output_type": "execute_result"
    }
   ],
   "source": [
    "gradient_lambda0_e100_full.var(dim = 0)"
   ]
  },
  {
   "cell_type": "code",
   "execution_count": 63,
   "metadata": {},
   "outputs": [
    {
     "data": {
      "text/plain": [
       "tensor([2.5401e-06, 8.2909e-07, 6.5902e-08, 7.0787e-08, 2.1691e-06, 7.4610e-07,\n",
       "        6.6494e-08, 7.9001e-08])"
      ]
     },
     "execution_count": 63,
     "metadata": {},
     "output_type": "execute_result"
    }
   ],
   "source": [
    "gradient_lambda0_e1000_full.var(dim = 0)"
   ]
  },
  {
   "cell_type": "code",
   "execution_count": 64,
   "metadata": {},
   "outputs": [
    {
     "data": {
      "text/plain": [
       "tensor([0.2601, 0.1755, 0.0379, 0.0395, 0.2399, 0.1605, 0.0406, 0.0437])"
      ]
     },
     "execution_count": 64,
     "metadata": {},
     "output_type": "execute_result"
    }
   ],
   "source": [
    "gradient_lambda0_e100_full.norm(p = 2, dim = 0)"
   ]
  },
  {
   "cell_type": "code",
   "execution_count": 65,
   "metadata": {},
   "outputs": [
    {
     "data": {
      "text/plain": [
       "tensor([0.3565, 0.2036, 0.0574, 0.0595, 0.3295, 0.1931, 0.0577, 0.0628])"
      ]
     },
     "execution_count": 65,
     "metadata": {},
     "output_type": "execute_result"
    }
   ],
   "source": [
    "gradient_lambda0_e1000_full.norm(p = 2, dim = 0)"
   ]
  },
  {
   "cell_type": "code",
   "execution_count": 66,
   "metadata": {},
   "outputs": [
    {
     "data": {
      "text/plain": [
       "tensor([18.2177, 11.9228,  3.3124,  2.9970, 17.8847, 12.0303,  3.5127,  3.1400])"
      ]
     },
     "execution_count": 66,
     "metadata": {},
     "output_type": "execute_result"
    }
   ],
   "source": [
    "gradient_lambda0_e100_full.norm(p = 1, dim = 0)"
   ]
  },
  {
   "cell_type": "code",
   "execution_count": 67,
   "metadata": {},
   "outputs": [
    {
     "data": {
      "text/plain": [
       "tensor([18.1795, 10.1346,  3.7118,  3.4127, 17.3027,  9.7652,  3.6772,  3.5167])"
      ]
     },
     "execution_count": 67,
     "metadata": {},
     "output_type": "execute_result"
    }
   ],
   "source": [
    "gradient_lambda0_e1000_full.norm(p = 1, dim = 0)"
   ]
  },
  {
   "cell_type": "code",
   "execution_count": 68,
   "metadata": {},
   "outputs": [
    {
     "data": {
      "text/plain": [
       "tensor(435.4576)"
      ]
     },
     "execution_count": 68,
     "metadata": {},
     "output_type": "execute_result"
    }
   ],
   "source": [
    "gradient_lambda0_e100_full.norm(p = 0.5, dim = 0).mean()/512"
   ]
  },
  {
   "cell_type": "code",
   "execution_count": 69,
   "metadata": {},
   "outputs": [
    {
     "data": {
      "text/plain": [
       "tensor(341.8886)"
      ]
     },
     "execution_count": 69,
     "metadata": {},
     "output_type": "execute_result"
    }
   ],
   "source": [
    "gradient_lambda0_e1000_full.norm(p = 0.5, dim = 0).mean()/512"
   ]
  },
  {
   "cell_type": "code",
   "execution_count": 70,
   "metadata": {},
   "outputs": [
    {
     "data": {
      "text/plain": [
       "tensor(435.4576)"
      ]
     },
     "execution_count": 70,
     "metadata": {},
     "output_type": "execute_result"
    }
   ],
   "source": [
    "(gradient_lambda0_e100_full+1e-16).norm(p = 0.5, dim = 0).mean()/512"
   ]
  },
  {
   "cell_type": "code",
   "execution_count": 71,
   "metadata": {},
   "outputs": [
    {
     "data": {
      "text/plain": [
       "tensor(341.8886)"
      ]
     },
     "execution_count": 71,
     "metadata": {},
     "output_type": "execute_result"
    }
   ],
   "source": [
    "(gradient_lambda0_e1000_full+1e-16).norm(p = 0.5, dim = 0).mean()/512"
   ]
  },
  {
   "cell_type": "code",
   "execution_count": 72,
   "metadata": {},
   "outputs": [
    {
     "name": "stdout",
     "output_type": "stream",
     "text": [
      "==> Building model..\n",
      "==> Resuming from checkpoint..\n",
      "\n",
      "Epoch: 100\n"
     ]
    },
    {
     "name": "stderr",
     "output_type": "stream",
     "text": [
      "gp: 0.00141 ,  loss: 5.538,  final_loss: 5.538: ██████████| 98/98 [00:57<00:00,  1.71it/s]\n"
     ]
    }
   ],
   "source": [
    "gradient_lambda1_n0_5_e100_full = cal_gradient_lambda_full(resume = 'resnet18_aam_gp_1_0_n0_5.pth99', norm = 1, lambda_gp = 0)"
   ]
  },
  {
   "cell_type": "code",
   "execution_count": 73,
   "metadata": {},
   "outputs": [
    {
     "data": {
      "image/png": "[encoded data removed]",
      "text/plain": [
       "<Figure size 1008x360 with 2 Axes>"
      ]
     },
     "metadata": {
      "needs_background": "light"
     },
     "output_type": "display_data"
    }
   ],
   "source": [
    "fig, (ax1, ax2) = plt.subplots(1, 2, figsize=(14,5))\n",
    "ax1.set_ylim([-0.0005,0.0005])\n",
    "ax2.set_ylim([-0.0005,0.0005])\n",
    "ax1.title.set_text('gradient epoch 100 full')\n",
    "ax2.title.set_text('gradient epoch 100 n = 0.5 lambda = 1 full')\n",
    "sns.boxplot(data = ((gradient_lambda0_e100_full)).detach(), ax = ax1, showfliers = False)\n",
    "sns.boxplot(data = ((gradient_lambda1_n0_5_e100_full)).detach(), ax = ax2, showfliers = False)\n",
    "plt.show()"
   ]
  },
  {
   "cell_type": "code",
   "execution_count": 79,
   "metadata": {},
   "outputs": [
    {
     "data": {
      "image/png": "[encoded data removed]",
      "text/plain": [
       "<Figure size 1008x360 with 2 Axes>"
      ]
     },
     "metadata": {
      "needs_background": "light"
     },
     "output_type": "display_data"
    }
   ],
   "source": [
    "fig, (ax1, ax2) = plt.subplots(1, 2, figsize=(14,5))\n",
    "# ax1.set_ylim([-0.0005,0.0005])\n",
    "# ax2.set_ylim([-0.0005,0.0005])\n",
    "ax1.title.set_text('gradient epoch 100 full')\n",
    "ax2.title.set_text('gradient epoch 100 n = 0.5 lambda = 1 full')\n",
    "sns.boxplot(data = ((gradient_lambda0_e100_full)).detach(), ax = ax1, showfliers = True)\n",
    "sns.boxplot(data = ((gradient_lambda1_n0_5_e100_full)).detach(), ax = ax2, showfliers = True)\n",
    "plt.show()"
   ]
  },
  {
   "cell_type": "code",
   "execution_count": 74,
   "metadata": {},
   "outputs": [
    {
     "data": {
      "text/plain": [
       "tensor(422.2264)"
      ]
     },
     "execution_count": 74,
     "metadata": {},
     "output_type": "execute_result"
    }
   ],
   "source": [
    "(gradient_lambda1_n0_5_e100_full+1e-16).norm(p = 0.5, dim = 0).mean()/512"
   ]
  },
  {
   "cell_type": "code",
   "execution_count": 75,
   "metadata": {},
   "outputs": [
    {
     "data": {
      "text/plain": [
       "tensor(435.4576)"
      ]
     },
     "execution_count": 75,
     "metadata": {},
     "output_type": "execute_result"
    }
   ],
   "source": [
    "(gradient_lambda0_e100_full+1e-16).norm(p = 0.5, dim = 0).mean()/512"
   ]
  },
  {
   "cell_type": "code",
   "execution_count": 77,
   "metadata": {},
   "outputs": [
    {
     "data": {
      "text/plain": [
       "tensor(446916.3125)"
      ]
     },
     "execution_count": 77,
     "metadata": {},
     "output_type": "execute_result"
    }
   ],
   "source": [
    "gradient_lambda0_e100_full[:,0].norm(p=0.5)"
   ]
  },
  {
   "cell_type": "code",
   "execution_count": 78,
   "metadata": {},
   "outputs": [
    {
     "data": {
      "text/plain": [
       "tensor(436711.1562)"
      ]
     },
     "execution_count": 78,
     "metadata": {},
     "output_type": "execute_result"
    }
   ],
   "source": [
    "gradient_lambda1_n0_5_e100_full[:,0].norm(p=0.5)"
   ]
  },
  {
   "cell_type": "code",
   "execution_count": 80,
   "metadata": {},
   "outputs": [
    {
     "data": {
      "text/plain": [
       "tensor([1.3520e-06, 6.1596e-07, 2.8725e-08, 3.1165e-08, 1.1495e-06, 5.1528e-07,\n",
       "        3.2879e-08, 3.8187e-08])"
      ]
     },
     "execution_count": 80,
     "metadata": {},
     "output_type": "execute_result"
    }
   ],
   "source": [
    "gradient_lambda0_e100_full.var(dim = 0)"
   ]
  },
  {
   "cell_type": "code",
   "execution_count": 81,
   "metadata": {},
   "outputs": [
    {
     "data": {
      "text/plain": [
       "tensor([2.5401e-06, 8.2909e-07, 6.5902e-08, 7.0787e-08, 2.1691e-06, 7.4610e-07,\n",
       "        6.6494e-08, 7.9001e-08])"
      ]
     },
     "execution_count": 81,
     "metadata": {},
     "output_type": "execute_result"
    }
   ],
   "source": [
    "gradient_lambda0_e1000_full.var(dim = 0)"
   ]
  },
  {
   "cell_type": "code",
   "execution_count": 83,
   "metadata": {},
   "outputs": [
    {
     "data": {
      "text/plain": [
       "tensor([0.2601, 0.1755, 0.0379, 0.0395, 0.2399, 0.1605, 0.0406, 0.0437])"
      ]
     },
     "execution_count": 83,
     "metadata": {},
     "output_type": "execute_result"
    }
   ],
   "source": [
    "gradient_lambda0_e100_full.norm(p=2, dim = 0)"
   ]
  },
  {
   "cell_type": "code",
   "execution_count": 84,
   "metadata": {},
   "outputs": [
    {
     "data": {
      "text/plain": [
       "tensor([0.3565, 0.2036, 0.0574, 0.0595, 0.3295, 0.1931, 0.0577, 0.0628])"
      ]
     },
     "execution_count": 84,
     "metadata": {},
     "output_type": "execute_result"
    }
   ],
   "source": [
    "gradient_lambda0_e1000_full.norm(p=2, dim = 0)"
   ]
  },
  {
   "cell_type": "code",
   "execution_count": 92,
   "metadata": {},
   "outputs": [
    {
     "data": {
      "text/plain": [
       "tensor(0.0158)"
      ]
     },
     "execution_count": 92,
     "metadata": {},
     "output_type": "execute_result"
    }
   ],
   "source": [
    "gradient_lambda0_e1000_full.norm(p=2, dim = 0).var()"
   ]
  },
  {
   "cell_type": "code",
   "execution_count": 93,
   "metadata": {},
   "outputs": [
    {
     "data": {
      "text/plain": [
       "tensor(0.0091)"
      ]
     },
     "execution_count": 93,
     "metadata": {},
     "output_type": "execute_result"
    }
   ],
   "source": [
    "gradient_lambda0_e100_full.norm(p=2, dim = 0).var()"
   ]
  },
  {
   "cell_type": "code",
   "execution_count": 114,
   "metadata": {},
   "outputs": [
    {
     "data": {
      "text/plain": [
       "<matplotlib.axes._subplots.AxesSubplot at 0x7f6eeac50128>"
      ]
     },
     "execution_count": 114,
     "metadata": {},
     "output_type": "execute_result"
    },
    {
     "data": {
      "image/png": "[encoded data removed]",
      "text/plain": [
       "<Figure size 432x288 with 1 Axes>"
      ]
     },
     "metadata": {
      "needs_background": "light"
     },
     "output_type": "display_data"
    }
   ],
   "source": [
    "sns.boxplot(data = [gradient_lambda0_e100_full.norm(p=2, dim = 0), gradient_lambda0_e1000_full.norm(p=2, dim = 0)], orient = 'h')"
   ]
  },
  {
   "cell_type": "code",
   "execution_count": 115,
   "metadata": {},
   "outputs": [
    {
     "data": {
      "text/plain": [
       "<matplotlib.axes._subplots.AxesSubplot at 0x7f6eeaff9898>"
      ]
     },
     "execution_count": 115,
     "metadata": {},
     "output_type": "execute_result"
    },
    {
     "data": {
      "image/png": "[encoded data removed]",
      "text/plain": [
       "<Figure size 432x288 with 1 Axes>"
      ]
     },
     "metadata": {
      "needs_background": "light"
     },
     "output_type": "display_data"
    }
   ],
   "source": [
    "sns.boxplot(data = [gradient_lambda0_e100_full.norm(p=1, dim = 0), gradient_lambda0_e1000_full.norm(p=1, dim = 0)], orient = 'h')"
   ]
  },
  {
   "cell_type": "code",
   "execution_count": 127,
   "metadata": {},
   "outputs": [
    {
     "data": {
      "text/plain": [
       "<matplotlib.axes._subplots.AxesSubplot at 0x7f6eea5fee80>"
      ]
     },
     "execution_count": 127,
     "metadata": {},
     "output_type": "execute_result"
    },
    {
     "data": {
      "image/png": "[encoded data removed]",
      "text/plain": [
       "<Figure size 432x288 with 1 Axes>"
      ]
     },
     "metadata": {
      "needs_background": "light"
     },
     "output_type": "display_data"
    }
   ],
   "source": [
    "sns.boxplot(data = [(gradient_lambda0_e100_full+1e-16).norm(p=0.5, dim = 0), (gradient_lambda0_e1000_full+1e-16).norm(p=0.5, dim = 0)], orient = 'h', showmeans = True)"
   ]
  },
  {
   "cell_type": "code",
   "execution_count": 128,
   "metadata": {},
   "outputs": [
    {
     "data": {
      "text/plain": [
       "<matplotlib.axes._subplots.AxesSubplot at 0x7f6eea5ebcf8>"
      ]
     },
     "execution_count": 128,
     "metadata": {},
     "output_type": "execute_result"
    },
    {
     "data": {
      "image/png": "[encoded data removed]",
      "text/plain": [
       "<Figure size 432x288 with 1 Axes>"
      ]
     },
     "metadata": {
      "needs_background": "light"
     },
     "output_type": "display_data"
    }
   ],
   "source": [
    "sns.boxplot(data = [(gradient_lambda0_e100_full+1e-16).norm(p=0.2, dim = 0), (gradient_lambda0_e1000_full+1e-16).norm(p=0.2, dim = 0)], orient = 'h', showmeans = True)"
   ]
  },
  {
   "cell_type": "code",
   "execution_count": 129,
   "metadata": {},
   "outputs": [
    {
     "data": {
      "text/plain": [
       "<matplotlib.axes._subplots.AxesSubplot at 0x7f6eea565390>"
      ]
     },
     "execution_count": 129,
     "metadata": {},
     "output_type": "execute_result"
    },
    {
     "data": {
      "image/png": "[encoded data removed]",
      "text/plain": [
       "<Figure size 432x288 with 1 Axes>"
      ]
     },
     "metadata": {
      "needs_background": "light"
     },
     "output_type": "display_data"
    }
   ],
   "source": [
    "sns.boxplot(data = [(gradient_lambda0_e100_full+1e-16).norm(p=1, dim = 0), (gradient_lambda0_e1000_full+1e-16).norm(p=1, dim = 0)], orient = 'h', showmeans = True)"
   ]
  },
  {
   "cell_type": "code",
   "execution_count": 131,
   "metadata": {},
   "outputs": [
    {
     "data": {
      "text/plain": [
       "<matplotlib.axes._subplots.AxesSubplot at 0x7f6eea4c94e0>"
      ]
     },
     "execution_count": 131,
     "metadata": {},
     "output_type": "execute_result"
    },
    {
     "data": {
      "image/png": "[encoded data removed]",
      "text/plain": [
       "<Figure size 432x288 with 1 Axes>"
      ]
     },
     "metadata": {
      "needs_background": "light"
     },
     "output_type": "display_data"
    }
   ],
   "source": [
    "sns.boxplot(data = [(gradient_lambda0_e100+1e-16).norm(p=1, dim = 0).detach(), (gradient_lambda0_e1000+1e-16).norm(p=1, dim = 0).detach()], orient = 'h', showmeans = True)"
   ]
  },
  {
   "cell_type": "code",
   "execution_count": 132,
   "metadata": {},
   "outputs": [
    {
     "data": {
      "text/plain": [
       "<matplotlib.axes._subplots.AxesSubplot at 0x7f6eea4619b0>"
      ]
     },
     "execution_count": 132,
     "metadata": {},
     "output_type": "execute_result"
    },
    {
     "data": {
      "image/png": "[encoded data removed]",
      "text/plain": [
       "<Figure size 432x288 with 1 Axes>"
      ]
     },
     "metadata": {
      "needs_background": "light"
     },
     "output_type": "display_data"
    }
   ],
   "source": [
    "sns.boxplot(data = [(gradient_lambda0_e100+1e-16).norm(p=0.5, dim = 0).detach(), (gradient_lambda0_e1000+1e-16).norm(p=0.5, dim = 0).detach()], orient = 'h', showmeans = True)"
   ]
  },
  {
   "cell_type": "code",
   "execution_count": 15,
   "metadata": {},
   "outputs": [
    {
     "data": {
      "text/plain": [
       "<matplotlib.axes._subplots.AxesSubplot at 0x7fea20bfc5c0>"
      ]
     },
     "execution_count": 15,
     "metadata": {},
     "output_type": "execute_result"
    },
    {
     "data": {
      "image/png": "[encoded data removed]",
      "text/plain": [
       "<Figure size 432x288 with 1 Axes>"
      ]
     },
     "metadata": {
      "needs_background": "light"
     },
     "output_type": "display_data"
    }
   ],
   "source": [
    "sns.boxplot(data = [(gradient_lambda0_e100_full+1e-16).norm(p=1, dim = 1).detach(), (gradient_lambda0_e1000_full+1e-16).norm(p=1, dim = 1).detach()], orient = 'h', showmeans = True)"
   ]
  },
  {
   "cell_type": "code",
   "execution_count": 17,
   "metadata": {},
   "outputs": [
    {
     "data": {
      "text/plain": [
       "<matplotlib.axes._subplots.AxesSubplot at 0x7fea20619a20>"
      ]
     },
     "execution_count": 17,
     "metadata": {},
     "output_type": "execute_result"
    },
    {
     "data": {
      "image/png": "[encoded data removed]",
      "text/plain": [
       "<Figure size 432x288 with 1 Axes>"
      ]
     },
     "metadata": {
      "needs_background": "light"
     },
     "output_type": "display_data"
    }
   ],
   "source": [
    "sns.boxplot(data = [(gradient_lambda0_e100_full+1e-16).norm(p=1, dim = 1).detach(), (gradient_lambda0_e1000_full+1e-16).norm(p=1, dim = 1).detach()], orient = 'h', showmeans = True, showfliers = False)"
   ]
  },
  {
   "cell_type": "code",
   "execution_count": 18,
   "metadata": {},
   "outputs": [
    {
     "data": {
      "text/plain": [
       "<matplotlib.axes._subplots.AxesSubplot at 0x7fea20580a58>"
      ]
     },
     "execution_count": 18,
     "metadata": {},
     "output_type": "execute_result"
    },
    {
     "data": {
      "image/png": "[encoded data removed]",
      "text/plain": [
       "<Figure size 432x288 with 1 Axes>"
      ]
     },
     "metadata": {
      "needs_background": "light"
     },
     "output_type": "display_data"
    }
   ],
   "source": [
    "sns.boxplot(data = [(gradient_lambda0_e100_full+1e-16).norm(p=2, dim = 1).detach(), (gradient_lambda0_e1000_full+1e-16).norm(p=2, dim = 1).detach()], orient = 'h', showmeans = True, showfliers = False)"
   ]
  },
  {
   "cell_type": "code",
   "execution_count": 19,
   "metadata": {},
   "outputs": [
    {
     "data": {
      "text/plain": [
       "<matplotlib.axes._subplots.AxesSubplot at 0x7fea204fd208>"
      ]
     },
     "execution_count": 19,
     "metadata": {},
     "output_type": "execute_result"
    },
    {
     "data": {
      "image/png": "[encoded data removed]",
      "text/plain": [
       "<Figure size 432x288 with 1 Axes>"
      ]
     },
     "metadata": {
      "needs_background": "light"
     },
     "output_type": "display_data"
    }
   ],
   "source": [
    "sns.boxplot(data = [(gradient_lambda0_e100_full+1e-16).norm(p=0.5, dim = 1).detach(), (gradient_lambda0_e1000_full+1e-16).norm(p=0.5, dim = 1).detach()], orient = 'h', showmeans = True, showfliers = False)"
   ]
  },
  {
   "cell_type": "code",
   "execution_count": null,
   "metadata": {},
   "outputs": [],
   "source": [
    "sns.boxplot(data = [(gradient_lambda0_e100_full+1e-16).norm(p=0.1, dim = 1).detach(), (gradient_lambda0_e1000_full+1e-16).norm(p=0.1, dim = 1).detach()], orient = 'h', showmeans = True, showfliers = False)"
   ]
  },
  {
   "cell_type": "markdown",
   "metadata": {},
   "source": [
    "# New gradient penalty"
   ]
  },
  {
   "cell_type": "code",
   "execution_count": 55,
   "metadata": {},
   "outputs": [],
   "source": [
    "gradient_max = 0.015"
   ]
  },
  {
   "cell_type": "code",
   "execution_count": 58,
   "metadata": {},
   "outputs": [
    {
     "data": {
      "text/plain": [
       "<matplotlib.axes._subplots.AxesSubplot at 0x7fa4fd66e7b8>"
      ]
     },
     "execution_count": 58,
     "metadata": {},
     "output_type": "execute_result"
    },
    {
     "data": {
      "image/png": "[encoded data removed]",
      "text/plain": [
       "<Figure size 432x288 with 1 Axes>"
      ]
     },
     "metadata": {
      "needs_background": "light"
     },
     "output_type": "display_data"
    }
   ],
   "source": [
    "sns.boxplot(data = [(gradient_lambda0_e100_full+1e-16).norm(p=0.5, dim = 1).detach(), (gradient_lambda0_e1000_full+1e-16).norm(p=0.5, dim = 1).detach()], orient = 'h', showmeans = True, showfliers = False)"
   ]
  },
  {
   "cell_type": "code",
   "execution_count": 60,
   "metadata": {},
   "outputs": [
    {
     "data": {
      "text/plain": [
       "torch.Size([50000, 8])"
      ]
     },
     "execution_count": 60,
     "metadata": {},
     "output_type": "execute_result"
    }
   ],
   "source": [
    "gradient_lambda0_e100_full.size()"
   ]
  },
  {
   "cell_type": "code",
   "execution_count": 61,
   "metadata": {},
   "outputs": [
    {
     "data": {
      "text/plain": [
       "torch.Size([50000, 8])"
      ]
     },
     "execution_count": 61,
     "metadata": {},
     "output_type": "execute_result"
    }
   ],
   "source": [
    "gradient_lambda0_e1000_full.size()"
   ]
  },
  {
   "cell_type": "code",
   "execution_count": 65,
   "metadata": {},
   "outputs": [
    {
     "data": {
      "text/plain": [
       "<matplotlib.axes._subplots.AxesSubplot at 0x7fa4fd6f7710>"
      ]
     },
     "execution_count": 65,
     "metadata": {},
     "output_type": "execute_result"
    },
    {
     "data": {
      "image/png": "[encoded data removed]",
      "text/plain": [
       "<Figure size 432x288 with 1 Axes>"
      ]
     },
     "metadata": {
      "needs_background": "light"
     },
     "output_type": "display_data"
    }
   ],
   "source": [
    "sns.boxplot(gradient_lambda0_e100_full, showfliers = False)"
   ]
  },
  {
   "cell_type": "code",
   "execution_count": 66,
   "metadata": {},
   "outputs": [
    {
     "data": {
      "text/plain": [
       "<matplotlib.axes._subplots.AxesSubplot at 0x7fa4fd51e128>"
      ]
     },
     "execution_count": 66,
     "metadata": {},
     "output_type": "execute_result"
    },
    {
     "data": {
      "image/png": "[encoded data removed]",
      "text/plain": [
       "<Figure size 432x288 with 1 Axes>"
      ]
     },
     "metadata": {
      "needs_background": "light"
     },
     "output_type": "display_data"
    }
   ],
   "source": [
    "sns.boxplot(gradient_lambda0_e100_full, showfliers = True)"
   ]
  },
  {
   "cell_type": "code",
   "execution_count": 71,
   "metadata": {},
   "outputs": [
    {
     "data": {
      "text/plain": [
       "<matplotlib.axes._subplots.AxesSubplot at 0x7fa4fd43ce48>"
      ]
     },
     "execution_count": 71,
     "metadata": {},
     "output_type": "execute_result"
    },
    {
     "data": {
      "image/png": "[encoded data removed]",
      "text/plain": [
       "<Figure size 432x288 with 1 Axes>"
      ]
     },
     "metadata": {
      "needs_background": "light"
     },
     "output_type": "display_data"
    }
   ],
   "source": [
    "sns.boxplot(gradient_lambda0_e100_full.clamp(min = -0.0001, max = 0.0001), showfliers = True)"
   ]
  },
  {
   "cell_type": "code",
   "execution_count": 67,
   "metadata": {},
   "outputs": [
    {
     "data": {
      "text/plain": [
       "<matplotlib.axes._subplots.AxesSubplot at 0x7fa4fd4eaf28>"
      ]
     },
     "execution_count": 67,
     "metadata": {},
     "output_type": "execute_result"
    },
    {
     "data": {
      "image/png": "[encoded data removed]",
      "text/plain": [
       "<Figure size 432x288 with 1 Axes>"
      ]
     },
     "metadata": {
      "needs_background": "light"
     },
     "output_type": "display_data"
    }
   ],
   "source": [
    "sns.boxplot(gradient_lambda0_e100_full.clamp(max = 0.0001), showfliers = False)"
   ]
  },
  {
   "cell_type": "code",
   "execution_count": 76,
   "metadata": {},
   "outputs": [
    {
     "data": {
      "image/png": "[encoded data removed]",
      "text/plain": [
       "<Figure size 1008x360 with 2 Axes>"
      ]
     },
     "metadata": {
      "needs_background": "light"
     },
     "output_type": "display_data"
    }
   ],
   "source": [
    "fig, (ax1, ax2) = plt.subplots(1, 2, figsize=(14,5))\n",
    "ax1.set_ylim([-0.0005,0.0005])\n",
    "ax2.set_ylim([-0.0005,0.0005])\n",
    "ax1.title.set_text('gradient epoch 100 full')\n",
    "ax2.title.set_text('gradient epoch 1000 full')\n",
    "sns.boxplot(data = ((gradient_lambda0_e100_full)).detach(), ax = ax1, showfliers = False)\n",
    "sns.boxplot(data = ((gradient_lambda0_e1000_full)).detach(), ax = ax2, showfliers = False)\n",
    "plt.show()"
   ]
  },
  {
   "cell_type": "code",
   "execution_count": 78,
   "metadata": {},
   "outputs": [
    {
     "data": {
      "text/plain": [
       "<matplotlib.axes._subplots.AxesSubplot at 0x7fa4fcd051d0>"
      ]
     },
     "execution_count": 78,
     "metadata": {},
     "output_type": "execute_result"
    },
    {
     "data": {
      "image/png": "[encoded data removed]",
      "text/plain": [
       "<Figure size 432x288 with 1 Axes>"
      ]
     },
     "metadata": {
      "needs_background": "light"
     },
     "output_type": "display_data"
    }
   ],
   "source": [
    "sns.boxplot(data = [(gradient_lambda0_e100_full+1e-16).norm(p=1, dim = 1).detach(),\n",
    "                    (gradient_lambda0_e1000_full+1e-16).norm(p=1, dim = 1).detach()], orient = 'h', showmeans = True, showfliers = False)"
   ]
  },
  {
   "cell_type": "code",
   "execution_count": 79,
   "metadata": {},
   "outputs": [
    {
     "data": {
      "text/plain": [
       "<matplotlib.axes._subplots.AxesSubplot at 0x7fa4ff5860b8>"
      ]
     },
     "execution_count": 79,
     "metadata": {},
     "output_type": "execute_result"
    },
    {
     "data": {
      "image/png": "[encoded data removed]",
      "text/plain": [
       "<Figure size 432x288 with 1 Axes>"
      ]
     },
     "metadata": {
      "needs_background": "light"
     },
     "output_type": "display_data"
    }
   ],
   "source": [
    "sns.boxplot(data = [(gradient_lambda0_e100_full+1e-16).norm(p=1, dim = 1).detach(),\n",
    "                    (gradient_lambda0_e1000_full+1e-16).norm(p=1, dim = 1).detach()], orient = 'h', showmeans = True, showfliers = True)"
   ]
  },
  {
   "cell_type": "code",
   "execution_count": 87,
   "metadata": {},
   "outputs": [],
   "source": [
    "a100 = (gradient_lambda0_e100_full+1e-16).norm(p=1, dim = 1).detach()\n",
    "a1000 = (gradient_lambda0_e1000_full+1e-16).norm(p=1, dim = 1).detach()"
   ]
  },
  {
   "cell_type": "code",
   "execution_count": 92,
   "metadata": {},
   "outputs": [
    {
     "data": {
      "text/plain": [
       "0.00035584291617851704"
      ]
     },
     "execution_count": 92,
     "metadata": {},
     "output_type": "execute_result"
    }
   ],
   "source": [
    "np.quantile(np.array(a100), 0.25)"
   ]
  },
  {
   "cell_type": "code",
   "execution_count": 93,
   "metadata": {},
   "outputs": [
    {
     "data": {
      "text/plain": [
       "0.0017920736863743514"
      ]
     },
     "execution_count": 93,
     "metadata": {},
     "output_type": "execute_result"
    }
   ],
   "source": [
    "np.quantile(np.array(a100), 0.75)"
   ]
  },
  {
   "cell_type": "code",
   "execution_count": 94,
   "metadata": {},
   "outputs": [
    {
     "data": {
      "text/plain": [
       "0.00021595911312033422"
      ]
     },
     "execution_count": 94,
     "metadata": {},
     "output_type": "execute_result"
    }
   ],
   "source": [
    "np.quantile(np.array(a1000), 0.25)"
   ]
  },
  {
   "cell_type": "code",
   "execution_count": 95,
   "metadata": {},
   "outputs": [
    {
     "data": {
      "text/plain": [
       "0.0013997920032124966"
      ]
     },
     "execution_count": 95,
     "metadata": {},
     "output_type": "execute_result"
    }
   ],
   "source": [
    "np.quantile(np.array(a1000), 0.75)"
   ]
  },
  {
   "cell_type": "code",
   "execution_count": 100,
   "metadata": {},
   "outputs": [
    {
     "data": {
      "text/plain": [
       "<matplotlib.axes._subplots.AxesSubplot at 0x7fa4fce46e10>"
      ]
     },
     "execution_count": 100,
     "metadata": {},
     "output_type": "execute_result"
    },
    {
     "data": {
      "image/png": "[encoded data removed]",
      "text/plain": [
       "<Figure size 432x288 with 1 Axes>"
      ]
     },
     "metadata": {
      "needs_background": "light"
     },
     "output_type": "display_data"
    }
   ],
   "source": [
    "sns.boxplot(data = [a100.clamp(min = 0.0002, max = 0.002),\n",
    "                    a1000.clamp(min = 0.0002, max = 0.002)], orient = 'h', showmeans = True, showfliers = True)"
   ]
  },
  {
   "cell_type": "code",
   "execution_count": 115,
   "metadata": {},
   "outputs": [
    {
     "data": {
      "text/plain": [
       "tensor(0.0010)"
      ]
     },
     "execution_count": 115,
     "metadata": {},
     "output_type": "execute_result"
    }
   ],
   "source": [
    "a100.clamp(min = 0.0002, max = 0.002).mean()"
   ]
  },
  {
   "cell_type": "code",
   "execution_count": 116,
   "metadata": {},
   "outputs": [
    {
     "data": {
      "text/plain": [
       "tensor(0.0008)"
      ]
     },
     "execution_count": 116,
     "metadata": {},
     "output_type": "execute_result"
    }
   ],
   "source": [
    "a1000.clamp(min = 0.0002, max = 0.002).mean()"
   ]
  },
  {
   "cell_type": "code",
   "execution_count": 114,
   "metadata": {},
   "outputs": [
    {
     "data": {
      "text/plain": [
       "<matplotlib.axes._subplots.AxesSubplot at 0x7fa4fcee1ac8>"
      ]
     },
     "execution_count": 114,
     "metadata": {},
     "output_type": "execute_result"
    },
    {
     "data": {
      "image/png": "[encoded data removed]",
      "text/plain": [
       "<Figure size 432x288 with 1 Axes>"
      ]
     },
     "metadata": {
      "needs_background": "light"
     },
     "output_type": "display_data"
    }
   ],
   "source": [
    "sns.boxplot(data = [a100.clamp(min = 0, max = 0.002),\n",
    "                    a1000.clamp(min = 0, max = 0.002)], orient = 'h', showmeans = True, showfliers = True)"
   ]
  },
  {
   "cell_type": "code",
   "execution_count": 102,
   "metadata": {},
   "outputs": [
    {
     "data": {
      "text/plain": [
       "<matplotlib.axes._subplots.AxesSubplot at 0x7fa4fce05fd0>"
      ]
     },
     "execution_count": 102,
     "metadata": {},
     "output_type": "execute_result"
    },
    {
     "data": {
      "image/png": "[encoded data removed]",
      "text/plain": [
       "<Figure size 432x288 with 1 Axes>"
      ]
     },
     "metadata": {
      "needs_background": "light"
     },
     "output_type": "display_data"
    }
   ],
   "source": [
    "sns.boxplot(data = [a100.clamp(min = 0.0002, max = 0.0015),\n",
    "                    a1000.clamp(min = 0.0002, max = 0.0015)], orient = 'h', showmeans = True, showfliers = True)"
   ]
  },
  {
   "cell_type": "code",
   "execution_count": 103,
   "metadata": {},
   "outputs": [],
   "source": [
    "b100 = (gradient_lambda0_e100_full+1e-16).norm(p=0.8, dim = 1).detach()\n",
    "b1000 = (gradient_lambda0_e1000_full+1e-16).norm(p=0.8, dim = 1).detach()"
   ]
  },
  {
   "cell_type": "code",
   "execution_count": 105,
   "metadata": {},
   "outputs": [
    {
     "data": {
      "text/plain": [
       "0.0004945857945131138"
      ]
     },
     "execution_count": 105,
     "metadata": {},
     "output_type": "execute_result"
    }
   ],
   "source": [
    "np.quantile(np.array(b100), 0.25)"
   ]
  },
  {
   "cell_type": "code",
   "execution_count": 107,
   "metadata": {},
   "outputs": [
    {
     "data": {
      "text/plain": [
       "0.002579167135991156"
      ]
     },
     "execution_count": 107,
     "metadata": {},
     "output_type": "execute_result"
    }
   ],
   "source": [
    "np.quantile(np.array(b100), 0.75)"
   ]
  },
  {
   "cell_type": "code",
   "execution_count": 108,
   "metadata": {},
   "outputs": [
    {
     "data": {
      "text/plain": [
       "0.00030543184402631596"
      ]
     },
     "execution_count": 108,
     "metadata": {},
     "output_type": "execute_result"
    }
   ],
   "source": [
    "np.quantile(np.array(b1000), 0.25)"
   ]
  },
  {
   "cell_type": "code",
   "execution_count": 109,
   "metadata": {},
   "outputs": [
    {
     "data": {
      "text/plain": [
       "0.0020112511701881886"
      ]
     },
     "execution_count": 109,
     "metadata": {},
     "output_type": "execute_result"
    }
   ],
   "source": [
    "np.quantile(np.array(b1000), 0.75)"
   ]
  },
  {
   "cell_type": "code",
   "execution_count": 112,
   "metadata": {},
   "outputs": [
    {
     "data": {
      "text/plain": [
       "<matplotlib.axes._subplots.AxesSubplot at 0x7fa4fd2a3860>"
      ]
     },
     "execution_count": 112,
     "metadata": {},
     "output_type": "execute_result"
    },
    {
     "data": {
      "image/png": "[encoded data removed]",
      "text/plain": [
       "<Figure size 432x288 with 1 Axes>"
      ]
     },
     "metadata": {
      "needs_background": "light"
     },
     "output_type": "display_data"
    }
   ],
   "source": [
    "sns.boxplot(data = [b100.clamp(min = 0.0002, max = 0.002),\n",
    "                    b1000.clamp(min = 0.0002, max = 0.002)], orient = 'h', showmeans = True, showfliers = True)"
   ]
  },
  {
   "cell_type": "code",
   "execution_count": 113,
   "metadata": {},
   "outputs": [
    {
     "data": {
      "text/plain": [
       "<matplotlib.axes._subplots.AxesSubplot at 0x7fa4fd165908>"
      ]
     },
     "execution_count": 113,
     "metadata": {},
     "output_type": "execute_result"
    },
    {
     "data": {
      "image/png": "[encoded data removed]",
      "text/plain": [
       "<Figure size 432x288 with 1 Axes>"
      ]
     },
     "metadata": {
      "needs_background": "light"
     },
     "output_type": "display_data"
    }
   ],
   "source": [
    "sns.boxplot(data = [b100.clamp(min = 0, max = 0.002),\n",
    "                    b1000.clamp(min = 0, max = 0.002)], orient = 'h', showmeans = True, showfliers = True)"
   ]
  },
  {
   "cell_type": "code",
   "execution_count": 8,
   "metadata": {},
   "outputs": [],
   "source": [
    "my_resume_from = os.path.join('./checkpoint', 'resnet18_aam_gp_200_0_clamp.pth49')\n",
    "my_checkpoint = torch.load(my_resume_from)"
   ]
  },
  {
   "cell_type": "code",
   "execution_count": 9,
   "metadata": {},
   "outputs": [
    {
     "data": {
      "text/plain": [
       "[53.4, 63.01, 67.02, 69.39, 71.3]"
      ]
     },
     "execution_count": 9,
     "metadata": {},
     "output_type": "execute_result"
    }
   ],
   "source": [
    "my_checkpoint['test_acc']"
   ]
  },
  {
   "cell_type": "code",
   "execution_count": 10,
   "metadata": {},
   "outputs": [
    {
     "data": {
      "text/plain": [
       "[54.41, 66.52, 71.24, 73.97, 75.24]"
      ]
     },
     "execution_count": 10,
     "metadata": {},
     "output_type": "execute_result"
    }
   ],
   "source": [
    "my_resume_from = os.path.join('./checkpoint', 'resnet18_aam_gp_30_0_clamp.pth49')\n",
    "my_checkpoint = torch.load(my_resume_from)\n",
    "my_checkpoint['test_acc']"
   ]
  },
  {
   "cell_type": "code",
   "execution_count": null,
   "metadata": {},
   "outputs": [],
   "source": [
    "my_resume_from = os.path.join('./checkpoint', 'resnet18_aam_gp_10_0_clamp.pth49')\n",
    "my_checkpoint = torch.load(my_resume_from)\n",
    "my_checkpoint['test_acc']"
   ]
  },
  {
   "cell_type": "code",
   "execution_count": null,
   "metadata": {},
   "outputs": [],
   "source": []
  },
  {
   "cell_type": "code",
   "execution_count": 4,
   "metadata": {},
   "outputs": [
    {
     "name": "stdout",
     "output_type": "stream",
     "text": [
      "[53.22, 65.44, 70.81, 73.47, 75.59, 76.4, 77.27, 78.24, 79.07, 79.45]\n"
     ]
    }
   ],
   "source": [
    "my_resume_from = os.path.join('./checkpoint', 'resnet18_aam_gp_10_0_clamp.pth99')\n",
    "my_checkpoint_clamp10 = torch.load(my_resume_from)\n",
    "acc_clamp10 = my_checkpoint_clamp10['test_acc']\n",
    "print(acc_clamp10)"
   ]
  },
  {
   "cell_type": "code",
   "execution_count": 5,
   "metadata": {},
   "outputs": [
    {
     "data": {
      "text/plain": [
       "[tensor(5.9443, device='cuda:0', requires_grad=True),\n",
       " tensor(5.6940, device='cuda:0', requires_grad=True),\n",
       " tensor(5.6098, device='cuda:0', requires_grad=True),\n",
       " tensor(5.5592, device='cuda:0', requires_grad=True),\n",
       " tensor(5.5344, device='cuda:0', requires_grad=True),\n",
       " tensor(5.5118, device='cuda:0', requires_grad=True),\n",
       " tensor(5.4951, device='cuda:0', requires_grad=True),\n",
       " tensor(5.4790, device='cuda:0', requires_grad=True),\n",
       " tensor(5.4718, device='cuda:0', requires_grad=True),\n",
       " tensor(5.4585, device='cuda:0', requires_grad=True)]"
      ]
     },
     "execution_count": 5,
     "metadata": {},
     "output_type": "execute_result"
    }
   ],
   "source": [
    "my_checkpoint_clamp10['contrastive_loss']"
   ]
  },
  {
   "cell_type": "code",
   "execution_count": 84,
   "metadata": {},
   "outputs": [
    {
     "name": "stdout",
     "output_type": "stream",
     "text": [
      "[54.41, 66.52, 71.24, 73.97, 75.24, 76.23, 77.28, 78.04, 78.4, 79.37]\n"
     ]
    }
   ],
   "source": [
    "my_resume_from = os.path.join('./checkpoint', 'resnet18_aam_gp_30_0_clamp.pth99')\n",
    "my_checkpoint_clamp30 = torch.load(my_resume_from)\n",
    "acc_clamp30 = my_checkpoint_clamp30['test_acc']\n",
    "print(acc_clamp30)"
   ]
  },
  {
   "cell_type": "code",
   "execution_count": 85,
   "metadata": {},
   "outputs": [
    {
     "name": "stdout",
     "output_type": "stream",
     "text": [
      "[53.59, 66.25, 70.97, 73.62, 74.86, 75.75, 76.8, 77.82, 78.76, 79.28]\n"
     ]
    }
   ],
   "source": [
    "my_resume_from = os.path.join('./checkpoint', 'resnet18_aam_baseline2.pth99')\n",
    "my_checkpoint = torch.load(my_resume_from)\n",
    "acc_base = my_checkpoint['test_acc']\n",
    "print(acc_base)"
   ]
  },
  {
   "cell_type": "code",
   "execution_count": null,
   "metadata": {},
   "outputs": [],
   "source": []
  },
  {
   "cell_type": "code",
   "execution_count": 34,
   "metadata": {},
   "outputs": [
    {
     "data": {
      "text/plain": [
       "[<matplotlib.lines.Line2D at 0x7fa1d80da7f0>]"
      ]
     },
     "execution_count": 34,
     "metadata": {},
     "output_type": "execute_result"
    },
    {
     "data": {
      "image/png": "[encoded data removed]",
      "text/plain": [
       "<Figure size 432x288 with 1 Axes>"
      ]
     },
     "metadata": {
      "needs_background": "light"
     },
     "output_type": "display_data"
    }
   ],
   "source": [
    "plt.plot(acc_base)\n",
    "plt.plot(acc_clamp10)\n",
    "plt.plot(acc_clamp30)"
   ]
  },
  {
   "cell_type": "code",
   "execution_count": 55,
   "metadata": {},
   "outputs": [
    {
     "data": {
      "image/png": "[encoded data removed]",
      "text/plain": [
       "<Figure size 432x288 with 1 Axes>"
      ]
     },
     "metadata": {
      "needs_background": "light"
     },
     "output_type": "display_data"
    }
   ],
   "source": [
    "plt.plot([i*10 for i in range(1,11)], np.array(acc_clamp10) - np.array(acc_base), label = 'clamp10 - base')\n",
    "plt.plot([i*10 for i in range(1,11)],np.array(acc_clamp30) - np.array(acc_base), label = 'clamp30 - base')\n",
    "plt.hlines(xmin = 10, xmax = 100, y = 0, linestyles='--', color = 'r')\n",
    "plt.legend()\n",
    "plt.xlabel('epochs')\n",
    "plt.show()"
   ]
  },
  {
   "cell_type": "code",
   "execution_count": 39,
   "metadata": {},
   "outputs": [
    {
     "data": {
      "text/plain": [
       "[<matplotlib.lines.Line2D at 0x7fa1d256cc88>]"
      ]
     },
     "execution_count": 39,
     "metadata": {},
     "output_type": "execute_result"
    },
    {
     "data": {
      "image/png": "[encoded data removed]",
      "text/plain": [
       "<Figure size 432x288 with 1 Axes>"
      ]
     },
     "metadata": {
      "needs_background": "light"
     },
     "output_type": "display_data"
    }
   ],
   "source": []
  },
  {
   "cell_type": "code",
   "execution_count": 7,
   "metadata": {},
   "outputs": [],
   "source": [
    "my_resume_from = os.path.join('./checkpoint', 'resnet18_aam_new_baseline_rerun.pth99')\n",
    "my_checkpoint = torch.load(my_resume_from)"
   ]
  },
  {
   "cell_type": "code",
   "execution_count": 8,
   "metadata": {},
   "outputs": [
    {
     "data": {
      "text/plain": [
       "dict_keys(['net', 'clf', 'critic', 'epoch', 'args', 'script', 'base_optim', 'encoder_optim', 'num_epochs'])"
      ]
     },
     "execution_count": 8,
     "metadata": {},
     "output_type": "execute_result"
    }
   ],
   "source": [
    "my_checkpoint.keys()"
   ]
  },
  {
   "cell_type": "code",
   "execution_count": 20,
   "metadata": {},
   "outputs": [
    {
     "name": "stdout",
     "output_type": "stream",
     "text": [
      "==> Building model..\n",
      "==> Resuming from checkpoint..\n",
      "\n",
      "Epoch: 100\n"
     ]
    },
    {
     "name": "stderr",
     "output_type": "stream",
     "text": [
      "gp: 0.00147 ,  loss: 5.465,  final_loss: 5.465: ██████████| 98/98 [00:55<00:00,  1.78it/s]\n"
     ]
    }
   ],
   "source": [
    "gradient_lambda0_e100_clamp_full = cal_gradient_lambda_full(resume = 'resnet18_aam_gp_10_0_clamp.pth99', norm = 1, lambda_gp = 0)"
   ]
  },
  {
   "cell_type": "code",
   "execution_count": 21,
   "metadata": {},
   "outputs": [
    {
     "data": {
      "text/plain": [
       "<matplotlib.axes._subplots.AxesSubplot at 0x7f9b4d67df60>"
      ]
     },
     "execution_count": 21,
     "metadata": {},
     "output_type": "execute_result"
    },
    {
     "data": {
      "image/png": "[encoded data removed]",
      "text/plain": [
       "<Figure size 432x288 with 1 Axes>"
      ]
     },
     "metadata": {
      "needs_background": "light"
     },
     "output_type": "display_data"
    }
   ],
   "source": [
    "sns.boxplot(data = [(gradient_lambda0_e100_full+1e-16).norm(p=1, dim = 1).detach(), (gradient_lambda0_e100_clamp_full+1e-16).norm(p=1, dim = 1).detach()], orient = 'h', showmeans = True, showfliers = False)"
   ]
  },
  {
   "cell_type": "code",
   "execution_count": 23,
   "metadata": {},
   "outputs": [
    {
     "data": {
      "text/plain": [
       "<matplotlib.axes._subplots.AxesSubplot at 0x7f9bfa22d320>"
      ]
     },
     "execution_count": 23,
     "metadata": {},
     "output_type": "execute_result"
    },
    {
     "data": {
      "image/png": "[encoded data removed]",
      "text/plain": [
       "<Figure size 432x288 with 1 Axes>"
      ]
     },
     "metadata": {
      "needs_background": "light"
     },
     "output_type": "display_data"
    }
   ],
   "source": [
    "sns.boxplot(data = [(gradient_lambda0_e100_full+1e-16).norm(p=1, dim = 1).clamp(min = 0.0002, max = 0.002).detach(), (gradient_lambda0_e100_clamp_full+1e-16).norm(p=1, dim = 1).clamp(min = 0.0002, max = 0.002).detach()], orient = 'h', showmeans = True, showfliers = False)"
   ]
  },
  {
   "cell_type": "code",
   "execution_count": null,
   "metadata": {},
   "outputs": [],
   "source": []
  },
  {
   "cell_type": "code",
   "execution_count": 22,
   "metadata": {},
   "outputs": [
    {
     "data": {
      "text/plain": [
       "<matplotlib.axes._subplots.AxesSubplot at 0x7f9bf90a8e48>"
      ]
     },
     "execution_count": 22,
     "metadata": {},
     "output_type": "execute_result"
    },
    {
     "data": {
      "image/png": "[encoded data removed]",
      "text/plain": [
       "<Figure size 432x288 with 1 Axes>"
      ]
     },
     "metadata": {
      "needs_background": "light"
     },
     "output_type": "display_data"
    }
   ],
   "source": [
    "sns.boxplot(data = [(gradient_lambda0_e100_full+1e-16).norm(p=1, dim = 1).detach(), (gradient_lambda0_e100_clamp_full+1e-16).norm(p=1, dim = 1).detach()], orient = 'h', showmeans = True, showfliers = True)"
   ]
  },
  {
   "cell_type": "code",
   "execution_count": 19,
   "metadata": {},
   "outputs": [
    {
     "name": "stdout",
     "output_type": "stream",
     "text": [
      "==> Building model..\n",
      "==> Resuming from checkpoint..\n",
      "\n",
      "Epoch: 50\n"
     ]
    },
    {
     "name": "stderr",
     "output_type": "stream",
     "text": [
      "gp: 0.00161 ,  loss: 5.532,  final_loss: 5.532: ██████████| 98/98 [00:57<00:00,  1.71it/s]\n"
     ]
    }
   ],
   "source": [
    "gradient_lambda0_e50_full = cal_gradient_lambda_full(resume = 'resnet18_aam_new_baseline_rerun.pth49', norm = 1, lambda_gp = 0)"
   ]
  },
  {
   "cell_type": "code",
   "execution_count": 20,
   "metadata": {},
   "outputs": [
    {
     "name": "stdout",
     "output_type": "stream",
     "text": [
      "==> Building model..\n",
      "==> Resuming from checkpoint..\n",
      "\n",
      "Epoch: 50\n"
     ]
    },
    {
     "name": "stderr",
     "output_type": "stream",
     "text": [
      "gp: 0.00156 ,  loss: 5.531,  final_loss: 5.531: ██████████| 98/98 [00:56<00:00,  1.74it/s]\n"
     ]
    }
   ],
   "source": [
    "gradient_lambda0_e50_full_clamp10 = cal_gradient_lambda_full(resume = 'resnet18_aam_gp_10_0_clamp.pth49', norm = 1, lambda_gp = 0)"
   ]
  },
  {
   "cell_type": "code",
   "execution_count": 21,
   "metadata": {},
   "outputs": [
    {
     "name": "stdout",
     "output_type": "stream",
     "text": [
      "==> Building model..\n",
      "==> Resuming from checkpoint..\n",
      "\n",
      "Epoch: 50\n"
     ]
    },
    {
     "name": "stderr",
     "output_type": "stream",
     "text": [
      "gp: 0.00146 ,  loss: 5.536,  final_loss: 5.536: ██████████| 98/98 [00:57<00:00,  1.71it/s]\n"
     ]
    }
   ],
   "source": [
    "gradient_lambda0_e50_full_clamp30 = cal_gradient_lambda_full(resume = 'resnet18_aam_gp_30_0_clamp.pth49', norm = 1, lambda_gp = 0)"
   ]
  },
  {
   "cell_type": "code",
   "execution_count": 23,
   "metadata": {},
   "outputs": [
    {
     "data": {
      "text/plain": [
       "<matplotlib.axes._subplots.AxesSubplot at 0x7f5ee372a0b8>"
      ]
     },
     "execution_count": 23,
     "metadata": {},
     "output_type": "execute_result"
    },
    {
     "data": {
      "image/png": "[encoded data removed]",
      "text/plain": [
       "<Figure size 432x288 with 1 Axes>"
      ]
     },
     "metadata": {
      "needs_background": "light"
     },
     "output_type": "display_data"
    }
   ],
   "source": [
    "sns.boxplot(data = [(gradient_lambda0_e50_full+1e-16).norm(p=1, dim = 1).clamp(min = 0.0002, max = 0.002).detach(), (gradient_lambda0_e50_full_clamp30+1e-16).norm(p=1, dim = 1).clamp(min = 0.0002, max = 0.002).detach()], orient = 'h', showmeans = True, showfliers = False)"
   ]
  },
  {
   "cell_type": "code",
   "execution_count": 8,
   "metadata": {},
   "outputs": [
    {
     "name": "stdout",
     "output_type": "stream",
     "text": [
      "==> Building model..\n",
      "==> Resuming from checkpoint..\n",
      "\n",
      "Epoch: 100\n"
     ]
    },
    {
     "name": "stderr",
     "output_type": "stream",
     "text": [
      "gp: 0.00132 ,  loss: 5.462,  final_loss: 5.462: ██████████| 98/98 [00:59<00:00,  1.64it/s]\n"
     ]
    }
   ],
   "source": [
    "gradient_lambda0_e100_full_clamp30 = cal_gradient_lambda_full(resume = 'resnet18_aam_gp_30_0_clamp.pth99', norm = 1, lambda_gp = 0)"
   ]
  },
  {
   "cell_type": "code",
   "execution_count": 9,
   "metadata": {},
   "outputs": [
    {
     "name": "stdout",
     "output_type": "stream",
     "text": [
      "==> Building model..\n",
      "==> Resuming from checkpoint..\n",
      "\n",
      "Epoch: 100\n"
     ]
    },
    {
     "name": "stderr",
     "output_type": "stream",
     "text": [
      "gp: 0.00150 ,  loss: 5.458,  final_loss: 5.458: ██████████| 98/98 [00:57<00:00,  1.71it/s]\n"
     ]
    }
   ],
   "source": [
    "gradient_lambda0_e100_full = cal_gradient_lambda_full(resume = 'resnet18_aam_new_baseline_rerun.pth99', norm = 1, lambda_gp = 0)"
   ]
  },
  {
   "cell_type": "code",
   "execution_count": 19,
   "metadata": {},
   "outputs": [
    {
     "name": "stdout",
     "output_type": "stream",
     "text": [
      "==> Building model..\n",
      "==> Resuming from checkpoint..\n",
      "\n",
      "Epoch: 100\n"
     ]
    },
    {
     "name": "stderr",
     "output_type": "stream",
     "text": [
      "gp: 0.00147 ,  loss: 5.461,  final_loss: 5.461: ██████████| 98/98 [00:54<00:00,  1.80it/s]\n"
     ]
    }
   ],
   "source": [
    "gradient_lambda0_e100_full_clamp10 = cal_gradient_lambda_full(resume = 'resnet18_aam_gp_10_0_clamp.pth99', norm = 1, lambda_gp = 0)"
   ]
  },
  {
   "cell_type": "code",
   "execution_count": 82,
   "metadata": {},
   "outputs": [
    {
     "data": {
      "image/png": "[encoded data removed]",
      "text/plain": [
       "<Figure size 432x288 with 1 Axes>"
      ]
     },
     "metadata": {
      "needs_background": "light"
     },
     "output_type": "display_data"
    }
   ],
   "source": [
    "sns.boxplot(data = [[],(gradient_lambda0_e100_full+1e-16).norm(p=1, dim = 1).clamp(min = 0.0002, max = 0.002).detach(),\n",
    "                     (gradient_lambda0_e100_full_clamp10+1e-16).norm(p=1, dim = 1).clamp(min = 0.0002, max = 0.002).detach(),\n",
    "                    (gradient_lambda0_e100_full_clamp30+1e-16).norm(p=1, dim = 1).clamp(min = 0.0002, max = 0.002).detach(),   \n",
    "                    (gradient_lambda0_e1000_full+1e-16).norm(p=1, dim = 1).clamp(min = 0.0002, max = 0.002).detach()], orient = 'h', showmeans = True, showfliers = False)\n",
    "plt.yticks(np.arange(6), ['','base 100ep', 'clamp gp10 100ep', 'clamp gp30 100ep','base 1000ep'])\n",
    "plt.title('boxplot of clamped norm(gradient)')\n",
    "plt.show()\n"
   ]
  },
  {
   "cell_type": "code",
   "execution_count": 75,
   "metadata": {},
   "outputs": [
    {
     "data": {
      "text/plain": [
       "array([0, 1, 2, 3, 4])"
      ]
     },
     "execution_count": 75,
     "metadata": {},
     "output_type": "execute_result"
    }
   ],
   "source": [
    "np.arange(5)"
   ]
  },
  {
   "cell_type": "markdown",
   "metadata": {},
   "source": [
    "# look at representation h"
   ]
  },
  {
   "cell_type": "code",
   "execution_count": 6,
   "metadata": {},
   "outputs": [],
   "source": [
    "def cal_h_full(resume, norm, lambda_gp):\n",
    "    # config\n",
    "    ### config ####\n",
    "    representation_list = []\n",
    "\n",
    "    device = 'cuda' if torch.cuda.is_available() else 'cpu'\n",
    "    base_lr = 0.25\n",
    "    arch = 'resnet18'\n",
    "    momentum = 0.9\n",
    "    cosine_anneal = True\n",
    "    num_epochs = 1\n",
    "    test_freq = 1\n",
    "    lr = base_lr * (batch_size / 256)\n",
    "    \n",
    "    best_acc = 0  # best test accuracy\n",
    "    start_epoch = 0  # start from epoch 0 or last checkpoint epoch\n",
    "    last_epoch = num_epochs #last epoch or from last epoch from checkpoint \n",
    "    clf = None\n",
    "    current_checkpoint = {}\n",
    "    acc = 0\n",
    "    # Model\n",
    "    print('==> Building model..')\n",
    "    ##############################################################\n",
    "    # Encoder\n",
    "    ##############################################################\n",
    "    if arch == 'resnet18':\n",
    "        net = ResNet18(stem=stem)\n",
    "    elif arch == 'resnet34':\n",
    "        net = ResNet34(stem=stem)\n",
    "    elif arch == 'resnet50':\n",
    "        net = ResNet50(stem=stem)\n",
    "    else:\n",
    "        raise ValueError(\"Bad architecture specification\")\n",
    "    net = net.to(device)\n",
    "\n",
    "    ##############################################################\n",
    "    # Critic\n",
    "    ##############################################################\n",
    "    critic = LinearCritic(net.representation_dim, temperature=temperature).to(device)\n",
    "\n",
    "    ###### Differentiable augmentation ######\n",
    "    brightness_bound = [0.2, 1.8]\n",
    "    contrast_bound = [0.2, 1.8]\n",
    "    saturation_bound = [0.2, 1.8]\n",
    "    hue_bound = [-0.2, 0.2]\n",
    "\n",
    "    if device == 'cuda':\n",
    "        repr_dim = net.representation_dim\n",
    "        net = torch.nn.DataParallel(net)\n",
    "        net.representation_dim = repr_dim\n",
    "        cudnn.benchmark = True\n",
    "\n",
    "    criterion = nn.CrossEntropyLoss()\n",
    "    base_optimizer = optim.SGD(list(net.parameters()) + list(critic.parameters()), lr=lr, weight_decay=1e-6,\n",
    "                               momentum=momentum)\n",
    "    if cosine_anneal == True:\n",
    "        scheduler = CosineAnnealingWithLinearRampLR(base_optimizer, num_epochs)\n",
    "    encoder_optimizer = LARS(base_optimizer, trust_coef=1e-3)\n",
    "\n",
    "    #Resume\n",
    "    if resume:\n",
    "        # Load checkpoint.\n",
    "        print('==> Resuming from checkpoint..')\n",
    "        assert os.path.isdir('checkpoint'), 'Error: no checkpoint directory found!'\n",
    "        resume_from = os.path.join('./checkpoint', resume)\n",
    "        checkpoint = torch.load(resume_from)\n",
    "        net.load_state_dict(checkpoint['net'])\n",
    "        critic.load_state_dict(checkpoint['critic'])\n",
    "    #     best_acc = checkpoint['acc']\n",
    "        start_epoch = checkpoint['epoch'] + 1\n",
    "        encoder_optimizer.load_state_dict(checkpoint['encoder_optim'])\n",
    "        base_optimizer.load_state_dict(checkpoint['base_optim'])\n",
    "        scheduler.step(start_epoch)\n",
    "        if 'num_epochs' in checkpoint:\n",
    "            last_epoch = checkpoint['num_epochs']\n",
    "        else:\n",
    "            last_epoch = 1000 #default value for num epochs = 1000\n",
    "        current_checkpoint = checkpoint\n",
    "        ##### Train #####\n",
    "        print('\\nEpoch: %d' % start_epoch)\n",
    "#         net.train()\n",
    "#         critic.train()\n",
    "        net.eval()\n",
    "        critic.eval()\n",
    "        train_loss = 0\n",
    "        sum_gradient = 0\n",
    "        train_loss_nogp = 0\n",
    "        t = tqdm(enumerate(trainloader), desc='Loss: **** ', total=len(trainloader), bar_format='{desc}{bar}{r_bar}')\n",
    "        for batch_idx, (inputs, _, _) in t:\n",
    "            x1, x2 = inputs\n",
    "            x1, x2 = x1.to(device), x2.to(device)\n",
    "\n",
    "            #colour augmentation\n",
    "            B = x1.size()[0]\n",
    "            brightness_list1, saturation_list1, contrast_list1, hue_list1 = gen_lambda(B, brightness_bound,\n",
    "                                                                                       contrast_bound,\n",
    "                                                                                       saturation_bound,\n",
    "                                                                                       hue_bound)\n",
    "            brightness_list2, saturation_list2, contrast_list2, hue_list2 = gen_lambda(B, brightness_bound,\n",
    "                                                                                       contrast_bound,\n",
    "                                                                                       saturation_bound,\n",
    "                                                                                       hue_bound)\n",
    "            lambda_ = torch.stack([brightness_list1, saturation_list1, contrast_list1, hue_list1,\n",
    "                                   brightness_list2, saturation_list2, contrast_list2, hue_list2], dim=1)\n",
    "            aug_manual1 = DifferentiableColourDistortionByTorch_manual(brightness = lambda_[:,0],\n",
    "                                                                       contrast = lambda_[:,1],\n",
    "                                                                       saturation = lambda_[:,2],\n",
    "                                                                       hue = lambda_[:,3])\n",
    "            aug_manual2 = DifferentiableColourDistortionByTorch_manual(brightness = lambda_[:,4],\n",
    "                                                                       contrast = lambda_[:,5],\n",
    "                                                                       saturation = lambda_[:,6],\n",
    "                                                                       hue = lambda_[:,7])\n",
    "\n",
    "            x1, x2 = aug_manual1(x1), aug_manual2(x2)\n",
    "            x1, x2 = ManualNormalise(x1, dataset), ManualNormalise(x2, dataset)\n",
    "\n",
    "            encoder_optimizer.zero_grad()\n",
    "            representation1, representation2 = net(x1), net(x2)\n",
    "\n",
    "            return representation1"
   ]
  },
  {
   "cell_type": "code",
   "execution_count": 7,
   "metadata": {},
   "outputs": [
    {
     "name": "stdout",
     "output_type": "stream",
     "text": [
      "==> Building model..\n",
      "==> Resuming from checkpoint..\n",
      "\n",
      "Epoch: 100\n"
     ]
    },
    {
     "name": "stderr",
     "output_type": "stream",
     "text": [
      "Loss: ****           | 0/98 [00:01<?, ?it/s]\n"
     ]
    }
   ],
   "source": [
    "hlambda0_e100_full = cal_h_full(resume = 'resnet18_aam_new_baseline_rerun.pth99', norm = 1, lambda_gp = 0)"
   ]
  },
  {
   "cell_type": "code",
   "execution_count": 8,
   "metadata": {},
   "outputs": [
    {
     "name": "stdout",
     "output_type": "stream",
     "text": [
      "==> Building model..\n",
      "==> Resuming from checkpoint..\n",
      "\n",
      "Epoch: 1000\n"
     ]
    },
    {
     "name": "stderr",
     "output_type": "stream",
     "text": [
      "Loss: ****           | 0/98 [00:00<?, ?it/s]\n"
     ]
    }
   ],
   "source": [
    "hlambda0_e1000_full = cal_h_full(resume = 'resnet18_aam_new_baseline_rerun.pth999', norm = 1, lambda_gp = 0)"
   ]
  },
  {
   "cell_type": "code",
   "execution_count": 9,
   "metadata": {},
   "outputs": [
    {
     "data": {
      "text/plain": [
       "torch.Size([512, 512])"
      ]
     },
     "execution_count": 9,
     "metadata": {},
     "output_type": "execute_result"
    }
   ],
   "source": [
    "hlambda0_e1000_full.size()"
   ]
  },
  {
   "cell_type": "code",
   "execution_count": 10,
   "metadata": {},
   "outputs": [
    {
     "data": {
      "text/plain": [
       "[<matplotlib.lines.Line2D at 0x7fa441fc34e0>]"
      ]
     },
     "execution_count": 10,
     "metadata": {},
     "output_type": "execute_result"
    },
    {
     "data": {
      "image/png": "[encoded data removed]",
      "text/plain": [
       "<Figure size 432x288 with 1 Axes>"
      ]
     },
     "metadata": {
      "needs_background": "light"
     },
     "output_type": "display_data"
    }
   ],
   "source": [
    "plt.plot(hlambda0_e1000_full.sum(dim=1).cpu().detach())"
   ]
  },
  {
   "cell_type": "code",
   "execution_count": 11,
   "metadata": {},
   "outputs": [
    {
     "data": {
      "text/plain": [
       "Text(0.5, 1.0, 'sum h of original simclr')"
      ]
     },
     "execution_count": 11,
     "metadata": {},
     "output_type": "execute_result"
    },
    {
     "data": {
      "image/png": "[encoded data removed]",
      "text/plain": [
       "<Figure size 432x288 with 1 Axes>"
      ]
     },
     "metadata": {
      "needs_background": "light"
     },
     "output_type": "display_data"
    }
   ],
   "source": [
    "d = {'epoch 100': hlambda0_e100_full.sum(dim = 1).cpu().detach(), 'epoch 1000': hlambda0_e1000_full.sum(dim = 1).cpu().detach()}\n",
    "df = pd.DataFrame(data=d)\n",
    "sns.boxplot(data = df, orient = 'h')\n",
    "plt.title('sum h of original simclr')\n"
   ]
  },
  {
   "cell_type": "code",
   "execution_count": 12,
   "metadata": {},
   "outputs": [
    {
     "name": "stdout",
     "output_type": "stream",
     "text": [
      "==> Building model..\n",
      "==> Resuming from checkpoint..\n",
      "\n",
      "Epoch: 100\n"
     ]
    },
    {
     "name": "stderr",
     "output_type": "stream",
     "text": [
      "Loss: ****           | 0/98 [00:00<?, ?it/s]\n"
     ]
    }
   ],
   "source": [
    "hlambda0_e100_full_clamp10 = cal_h_full(resume = 'resnet18_aam_gp_10_0_clamp.pth99', norm = 1, lambda_gp = 0)"
   ]
  },
  {
   "cell_type": "code",
   "execution_count": 13,
   "metadata": {},
   "outputs": [
    {
     "data": {
      "text/plain": [
       "Text(0.5, 1.0, 'sum h of original simclr')"
      ]
     },
     "execution_count": 13,
     "metadata": {},
     "output_type": "execute_result"
    },
    {
     "data": {
      "image/png": "[encoded data removed]",
      "text/plain": [
       "<Figure size 432x288 with 1 Axes>"
      ]
     },
     "metadata": {
      "needs_background": "light"
     },
     "output_type": "display_data"
    }
   ],
   "source": [
    "d = {'epoch 100': hlambda0_e100_full.sum(dim = 1).cpu().detach(), 'epoch 100 clamp10': hlambda0_e100_full_clamp10.sum(dim = 1).cpu().detach()}\n",
    "df = pd.DataFrame(data=d)\n",
    "sns.boxplot(data = df, orient = 'h')\n",
    "plt.title('sum h of original simclr')\n"
   ]
  },
  {
   "cell_type": "markdown",
   "metadata": {},
   "source": [
    "# calculate gradient of h"
   ]
  },
  {
   "cell_type": "code",
   "execution_count": 7,
   "metadata": {},
   "outputs": [],
   "source": [
    "def cal_grad_h_full(resume):\n",
    "    # config\n",
    "    ### config ####\n",
    "    gradient_lambda_list = []\n",
    "    representation_list = []\n",
    "\n",
    "    device = 'cuda' if torch.cuda.is_available() else 'cpu'\n",
    "    base_lr = 0.25\n",
    "    arch = 'resnet18'\n",
    "    momentum = 0.9\n",
    "    cosine_anneal = True\n",
    "    num_epochs = 1\n",
    "    test_freq = 1\n",
    "    lr = base_lr * (batch_size / 256)\n",
    "    \n",
    "    best_acc = 0  # best test accuracy\n",
    "    start_epoch = 0  # start from epoch 0 or last checkpoint epoch\n",
    "    last_epoch = num_epochs #last epoch or from last epoch from checkpoint \n",
    "    clf = None\n",
    "    current_checkpoint = {}\n",
    "    acc = 0\n",
    "    # Model\n",
    "    print('==> Building model..')\n",
    "    ##############################################################\n",
    "    # Encoder\n",
    "    ##############################################################\n",
    "    if arch == 'resnet18':\n",
    "        net = ResNet18(stem=stem)\n",
    "    elif arch == 'resnet34':\n",
    "        net = ResNet34(stem=stem)\n",
    "    elif arch == 'resnet50':\n",
    "        net = ResNet50(stem=stem)\n",
    "    else:\n",
    "        raise ValueError(\"Bad architecture specification\")\n",
    "    net = net.to(device)\n",
    "\n",
    "    ##############################################################\n",
    "    # Critic\n",
    "    ##############################################################\n",
    "    critic = LinearCritic(net.representation_dim, temperature=temperature).to(device)\n",
    "\n",
    "    ###### Differentiable augmentation ######\n",
    "    brightness_bound = [0.2, 1.8]\n",
    "    contrast_bound = [0.2, 1.8]\n",
    "    saturation_bound = [0.2, 1.8]\n",
    "    hue_bound = [-0.2, 0.2]\n",
    "\n",
    "    if device == 'cuda':\n",
    "        repr_dim = net.representation_dim\n",
    "        net = torch.nn.DataParallel(net)\n",
    "        net.representation_dim = repr_dim\n",
    "        cudnn.benchmark = True\n",
    "\n",
    "    criterion = nn.CrossEntropyLoss()\n",
    "    base_optimizer = optim.SGD(list(net.parameters()) + list(critic.parameters()), lr=lr, weight_decay=1e-6,\n",
    "                               momentum=momentum)\n",
    "    if cosine_anneal == True:\n",
    "        scheduler = CosineAnnealingWithLinearRampLR(base_optimizer, num_epochs)\n",
    "    encoder_optimizer = LARS(base_optimizer, trust_coef=1e-3)\n",
    "\n",
    "    #Resume\n",
    "    if resume:\n",
    "        # Load checkpoint.\n",
    "        print('==> Resuming from checkpoint..')\n",
    "        assert os.path.isdir('checkpoint'), 'Error: no checkpoint directory found!'\n",
    "        resume_from = os.path.join('./checkpoint', resume)\n",
    "        checkpoint = torch.load(resume_from)\n",
    "        net.load_state_dict(checkpoint['net'])\n",
    "        critic.load_state_dict(checkpoint['critic'])\n",
    "    #     best_acc = checkpoint['acc']\n",
    "        start_epoch = checkpoint['epoch'] + 1\n",
    "        encoder_optimizer.load_state_dict(checkpoint['encoder_optim'])\n",
    "        base_optimizer.load_state_dict(checkpoint['base_optim'])\n",
    "        scheduler.step(start_epoch)\n",
    "        if 'num_epochs' in checkpoint:\n",
    "            last_epoch = checkpoint['num_epochs']\n",
    "        else:\n",
    "            last_epoch = 1000 #default value for num epochs = 1000\n",
    "        current_checkpoint = checkpoint\n",
    "        ##### Train #####\n",
    "        print('\\nEpoch: %d' % start_epoch)\n",
    "#         net.train()\n",
    "#         critic.train()\n",
    "        net.eval()\n",
    "        critic.eval()\n",
    "        train_loss = 0\n",
    "        sum_gradient = 0\n",
    "        train_loss_nogp = 0\n",
    "        t = tqdm(enumerate(trainloader), desc='Loss: **** ', total=len(trainloader), bar_format='{desc}{bar}{r_bar}')\n",
    "        for batch_idx, (inputs, _, _) in t:\n",
    "            x1, x2 = inputs\n",
    "            x1, x2 = x1.to(device), x2.to(device)\n",
    "\n",
    "            #colour augmentation\n",
    "            B = x1.size()[0]\n",
    "            brightness_list1, saturation_list1, contrast_list1, hue_list1 = gen_lambda(B, brightness_bound,\n",
    "                                                                                       contrast_bound,\n",
    "                                                                                       saturation_bound,\n",
    "                                                                                       hue_bound)\n",
    "            brightness_list2, saturation_list2, contrast_list2, hue_list2 = gen_lambda(B, brightness_bound,\n",
    "                                                                                       contrast_bound,\n",
    "                                                                                       saturation_bound,\n",
    "                                                                                       hue_bound)\n",
    "            lambda_ = torch.stack([brightness_list1, saturation_list1, contrast_list1, hue_list1,\n",
    "                                   brightness_list2, saturation_list2, contrast_list2, hue_list2], dim=1)\n",
    "            aug_manual1 = DifferentiableColourDistortionByTorch_manual(brightness = lambda_[:,0],\n",
    "                                                                       contrast = lambda_[:,1],\n",
    "                                                                       saturation = lambda_[:,2],\n",
    "                                                                       hue = lambda_[:,3])\n",
    "            aug_manual2 = DifferentiableColourDistortionByTorch_manual(brightness = lambda_[:,4],\n",
    "                                                                       contrast = lambda_[:,5],\n",
    "                                                                       saturation = lambda_[:,6],\n",
    "                                                                       hue = lambda_[:,7])\n",
    "\n",
    "            x1, x2 = aug_manual1(x1), aug_manual2(x2)\n",
    "            x1, x2 = ManualNormalise(x1, dataset), ManualNormalise(x2, dataset)\n",
    "\n",
    "            encoder_optimizer.zero_grad()\n",
    "            representation1, representation2 = net(x1), net(x2)\n",
    "            \n",
    "            # gradient penalty\n",
    "            sum_rep1 = representation1.sum()\n",
    "            sum_rep2 = representation2.sum()\n",
    "            sum_rep = sum_rep1 + sum_rep2\n",
    "            \n",
    "            gradient_lambda =  autograd.grad(outputs = sum_rep,\n",
    "                                 inputs = lambda_,\n",
    "                                 create_graph = False,\n",
    "                                 retain_graph = False,\n",
    "                                 only_inputs = True)[0]\n",
    "            \n",
    "            gradient_lambda_list.append(gradient_lambda)\n",
    "            \n",
    "    return torch.cat(gradient_lambda_list, dim = 0)"
   ]
  },
  {
   "cell_type": "code",
   "execution_count": 19,
   "metadata": {},
   "outputs": [
    {
     "name": "stdout",
     "output_type": "stream",
     "text": [
      "==> Building model..\n",
      "==> Resuming from checkpoint..\n",
      "\n",
      "Epoch: 100\n"
     ]
    },
    {
     "name": "stderr",
     "output_type": "stream",
     "text": [
      "Loss: **** ██████████| 98/98 [00:55<00:00,  1.77it/s]\n"
     ]
    }
   ],
   "source": [
    "grad_sumhlambda0_e100_full_clamp10 = cal_grad_h_full(resume = 'resnet18_aam_gp_10_0_clamp.pth99')"
   ]
  },
  {
   "cell_type": "code",
   "execution_count": 13,
   "metadata": {},
   "outputs": [
    {
     "name": "stdout",
     "output_type": "stream",
     "text": [
      "==> Building model..\n",
      "==> Resuming from checkpoint..\n",
      "\n",
      "Epoch: 100\n"
     ]
    },
    {
     "name": "stderr",
     "output_type": "stream",
     "text": [
      "Loss: **** ██████████| 98/98 [00:52<00:00,  1.87it/s]\n"
     ]
    }
   ],
   "source": [
    "grad_sumhlambda0_e100_full = cal_grad_h_full(resume = 'resnet18_aam_new_baseline_rerun.pth99')"
   ]
  },
  {
   "cell_type": "code",
   "execution_count": 16,
   "metadata": {},
   "outputs": [
    {
     "name": "stdout",
     "output_type": "stream",
     "text": [
      "==> Building model..\n",
      "==> Resuming from checkpoint..\n",
      "\n",
      "Epoch: 50\n"
     ]
    },
    {
     "name": "stderr",
     "output_type": "stream",
     "text": [
      "Loss: **** ██████████| 98/98 [00:52<00:00,  1.87it/s]\n"
     ]
    }
   ],
   "source": [
    "grad_sumhlambda0_e50_full = cal_grad_h_full(resume = 'resnet18_aam_new_baseline_rerun.pth49')"
   ]
  },
  {
   "cell_type": "code",
   "execution_count": 14,
   "metadata": {},
   "outputs": [
    {
     "name": "stdout",
     "output_type": "stream",
     "text": [
      "==> Building model..\n",
      "==> Resuming from checkpoint..\n",
      "\n",
      "Epoch: 1000\n"
     ]
    },
    {
     "name": "stderr",
     "output_type": "stream",
     "text": [
      "Loss: **** ██████████| 98/98 [00:52<00:00,  1.87it/s]\n"
     ]
    }
   ],
   "source": [
    "grad_sumhlambda0_e1000_full = cal_grad_h_full(resume = 'resnet18_aam_new_baseline_rerun.pth999')"
   ]
  },
  {
   "cell_type": "code",
   "execution_count": 22,
   "metadata": {},
   "outputs": [
    {
     "data": {
      "text/plain": [
       "torch.Size([50000, 8])"
      ]
     },
     "execution_count": 22,
     "metadata": {},
     "output_type": "execute_result"
    }
   ],
   "source": [
    "grad_sumhlambda0_e100_full_clamp10.size()"
   ]
  },
  {
   "cell_type": "code",
   "execution_count": 23,
   "metadata": {},
   "outputs": [
    {
     "data": {
      "image/png": "[encoded data removed]",
      "text/plain": [
       "<Figure size 1008x360 with 2 Axes>"
      ]
     },
     "metadata": {
      "needs_background": "light"
     },
     "output_type": "display_data"
    }
   ],
   "source": [
    "fig, (ax1, ax2) = plt.subplots(1, 2, figsize=(14,5))\n",
    "ax1.set_ylim([-100,100])\n",
    "ax2.set_ylim([-100,100])\n",
    "ax1.title.set_text('gradient h epoch 100')\n",
    "ax2.title.set_text('gradient h epoch 1000')\n",
    "sns.boxplot(data = ((grad_sumhlambda0_e100_full)).detach(), ax = ax1, showfliers = False)\n",
    "sns.boxplot(data = ((grad_sumhlambda0_e1000_full)).detach(), ax = ax2, showfliers = False)\n",
    "plt.show()"
   ]
  },
  {
   "cell_type": "code",
   "execution_count": 24,
   "metadata": {},
   "outputs": [
    {
     "data": {
      "image/png": "[encoded data removed]",
      "text/plain": [
       "<Figure size 1008x360 with 2 Axes>"
      ]
     },
     "metadata": {
      "needs_background": "light"
     },
     "output_type": "display_data"
    }
   ],
   "source": [
    "fig, (ax1, ax2) = plt.subplots(1, 2, figsize=(14,5))\n",
    "# ax1.set_ylim([-100,100])\n",
    "# ax2.set_ylim([-100,100])\n",
    "ax1.title.set_text('gradient h epoch 100')\n",
    "ax2.title.set_text('gradient h epoch 1000')\n",
    "sns.boxplot(data = ((grad_sumhlambda0_e100_full)).detach(), ax = ax1, showfliers = True)\n",
    "sns.boxplot(data = ((grad_sumhlambda0_e1000_full)).detach(), ax = ax2, showfliers = True)\n",
    "plt.show()"
   ]
  },
  {
   "cell_type": "markdown",
   "metadata": {},
   "source": [
    "This may be an evidence that penalising dloss/dlambda does not help decrease the gradient dh/dlambda at all"
   ]
  },
  {
   "cell_type": "code",
   "execution_count": 25,
   "metadata": {},
   "outputs": [
    {
     "data": {
      "image/png": "[encoded data removed]",
      "text/plain": [
       "<Figure size 1008x360 with 2 Axes>"
      ]
     },
     "metadata": {
      "needs_background": "light"
     },
     "output_type": "display_data"
    }
   ],
   "source": [
    "fig, (ax1, ax2) = plt.subplots(1, 2, figsize=(14,5))\n",
    "ax1.set_ylim([-100,120])\n",
    "ax2.set_ylim([-100,120])\n",
    "ax1.title.set_text('gradient h epoch 100')\n",
    "ax2.title.set_text('gradient h epoch 100 clamp 10')\n",
    "sns.boxplot(data = ((grad_sumhlambda0_e100_full)).detach(), ax = ax1, showfliers = False)\n",
    "sns.boxplot(data = ((grad_sumhlambda0_e100_full_clamp10)).detach(), ax = ax2, showfliers = False)\n",
    "plt.show()"
   ]
  },
  {
   "cell_type": "code",
   "execution_count": 26,
   "metadata": {},
   "outputs": [
    {
     "data": {
      "image/png": "[encoded data removed]",
      "text/plain": [
       "<Figure size 1008x360 with 2 Axes>"
      ]
     },
     "metadata": {
      "needs_background": "light"
     },
     "output_type": "display_data"
    }
   ],
   "source": [
    "fig, (ax1, ax2) = plt.subplots(1, 2, figsize=(14,5))\n",
    "# ax1.set_ylim([-100,120])\n",
    "# ax2.set_ylim([-100,120])\n",
    "ax1.title.set_text('gradient h epoch 100')\n",
    "ax2.title.set_text('gradient h epoch 100 clamp 10')\n",
    "sns.boxplot(data = ((grad_sumhlambda0_e100_full)).detach(), ax = ax1, showfliers = True)\n",
    "sns.boxplot(data = ((grad_sumhlambda0_e100_full_clamp10)).detach(), ax = ax2, showfliers = True)\n",
    "plt.show()"
   ]
  },
  {
   "cell_type": "markdown",
   "metadata": {},
   "source": [
    "# look at gradient penalty of h"
   ]
  },
  {
   "cell_type": "code",
   "execution_count": 27,
   "metadata": {},
   "outputs": [
    {
     "data": {
      "text/plain": [
       "Text(0.5, 1.0, 'norm 1 of gradient h')"
      ]
     },
     "execution_count": 27,
     "metadata": {},
     "output_type": "execute_result"
    },
    {
     "data": {
      "image/png": "[encoded data removed]",
      "text/plain": [
       "<Figure size 432x288 with 1 Axes>"
      ]
     },
     "metadata": {
      "needs_background": "light"
     },
     "output_type": "display_data"
    }
   ],
   "source": [
    "d = {'epoch 100': (grad_sumhlambda0_e100_full+1e-16).norm(p=1, dim = 1).detach(), \n",
    "     'epoch 100 clamp10': (grad_sumhlambda0_e100_full_clamp10+1e-16).norm(p=1, dim = 1).detach(),\n",
    "     'epoch 1000': (grad_sumhlambda0_e1000_full+1e-16).norm(p=1, dim = 1).detach()}\n",
    "df = pd.DataFrame(data=d)\n",
    "sns.boxplot(data = df, orient = 'h')\n",
    "plt.title('norm 1 of gradient h')"
   ]
  },
  {
   "cell_type": "code",
   "execution_count": 28,
   "metadata": {},
   "outputs": [
    {
     "data": {
      "text/plain": [
       "Text(0.5, 1.0, 'norm 1 of gradient h')"
      ]
     },
     "execution_count": 28,
     "metadata": {},
     "output_type": "execute_result"
    },
    {
     "data": {
      "image/png": "[encoded data removed]",
      "text/plain": [
       "<Figure size 432x288 with 1 Axes>"
      ]
     },
     "metadata": {
      "needs_background": "light"
     },
     "output_type": "display_data"
    }
   ],
   "source": [
    "d = {'epoch 100': (grad_sumhlambda0_e100_full+1e-16).norm(p=1, dim = 1).detach(), \n",
    "     'epoch 100 clamp10': (grad_sumhlambda0_e100_full_clamp10+1e-16).norm(p=1, dim = 1).detach(),\n",
    "     'epoch 1000': (grad_sumhlambda0_e1000_full+1e-16).norm(p=1, dim = 1).detach()}\n",
    "df = pd.DataFrame(data=d)\n",
    "sns.boxplot(data = df, orient = 'h',  showmeans = True,showfliers = False)\n",
    "plt.title('norm 1 of gradient h')"
   ]
  },
  {
   "cell_type": "code",
   "execution_count": 29,
   "metadata": {},
   "outputs": [
    {
     "name": "stdout",
     "output_type": "stream",
     "text": [
      "[51.13, 61.15, 67.43, 70.48, 72.17]\n"
     ]
    }
   ],
   "source": [
    "my_resume_from = os.path.join('./checkpoint', 'resnet18_aam_gp_h_0_01_clamp300.pth49')\n",
    "my_checkpoint_h_clamp300 = torch.load(my_resume_from)\n",
    "acc_h_clamp30 = my_checkpoint_h_clamp300['test_acc']\n",
    "print(acc_h_clamp30)"
   ]
  },
  {
   "cell_type": "code",
   "execution_count": 30,
   "metadata": {},
   "outputs": [
    {
     "data": {
      "text/plain": [
       "[tensor(6.2271, device='cuda:0', requires_grad=True),\n",
       " tensor(5.7920, device='cuda:0', requires_grad=True),\n",
       " tensor(5.6645, device='cuda:0', requires_grad=True),\n",
       " tensor(5.6044, device='cuda:0', requires_grad=True),\n",
       " tensor(5.5718, device='cuda:0', requires_grad=True)]"
      ]
     },
     "execution_count": 30,
     "metadata": {},
     "output_type": "execute_result"
    }
   ],
   "source": [
    "my_checkpoint_h_clamp300['contrastive_loss']"
   ]
  },
  {
   "cell_type": "code",
   "execution_count": 31,
   "metadata": {},
   "outputs": [
    {
     "name": "stdout",
     "output_type": "stream",
     "text": [
      "[53.59, 66.25, 70.97, 73.62, 74.86, 75.75, 76.8, 77.82, 78.76, 79.28]\n"
     ]
    }
   ],
   "source": [
    "my_resume_from = os.path.join('./checkpoint', 'resnet18_aam_baseline2.pth99')\n",
    "my_checkpoint = torch.load(my_resume_from)\n",
    "acc_base = my_checkpoint['test_acc']\n",
    "print(acc_base)"
   ]
  },
  {
   "cell_type": "code",
   "execution_count": 32,
   "metadata": {},
   "outputs": [
    {
     "data": {
      "text/plain": [
       "[54.41, 66.52, 71.24, 73.97, 75.24, 76.23, 77.28, 78.04, 78.4, 79.37]"
      ]
     },
     "execution_count": 32,
     "metadata": {},
     "output_type": "execute_result"
    }
   ],
   "source": [
    "my_resume_from = os.path.join('./checkpoint', 'resnet18_aam_gp_30_0_clamp.pth99')\n",
    "my_checkpoint = torch.load(my_resume_from)\n",
    "my_checkpoint['test_acc']"
   ]
  },
  {
   "cell_type": "code",
   "execution_count": 33,
   "metadata": {},
   "outputs": [
    {
     "data": {
      "text/plain": [
       "[tensor(5.9373, device='cuda:0', requires_grad=True),\n",
       " tensor(5.6837, device='cuda:0', requires_grad=True),\n",
       " tensor(5.6037, device='cuda:0', requires_grad=True),\n",
       " tensor(5.5613, device='cuda:0', requires_grad=True),\n",
       " tensor(5.5314, device='cuda:0', requires_grad=True),\n",
       " tensor(5.5144, device='cuda:0', requires_grad=True),\n",
       " tensor(5.4993, device='cuda:0', requires_grad=True),\n",
       " tensor(5.4886, device='cuda:0', requires_grad=True),\n",
       " tensor(5.4770, device='cuda:0', requires_grad=True),\n",
       " tensor(5.4689, device='cuda:0', requires_grad=True)]"
      ]
     },
     "execution_count": 33,
     "metadata": {},
     "output_type": "execute_result"
    }
   ],
   "source": [
    "my_checkpoint['contrastive_loss']"
   ]
  },
  {
   "cell_type": "code",
   "execution_count": 4,
   "metadata": {},
   "outputs": [
    {
     "name": "stdout",
     "output_type": "stream",
     "text": [
      "[56.02, 67.57, 71.75, 74.17, 75.4]\n"
     ]
    }
   ],
   "source": [
    "my_resume_from = os.path.join('./checkpoint', 'resnet18_aam_gp_h_0_0001_clamp1000.pth49')\n",
    "my_checkpoint_h_clamp1000 = torch.load(my_resume_from)\n",
    "acc_h_clamp1000 = my_checkpoint_h_clamp1000['test_acc']\n",
    "print(acc_h_clamp1000)"
   ]
  },
  {
   "cell_type": "code",
   "execution_count": 15,
   "metadata": {},
   "outputs": [
    {
     "name": "stdout",
     "output_type": "stream",
     "text": [
      "[53.18, 64.88, 69.75, 72.81, 74.76]\n"
     ]
    }
   ],
   "source": [
    "my_resume_from = os.path.join('./checkpoint', 'resnet18_aam_gp_h_0_001_clamp1000.pth49')\n",
    "my_checkpoint_h_clamp1000 = torch.load(my_resume_from)\n",
    "acc_h_clamp1000 = my_checkpoint_h_clamp1000['test_acc']\n",
    "print(acc_h_clamp1000)"
   ]
  },
  {
   "cell_type": "code",
   "execution_count": 18,
   "metadata": {},
   "outputs": [
    {
     "name": "stdout",
     "output_type": "stream",
     "text": [
      "[51.13, 61.15, 67.43, 70.48, 72.17]\n"
     ]
    }
   ],
   "source": [
    "my_resume_from = os.path.join('./checkpoint', 'resnet18_aam_gp_h_0_01_clamp300.pth49')\n",
    "my_checkpoint_h_clamp1000 = torch.load(my_resume_from)\n",
    "acc_h_clamp1000 = my_checkpoint_h_clamp1000['test_acc']\n",
    "print(acc_h_clamp1000)"
   ]
  },
  {
   "cell_type": "code",
   "execution_count": 5,
   "metadata": {},
   "outputs": [
    {
     "data": {
      "text/plain": [
       "[tensor(5.9229, device='cuda:0', requires_grad=True),\n",
       " tensor(5.6752, device='cuda:0', requires_grad=True),\n",
       " tensor(5.5969, device='cuda:0', requires_grad=True),\n",
       " tensor(5.5541, device='cuda:0', requires_grad=True),\n",
       " tensor(5.5291, device='cuda:0', requires_grad=True)]"
      ]
     },
     "execution_count": 5,
     "metadata": {},
     "output_type": "execute_result"
    }
   ],
   "source": [
    "my_checkpoint_h_clamp1000['contrastive_loss']"
   ]
  },
  {
   "cell_type": "code",
   "execution_count": 5,
   "metadata": {},
   "outputs": [
    {
     "name": "stdout",
     "output_type": "stream",
     "text": [
      "[56.02, 67.57, 71.75, 74.17, 75.4, 76.9, 77.98, 78.61, 79.29, 79.81]\n"
     ]
    }
   ],
   "source": [
    "my_resume_from = os.path.join('./checkpoint', 'resnet18_aam_gp_h_0_0001_clamp1000.pth99')\n",
    "my_checkpoint_h_clamp1000 = torch.load(my_resume_from)\n",
    "acc_h_clamp1000 = my_checkpoint_h_clamp1000['test_acc']\n",
    "print(acc_h_clamp1000)"
   ]
  },
  {
   "cell_type": "code",
   "execution_count": 6,
   "metadata": {},
   "outputs": [
    {
     "name": "stdout",
     "output_type": "stream",
     "text": [
      "[53.59, 66.25, 70.97, 73.62, 74.86, 75.75, 76.8, 77.82, 78.76, 79.28]\n"
     ]
    }
   ],
   "source": [
    "my_resume_from = os.path.join('./checkpoint', 'resnet18_aam_baseline2.pth99')\n",
    "my_checkpoint = torch.load(my_resume_from)\n",
    "acc_base = my_checkpoint['test_acc']\n",
    "print(acc_base)"
   ]
  },
  {
   "cell_type": "code",
   "execution_count": 14,
   "metadata": {},
   "outputs": [
    {
     "data": {
      "image/png": "[encoded data removed]",
      "text/plain": [
       "<Figure size 432x288 with 1 Axes>"
      ]
     },
     "metadata": {
      "needs_background": "light"
     },
     "output_type": "display_data"
    }
   ],
   "source": [
    "plt.plot([10*i for i in range(1,11)],acc_base, label = 'baseline')\n",
    "plt.plot([10*i for i in range(1,11)],acc_h_clamp1000, label = 'lambda_gp = 0.0001, penalty h')\n",
    "plt.xlabel('epochs')\n",
    "plt.ylabel('accuracy')\n",
    "plt.legend()\n",
    "plt.show()"
   ]
  },
  {
   "cell_type": "code",
   "execution_count": 8,
   "metadata": {},
   "outputs": [
    {
     "ename": "NameError",
     "evalue": "name 'resnet18_aam_gp_h_0_0001_clamp1000' is not defined",
     "output_type": "error",
     "traceback": [
      "\u001b[0;31m---------------------------------------------------------------------------\u001b[0m",
      "\u001b[0;31mNameError\u001b[0m                                 Traceback (most recent call last)",
      "\u001b[0;32m<ipython-input-8-a591bb6c091d>\u001b[0m in \u001b[0;36m<module>\u001b[0;34m\u001b[0m\n\u001b[0;32m----> 1\u001b[0;31m \u001b[0mresnet18_aam_gp_h_0_0001_clamp1000\u001b[0m\u001b[0;34m.\u001b[0m\u001b[0mpth119\u001b[0m\u001b[0;34m\u001b[0m\u001b[0;34m\u001b[0m\u001b[0m\n\u001b[0m",
      "\u001b[0;31mNameError\u001b[0m: name 'resnet18_aam_gp_h_0_0001_clamp1000' is not defined"
     ]
    }
   ],
   "source": [
    "resnet18_aam_gp_h_0_0001_clamp1000.pth119"
   ]
  },
  {
   "cell_type": "code",
   "execution_count": 11,
   "metadata": {},
   "outputs": [
    {
     "name": "stdout",
     "output_type": "stream",
     "text": [
      "==> Building model..\n",
      "==> Resuming from checkpoint..\n",
      "\n",
      "Epoch: 50\n"
     ]
    },
    {
     "name": "stderr",
     "output_type": "stream",
     "text": [
      "Loss: **** ██████████| 98/98 [00:52<00:00,  1.87it/s]\n"
     ]
    }
   ],
   "source": [
    "grad_sumhlambda0_e50_gpclamp1000_full = cal_grad_h_full(resume = 'resnet18_aam_gp_h_0_001_clamp1000.pth49')"
   ]
  },
  {
   "cell_type": "code",
   "execution_count": 12,
   "metadata": {},
   "outputs": [
    {
     "name": "stdout",
     "output_type": "stream",
     "text": [
      "==> Building model..\n",
      "==> Resuming from checkpoint..\n",
      "\n",
      "Epoch: 50\n"
     ]
    },
    {
     "name": "stderr",
     "output_type": "stream",
     "text": [
      "Loss: **** ██████████| 98/98 [00:52<00:00,  1.86it/s]\n"
     ]
    }
   ],
   "source": [
    "grad_sumhlambda0_e50_gpclamp300_full = cal_grad_h_full(resume = 'resnet18_aam_gp_h_0_01_clamp300.pth49')"
   ]
  },
  {
   "cell_type": "code",
   "execution_count": 8,
   "metadata": {},
   "outputs": [
    {
     "name": "stdout",
     "output_type": "stream",
     "text": [
      "==> Building model..\n",
      "==> Resuming from checkpoint..\n",
      "\n",
      "Epoch: 50\n"
     ]
    },
    {
     "name": "stderr",
     "output_type": "stream",
     "text": [
      "Loss: **** ██████████| 98/98 [00:56<00:00,  1.74it/s]\n"
     ]
    }
   ],
   "source": [
    "grad_sumhlambda0_e50_gp_0_0001_clamp1000_full = cal_grad_h_full(resume = 'resnet18_aam_gp_h_0_0001_clamp1000.pth49')"
   ]
  },
  {
   "cell_type": "code",
   "execution_count": 17,
   "metadata": {},
   "outputs": [
    {
     "data": {
      "text/plain": [
       "Text(0.5, 1.0, 'norm 1 of gradient h')"
      ]
     },
     "execution_count": 17,
     "metadata": {},
     "output_type": "execute_result"
    },
    {
     "data": {
      "image/png": "[encoded data removed]",
      "text/plain": [
       "<Figure size 432x288 with 1 Axes>"
      ]
     },
     "metadata": {
      "needs_background": "light"
     },
     "output_type": "display_data"
    }
   ],
   "source": [
    "d = {'epoch 50': (grad_sumhlambda0_e50_full+1e-16).norm(p=1, dim = 1).detach(), \n",
    "     'epoch 50 + grad h 0.0001': (grad_sumhlambda0_e50_gp_0_0001_clamp1000_full+1e-16).norm(p=1, dim = 1).detach(),\n",
    "     'epoch 50 + grad h 0.001': (grad_sumhlambda0_e50_gpclamp1000_full+1e-16).norm(p=1, dim = 1).detach(),\n",
    "     'epoch 50 + grad h 0.01': (grad_sumhlambda0_e50_gpclamp300_full+1e-16).norm(p=1, dim = 1).detach(),\n",
    "     'epoch 1000': (grad_sumhlambda0_e1000_full+1e-16).norm(p=1, dim = 1).detach()}\n",
    "df = pd.DataFrame(data=d)\n",
    "sns.boxplot(data = df, orient = 'h',  showmeans = True,showfliers = False)\n",
    "plt.title('norm 1 of gradient h')"
   ]
  },
  {
   "cell_type": "code",
   "execution_count": 42,
   "metadata": {},
   "outputs": [
    {
     "data": {
      "text/plain": [
       "Text(0.5, 1.0, 'norm 1 of gradient h')"
      ]
     },
     "execution_count": 42,
     "metadata": {},
     "output_type": "execute_result"
    },
    {
     "data": {
      "image/png": "[encoded data removed]",
      "text/plain": [
       "<Figure size 432x288 with 1 Axes>"
      ]
     },
     "metadata": {
      "needs_background": "light"
     },
     "output_type": "display_data"
    }
   ],
   "source": [
    "d = {'epoch 50': (grad_sumhlambda0_e50_full+1e-16).norm(p=1, dim = 1).detach(), \n",
    "     'epoch 50 + grad h 0.001': (grad_sumhlambda0_e50_gpclamp1000_full+1e-16).norm(p=1, dim = 1).detach(),\n",
    "     'epoch 50 + grad h 0.01': (grad_sumhlambda0_e50_gpclamp300_full+1e-16).norm(p=1, dim = 1).detach(),\n",
    "     'epoch 1000': (grad_sumhlambda0_e1000_full+1e-16).norm(p=1, dim = 1).detach()}\n",
    "df = pd.DataFrame(data=d)\n",
    "sns.boxplot(data = df, orient = 'h',  showmeans = True,showfliers = True)\n",
    "plt.title('norm 1 of gradient h')"
   ]
  },
  {
   "cell_type": "code",
   "execution_count": 10,
   "metadata": {},
   "outputs": [],
   "source": [
    "def cal_grad_h_norm_full(resume):\n",
    "    # config\n",
    "    ### config ####\n",
    "    gradient_lambda_list = []\n",
    "    representation_list = []\n",
    "\n",
    "    device = 'cuda' if torch.cuda.is_available() else 'cpu'\n",
    "    base_lr = 0.25\n",
    "    arch = 'resnet18'\n",
    "    momentum = 0.9\n",
    "    cosine_anneal = True\n",
    "    num_epochs = 1\n",
    "    test_freq = 1\n",
    "    lr = base_lr * (batch_size / 256)\n",
    "    \n",
    "    best_acc = 0  # best test accuracy\n",
    "    start_epoch = 0  # start from epoch 0 or last checkpoint epoch\n",
    "    last_epoch = num_epochs #last epoch or from last epoch from checkpoint \n",
    "    clf = None\n",
    "    current_checkpoint = {}\n",
    "    acc = 0\n",
    "    # Model\n",
    "    print('==> Building model..')\n",
    "    ##############################################################\n",
    "    # Encoder\n",
    "    ##############################################################\n",
    "    if arch == 'resnet18':\n",
    "        net = ResNet18(stem=stem)\n",
    "    elif arch == 'resnet34':\n",
    "        net = ResNet34(stem=stem)\n",
    "    elif arch == 'resnet50':\n",
    "        net = ResNet50(stem=stem)\n",
    "    else:\n",
    "        raise ValueError(\"Bad architecture specification\")\n",
    "    net = net.to(device)\n",
    "\n",
    "    ##############################################################\n",
    "    # Critic\n",
    "    ##############################################################\n",
    "    critic = LinearCritic(net.representation_dim, temperature=temperature).to(device)\n",
    "\n",
    "    ###### Differentiable augmentation ######\n",
    "    brightness_bound = [0.2, 1.8]\n",
    "    contrast_bound = [0.2, 1.8]\n",
    "    saturation_bound = [0.2, 1.8]\n",
    "    hue_bound = [-0.2, 0.2]\n",
    "\n",
    "    if device == 'cuda':\n",
    "        repr_dim = net.representation_dim\n",
    "        net = torch.nn.DataParallel(net)\n",
    "        net.representation_dim = repr_dim\n",
    "        cudnn.benchmark = True\n",
    "\n",
    "    criterion = nn.CrossEntropyLoss()\n",
    "    base_optimizer = optim.SGD(list(net.parameters()) + list(critic.parameters()), lr=lr, weight_decay=1e-6,\n",
    "                               momentum=momentum)\n",
    "    if cosine_anneal == True:\n",
    "        scheduler = CosineAnnealingWithLinearRampLR(base_optimizer, num_epochs)\n",
    "    encoder_optimizer = LARS(base_optimizer, trust_coef=1e-3)\n",
    "\n",
    "    #Resume\n",
    "    if resume:\n",
    "        # Load checkpoint.\n",
    "        print('==> Resuming from checkpoint..')\n",
    "        assert os.path.isdir('checkpoint'), 'Error: no checkpoint directory found!'\n",
    "        resume_from = os.path.join('./checkpoint', resume)\n",
    "        checkpoint = torch.load(resume_from)\n",
    "        net.load_state_dict(checkpoint['net'])\n",
    "        critic.load_state_dict(checkpoint['critic'])\n",
    "    #     best_acc = checkpoint['acc']\n",
    "        start_epoch = checkpoint['epoch'] + 1\n",
    "        encoder_optimizer.load_state_dict(checkpoint['encoder_optim'])\n",
    "        base_optimizer.load_state_dict(checkpoint['base_optim'])\n",
    "        scheduler.step(start_epoch)\n",
    "        if 'num_epochs' in checkpoint:\n",
    "            last_epoch = checkpoint['num_epochs']\n",
    "        else:\n",
    "            last_epoch = 1000 #default value for num epochs = 1000\n",
    "        current_checkpoint = checkpoint\n",
    "        ##### Train #####\n",
    "        print('\\nEpoch: %d' % start_epoch)\n",
    "#         net.train()\n",
    "#         critic.train()\n",
    "        net.eval()\n",
    "        critic.eval()\n",
    "        train_loss = 0\n",
    "        sum_gradient = 0\n",
    "        train_loss_nogp = 0\n",
    "        t = tqdm(enumerate(trainloader), desc='Loss: **** ', total=len(trainloader), bar_format='{desc}{bar}{r_bar}')\n",
    "        for batch_idx, (inputs, _, _) in t:\n",
    "            x1, x2 = inputs\n",
    "            x1, x2 = x1.to(device), x2.to(device)\n",
    "\n",
    "            #colour augmentation\n",
    "            B = x1.size()[0]\n",
    "            brightness_list1, saturation_list1, contrast_list1, hue_list1 = gen_lambda(B, brightness_bound,\n",
    "                                                                                       contrast_bound,\n",
    "                                                                                       saturation_bound,\n",
    "                                                                                       hue_bound)\n",
    "            brightness_list2, saturation_list2, contrast_list2, hue_list2 = gen_lambda(B, brightness_bound,\n",
    "                                                                                       contrast_bound,\n",
    "                                                                                       saturation_bound,\n",
    "                                                                                       hue_bound)\n",
    "            lambda_ = torch.stack([brightness_list1, saturation_list1, contrast_list1, hue_list1,\n",
    "                                   brightness_list2, saturation_list2, contrast_list2, hue_list2], dim=1)\n",
    "            aug_manual1 = DifferentiableColourDistortionByTorch_manual(brightness = lambda_[:,0],\n",
    "                                                                       contrast = lambda_[:,1],\n",
    "                                                                       saturation = lambda_[:,2],\n",
    "                                                                       hue = lambda_[:,3])\n",
    "            aug_manual2 = DifferentiableColourDistortionByTorch_manual(brightness = lambda_[:,4],\n",
    "                                                                       contrast = lambda_[:,5],\n",
    "                                                                       saturation = lambda_[:,6],\n",
    "                                                                       hue = lambda_[:,7])\n",
    "\n",
    "            x1, x2 = aug_manual1(x1), aug_manual2(x2)\n",
    "            x1, x2 = ManualNormalise(x1, dataset), ManualNormalise(x2, dataset)\n",
    "\n",
    "            encoder_optimizer.zero_grad()\n",
    "            representation1, representation2 = net(x1), net(x2)\n",
    "            \n",
    "            # gradient penalty\n",
    "            sum_rep1 = representation1.sum()\n",
    "            sum_rep2 = representation2.sum()\n",
    "            sum_rep = sum_rep1 + sum_rep2\n",
    "            sum_rep = sum_rep/sum_rep.norm(p=2, dim = -1, keepdim = True)\n",
    "            \n",
    "            gradient_lambda =  autograd.grad(outputs = sum_rep,\n",
    "                                 inputs = lambda_,\n",
    "                                 create_graph = False,\n",
    "                                 retain_graph = False,\n",
    "                                 only_inputs = True)[0]\n",
    "            \n",
    "            gradient_lambda_list.append(gradient_lambda)\n",
    "            \n",
    "    return torch.cat(gradient_lambda_list, dim = 0)"
   ]
  },
  {
   "cell_type": "code",
   "execution_count": 11,
   "metadata": {},
   "outputs": [
    {
     "name": "stdout",
     "output_type": "stream",
     "text": [
      "==> Building model..\n",
      "==> Resuming from checkpoint..\n",
      "\n",
      "Epoch: 100\n"
     ]
    },
    {
     "name": "stderr",
     "output_type": "stream",
     "text": [
      "Loss: **** ██████████| 98/98 [00:55<00:00,  1.77it/s]\n"
     ]
    }
   ],
   "source": [
    "grad_sumh_norm_lambda0_e100_full = cal_grad_h_norm_full(resume = 'resnet18_aam_new_baseline_rerun.pth99')"
   ]
  },
  {
   "cell_type": "code",
   "execution_count": 12,
   "metadata": {},
   "outputs": [
    {
     "name": "stdout",
     "output_type": "stream",
     "text": [
      "==> Building model..\n",
      "==> Resuming from checkpoint..\n",
      "\n",
      "Epoch: 1000\n"
     ]
    },
    {
     "name": "stderr",
     "output_type": "stream",
     "text": [
      "Loss: **** ██████████| 98/98 [00:51<00:00,  1.92it/s]\n"
     ]
    }
   ],
   "source": [
    "grad_sumh_norm_lambda0_e1000_full = cal_grad_h_norm_full(resume = 'resnet18_aam_new_baseline_rerun.pth999')"
   ]
  },
  {
   "cell_type": "code",
   "execution_count": 15,
   "metadata": {},
   "outputs": [
    {
     "name": "stdout",
     "output_type": "stream",
     "text": [
      "==> Building model..\n",
      "==> Resuming from checkpoint..\n",
      "\n",
      "Epoch: 50\n"
     ]
    },
    {
     "name": "stderr",
     "output_type": "stream",
     "text": [
      "Loss: **** ██████████| 98/98 [00:51<00:00,  1.90it/s]\n"
     ]
    }
   ],
   "source": [
    "grad_sumh_norm_lambda0_e50_full = cal_grad_h_norm_full(resume = 'resnet18_aam_new_baseline_rerun.pth49')"
   ]
  },
  {
   "cell_type": "code",
   "execution_count": 16,
   "metadata": {},
   "outputs": [
    {
     "name": "stdout",
     "output_type": "stream",
     "text": [
      "==> Building model..\n",
      "==> Resuming from checkpoint..\n",
      "\n",
      "Epoch: 50\n"
     ]
    },
    {
     "name": "stderr",
     "output_type": "stream",
     "text": [
      "Loss: **** ██████████| 98/98 [00:51<00:00,  1.89it/s]\n"
     ]
    }
   ],
   "source": [
    "grad_sumh_norm_lambda0_0001_gradh_e50_full = cal_grad_h_norm_full(resume = 'resnet18_aam_gp_h_0_0001_clamp1000.pth49')"
   ]
  },
  {
   "cell_type": "code",
   "execution_count": 17,
   "metadata": {},
   "outputs": [
    {
     "name": "stdout",
     "output_type": "stream",
     "text": [
      "==> Building model..\n",
      "==> Resuming from checkpoint..\n",
      "\n",
      "Epoch: 50\n"
     ]
    },
    {
     "name": "stderr",
     "output_type": "stream",
     "text": [
      "Loss: **** ██████████| 98/98 [00:51<00:00,  1.89it/s]\n"
     ]
    }
   ],
   "source": [
    "grad_sumh_norm_lambda0_0001_gradh_norm_e50_full = cal_grad_h_norm_full(resume = 'resnet18_aam_gp_h_0_01_clamp1000_norm.pth49')"
   ]
  },
  {
   "cell_type": "code",
   "execution_count": 13,
   "metadata": {},
   "outputs": [
    {
     "data": {
      "text/plain": [
       "torch.Size([50000, 8])"
      ]
     },
     "execution_count": 13,
     "metadata": {},
     "output_type": "execute_result"
    }
   ],
   "source": [
    "grad_sumh_norm_lambda0_e1000_full.size()"
   ]
  },
  {
   "cell_type": "code",
   "execution_count": 18,
   "metadata": {},
   "outputs": [
    {
     "data": {
      "text/plain": [
       "Text(0.5, 1.0, 'norm 1 of gradient norm h')"
      ]
     },
     "execution_count": 18,
     "metadata": {},
     "output_type": "execute_result"
    },
    {
     "data": {
      "image/png": "[encoded data removed]",
      "text/plain": [
       "<Figure size 432x288 with 1 Axes>"
      ]
     },
     "metadata": {
      "needs_background": "light"
     },
     "output_type": "display_data"
    }
   ],
   "source": [
    "d = {'epoch 50': (grad_sumh_norm_lambda0_e50_full+1e-16).norm(p=1, dim = 1).detach(), \n",
    "     'epoch 50 gp grad h 0.0001': (grad_sumh_norm_lambda0_0001_gradh_e50_full+1e-16).norm(p=1, dim = 1).detach(),\n",
    "     'epoch 50 gp grad h 0.01 nrom': (grad_sumh_norm_lambda0_0001_gradh_norm_e50_full+1e-16).norm(p=1, dim = 1).detach(),\n",
    "     'epoch 1000': (grad_sumh_norm_lambda0_e1000_full+1e-16).norm(p=1, dim = 1).detach()}\n",
    "df = pd.DataFrame(data=d)\n",
    "sns.boxplot(data = df, orient = 'h',  showmeans = True,showfliers = False)\n",
    "plt.title('norm 1 of gradient norm h')"
   ]
  },
  {
   "cell_type": "markdown",
   "metadata": {},
   "source": [
    "# result from norm h"
   ]
  },
  {
   "cell_type": "code",
   "execution_count": 7,
   "metadata": {},
   "outputs": [
    {
     "data": {
      "text/plain": [
       "[55.25, 66.49, 71.61, 74.09, 75.67]"
      ]
     },
     "execution_count": 7,
     "metadata": {},
     "output_type": "execute_result"
    }
   ],
   "source": [
    "my_resume_from = os.path.join('./checkpoint', 'resnet18_aam_gp_h_0_01_clamp1000_norm.pth49')\n",
    "my_checkpoint_h_norm_0_01 = torch.load(my_resume_from)\n",
    "my_checkpoint_h_norm_0_01['test_acc']\n"
   ]
  },
  {
   "cell_type": "code",
   "execution_count": 9,
   "metadata": {},
   "outputs": [
    {
     "name": "stdout",
     "output_type": "stream",
     "text": [
      "[56.02, 67.57, 71.75, 74.17, 75.4, 76.9, 77.98, 78.61, 79.29, 79.81]\n"
     ]
    }
   ],
   "source": [
    "my_resume_from = os.path.join('./checkpoint', 'resnet18_aam_gp_h_0_0001_clamp1000.pth99')\n",
    "my_checkpoint_h_clamp1000 = torch.load(my_resume_from)\n",
    "acc_h_clamp1000 = my_checkpoint_h_clamp1000['test_acc']\n",
    "print(acc_h_clamp1000)"
   ]
  },
  {
   "cell_type": "code",
   "execution_count": 8,
   "metadata": {},
   "outputs": [
    {
     "name": "stdout",
     "output_type": "stream",
     "text": [
      "[53.59, 66.25, 70.97, 73.62, 74.86, 75.75, 76.8, 77.82, 78.76, 79.28]\n"
     ]
    }
   ],
   "source": [
    "my_resume_from = os.path.join('./checkpoint', 'resnet18_aam_baseline2.pth99')\n",
    "my_checkpoint = torch.load(my_resume_from)\n",
    "acc_base = my_checkpoint['test_acc']\n",
    "print(acc_base)"
   ]
  }
 ],
 "metadata": {
  "kernelspec": {
   "display_name": "Python 3",
   "language": "python",
   "name": "python3"
  },
  "language_info": {
   "codemirror_mode": {
    "name": "ipython",
    "version": 3
   },
   "file_extension": ".py",
   "mimetype": "text/x-python",
   "name": "python",
   "nbconvert_exporter": "python",
   "pygments_lexer": "ipython3",
   "version": "3.6.8"
  }
 },
 "nbformat": 4,
 "nbformat_minor": 4
}

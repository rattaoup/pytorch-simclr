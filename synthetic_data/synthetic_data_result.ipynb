{
 "cells": [
  {
   "cell_type": "code",
   "execution_count": 14,
   "metadata": {},
   "outputs": [],
   "source": [
    "import matplotlib.pyplot as plt\n",
    "from torch import tensor\n",
    "import numpy as np"
   ]
  },
  {
   "cell_type": "markdown",
   "metadata": {},
   "source": [
    "# tensor scan"
   ]
  },
  {
   "cell_type": "code",
   "execution_count": 1,
   "metadata": {},
   "outputs": [
    {
     "name": "stderr",
     "output_type": "stream",
     "text": [
      "100%|██████████| 200/200 [00:31<00:00,  6.30it/s]\n",
      "100%|██████████| 200/200 [00:30<00:00,  6.51it/s]\n",
      "100%|██████████| 200/200 [00:31<00:00,  6.33it/s]\n",
      "100%|██████████| 200/200 [00:31<00:00,  6.34it/s]\n",
      "100%|██████████| 200/200 [00:31<00:00,  6.35it/s]\n",
      "100%|██████████| 200/200 [00:31<00:00,  6.34it/s]\n",
      "100%|██████████| 200/200 [00:31<00:00,  6.34it/s]\n",
      "100%|██████████| 200/200 [00:31<00:00,  6.34it/s]\n",
      "100%|██████████| 200/200 [00:31<00:00,  6.29it/s]\n",
      "100%|██████████| 200/200 [00:32<00:00,  6.24it/s]\n"
     ]
    },
    {
     "name": "stdout",
     "output_type": "stream",
     "text": [
      "defaultdict(<class 'list'>, {'sg-gp-0_run1': [tensor(0.6273, device='cuda:0'), tensor(0.7351, device='cuda:0'), tensor(0.7641, device='cuda:0'), tensor(0.7782, device='cuda:0'), tensor(0.7819, device='cuda:0')], 'sg-gp-1e-4_run1': [tensor(0.6046, device='cuda:0'), tensor(0.5737, device='cuda:0'), tensor(0.4720, device='cuda:0'), tensor(0.3673, device='cuda:0'), tensor(0.3436, device='cuda:0')]})\n"
     ]
    }
   ],
   "source": [
    "%run scan_trcov.py --baselines sg-gp-0_run1 --ours sg-gp-1e-4_run1"
   ]
  },
  {
   "cell_type": "code",
   "execution_count": 2,
   "metadata": {},
   "outputs": [
    {
     "name": "stderr",
     "output_type": "stream",
     "text": [
      "100%|██████████| 200/200 [00:31<00:00,  6.32it/s]\n",
      "100%|██████████| 200/200 [00:30<00:00,  6.56it/s]\n",
      "100%|██████████| 200/200 [00:30<00:00,  6.52it/s]\n",
      "100%|██████████| 200/200 [00:31<00:00,  6.37it/s]\n",
      "100%|██████████| 200/200 [00:31<00:00,  6.32it/s]\n",
      "100%|██████████| 200/200 [00:31<00:00,  6.32it/s]\n",
      "100%|██████████| 200/200 [00:31<00:00,  6.34it/s]\n",
      "100%|██████████| 200/200 [00:31<00:00,  6.33it/s]\n",
      "100%|██████████| 200/200 [00:32<00:00,  6.22it/s]\n",
      "100%|██████████| 200/200 [00:32<00:00,  6.19it/s]"
     ]
    },
    {
     "name": "stdout",
     "output_type": "stream",
     "text": [
      "defaultdict(<class 'list'>, {'sg-gp-0_run2': [tensor(0.6376, device='cuda:0'), tensor(0.7425, device='cuda:0'), tensor(0.7797, device='cuda:0'), tensor(0.7950, device='cuda:0'), tensor(0.8000, device='cuda:0')], 'sg-gp-1e-3_run1': [tensor(0.3202, device='cuda:0'), tensor(0.0307, device='cuda:0'), tensor(0.0186, device='cuda:0'), tensor(0.0144, device='cuda:0'), tensor(0.0136, device='cuda:0')]})\n"
     ]
    },
    {
     "name": "stderr",
     "output_type": "stream",
     "text": [
      "\n"
     ]
    }
   ],
   "source": [
    "%run scan_trcov.py --baselines sg-gp-0_run2 --ours sg-gp-1e-3_run1"
   ]
  },
  {
   "cell_type": "code",
   "execution_count": 1,
   "metadata": {},
   "outputs": [
    {
     "name": "stderr",
     "output_type": "stream",
     "text": [
      "100%|██████████| 200/200 [00:31<00:00,  6.28it/s]\n",
      "100%|██████████| 200/200 [00:30<00:00,  6.49it/s]\n",
      "100%|██████████| 200/200 [00:31<00:00,  6.44it/s]\n",
      "100%|██████████| 200/200 [00:31<00:00,  6.33it/s]\n",
      "100%|██████████| 200/200 [00:31<00:00,  6.33it/s]\n",
      "100%|██████████| 200/200 [00:31<00:00,  6.34it/s]\n",
      "100%|██████████| 200/200 [00:31<00:00,  6.32it/s]\n",
      "100%|██████████| 200/200 [00:31<00:00,  6.33it/s]\n",
      "100%|██████████| 200/200 [00:31<00:00,  6.33it/s]\n",
      "100%|██████████| 200/200 [00:31<00:00,  6.33it/s]\n"
     ]
    },
    {
     "name": "stdout",
     "output_type": "stream",
     "text": [
      "defaultdict(<class 'list'>, {'sg-gp-0_run1': [tensor(0.6273, device='cuda:0'), tensor(0.7338, device='cuda:0'), tensor(0.7646, device='cuda:0'), tensor(0.7781, device='cuda:0'), tensor(0.7828, device='cuda:0')], 'sg-gp-1e-2_run1': [tensor(0.0076, device='cuda:0'), tensor(0.0038, device='cuda:0'), tensor(0.0027, device='cuda:0'), tensor(0.0019, device='cuda:0'), tensor(0.0016, device='cuda:0')]})\n"
     ]
    }
   ],
   "source": [
    "%run scan_trcov.py --baselines sg-gp-0_run1 --ours sg-gp-1e-2_run1"
   ]
  },
  {
   "cell_type": "code",
   "execution_count": 1,
   "metadata": {},
   "outputs": [
    {
     "name": "stderr",
     "output_type": "stream",
     "text": [
      "100%|██████████| 200/200 [00:31<00:00,  6.36it/s]\n",
      "100%|██████████| 200/200 [00:30<00:00,  6.61it/s]\n",
      "100%|██████████| 200/200 [00:30<00:00,  6.58it/s]\n",
      "100%|██████████| 200/200 [00:30<00:00,  6.57it/s]\n",
      "100%|██████████| 200/200 [00:30<00:00,  6.57it/s]\n",
      "100%|██████████| 200/200 [00:30<00:00,  6.57it/s]\n",
      "100%|██████████| 200/200 [00:30<00:00,  6.56it/s]\n",
      "100%|██████████| 200/200 [00:30<00:00,  6.56it/s]\n",
      "100%|██████████| 200/200 [00:30<00:00,  6.56it/s]\n",
      "100%|██████████| 200/200 [00:30<00:00,  6.56it/s]"
     ]
    },
    {
     "name": "stdout",
     "output_type": "stream",
     "text": [
      "defaultdict(<class 'list'>, {'sg-gp-0_run1': [tensor(0.6282, device='cuda:0'), tensor(0.7340, device='cuda:0'), tensor(0.7638, device='cuda:0'), tensor(0.7775, device='cuda:0'), tensor(0.7816, device='cuda:0')], 'sg-gp-1e-1_run1': [tensor(0.0002, device='cuda:0'), tensor(8.6961e-05, device='cuda:0'), tensor(6.5697e-05, device='cuda:0'), tensor(3.7268e-05, device='cuda:0'), tensor(3.1853e-05, device='cuda:0')]})\n"
     ]
    },
    {
     "name": "stderr",
     "output_type": "stream",
     "text": [
      "\n"
     ]
    }
   ],
   "source": [
    "%run scan_trcov.py --baselines sg-gp-0_run1 --ours sg-gp-1e-1_run1"
   ]
  },
  {
   "cell_type": "code",
   "execution_count": 10,
   "metadata": {},
   "outputs": [],
   "source": [
    "trace_base = [0.6273, 0.7351, 0.7641, 0.7782, 0.7819]\n",
    "trace_inv_e4 = [0.6046, 0.5737, 0.4720, 0.3673, 0.3436 ]\n",
    "trace_inv_e3 = [0.3202, 0.0307, 0.0186, 0.0144, 0.0136 ]\n",
    "trace_inv_e2 = [0.0076 ,0.0038 ,0.0027 ,0.0019 ,0.0016]\n",
    "trace_inv_e1 = [0.0002, 8.6961e-5,6.5697e-05, 3.7268e-05, 3.1853e-05]\n",
    "epoch = [i*10 for i in range(1,6)]"
   ]
  },
  {
   "cell_type": "code",
   "execution_count": 11,
   "metadata": {},
   "outputs": [
    {
     "data": {
      "image/png": "[encoded data removed]",
      "text/plain": [
       "<Figure size 432x288 with 1 Axes>"
      ]
     },
     "metadata": {
      "needs_background": "light"
     },
     "output_type": "display_data"
    }
   ],
   "source": [
    "plt.plot(epoch, trace_base, label = 'No gradient penalisation', marker = 'o')\n",
    "plt.plot(epoch, trace_inv_e4, label = 'Gradient penalisation 1e-4', marker = 'x')\n",
    "plt.plot(epoch, trace_inv_e3, label = 'Gradient penalisation 1e-3', marker = 'x')\n",
    "plt.plot(epoch, trace_inv_e2, label = 'Gradient penalisation 1e-2', marker = 'x')\n",
    "plt.plot(epoch, trace_inv_e1, label = 'Gradient penalisation 1e-1', marker = 'x')\n",
    "plt.legend()\n",
    "plt.ylabel('Expected conditional variance')\n",
    "plt.show()"
   ]
  },
  {
   "cell_type": "markdown",
   "metadata": {},
   "source": [
    "# Predict alpha scan"
   ]
  },
  {
   "cell_type": "code",
   "execution_count": 11,
   "metadata": {},
   "outputs": [
    {
     "name": "stderr",
     "output_type": "stream",
     "text": [
      "Loss: 0.08640:           | 0/500 [00:00<?, ?it/s]               "
     ]
    },
    {
     "name": "stdout",
     "output_type": "stream",
     "text": [
      "\n",
      "L2 Regularization weight: 1e-05\n"
     ]
    },
    {
     "name": "stderr",
     "output_type": "stream",
     "text": [
      "Loss: 0.05626: ██████████| 500/500 [00:49<00:00, 10.06it/s] \n"
     ]
    },
    {
     "name": "stdout",
     "output_type": "stream",
     "text": [
      "Loss: 0.05378\n"
     ]
    },
    {
     "name": "stderr",
     "output_type": "stream",
     "text": [
      "Loss: 0.08136:           | 0/500 [00:00<?, ?it/s]               "
     ]
    },
    {
     "name": "stdout",
     "output_type": "stream",
     "text": [
      "\n",
      "L2 Regularization weight: 1e-05\n"
     ]
    },
    {
     "name": "stderr",
     "output_type": "stream",
     "text": [
      "Loss: 0.06850: ██████████| 500/500 [00:15<00:00, 32.88it/s] \n"
     ]
    },
    {
     "name": "stdout",
     "output_type": "stream",
     "text": [
      "Loss: 0.06596\n"
     ]
    },
    {
     "name": "stderr",
     "output_type": "stream",
     "text": [
      "Loss: 0.08182:           | 0/500 [00:00<?, ?it/s]               "
     ]
    },
    {
     "name": "stdout",
     "output_type": "stream",
     "text": [
      "\n",
      "L2 Regularization weight: 1e-05\n"
     ]
    },
    {
     "name": "stderr",
     "output_type": "stream",
     "text": [
      "Loss: 0.07433: ██████████| 500/500 [00:10<00:00, 48.11it/s] \n"
     ]
    },
    {
     "name": "stdout",
     "output_type": "stream",
     "text": [
      "Loss: 0.07180\n"
     ]
    },
    {
     "name": "stderr",
     "output_type": "stream",
     "text": [
      "Loss: 0.08126:           | 0/500 [00:00<?, ?it/s]               "
     ]
    },
    {
     "name": "stdout",
     "output_type": "stream",
     "text": [
      "\n",
      "L2 Regularization weight: 1e-05\n"
     ]
    },
    {
     "name": "stderr",
     "output_type": "stream",
     "text": [
      "Loss: 0.07592: ██████████| 500/500 [00:08<00:00, 56.40it/s] \n"
     ]
    },
    {
     "name": "stdout",
     "output_type": "stream",
     "text": [
      "Loss: 0.07363\n"
     ]
    },
    {
     "name": "stderr",
     "output_type": "stream",
     "text": [
      "Loss: 0.08097:           | 0/500 [00:00<?, ?it/s]               "
     ]
    },
    {
     "name": "stdout",
     "output_type": "stream",
     "text": [
      "\n",
      "L2 Regularization weight: 1e-05\n"
     ]
    },
    {
     "name": "stderr",
     "output_type": "stream",
     "text": [
      "Loss: 0.07586: ██████████| 500/500 [00:08<00:00, 58.84it/s] \n"
     ]
    },
    {
     "name": "stdout",
     "output_type": "stream",
     "text": [
      "Loss: 0.07429\n"
     ]
    },
    {
     "name": "stderr",
     "output_type": "stream",
     "text": [
      "Loss: 0.08386:           | 0/500 [00:00<?, ?it/s]               "
     ]
    },
    {
     "name": "stdout",
     "output_type": "stream",
     "text": [
      "\n",
      "L2 Regularization weight: 1e-05\n"
     ]
    },
    {
     "name": "stderr",
     "output_type": "stream",
     "text": [
      "Loss: 0.05335: ██████████| 500/500 [01:02<00:00,  8.05it/s] \n"
     ]
    },
    {
     "name": "stdout",
     "output_type": "stream",
     "text": [
      "Loss: 0.05076\n"
     ]
    },
    {
     "name": "stderr",
     "output_type": "stream",
     "text": [
      "Loss: 0.08188:           | 0/500 [00:00<?, ?it/s]               "
     ]
    },
    {
     "name": "stdout",
     "output_type": "stream",
     "text": [
      "\n",
      "L2 Regularization weight: 1e-05\n"
     ]
    },
    {
     "name": "stderr",
     "output_type": "stream",
     "text": [
      "Loss: 0.05875: ██████████| 500/500 [00:36<00:00, 13.56it/s] \n"
     ]
    },
    {
     "name": "stdout",
     "output_type": "stream",
     "text": [
      "Loss: 0.05482\n"
     ]
    },
    {
     "name": "stderr",
     "output_type": "stream",
     "text": [
      "Loss: 0.08166:           | 0/500 [00:00<?, ?it/s]               "
     ]
    },
    {
     "name": "stdout",
     "output_type": "stream",
     "text": [
      "\n",
      "L2 Regularization weight: 1e-05\n"
     ]
    },
    {
     "name": "stderr",
     "output_type": "stream",
     "text": [
      "Loss: 0.06110: ██████████| 500/500 [00:36<00:00, 13.68it/s] \n"
     ]
    },
    {
     "name": "stdout",
     "output_type": "stream",
     "text": [
      "Loss: 0.05539\n"
     ]
    },
    {
     "name": "stderr",
     "output_type": "stream",
     "text": [
      "Loss: 0.08163:           | 0/500 [00:00<?, ?it/s]               "
     ]
    },
    {
     "name": "stdout",
     "output_type": "stream",
     "text": [
      "\n",
      "L2 Regularization weight: 1e-05\n"
     ]
    },
    {
     "name": "stderr",
     "output_type": "stream",
     "text": [
      "Loss: 0.06564: ██████████| 500/500 [00:23<00:00, 21.40it/s] \n"
     ]
    },
    {
     "name": "stdout",
     "output_type": "stream",
     "text": [
      "Loss: 0.06029\n"
     ]
    },
    {
     "name": "stderr",
     "output_type": "stream",
     "text": [
      "Loss: 0.08094:           | 0/500 [00:00<?, ?it/s]               "
     ]
    },
    {
     "name": "stdout",
     "output_type": "stream",
     "text": [
      "\n",
      "L2 Regularization weight: 1e-05\n"
     ]
    },
    {
     "name": "stderr",
     "output_type": "stream",
     "text": [
      "Loss: 0.06574: ██████████| 500/500 [00:25<00:00, 19.88it/s] \n"
     ]
    },
    {
     "name": "stdout",
     "output_type": "stream",
     "text": [
      "Loss: 0.06076\n",
      "defaultdict(<class 'list'>, {'sg-gp-0_run1': [0.0537814162671566, 0.06596098840236664, 0.071799136698246, 0.07362642139196396, 0.07429084926843643], 'sg-gp-1e-4_run1': [0.05075678601861, 0.05482454597949982, 0.05539015308022499, 0.060291219502687454, 0.060762759298086166]})\n"
     ]
    }
   ],
   "source": [
    "%run scan_predict_alpha.py --baselines sg-gp-0_run1 --ours sg-gp-1e-4_run1"
   ]
  },
  {
   "cell_type": "code",
   "execution_count": 3,
   "metadata": {},
   "outputs": [
    {
     "name": "stderr",
     "output_type": "stream",
     "text": [
      "Loss: 0.08607:           | 0/500 [00:00<?, ?it/s]               "
     ]
    },
    {
     "name": "stdout",
     "output_type": "stream",
     "text": [
      "\n",
      "L2 Regularization weight: 1e-05\n"
     ]
    },
    {
     "name": "stderr",
     "output_type": "stream",
     "text": [
      "Loss: 0.05625: ██████████| 500/500 [01:01<00:00,  8.19it/s] \n"
     ]
    },
    {
     "name": "stdout",
     "output_type": "stream",
     "text": [
      "Loss: 0.05286\n"
     ]
    },
    {
     "name": "stderr",
     "output_type": "stream",
     "text": [
      "Loss: 0.08199:           | 0/500 [00:00<?, ?it/s]               "
     ]
    },
    {
     "name": "stdout",
     "output_type": "stream",
     "text": [
      "\n",
      "L2 Regularization weight: 1e-05\n"
     ]
    },
    {
     "name": "stderr",
     "output_type": "stream",
     "text": [
      "Loss: 0.06889: ██████████| 500/500 [00:18<00:00, 26.90it/s] \n"
     ]
    },
    {
     "name": "stdout",
     "output_type": "stream",
     "text": [
      "Loss: 0.06574\n"
     ]
    },
    {
     "name": "stderr",
     "output_type": "stream",
     "text": [
      "Loss: 0.08135:           | 0/500 [00:00<?, ?it/s]               "
     ]
    },
    {
     "name": "stdout",
     "output_type": "stream",
     "text": [
      "\n",
      "L2 Regularization weight: 1e-05\n"
     ]
    },
    {
     "name": "stderr",
     "output_type": "stream",
     "text": [
      "Loss: 0.07411: ██████████| 500/500 [00:14<00:00, 35.60it/s] \n"
     ]
    },
    {
     "name": "stdout",
     "output_type": "stream",
     "text": [
      "Loss: 0.07137\n"
     ]
    },
    {
     "name": "stderr",
     "output_type": "stream",
     "text": [
      "Loss: 0.08154:           | 0/500 [00:00<?, ?it/s]               "
     ]
    },
    {
     "name": "stdout",
     "output_type": "stream",
     "text": [
      "\n",
      "L2 Regularization weight: 1e-05\n"
     ]
    },
    {
     "name": "stderr",
     "output_type": "stream",
     "text": [
      "Loss: 0.07581: ██████████| 500/500 [00:10<00:00, 46.09it/s] \n"
     ]
    },
    {
     "name": "stdout",
     "output_type": "stream",
     "text": [
      "Loss: 0.07367\n"
     ]
    },
    {
     "name": "stderr",
     "output_type": "stream",
     "text": [
      "Loss: 0.08115:           | 0/500 [00:00<?, ?it/s]               "
     ]
    },
    {
     "name": "stdout",
     "output_type": "stream",
     "text": [
      "\n",
      "L2 Regularization weight: 1e-05\n"
     ]
    },
    {
     "name": "stderr",
     "output_type": "stream",
     "text": [
      "Loss: 0.07607: ██████████| 500/500 [00:09<00:00, 50.36it/s] \n"
     ]
    },
    {
     "name": "stdout",
     "output_type": "stream",
     "text": [
      "Loss: 0.07467\n"
     ]
    },
    {
     "name": "stderr",
     "output_type": "stream",
     "text": [
      "Loss: 0.08362:           | 0/500 [00:00<?, ?it/s]               "
     ]
    },
    {
     "name": "stdout",
     "output_type": "stream",
     "text": [
      "\n",
      "L2 Regularization weight: 1e-05\n"
     ]
    },
    {
     "name": "stderr",
     "output_type": "stream",
     "text": [
      "Loss: 0.04282: ██████████| 500/500 [02:22<00:00,  3.51it/s]\n"
     ]
    },
    {
     "name": "stdout",
     "output_type": "stream",
     "text": [
      "Loss: 0.03944\n"
     ]
    },
    {
     "name": "stderr",
     "output_type": "stream",
     "text": [
      "Loss: 0.08132:           | 0/500 [00:00<?, ?it/s]               "
     ]
    },
    {
     "name": "stdout",
     "output_type": "stream",
     "text": [
      "\n",
      "L2 Regularization weight: 1e-05\n"
     ]
    },
    {
     "name": "stderr",
     "output_type": "stream",
     "text": [
      "Loss: 0.05549: ██████████| 500/500 [03:34<00:00,  2.33it/s]\n"
     ]
    },
    {
     "name": "stdout",
     "output_type": "stream",
     "text": [
      "Loss: 0.04885\n"
     ]
    },
    {
     "name": "stderr",
     "output_type": "stream",
     "text": [
      "Loss: 0.08060:           | 0/500 [00:00<?, ?it/s]               "
     ]
    },
    {
     "name": "stdout",
     "output_type": "stream",
     "text": [
      "\n",
      "L2 Regularization weight: 1e-05\n"
     ]
    },
    {
     "name": "stderr",
     "output_type": "stream",
     "text": [
      "Loss: 0.06038: ██████████| 500/500 [01:31<00:00,  5.44it/s] \n"
     ]
    },
    {
     "name": "stdout",
     "output_type": "stream",
     "text": [
      "Loss: 0.05348\n"
     ]
    },
    {
     "name": "stderr",
     "output_type": "stream",
     "text": [
      "Loss: 0.08073:           | 0/500 [00:00<?, ?it/s]               "
     ]
    },
    {
     "name": "stdout",
     "output_type": "stream",
     "text": [
      "\n",
      "L2 Regularization weight: 1e-05\n"
     ]
    },
    {
     "name": "stderr",
     "output_type": "stream",
     "text": [
      "Loss: 0.06510: ██████████| 500/500 [01:13<00:00,  6.82it/s] \n"
     ]
    },
    {
     "name": "stdout",
     "output_type": "stream",
     "text": [
      "Loss: 0.05828\n"
     ]
    },
    {
     "name": "stderr",
     "output_type": "stream",
     "text": [
      "Loss: 0.08059:           | 0/500 [00:00<?, ?it/s]               "
     ]
    },
    {
     "name": "stdout",
     "output_type": "stream",
     "text": [
      "\n",
      "L2 Regularization weight: 1e-05\n"
     ]
    },
    {
     "name": "stderr",
     "output_type": "stream",
     "text": [
      "Loss: 0.06702: ██████████| 500/500 [01:07<00:00,  7.38it/s] \n"
     ]
    },
    {
     "name": "stdout",
     "output_type": "stream",
     "text": [
      "Loss: 0.06169\n",
      "defaultdict(<class 'list'>, {'sg-gp-0_run1': [0.05286014452576637, 0.0657404363155365, 0.071371890604496, 0.07367001473903656, 0.07467339187860489], 'sg-gp-1e-3_run1': [0.039443571120500565, 0.04885482415556908, 0.05348292365670204, 0.058281052857637405, 0.06169196218252182]})\n"
     ]
    }
   ],
   "source": [
    "%run scan_predict_alpha.py --baselines sg-gp-0_run1 --ours sg-gp-1e-3_run1"
   ]
  },
  {
   "cell_type": "code",
   "execution_count": 2,
   "metadata": {},
   "outputs": [
    {
     "name": "stderr",
     "output_type": "stream",
     "text": [
      "Loss: 0.08397:           | 0/500 [00:00<?, ?it/s]               "
     ]
    },
    {
     "name": "stdout",
     "output_type": "stream",
     "text": [
      "\n",
      "L2 Regularization weight: 1e-05\n"
     ]
    },
    {
     "name": "stderr",
     "output_type": "stream",
     "text": [
      "Loss: 0.05620: ██████████| 500/500 [00:48<00:00, 10.26it/s] \n"
     ]
    },
    {
     "name": "stdout",
     "output_type": "stream",
     "text": [
      "Loss: 0.05270\n"
     ]
    },
    {
     "name": "stderr",
     "output_type": "stream",
     "text": [
      "Loss: 0.08189:           | 0/500 [00:00<?, ?it/s]               "
     ]
    },
    {
     "name": "stdout",
     "output_type": "stream",
     "text": [
      "\n",
      "L2 Regularization weight: 1e-05\n"
     ]
    },
    {
     "name": "stderr",
     "output_type": "stream",
     "text": [
      "Loss: 0.06898: ██████████| 500/500 [00:14<00:00, 35.02it/s] \n"
     ]
    },
    {
     "name": "stdout",
     "output_type": "stream",
     "text": [
      "Loss: 0.06603\n"
     ]
    },
    {
     "name": "stderr",
     "output_type": "stream",
     "text": [
      "Loss: 0.08087:           | 1/500 [00:00<00:53,  9.38it/s]       "
     ]
    },
    {
     "name": "stdout",
     "output_type": "stream",
     "text": [
      "\n",
      "L2 Regularization weight: 1e-05\n"
     ]
    },
    {
     "name": "stderr",
     "output_type": "stream",
     "text": [
      "Loss: 0.07419: ██████████| 500/500 [00:10<00:00, 49.04it/s] \n"
     ]
    },
    {
     "name": "stdout",
     "output_type": "stream",
     "text": [
      "Loss: 0.07146\n"
     ]
    },
    {
     "name": "stderr",
     "output_type": "stream",
     "text": [
      "Loss: 0.08107:           | 0/500 [00:00<?, ?it/s]               "
     ]
    },
    {
     "name": "stdout",
     "output_type": "stream",
     "text": [
      "\n",
      "L2 Regularization weight: 1e-05\n"
     ]
    },
    {
     "name": "stderr",
     "output_type": "stream",
     "text": [
      "Loss: 0.07576: ██████████| 500/500 [00:08<00:00, 58.96it/s] \n"
     ]
    },
    {
     "name": "stdout",
     "output_type": "stream",
     "text": [
      "Loss: 0.07365\n"
     ]
    },
    {
     "name": "stderr",
     "output_type": "stream",
     "text": [
      "Loss: 0.08122:           | 0/500 [00:00<?, ?it/s]               "
     ]
    },
    {
     "name": "stdout",
     "output_type": "stream",
     "text": [
      "\n",
      "L2 Regularization weight: 1e-05\n"
     ]
    },
    {
     "name": "stderr",
     "output_type": "stream",
     "text": [
      "Loss: 0.07611: ██████████| 500/500 [00:08<00:00, 62.06it/s] \n"
     ]
    },
    {
     "name": "stdout",
     "output_type": "stream",
     "text": [
      "Loss: 0.07479\n"
     ]
    },
    {
     "name": "stderr",
     "output_type": "stream",
     "text": [
      "Loss: 0.08037:           | 1/500 [00:00<00:55,  8.92it/s]       "
     ]
    },
    {
     "name": "stdout",
     "output_type": "stream",
     "text": [
      "\n",
      "L2 Regularization weight: 1e-05\n"
     ]
    },
    {
     "name": "stderr",
     "output_type": "stream",
     "text": [
      "Loss: 0.04656: ██████████| 500/500 [01:28<00:00,  5.66it/s]\n"
     ]
    },
    {
     "name": "stdout",
     "output_type": "stream",
     "text": [
      "Loss: 0.03921\n"
     ]
    },
    {
     "name": "stderr",
     "output_type": "stream",
     "text": [
      "Loss: 0.08070:           | 0/500 [00:00<?, ?it/s]               "
     ]
    },
    {
     "name": "stdout",
     "output_type": "stream",
     "text": [
      "\n",
      "L2 Regularization weight: 1e-05\n"
     ]
    },
    {
     "name": "stderr",
     "output_type": "stream",
     "text": [
      "Loss: 0.06273: ██████████| 500/500 [01:14<00:00,  6.74it/s]\n"
     ]
    },
    {
     "name": "stdout",
     "output_type": "stream",
     "text": [
      "Loss: 0.05509\n"
     ]
    },
    {
     "name": "stderr",
     "output_type": "stream",
     "text": [
      "Loss: 0.08101:           | 0/500 [00:00<?, ?it/s]               "
     ]
    },
    {
     "name": "stdout",
     "output_type": "stream",
     "text": [
      "\n",
      "L2 Regularization weight: 1e-05\n"
     ]
    },
    {
     "name": "stderr",
     "output_type": "stream",
     "text": [
      "Loss: 0.06974: ██████████| 500/500 [01:16<00:00,  6.53it/s]\n"
     ]
    },
    {
     "name": "stdout",
     "output_type": "stream",
     "text": [
      "Loss: 0.06431\n"
     ]
    },
    {
     "name": "stderr",
     "output_type": "stream",
     "text": [
      "Loss: 0.08174:           | 0/500 [00:00<?, ?it/s]               "
     ]
    },
    {
     "name": "stdout",
     "output_type": "stream",
     "text": [
      "\n",
      "L2 Regularization weight: 1e-05\n"
     ]
    },
    {
     "name": "stderr",
     "output_type": "stream",
     "text": [
      "Loss: 0.08098: ██████████| 500/500 [00:46<00:00, 10.78it/s]\n"
     ]
    },
    {
     "name": "stdout",
     "output_type": "stream",
     "text": [
      "Loss: 0.08072\n"
     ]
    },
    {
     "name": "stderr",
     "output_type": "stream",
     "text": [
      "Loss: 0.08160:           | 0/500 [00:00<?, ?it/s]               "
     ]
    },
    {
     "name": "stdout",
     "output_type": "stream",
     "text": [
      "\n",
      "L2 Regularization weight: 1e-05\n"
     ]
    },
    {
     "name": "stderr",
     "output_type": "stream",
     "text": [
      "Loss: 0.08104: ██████████| 500/500 [00:41<00:00, 12.09it/s]"
     ]
    },
    {
     "name": "stdout",
     "output_type": "stream",
     "text": [
      "Loss: 0.08100\n",
      "defaultdict(<class 'list'>, {'sg-gp-0_run1': [0.052703242748975754, 0.06603095680475235, 0.07145961374044418, 0.07364872097969055, 0.07479032874107361], 'sg-gp-1e-2_run1': [0.03920524939894676, 0.055094193667173386, 0.06430660933256149, 0.08071509748697281, 0.08100439608097076]})\n"
     ]
    },
    {
     "name": "stderr",
     "output_type": "stream",
     "text": [
      "\n"
     ]
    }
   ],
   "source": [
    "%run scan_predict_alpha.py --baselines sg-gp-0_run1 --ours sg-gp-1e-2_run1"
   ]
  },
  {
   "cell_type": "code",
   "execution_count": 3,
   "metadata": {},
   "outputs": [
    {
     "name": "stderr",
     "output_type": "stream",
     "text": [
      "Loss: 0.08416:           | 0/500 [00:00<?, ?it/s]               "
     ]
    },
    {
     "name": "stdout",
     "output_type": "stream",
     "text": [
      "\n",
      "L2 Regularization weight: 1e-05\n"
     ]
    },
    {
     "name": "stderr",
     "output_type": "stream",
     "text": [
      "Loss: 0.05640: ██████████| 500/500 [01:03<00:00,  7.93it/s] \n"
     ]
    },
    {
     "name": "stdout",
     "output_type": "stream",
     "text": [
      "Loss: 0.05331\n"
     ]
    },
    {
     "name": "stderr",
     "output_type": "stream",
     "text": [
      "Loss: 0.08172:           | 0/500 [00:00<?, ?it/s]               "
     ]
    },
    {
     "name": "stdout",
     "output_type": "stream",
     "text": [
      "\n",
      "L2 Regularization weight: 1e-05\n"
     ]
    },
    {
     "name": "stderr",
     "output_type": "stream",
     "text": [
      "Loss: 0.06897: ██████████| 500/500 [00:17<00:00, 28.35it/s] \n"
     ]
    },
    {
     "name": "stdout",
     "output_type": "stream",
     "text": [
      "Loss: 0.06673\n"
     ]
    },
    {
     "name": "stderr",
     "output_type": "stream",
     "text": [
      "Loss: 0.08081:           | 0/500 [00:00<?, ?it/s]               "
     ]
    },
    {
     "name": "stdout",
     "output_type": "stream",
     "text": [
      "\n",
      "L2 Regularization weight: 1e-05\n"
     ]
    },
    {
     "name": "stderr",
     "output_type": "stream",
     "text": [
      "Loss: 0.07372: ██████████| 500/500 [00:12<00:00, 39.86it/s] \n"
     ]
    },
    {
     "name": "stdout",
     "output_type": "stream",
     "text": [
      "Loss: 0.07241\n"
     ]
    },
    {
     "name": "stderr",
     "output_type": "stream",
     "text": [
      "Loss: 0.08079:           | 0/500 [00:00<?, ?it/s]               "
     ]
    },
    {
     "name": "stdout",
     "output_type": "stream",
     "text": [
      "\n",
      "L2 Regularization weight: 1e-05\n"
     ]
    },
    {
     "name": "stderr",
     "output_type": "stream",
     "text": [
      "Loss: 0.07572: ██████████| 500/500 [00:09<00:00, 51.07it/s] \n"
     ]
    },
    {
     "name": "stdout",
     "output_type": "stream",
     "text": [
      "Loss: 0.07391\n"
     ]
    },
    {
     "name": "stderr",
     "output_type": "stream",
     "text": [
      "Loss: 0.08098:           | 0/500 [00:00<?, ?it/s]               "
     ]
    },
    {
     "name": "stdout",
     "output_type": "stream",
     "text": [
      "\n",
      "L2 Regularization weight: 1e-05\n"
     ]
    },
    {
     "name": "stderr",
     "output_type": "stream",
     "text": [
      "Loss: 0.07598: ██████████| 500/500 [00:09<00:00, 55.07it/s] \n"
     ]
    },
    {
     "name": "stdout",
     "output_type": "stream",
     "text": [
      "Loss: 0.07455\n"
     ]
    },
    {
     "name": "stderr",
     "output_type": "stream",
     "text": [
      "Loss: 0.08091:           | 0/500 [00:00<?, ?it/s]               "
     ]
    },
    {
     "name": "stdout",
     "output_type": "stream",
     "text": [
      "\n",
      "L2 Regularization weight: 1e-05\n"
     ]
    },
    {
     "name": "stderr",
     "output_type": "stream",
     "text": [
      "Loss: 0.08090: ██████████| 500/500 [00:06<00:00, 75.24it/s]\n"
     ]
    },
    {
     "name": "stdout",
     "output_type": "stream",
     "text": [
      "Loss: 0.08091\n"
     ]
    },
    {
     "name": "stderr",
     "output_type": "stream",
     "text": [
      "Loss: 0.08066: ▍         | 21/500 [00:00<00:02, 203.85it/s]     "
     ]
    },
    {
     "name": "stdout",
     "output_type": "stream",
     "text": [
      "\n",
      "L2 Regularization weight: 1e-05\n"
     ]
    },
    {
     "name": "stderr",
     "output_type": "stream",
     "text": [
      "Loss: 0.08066: ██████████| 500/500 [00:02<00:00, 218.20it/s]\n"
     ]
    },
    {
     "name": "stdout",
     "output_type": "stream",
     "text": [
      "Loss: 0.08067\n"
     ]
    },
    {
     "name": "stderr",
     "output_type": "stream",
     "text": [
      "Loss: 0.08070:           | 0/500 [00:00<?, ?it/s]               "
     ]
    },
    {
     "name": "stdout",
     "output_type": "stream",
     "text": [
      "\n",
      "L2 Regularization weight: 1e-05\n"
     ]
    },
    {
     "name": "stderr",
     "output_type": "stream",
     "text": [
      "Loss: 0.08070: ██████████| 500/500 [00:02<00:00, 213.63it/s]\n"
     ]
    },
    {
     "name": "stdout",
     "output_type": "stream",
     "text": [
      "Loss: 0.07948\n"
     ]
    },
    {
     "name": "stderr",
     "output_type": "stream",
     "text": [
      "Loss: 0.08044: ▍         | 22/500 [00:00<00:02, 217.37it/s]     "
     ]
    },
    {
     "name": "stdout",
     "output_type": "stream",
     "text": [
      "\n",
      "L2 Regularization weight: 1e-05\n"
     ]
    },
    {
     "name": "stderr",
     "output_type": "stream",
     "text": [
      "Loss: 0.08044: ██████████| 500/500 [00:02<00:00, 221.74it/s]\n"
     ]
    },
    {
     "name": "stdout",
     "output_type": "stream",
     "text": [
      "Loss: 0.08065\n"
     ]
    },
    {
     "name": "stderr",
     "output_type": "stream",
     "text": [
      "Loss: 0.08054:           | 0/500 [00:00<?, ?it/s]               "
     ]
    },
    {
     "name": "stdout",
     "output_type": "stream",
     "text": [
      "\n",
      "L2 Regularization weight: 1e-05\n"
     ]
    },
    {
     "name": "stderr",
     "output_type": "stream",
     "text": [
      "Loss: 0.08054: ██████████| 500/500 [00:02<00:00, 214.16it/s]\n"
     ]
    },
    {
     "name": "stdout",
     "output_type": "stream",
     "text": [
      "Loss: 0.08060\n",
      "defaultdict(<class 'list'>, {'sg-gp-0_run1': [0.053312044590711594, 0.06673485785722733, 0.07241010665893555, 0.07390906661748886, 0.07455412298440933], 'sg-gp-1e-1_run1': [0.08091270923614502, 0.08066924661397934, 0.07948260754346848, 0.08065178990364075, 0.08060140162706375]})\n"
     ]
    }
   ],
   "source": [
    "%run scan_predict_alpha.py --baselines sg-gp-0_run1 --ours sg-gp-1e-1_run1"
   ]
  },
  {
   "cell_type": "code",
   "execution_count": 5,
   "metadata": {},
   "outputs": [],
   "source": [
    "alphaloss_base = [0.0537814162671566, 0.06596098840236664, 0.071799136698246, 0.07362642139196396, 0.07429084926843643]\n",
    "alphaloss_inv_e4 = [0.05075678601861, 0.05482454597949982, 0.05539015308022499, 0.060291219502687454, 0.060762759298086166 ]\n",
    "alphaloss_inv_e3 = [0.039443571120500565, 0.04885482415556908, 0.05348292365670204, 0.058281052857637405, 0.06169196218252182]\n",
    "alphaloss_inv_e2 = [0.03920524939894676, 0.055094193667173386, 0.06430660933256149, 0.08071509748697281, 0.08100439608097076]\n",
    "alphaloss_inv_e1 = [0.08091270923614502, 0.08066924661397934, 0.07948260754346848, 0.08065178990364075, 0.08060140162706375]\n",
    "epoch = [i*10 for i in range(1,6)]"
   ]
  },
  {
   "cell_type": "code",
   "execution_count": 6,
   "metadata": {},
   "outputs": [
    {
     "data": {
      "image/png": "[encoded data removed]",
      "text/plain": [
       "<Figure size 432x288 with 1 Axes>"
      ]
     },
     "metadata": {
      "needs_background": "light"
     },
     "output_type": "display_data"
    }
   ],
   "source": [
    "plt.plot(epoch, alphaloss_base, label = 'No gradient penalisation', marker = 'o')\n",
    "plt.plot(epoch, alphaloss_inv_e4, label = 'Gradient penalisation 1e-4', marker = 'x')\n",
    "plt.plot(epoch, alphaloss_inv_e3, label = 'Gradient penalisation 1e-3', marker = 'x')\n",
    "plt.plot(epoch, alphaloss_inv_e2, label = 'Gradient penalisation 1e-2', marker = 'x')\n",
    "plt.plot(epoch, alphaloss_inv_e1, label = 'Gradient penalisation 1e-1', marker = 'x')\n",
    "plt.legend()\n",
    "plt.ylabel('Loss for alpha prediction')\n",
    "plt.show()"
   ]
  },
  {
   "cell_type": "markdown",
   "metadata": {},
   "source": [
    "# eval reg"
   ]
  },
  {
   "cell_type": "code",
   "execution_count": 19,
   "metadata": {},
   "outputs": [
    {
     "name": "stderr",
     "output_type": "stream",
     "text": [
      "Encoded 99/100: ██████████| 100/100 [00:15<00:00,  6.62it/s]\n",
      "Encoded 19/20: ██████████| 20/20 [00:02<00:00,  6.71it/s]\n",
      "Loss: 0.01554:           | 0/500 [00:00<?, ?it/s]               "
     ]
    },
    {
     "name": "stdout",
     "output_type": "stream",
     "text": [
      "\n",
      "L2 Regularization weight: 1e-08\n"
     ]
    },
    {
     "name": "stderr",
     "output_type": "stream",
     "text": [
      "Loss: 0.00344: ██████████| 500/500 [00:57<00:00,  8.77it/s] \n"
     ]
    },
    {
     "name": "stdout",
     "output_type": "stream",
     "text": [
      "Loss: 0.00345\n"
     ]
    },
    {
     "name": "stderr",
     "output_type": "stream",
     "text": [
      "Encoded 99/100: ██████████| 100/100 [00:15<00:00,  6.60it/s]\n",
      "Encoded 19/20: ██████████| 20/20 [00:02<00:00,  6.72it/s]\n",
      "Loss: 0.01120:           | 0/500 [00:00<?, ?it/s]               "
     ]
    },
    {
     "name": "stdout",
     "output_type": "stream",
     "text": [
      "\n",
      "L2 Regularization weight: 1e-08\n"
     ]
    },
    {
     "name": "stderr",
     "output_type": "stream",
     "text": [
      "Loss: 0.00331: ██████████| 500/500 [00:28<00:00, 17.77it/s] \n"
     ]
    },
    {
     "name": "stdout",
     "output_type": "stream",
     "text": [
      "Loss: 0.00344\n"
     ]
    },
    {
     "name": "stderr",
     "output_type": "stream",
     "text": [
      "Encoded 99/100: ██████████| 100/100 [00:15<00:00,  6.57it/s]\n",
      "Encoded 19/20: ██████████| 20/20 [00:02<00:00,  6.70it/s]\n",
      "Loss: 0.01079:           | 0/500 [00:00<?, ?it/s]               "
     ]
    },
    {
     "name": "stdout",
     "output_type": "stream",
     "text": [
      "\n",
      "L2 Regularization weight: 1e-08\n"
     ]
    },
    {
     "name": "stderr",
     "output_type": "stream",
     "text": [
      "Loss: 0.00299: ██████████| 500/500 [00:20<00:00, 24.03it/s] \n"
     ]
    },
    {
     "name": "stdout",
     "output_type": "stream",
     "text": [
      "Loss: 0.00294\n"
     ]
    },
    {
     "name": "stderr",
     "output_type": "stream",
     "text": [
      "Encoded 99/100: ██████████| 100/100 [00:15<00:00,  6.56it/s]\n",
      "Encoded 19/20: ██████████| 20/20 [00:02<00:00,  6.68it/s]\n",
      "Loss: 0.00911:           | 0/500 [00:00<?, ?it/s]               "
     ]
    },
    {
     "name": "stdout",
     "output_type": "stream",
     "text": [
      "\n",
      "L2 Regularization weight: 1e-08\n"
     ]
    },
    {
     "name": "stderr",
     "output_type": "stream",
     "text": [
      "Loss: 0.00297: ██████████| 500/500 [00:20<00:00, 24.09it/s] \n"
     ]
    },
    {
     "name": "stdout",
     "output_type": "stream",
     "text": [
      "Loss: 0.00295\n"
     ]
    },
    {
     "name": "stderr",
     "output_type": "stream",
     "text": [
      "Encoded 99/100: ██████████| 100/100 [00:15<00:00,  6.53it/s]\n",
      "Encoded 19/20: ██████████| 20/20 [00:03<00:00,  6.63it/s]\n",
      "Loss: 0.00896:           | 0/500 [00:00<?, ?it/s]               "
     ]
    },
    {
     "name": "stdout",
     "output_type": "stream",
     "text": [
      "\n",
      "L2 Regularization weight: 1e-08\n"
     ]
    },
    {
     "name": "stderr",
     "output_type": "stream",
     "text": [
      "Loss: 0.00292: ██████████| 500/500 [00:24<00:00, 20.61it/s] \n"
     ]
    },
    {
     "name": "stdout",
     "output_type": "stream",
     "text": [
      "Loss: 0.00286\n"
     ]
    },
    {
     "name": "stderr",
     "output_type": "stream",
     "text": [
      "Encoded 99/100: ██████████| 100/100 [00:15<00:00,  6.52it/s]\n",
      "Encoded 19/20: ██████████| 20/20 [00:03<00:00,  6.65it/s]\n",
      "Loss: 0.01580:           | 0/500 [00:00<?, ?it/s]               "
     ]
    },
    {
     "name": "stdout",
     "output_type": "stream",
     "text": [
      "\n",
      "L2 Regularization weight: 1e-08\n"
     ]
    },
    {
     "name": "stderr",
     "output_type": "stream",
     "text": [
      "Loss: 0.00327: ██████████| 500/500 [01:09<00:00,  7.18it/s] \n"
     ]
    },
    {
     "name": "stdout",
     "output_type": "stream",
     "text": [
      "Loss: 0.00331\n"
     ]
    },
    {
     "name": "stderr",
     "output_type": "stream",
     "text": [
      "Encoded 99/100: ██████████| 100/100 [00:15<00:00,  6.54it/s]\n",
      "Encoded 19/20: ██████████| 20/20 [00:03<00:00,  6.64it/s]\n",
      "Loss: 0.01184:           | 0/500 [00:00<?, ?it/s]               "
     ]
    },
    {
     "name": "stdout",
     "output_type": "stream",
     "text": [
      "\n",
      "L2 Regularization weight: 1e-08\n"
     ]
    },
    {
     "name": "stderr",
     "output_type": "stream",
     "text": [
      "Loss: 0.00271: ██████████| 500/500 [00:58<00:00,  8.61it/s] \n"
     ]
    },
    {
     "name": "stdout",
     "output_type": "stream",
     "text": [
      "Loss: 0.00271\n"
     ]
    },
    {
     "name": "stderr",
     "output_type": "stream",
     "text": [
      "Encoded 99/100: ██████████| 100/100 [00:15<00:00,  6.54it/s]\n",
      "Encoded 19/20: ██████████| 20/20 [00:03<00:00,  6.66it/s]\n",
      "Loss: 0.00986:           | 0/500 [00:00<?, ?it/s]               "
     ]
    },
    {
     "name": "stdout",
     "output_type": "stream",
     "text": [
      "\n",
      "L2 Regularization weight: 1e-08\n"
     ]
    },
    {
     "name": "stderr",
     "output_type": "stream",
     "text": [
      "Loss: 0.00228: ██████████| 500/500 [00:51<00:00,  9.69it/s] \n"
     ]
    },
    {
     "name": "stdout",
     "output_type": "stream",
     "text": [
      "Loss: 0.00229\n"
     ]
    },
    {
     "name": "stderr",
     "output_type": "stream",
     "text": [
      "Encoded 99/100: ██████████| 100/100 [00:15<00:00,  6.53it/s]\n",
      "Encoded 19/20: ██████████| 20/20 [00:03<00:00,  6.65it/s]\n",
      "Loss: 0.00956:           | 0/500 [00:00<?, ?it/s]               "
     ]
    },
    {
     "name": "stdout",
     "output_type": "stream",
     "text": [
      "\n",
      "L2 Regularization weight: 1e-08\n"
     ]
    },
    {
     "name": "stderr",
     "output_type": "stream",
     "text": [
      "Loss: 0.00210: ██████████| 500/500 [01:01<00:00,  8.17it/s] \n"
     ]
    },
    {
     "name": "stdout",
     "output_type": "stream",
     "text": [
      "Loss: 0.00211\n"
     ]
    },
    {
     "name": "stderr",
     "output_type": "stream",
     "text": [
      "Encoded 99/100: ██████████| 100/100 [00:15<00:00,  6.53it/s]\n",
      "Encoded 19/20: ██████████| 20/20 [00:03<00:00,  6.64it/s]\n",
      "Loss: 0.00939:           | 0/500 [00:00<?, ?it/s]               "
     ]
    },
    {
     "name": "stdout",
     "output_type": "stream",
     "text": [
      "\n",
      "L2 Regularization weight: 1e-08\n"
     ]
    },
    {
     "name": "stderr",
     "output_type": "stream",
     "text": [
      "Loss: 0.00202: ██████████| 500/500 [00:54<00:00,  9.12it/s] \n"
     ]
    },
    {
     "name": "stdout",
     "output_type": "stream",
     "text": [
      "Loss: 0.00203\n"
     ]
    },
    {
     "name": "stderr",
     "output_type": "stream",
     "text": [
      "Encoded 99/100: ██████████| 100/100 [00:15<00:00,  6.52it/s]\n",
      "Encoded 19/20: ██████████| 20/20 [00:03<00:00,  6.53it/s]\n",
      "Loss: 0.01384:           | 0/500 [00:00<?, ?it/s]               "
     ]
    },
    {
     "name": "stdout",
     "output_type": "stream",
     "text": [
      "\n",
      "L2 Regularization weight: 1e-08\n"
     ]
    },
    {
     "name": "stderr",
     "output_type": "stream",
     "text": [
      "Loss: 0.00294: ██████████| 500/500 [02:39<00:00,  3.14it/s]\n"
     ]
    },
    {
     "name": "stdout",
     "output_type": "stream",
     "text": [
      "Loss: 0.00302\n"
     ]
    },
    {
     "name": "stderr",
     "output_type": "stream",
     "text": [
      "Encoded 99/100: ██████████| 100/100 [00:15<00:00,  6.52it/s]\n",
      "Encoded 19/20: ██████████| 20/20 [00:03<00:00,  6.64it/s]\n",
      "Loss: 0.01323:           | 0/500 [00:00<?, ?it/s]               "
     ]
    },
    {
     "name": "stdout",
     "output_type": "stream",
     "text": [
      "\n",
      "L2 Regularization weight: 1e-08\n"
     ]
    },
    {
     "name": "stderr",
     "output_type": "stream",
     "text": [
      "Loss: 0.00218: ██████████| 500/500 [03:55<00:00,  2.12it/s]\n"
     ]
    },
    {
     "name": "stdout",
     "output_type": "stream",
     "text": [
      "Loss: 0.00215\n"
     ]
    },
    {
     "name": "stderr",
     "output_type": "stream",
     "text": [
      "Encoded 99/100: ██████████| 100/100 [00:15<00:00,  6.52it/s]\n",
      "Encoded 19/20: ██████████| 20/20 [00:03<00:00,  6.63it/s]\n",
      "Loss: 0.01568:           | 0/500 [00:00<?, ?it/s]               "
     ]
    },
    {
     "name": "stdout",
     "output_type": "stream",
     "text": [
      "\n",
      "L2 Regularization weight: 1e-08\n"
     ]
    },
    {
     "name": "stderr",
     "output_type": "stream",
     "text": [
      "Loss: 0.00206: ██████████| 500/500 [04:04<00:00,  2.04it/s]\n"
     ]
    },
    {
     "name": "stdout",
     "output_type": "stream",
     "text": [
      "Loss: 0.00206\n"
     ]
    },
    {
     "name": "stderr",
     "output_type": "stream",
     "text": [
      "Encoded 99/100: ██████████| 100/100 [00:15<00:00,  6.52it/s]\n",
      "Encoded 19/20: ██████████| 20/20 [00:03<00:00,  6.65it/s]\n",
      "Loss: 0.01563:           | 0/500 [00:00<?, ?it/s]               "
     ]
    },
    {
     "name": "stdout",
     "output_type": "stream",
     "text": [
      "\n",
      "L2 Regularization weight: 1e-08\n"
     ]
    },
    {
     "name": "stderr",
     "output_type": "stream",
     "text": [
      "Loss: 0.00193: ██████████| 500/500 [03:30<00:00,  2.38it/s]\n"
     ]
    },
    {
     "name": "stdout",
     "output_type": "stream",
     "text": [
      "Loss: 0.00195\n"
     ]
    },
    {
     "name": "stderr",
     "output_type": "stream",
     "text": [
      "Encoded 99/100: ██████████| 100/100 [00:15<00:00,  6.52it/s]\n",
      "Encoded 19/20: ██████████| 20/20 [00:03<00:00,  6.64it/s]\n",
      "Loss: 0.01467:           | 0/500 [00:00<?, ?it/s]               "
     ]
    },
    {
     "name": "stdout",
     "output_type": "stream",
     "text": [
      "\n",
      "L2 Regularization weight: 1e-08\n"
     ]
    },
    {
     "name": "stderr",
     "output_type": "stream",
     "text": [
      "Loss: 0.00182: ██████████| 500/500 [04:31<00:00,  1.84it/s]"
     ]
    },
    {
     "name": "stdout",
     "output_type": "stream",
     "text": [
      "Loss: 0.00188\n",
      "defaultdict(<class 'list'>, {'sg-gp-0_run1': [0.003449850482866168, 0.003438792424276471, 0.0029449257999658585, 0.00295072584412992, 0.0028618110809475183], 'sg-gp-1e-4_run1': [0.0033060708083212376, 0.002705538412556052, 0.002288373652845621, 0.002112030517309904, 0.002027309499680996], 'sg-gp-1e-3_run1': [0.0030167773365974426, 0.002149197505787015, 0.0020584536250680685, 0.0019467695383355021, 0.0018817380769178271]})\n"
     ]
    },
    {
     "name": "stderr",
     "output_type": "stream",
     "text": [
      "\n"
     ]
    }
   ],
   "source": [
    "%run scan_eval_reg.py --baselines sg-gp-0_run1 --ours sg-gp-1e-4_run1,sg-gp-1e-3_run1 "
   ]
  },
  {
   "cell_type": "code",
   "execution_count": 3,
   "metadata": {},
   "outputs": [
    {
     "name": "stderr",
     "output_type": "stream",
     "text": [
      "Encoded 99/100: ██████████| 100/100 [00:15<00:00,  6.50it/s]\n",
      "Encoded 19/20: ██████████| 20/20 [00:03<00:00,  6.59it/s]\n",
      "Loss: 0.01531:           | 0/500 [00:00<?, ?it/s]               "
     ]
    },
    {
     "name": "stdout",
     "output_type": "stream",
     "text": [
      "\n",
      "L2 Regularization weight: 1e-08\n"
     ]
    },
    {
     "name": "stderr",
     "output_type": "stream",
     "text": [
      "Loss: 0.00346: ██████████| 500/500 [00:46<00:00, 10.71it/s] \n"
     ]
    },
    {
     "name": "stdout",
     "output_type": "stream",
     "text": [
      "Loss: 0.00344\n"
     ]
    },
    {
     "name": "stderr",
     "output_type": "stream",
     "text": [
      "Encoded 99/100: ██████████| 100/100 [00:15<00:00,  6.50it/s]\n",
      "Encoded 19/20: ██████████| 20/20 [00:03<00:00,  6.63it/s]\n",
      "Loss: 0.01010:           | 0/500 [00:00<?, ?it/s]               "
     ]
    },
    {
     "name": "stdout",
     "output_type": "stream",
     "text": [
      "\n",
      "L2 Regularization weight: 1e-08\n"
     ]
    },
    {
     "name": "stderr",
     "output_type": "stream",
     "text": [
      "Loss: 0.00330: ██████████| 500/500 [00:21<00:00, 22.75it/s] \n"
     ]
    },
    {
     "name": "stdout",
     "output_type": "stream",
     "text": [
      "Loss: 0.00337\n"
     ]
    },
    {
     "name": "stderr",
     "output_type": "stream",
     "text": [
      "Encoded 99/100: ██████████| 100/100 [00:15<00:00,  6.52it/s]\n",
      "Encoded 19/20: ██████████| 20/20 [00:03<00:00,  6.53it/s]\n",
      "Loss: 0.00728:           | 1/500 [00:00<00:54,  9.24it/s]       "
     ]
    },
    {
     "name": "stdout",
     "output_type": "stream",
     "text": [
      "\n",
      "L2 Regularization weight: 1e-08\n"
     ]
    },
    {
     "name": "stderr",
     "output_type": "stream",
     "text": [
      "Loss: 0.00298: ██████████| 500/500 [00:16<00:00, 30.17it/s] \n"
     ]
    },
    {
     "name": "stdout",
     "output_type": "stream",
     "text": [
      "Loss: 0.00300\n"
     ]
    },
    {
     "name": "stderr",
     "output_type": "stream",
     "text": [
      "Encoded 99/100: ██████████| 100/100 [00:15<00:00,  6.50it/s]\n",
      "Encoded 19/20: ██████████| 20/20 [00:03<00:00,  6.64it/s]\n",
      "Loss: 0.00830:           | 0/500 [00:00<?, ?it/s]               "
     ]
    },
    {
     "name": "stdout",
     "output_type": "stream",
     "text": [
      "\n",
      "L2 Regularization weight: 1e-08\n"
     ]
    },
    {
     "name": "stderr",
     "output_type": "stream",
     "text": [
      "Loss: 0.00298: ██████████| 500/500 [00:15<00:00, 31.50it/s] \n"
     ]
    },
    {
     "name": "stdout",
     "output_type": "stream",
     "text": [
      "Loss: 0.00296\n"
     ]
    },
    {
     "name": "stderr",
     "output_type": "stream",
     "text": [
      "Encoded 99/100: ██████████| 100/100 [00:15<00:00,  6.51it/s]\n",
      "Encoded 19/20: ██████████| 20/20 [00:03<00:00,  6.58it/s]\n",
      "Loss: 0.00819:           | 0/500 [00:00<?, ?it/s]               "
     ]
    },
    {
     "name": "stdout",
     "output_type": "stream",
     "text": [
      "\n",
      "L2 Regularization weight: 1e-08\n"
     ]
    },
    {
     "name": "stderr",
     "output_type": "stream",
     "text": [
      "Loss: 0.00292: ██████████| 500/500 [00:17<00:00, 28.90it/s] \n"
     ]
    },
    {
     "name": "stdout",
     "output_type": "stream",
     "text": [
      "Loss: 0.00296\n"
     ]
    },
    {
     "name": "stderr",
     "output_type": "stream",
     "text": [
      "Encoded 99/100: ██████████| 100/100 [00:15<00:00,  6.49it/s]\n",
      "Encoded 19/20: ██████████| 20/20 [00:03<00:00,  6.59it/s]\n",
      "Loss: 0.02194:           | 0/500 [00:00<?, ?it/s]               "
     ]
    },
    {
     "name": "stdout",
     "output_type": "stream",
     "text": [
      "\n",
      "L2 Regularization weight: 1e-08\n"
     ]
    },
    {
     "name": "stderr",
     "output_type": "stream",
     "text": [
      "Loss: 0.00242: ██████████| 500/500 [03:30<00:00,  2.37it/s]\n"
     ]
    },
    {
     "name": "stdout",
     "output_type": "stream",
     "text": [
      "Loss: 0.00241\n"
     ]
    },
    {
     "name": "stderr",
     "output_type": "stream",
     "text": [
      "Encoded 99/100: ██████████| 100/100 [00:15<00:00,  6.56it/s]\n",
      "Encoded 19/20: ██████████| 20/20 [00:03<00:00,  6.62it/s]\n",
      "Loss: 0.01616:           | 0/500 [00:00<?, ?it/s]               "
     ]
    },
    {
     "name": "stdout",
     "output_type": "stream",
     "text": [
      "\n",
      "L2 Regularization weight: 1e-08\n"
     ]
    },
    {
     "name": "stderr",
     "output_type": "stream",
     "text": [
      "Loss: 0.00216: ██████████| 500/500 [03:28<00:00,  2.40it/s]\n"
     ]
    },
    {
     "name": "stdout",
     "output_type": "stream",
     "text": [
      "Loss: 0.00215\n"
     ]
    },
    {
     "name": "stderr",
     "output_type": "stream",
     "text": [
      "Encoded 99/100: ██████████| 100/100 [00:15<00:00,  6.55it/s]\n",
      "Encoded 19/20: ██████████| 20/20 [00:02<00:00,  6.70it/s]\n",
      "Loss: 0.01644:           | 0/500 [00:00<?, ?it/s]               "
     ]
    },
    {
     "name": "stdout",
     "output_type": "stream",
     "text": [
      "\n",
      "L2 Regularization weight: 1e-08\n"
     ]
    },
    {
     "name": "stderr",
     "output_type": "stream",
     "text": [
      "Loss: 0.00205: ██████████| 500/500 [03:27<00:00,  2.41it/s]\n"
     ]
    },
    {
     "name": "stdout",
     "output_type": "stream",
     "text": [
      "Loss: 0.00205\n"
     ]
    },
    {
     "name": "stderr",
     "output_type": "stream",
     "text": [
      "Encoded 99/100: ██████████| 100/100 [00:15<00:00,  6.56it/s]\n",
      "Encoded 19/20: ██████████| 20/20 [00:03<00:00,  6.55it/s]\n",
      "Loss: 0.01329:           | 1/500 [00:00<00:52,  9.59it/s]       "
     ]
    },
    {
     "name": "stdout",
     "output_type": "stream",
     "text": [
      "\n",
      "L2 Regularization weight: 1e-08\n"
     ]
    },
    {
     "name": "stderr",
     "output_type": "stream",
     "text": [
      "Loss: 0.00196: ██████████| 500/500 [03:29<00:00,  2.39it/s]\n"
     ]
    },
    {
     "name": "stdout",
     "output_type": "stream",
     "text": [
      "Loss: 0.00199\n"
     ]
    },
    {
     "name": "stderr",
     "output_type": "stream",
     "text": [
      "Encoded 99/100: ██████████| 100/100 [00:15<00:00,  6.55it/s]\n",
      "Encoded 19/20: ██████████| 20/20 [00:03<00:00,  6.64it/s]\n",
      "Loss: 0.01696:           | 0/500 [00:00<?, ?it/s]               "
     ]
    },
    {
     "name": "stdout",
     "output_type": "stream",
     "text": [
      "\n",
      "L2 Regularization weight: 1e-08\n"
     ]
    },
    {
     "name": "stderr",
     "output_type": "stream",
     "text": [
      "Loss: 0.00196: ██████████| 500/500 [03:30<00:00,  2.37it/s]"
     ]
    },
    {
     "name": "stdout",
     "output_type": "stream",
     "text": [
      "Loss: 0.00196\n",
      "defaultdict(<class 'list'>, {'sg-gp-0_run1': [0.003441255073994398, 0.0033689537085592747, 0.0029960344545543194, 0.0029632244259119034, 0.0029616886749863625], 'sg-gp-1e-2_run1': [0.0024145091883838177, 0.0021541863679885864, 0.0020465455017983913, 0.001991833792999387, 0.001963912509381771]})\n"
     ]
    },
    {
     "name": "stderr",
     "output_type": "stream",
     "text": [
      "\n"
     ]
    }
   ],
   "source": [
    "%run scan_eval_reg.py --baselines sg-gp-0_run1 --ours sg-gp-1e-2_run1 "
   ]
  },
  {
   "cell_type": "code",
   "execution_count": 4,
   "metadata": {},
   "outputs": [
    {
     "name": "stderr",
     "output_type": "stream",
     "text": [
      "Encoded 99/100: ██████████| 100/100 [00:15<00:00,  6.58it/s]\n",
      "Encoded 19/20: ██████████| 20/20 [00:02<00:00,  6.74it/s]\n",
      "Loss: 0.01679:           | 0/500 [00:00<?, ?it/s]               "
     ]
    },
    {
     "name": "stdout",
     "output_type": "stream",
     "text": [
      "\n",
      "L2 Regularization weight: 1e-08\n"
     ]
    },
    {
     "name": "stderr",
     "output_type": "stream",
     "text": [
      "Loss: 0.00347: ██████████| 500/500 [00:58<00:00,  8.47it/s] \n"
     ]
    },
    {
     "name": "stdout",
     "output_type": "stream",
     "text": [
      "Loss: 0.00345\n"
     ]
    },
    {
     "name": "stderr",
     "output_type": "stream",
     "text": [
      "Encoded 99/100: ██████████| 100/100 [00:15<00:00,  6.62it/s]\n",
      "Encoded 19/20: ██████████| 20/20 [00:02<00:00,  6.71it/s]\n",
      "Loss: 0.01065:           | 0/500 [00:00<?, ?it/s]               "
     ]
    },
    {
     "name": "stdout",
     "output_type": "stream",
     "text": [
      "\n",
      "L2 Regularization weight: 1e-08\n"
     ]
    },
    {
     "name": "stderr",
     "output_type": "stream",
     "text": [
      "Loss: 0.00329: ██████████| 500/500 [00:27<00:00, 17.95it/s] \n"
     ]
    },
    {
     "name": "stdout",
     "output_type": "stream",
     "text": [
      "Loss: 0.00330\n"
     ]
    },
    {
     "name": "stderr",
     "output_type": "stream",
     "text": [
      "Encoded 99/100: ██████████| 100/100 [00:15<00:00,  6.60it/s]\n",
      "Encoded 19/20: ██████████| 20/20 [00:03<00:00,  6.49it/s]\n",
      "Loss: 0.00702:           | 1/500 [00:00<00:56,  8.80it/s]       "
     ]
    },
    {
     "name": "stdout",
     "output_type": "stream",
     "text": [
      "\n",
      "L2 Regularization weight: 1e-08\n"
     ]
    },
    {
     "name": "stderr",
     "output_type": "stream",
     "text": [
      "Loss: 0.00296: ██████████| 500/500 [00:20<00:00, 24.78it/s] \n"
     ]
    },
    {
     "name": "stdout",
     "output_type": "stream",
     "text": [
      "Loss: 0.00304\n"
     ]
    },
    {
     "name": "stderr",
     "output_type": "stream",
     "text": [
      "Encoded 99/100: ██████████| 100/100 [00:15<00:00,  6.60it/s]\n",
      "Encoded 19/20: ██████████| 20/20 [00:03<00:00,  6.57it/s]\n",
      "Loss: 0.00783:           | 0/500 [00:00<?, ?it/s]               "
     ]
    },
    {
     "name": "stdout",
     "output_type": "stream",
     "text": [
      "\n",
      "L2 Regularization weight: 1e-08\n"
     ]
    },
    {
     "name": "stderr",
     "output_type": "stream",
     "text": [
      "Loss: 0.00296: ██████████| 500/500 [00:21<00:00, 23.02it/s] \n"
     ]
    },
    {
     "name": "stdout",
     "output_type": "stream",
     "text": [
      "Loss: 0.00306\n"
     ]
    },
    {
     "name": "stderr",
     "output_type": "stream",
     "text": [
      "Encoded 99/100: ██████████| 100/100 [00:15<00:00,  6.58it/s]\n",
      "Encoded 19/20: ██████████| 20/20 [00:03<00:00,  6.56it/s]\n",
      "Loss: 0.00826:           | 0/500 [00:00<?, ?it/s]               "
     ]
    },
    {
     "name": "stdout",
     "output_type": "stream",
     "text": [
      "\n",
      "L2 Regularization weight: 1e-08\n"
     ]
    },
    {
     "name": "stderr",
     "output_type": "stream",
     "text": [
      "Loss: 0.00288: ██████████| 500/500 [00:22<00:00, 22.38it/s] \n"
     ]
    },
    {
     "name": "stdout",
     "output_type": "stream",
     "text": [
      "Loss: 0.00292\n"
     ]
    },
    {
     "name": "stderr",
     "output_type": "stream",
     "text": [
      "Encoded 99/100: ██████████| 100/100 [00:15<00:00,  6.58it/s]\n",
      "Encoded 19/20: ██████████| 20/20 [00:03<00:00,  6.56it/s]\n",
      "Loss: 0.01615:           | 0/500 [00:00<?, ?it/s]               "
     ]
    },
    {
     "name": "stdout",
     "output_type": "stream",
     "text": [
      "\n",
      "L2 Regularization weight: 1e-08\n"
     ]
    },
    {
     "name": "stderr",
     "output_type": "stream",
     "text": [
      "Loss: 0.00657: ██████████| 500/500 [00:17<00:00, 29.05it/s]\n"
     ]
    },
    {
     "name": "stdout",
     "output_type": "stream",
     "text": [
      "Loss: 0.00664\n"
     ]
    },
    {
     "name": "stderr",
     "output_type": "stream",
     "text": [
      "Encoded 99/100: ██████████| 100/100 [00:15<00:00,  6.57it/s]\n",
      "Encoded 19/20: ██████████| 20/20 [00:03<00:00,  6.52it/s]\n",
      "Loss: 0.22835:           | 1/500 [00:00<00:50,  9.89it/s]       "
     ]
    },
    {
     "name": "stdout",
     "output_type": "stream",
     "text": [
      "\n",
      "L2 Regularization weight: 1e-08\n"
     ]
    },
    {
     "name": "stderr",
     "output_type": "stream",
     "text": [
      "Loss: 0.20695: ██████████| 500/500 [00:47<00:00, 10.50it/s]\n"
     ]
    },
    {
     "name": "stdout",
     "output_type": "stream",
     "text": [
      "Loss: 0.20684\n"
     ]
    },
    {
     "name": "stderr",
     "output_type": "stream",
     "text": [
      "Encoded 99/100: ██████████| 100/100 [00:15<00:00,  6.62it/s]\n",
      "Encoded 19/20: ██████████| 20/20 [00:02<00:00,  6.71it/s]\n",
      "Loss: 0.22700:           | 0/500 [00:00<?, ?it/s]               "
     ]
    },
    {
     "name": "stdout",
     "output_type": "stream",
     "text": [
      "\n",
      "L2 Regularization weight: 1e-08\n"
     ]
    },
    {
     "name": "stderr",
     "output_type": "stream",
     "text": [
      "Loss: 0.21435: ██████████| 500/500 [00:48<00:00, 10.38it/s]\n"
     ]
    },
    {
     "name": "stdout",
     "output_type": "stream",
     "text": [
      "Loss: 0.21591\n"
     ]
    },
    {
     "name": "stderr",
     "output_type": "stream",
     "text": [
      "Encoded 99/100: ██████████| 100/100 [00:15<00:00,  6.60it/s]\n",
      "Encoded 19/20: ██████████| 20/20 [00:02<00:00,  6.74it/s]\n",
      "Loss: 0.22727:           | 0/500 [00:00<?, ?it/s]               "
     ]
    },
    {
     "name": "stdout",
     "output_type": "stream",
     "text": [
      "\n",
      "L2 Regularization weight: 1e-08\n"
     ]
    },
    {
     "name": "stderr",
     "output_type": "stream",
     "text": [
      "Loss: 0.22113: ██████████| 500/500 [00:48<00:00, 10.33it/s]\n"
     ]
    },
    {
     "name": "stdout",
     "output_type": "stream",
     "text": [
      "Loss: 0.21904\n"
     ]
    },
    {
     "name": "stderr",
     "output_type": "stream",
     "text": [
      "Encoded 99/100: ██████████| 100/100 [00:15<00:00,  6.62it/s]\n",
      "Encoded 19/20: ██████████| 20/20 [00:02<00:00,  6.74it/s]\n",
      "Loss: 0.22792:           | 0/500 [00:00<?, ?it/s]               "
     ]
    },
    {
     "name": "stdout",
     "output_type": "stream",
     "text": [
      "\n",
      "L2 Regularization weight: 1e-08\n"
     ]
    },
    {
     "name": "stderr",
     "output_type": "stream",
     "text": [
      "Loss: 0.22282: ██████████| 500/500 [00:48<00:00, 10.40it/s]\n"
     ]
    },
    {
     "name": "stdout",
     "output_type": "stream",
     "text": [
      "Loss: 0.22273\n",
      "defaultdict(<class 'list'>, {'sg-gp-0_run1': [0.0034506930969655514, 0.0032967228908091784, 0.0030392692424356937, 0.003058066125959158, 0.002920320723205805], 'sg-gp-1e-1_run1': [0.006638968829065561, 0.20684432983398438, 0.21590910851955414, 0.21903873980045319, 0.22273361682891846]})\n"
     ]
    }
   ],
   "source": [
    "%run scan_eval_reg.py --baselines sg-gp-0_run1 --ours sg-gp-1e-1_run1 "
   ]
  },
  {
   "cell_type": "code",
   "execution_count": 28,
   "metadata": {},
   "outputs": [],
   "source": [
    "evalloss_0 = [0.003449850482866168, 0.003438792424276471, 0.0029449257999658585, 0.00295072584412992, 0.0028618110809475183]\n",
    "evalloss_4 = [0.0033060708083212376, 0.002705538412556052, 0.002288373652845621, 0.002112030517309904, 0.002027309499680996]\n",
    "evalloss_3 = [0.0030167773365974426, 0.002149197505787015, 0.0020584536250680685, 0.0019467695383355021, 0.0018817380769178271]\n",
    "evalloss_2 = [0.0024145091883838177, 0.0021541863679885864, 0.0020465455017983913, 0.001991833792999387, 0.001963912509381771]\n",
    "evalloss_1 = [0.006638968829065561, 0.20684432983398438, 0.21590910851955414, 0.21903873980045319, 0.22273361682891846]\n",
    "epoch = [i*10 for i in range(1,6)]"
   ]
  },
  {
   "cell_type": "code",
   "execution_count": 29,
   "metadata": {},
   "outputs": [
    {
     "data": {
      "image/png": "[encoded data removed]",
      "text/plain": [
       "<Figure size 432x288 with 1 Axes>"
      ]
     },
     "metadata": {
      "needs_background": "light"
     },
     "output_type": "display_data"
    }
   ],
   "source": [
    "plt.plot(epoch, evalloss_0, label = 'No gradient penalisation', marker = 'o')\n",
    "plt.plot(epoch, evalloss_4, label = 'Gradient penalisation 1e-4', marker = 'x')\n",
    "plt.plot(epoch, evalloss_3, label = 'Gradient penalisation 1e-3', marker = 'x')\n",
    "plt.plot(epoch, evalloss_2, label = 'Gradient penalisation 1e-2', marker = 'x')\n",
    "# plt.plot(epoch, evalloss_1, label = 'Gradient penalisation 1e-1', marker = 'x')\n",
    "plt.legend()\n",
    "plt.ylabel('Loss for parameter prediction')\n",
    "plt.show()"
   ]
  },
  {
   "cell_type": "code",
   "execution_count": 2,
   "metadata": {},
   "outputs": [
    {
     "name": "stderr",
     "output_type": "stream",
     "text": [
      "Encoded 99/100: ██████████| 100/100 [00:16<00:00,  6.09it/s]\n",
      "Encoded 19/20: ██████████| 20/20 [00:02<00:00,  6.70it/s]\n",
      "Loss: 0.01550:           | 0/500 [00:00<?, ?it/s]               "
     ]
    },
    {
     "name": "stdout",
     "output_type": "stream",
     "text": [
      "\n",
      "L2 Regularization weight: 1e-08\n"
     ]
    },
    {
     "name": "stderr",
     "output_type": "stream",
     "text": [
      "Loss: 0.00348: ██████████| 500/500 [01:03<00:00,  7.91it/s] \n"
     ]
    },
    {
     "name": "stdout",
     "output_type": "stream",
     "text": [
      "Loss: 0.00342\n"
     ]
    },
    {
     "name": "stderr",
     "output_type": "stream",
     "text": [
      "Encoded 99/100: ██████████| 100/100 [00:15<00:00,  6.57it/s]\n",
      "Encoded 19/20: ██████████| 20/20 [00:02<00:00,  6.68it/s]\n",
      "Loss: 0.01109:           | 0/500 [00:00<?, ?it/s]               "
     ]
    },
    {
     "name": "stdout",
     "output_type": "stream",
     "text": [
      "\n",
      "L2 Regularization weight: 1e-08\n"
     ]
    },
    {
     "name": "stderr",
     "output_type": "stream",
     "text": [
      "Loss: 0.00333: ██████████| 500/500 [00:30<00:00, 16.64it/s] \n"
     ]
    },
    {
     "name": "stdout",
     "output_type": "stream",
     "text": [
      "Loss: 0.00336\n"
     ]
    },
    {
     "name": "stderr",
     "output_type": "stream",
     "text": [
      "Encoded 99/100: ██████████| 100/100 [00:15<00:00,  6.56it/s]\n",
      "Encoded 19/20: ██████████| 20/20 [00:02<00:00,  6.67it/s]\n",
      "Loss: 0.01082:           | 0/500 [00:00<?, ?it/s]               "
     ]
    },
    {
     "name": "stdout",
     "output_type": "stream",
     "text": [
      "\n",
      "L2 Regularization weight: 1e-08\n"
     ]
    },
    {
     "name": "stderr",
     "output_type": "stream",
     "text": [
      "Loss: 0.00298: ██████████| 500/500 [00:22<00:00, 22.28it/s] \n"
     ]
    },
    {
     "name": "stdout",
     "output_type": "stream",
     "text": [
      "Loss: 0.00298\n"
     ]
    },
    {
     "name": "stderr",
     "output_type": "stream",
     "text": [
      "Encoded 99/100: ██████████| 100/100 [00:15<00:00,  6.54it/s]\n",
      "Encoded 19/20: ██████████| 20/20 [00:03<00:00,  6.66it/s]\n",
      "Loss: 0.00832:           | 0/500 [00:00<?, ?it/s]               "
     ]
    },
    {
     "name": "stdout",
     "output_type": "stream",
     "text": [
      "\n",
      "L2 Regularization weight: 1e-08\n"
     ]
    },
    {
     "name": "stderr",
     "output_type": "stream",
     "text": [
      "Loss: 0.00297: ██████████| 500/500 [00:22<00:00, 21.78it/s] \n"
     ]
    },
    {
     "name": "stdout",
     "output_type": "stream",
     "text": [
      "Loss: 0.00300\n"
     ]
    },
    {
     "name": "stderr",
     "output_type": "stream",
     "text": [
      "Encoded 99/100: ██████████| 100/100 [00:15<00:00,  6.53it/s]\n",
      "Encoded 19/20: ██████████| 20/20 [00:02<00:00,  6.67it/s]\n",
      "Loss: 0.00919:           | 0/500 [00:00<?, ?it/s]               "
     ]
    },
    {
     "name": "stdout",
     "output_type": "stream",
     "text": [
      "\n",
      "L2 Regularization weight: 1e-08\n"
     ]
    },
    {
     "name": "stderr",
     "output_type": "stream",
     "text": [
      "Loss: 0.00287: ██████████| 500/500 [00:21<00:00, 23.08it/s] \n"
     ]
    },
    {
     "name": "stdout",
     "output_type": "stream",
     "text": [
      "Loss: 0.00290\n"
     ]
    },
    {
     "name": "stderr",
     "output_type": "stream",
     "text": [
      "Encoded 99/100: ██████████| 100/100 [00:15<00:00,  6.51it/s]\n",
      "Encoded 19/20: ██████████| 20/20 [00:03<00:00,  6.61it/s]\n",
      "Loss: 0.01375:           | 0/500 [00:00<?, ?it/s]               "
     ]
    },
    {
     "name": "stdout",
     "output_type": "stream",
     "text": [
      "\n",
      "L2 Regularization weight: 1e-08\n"
     ]
    },
    {
     "name": "stderr",
     "output_type": "stream",
     "text": [
      "Loss: 0.00317: ██████████| 500/500 [01:01<00:00,  8.15it/s] \n"
     ]
    },
    {
     "name": "stdout",
     "output_type": "stream",
     "text": [
      "Loss: 0.00329\n"
     ]
    },
    {
     "name": "stderr",
     "output_type": "stream",
     "text": [
      "Encoded 99/100: ██████████| 100/100 [00:15<00:00,  6.53it/s]\n",
      "Encoded 19/20: ██████████| 20/20 [00:03<00:00,  6.58it/s]\n",
      "Loss: 0.01034:           | 0/500 [00:00<?, ?it/s]               "
     ]
    },
    {
     "name": "stdout",
     "output_type": "stream",
     "text": [
      "\n",
      "L2 Regularization weight: 1e-08\n"
     ]
    },
    {
     "name": "stderr",
     "output_type": "stream",
     "text": [
      "Loss: 0.00317: ██████████| 500/500 [00:26<00:00, 18.93it/s] \n"
     ]
    },
    {
     "name": "stdout",
     "output_type": "stream",
     "text": [
      "Loss: 0.00314\n"
     ]
    },
    {
     "name": "stderr",
     "output_type": "stream",
     "text": [
      "Encoded 99/100: ██████████| 100/100 [00:15<00:00,  6.52it/s]\n",
      "Encoded 19/20: ██████████| 20/20 [00:03<00:00,  6.64it/s]\n",
      "Loss: 0.00906:           | 0/500 [00:00<?, ?it/s]               "
     ]
    },
    {
     "name": "stdout",
     "output_type": "stream",
     "text": [
      "\n",
      "L2 Regularization weight: 1e-08\n"
     ]
    },
    {
     "name": "stderr",
     "output_type": "stream",
     "text": [
      "Loss: 0.00289: ██████████| 500/500 [00:18<00:00, 27.25it/s] \n"
     ]
    },
    {
     "name": "stdout",
     "output_type": "stream",
     "text": [
      "Loss: 0.00289\n"
     ]
    },
    {
     "name": "stderr",
     "output_type": "stream",
     "text": [
      "Encoded 99/100: ██████████| 100/100 [00:15<00:00,  6.51it/s]\n",
      "Encoded 19/20: ██████████| 20/20 [00:03<00:00,  6.61it/s]\n",
      "Loss: 0.00875:           | 0/500 [00:00<?, ?it/s]               "
     ]
    },
    {
     "name": "stdout",
     "output_type": "stream",
     "text": [
      "\n",
      "L2 Regularization weight: 1e-08\n"
     ]
    },
    {
     "name": "stderr",
     "output_type": "stream",
     "text": [
      "Loss: 0.00281: ██████████| 500/500 [00:17<00:00, 28.38it/s] \n"
     ]
    },
    {
     "name": "stdout",
     "output_type": "stream",
     "text": [
      "Loss: 0.00277\n"
     ]
    },
    {
     "name": "stderr",
     "output_type": "stream",
     "text": [
      "Encoded 99/100: ██████████| 100/100 [00:15<00:00,  6.50it/s]\n",
      "Encoded 19/20: ██████████| 20/20 [00:03<00:00,  6.61it/s]\n",
      "Loss: 0.00874:           | 0/500 [00:00<?, ?it/s]               "
     ]
    },
    {
     "name": "stdout",
     "output_type": "stream",
     "text": [
      "\n",
      "L2 Regularization weight: 1e-08\n"
     ]
    },
    {
     "name": "stderr",
     "output_type": "stream",
     "text": [
      "Loss: 0.00290: ██████████| 500/500 [00:20<00:00, 24.99it/s] \n"
     ]
    },
    {
     "name": "stdout",
     "output_type": "stream",
     "text": [
      "Loss: 0.00280\n"
     ]
    },
    {
     "name": "stderr",
     "output_type": "stream",
     "text": [
      "Encoded 99/100: ██████████| 100/100 [00:15<00:00,  6.49it/s]\n",
      "Encoded 19/20: ██████████| 20/20 [00:03<00:00,  6.58it/s]\n",
      "Loss: 0.01378:           | 0/500 [00:00<?, ?it/s]               "
     ]
    },
    {
     "name": "stdout",
     "output_type": "stream",
     "text": [
      "\n",
      "L2 Regularization weight: 1e-08\n"
     ]
    },
    {
     "name": "stderr",
     "output_type": "stream",
     "text": [
      "Loss: 0.00348: ██████████| 500/500 [01:04<00:00,  7.79it/s] \n"
     ]
    },
    {
     "name": "stdout",
     "output_type": "stream",
     "text": [
      "Loss: 0.00350\n"
     ]
    },
    {
     "name": "stderr",
     "output_type": "stream",
     "text": [
      "Encoded 99/100: ██████████| 100/100 [00:15<00:00,  6.53it/s]\n",
      "Encoded 19/20: ██████████| 20/20 [00:03<00:00,  6.61it/s]\n",
      "Loss: 0.01089:           | 0/500 [00:00<?, ?it/s]               "
     ]
    },
    {
     "name": "stdout",
     "output_type": "stream",
     "text": [
      "\n",
      "L2 Regularization weight: 1e-08\n"
     ]
    },
    {
     "name": "stderr",
     "output_type": "stream",
     "text": [
      "Loss: 0.00344: ██████████| 500/500 [00:29<00:00, 17.12it/s] \n"
     ]
    },
    {
     "name": "stdout",
     "output_type": "stream",
     "text": [
      "Loss: 0.00355\n"
     ]
    },
    {
     "name": "stderr",
     "output_type": "stream",
     "text": [
      "Encoded 99/100: ██████████| 100/100 [00:15<00:00,  6.51it/s]\n",
      "Encoded 19/20: ██████████| 20/20 [00:03<00:00,  6.61it/s]\n",
      "Loss: 0.00895:           | 0/500 [00:00<?, ?it/s]               "
     ]
    },
    {
     "name": "stdout",
     "output_type": "stream",
     "text": [
      "\n",
      "L2 Regularization weight: 1e-08\n"
     ]
    },
    {
     "name": "stderr",
     "output_type": "stream",
     "text": [
      "Loss: 0.00335: ██████████| 500/500 [00:20<00:00, 24.08it/s] \n"
     ]
    },
    {
     "name": "stdout",
     "output_type": "stream",
     "text": [
      "Loss: 0.00340\n"
     ]
    },
    {
     "name": "stderr",
     "output_type": "stream",
     "text": [
      "Encoded 99/100: ██████████| 100/100 [00:15<00:00,  6.51it/s]\n",
      "Encoded 19/20: ██████████| 20/20 [00:03<00:00,  6.64it/s]\n",
      "Loss: 0.00859:           | 0/500 [00:00<?, ?it/s]               "
     ]
    },
    {
     "name": "stdout",
     "output_type": "stream",
     "text": [
      "\n",
      "L2 Regularization weight: 1e-08\n"
     ]
    },
    {
     "name": "stderr",
     "output_type": "stream",
     "text": [
      "Loss: 0.00302: ██████████| 500/500 [00:20<00:00, 24.95it/s] \n"
     ]
    },
    {
     "name": "stdout",
     "output_type": "stream",
     "text": [
      "Loss: 0.00308\n"
     ]
    },
    {
     "name": "stderr",
     "output_type": "stream",
     "text": [
      "Encoded 99/100: ██████████| 100/100 [00:15<00:00,  6.50it/s]\n",
      "Encoded 19/20: ██████████| 20/20 [00:03<00:00,  6.60it/s]\n",
      "Loss: 0.00803:           | 0/500 [00:00<?, ?it/s]               "
     ]
    },
    {
     "name": "stdout",
     "output_type": "stream",
     "text": [
      "\n",
      "L2 Regularization weight: 1e-08\n"
     ]
    },
    {
     "name": "stderr",
     "output_type": "stream",
     "text": [
      "Loss: 0.00314: ██████████| 500/500 [00:17<00:00, 28.45it/s] \n"
     ]
    },
    {
     "name": "stdout",
     "output_type": "stream",
     "text": [
      "Loss: 0.00309\n"
     ]
    },
    {
     "name": "stderr",
     "output_type": "stream",
     "text": [
      "Encoded 99/100: ██████████| 100/100 [00:15<00:00,  6.49it/s]\n",
      "Encoded 19/20: ██████████| 20/20 [00:03<00:00,  6.55it/s]\n",
      "Loss: 0.01673:           | 0/500 [00:00<?, ?it/s]               "
     ]
    },
    {
     "name": "stdout",
     "output_type": "stream",
     "text": [
      "\n",
      "L2 Regularization weight: 1e-08\n"
     ]
    },
    {
     "name": "stderr",
     "output_type": "stream",
     "text": [
      "Loss: 0.00242: ██████████| 500/500 [04:39<00:00,  1.79it/s]\n"
     ]
    },
    {
     "name": "stdout",
     "output_type": "stream",
     "text": [
      "Loss: 0.00242\n"
     ]
    },
    {
     "name": "stderr",
     "output_type": "stream",
     "text": [
      "Encoded 99/100: ██████████| 100/100 [00:15<00:00,  6.55it/s]\n",
      "Encoded 19/20: ██████████| 20/20 [00:02<00:00,  6.69it/s]\n",
      "Loss: 0.01632:           | 0/500 [00:00<?, ?it/s]               "
     ]
    },
    {
     "name": "stdout",
     "output_type": "stream",
     "text": [
      "\n",
      "L2 Regularization weight: 1e-08\n"
     ]
    },
    {
     "name": "stderr",
     "output_type": "stream",
     "text": [
      "Loss: 0.00216: ██████████| 500/500 [04:43<00:00,  1.76it/s]\n"
     ]
    },
    {
     "name": "stdout",
     "output_type": "stream",
     "text": [
      "Loss: 0.00221\n"
     ]
    },
    {
     "name": "stderr",
     "output_type": "stream",
     "text": [
      "Encoded 99/100: ██████████| 100/100 [00:15<00:00,  6.55it/s]\n",
      "Encoded 19/20: ██████████| 20/20 [00:03<00:00,  6.66it/s]\n",
      "Loss: 0.01626:           | 0/500 [00:00<?, ?it/s]               "
     ]
    },
    {
     "name": "stdout",
     "output_type": "stream",
     "text": [
      "\n",
      "L2 Regularization weight: 1e-08\n"
     ]
    },
    {
     "name": "stderr",
     "output_type": "stream",
     "text": [
      "Loss: 0.00206: ██████████| 500/500 [04:45<00:00,  1.75it/s]\n"
     ]
    },
    {
     "name": "stdout",
     "output_type": "stream",
     "text": [
      "Loss: 0.00204\n"
     ]
    },
    {
     "name": "stderr",
     "output_type": "stream",
     "text": [
      "Encoded 99/100: ██████████| 100/100 [00:15<00:00,  6.55it/s]\n",
      "Encoded 19/20: ██████████| 20/20 [00:02<00:00,  6.68it/s]\n",
      "Loss: 0.02801:           | 0/500 [00:00<?, ?it/s]               "
     ]
    },
    {
     "name": "stdout",
     "output_type": "stream",
     "text": [
      "\n",
      "L2 Regularization weight: 1e-08\n"
     ]
    },
    {
     "name": "stderr",
     "output_type": "stream",
     "text": [
      "Loss: 0.00201: ██████████| 500/500 [04:43<00:00,  1.76it/s]\n"
     ]
    },
    {
     "name": "stdout",
     "output_type": "stream",
     "text": [
      "Loss: 0.00192\n"
     ]
    },
    {
     "name": "stderr",
     "output_type": "stream",
     "text": [
      "Encoded 99/100: ██████████| 100/100 [00:15<00:00,  6.55it/s]\n",
      "Encoded 19/20: ██████████| 20/20 [00:03<00:00,  6.65it/s]\n",
      "Loss: 0.01742:           | 0/500 [00:00<?, ?it/s]               "
     ]
    },
    {
     "name": "stdout",
     "output_type": "stream",
     "text": [
      "\n",
      "L2 Regularization weight: 1e-08\n"
     ]
    },
    {
     "name": "stderr",
     "output_type": "stream",
     "text": [
      "Loss: 0.00197: ██████████| 500/500 [04:44<00:00,  1.76it/s]\n"
     ]
    },
    {
     "name": "stdout",
     "output_type": "stream",
     "text": [
      "Loss: 0.00191\n"
     ]
    },
    {
     "name": "stderr",
     "output_type": "stream",
     "text": [
      "Encoded 99/100: ██████████| 100/100 [00:15<00:00,  6.54it/s]\n",
      "Encoded 19/20: ██████████| 20/20 [00:02<00:00,  6.67it/s]\n",
      "Loss: 0.02337:           | 0/500 [00:00<?, ?it/s]               "
     ]
    },
    {
     "name": "stdout",
     "output_type": "stream",
     "text": [
      "\n",
      "L2 Regularization weight: 1e-08\n"
     ]
    },
    {
     "name": "stderr",
     "output_type": "stream",
     "text": [
      "Loss: 0.00254: ██████████| 500/500 [04:41<00:00,  1.77it/s]\n"
     ]
    },
    {
     "name": "stdout",
     "output_type": "stream",
     "text": [
      "Loss: 0.00254\n"
     ]
    },
    {
     "name": "stderr",
     "output_type": "stream",
     "text": [
      "Encoded 99/100: ██████████| 100/100 [00:15<00:00,  6.55it/s]\n",
      "Encoded 19/20: ██████████| 20/20 [00:03<00:00,  6.66it/s]\n",
      "Loss: 0.02096:           | 0/500 [00:00<?, ?it/s]               "
     ]
    },
    {
     "name": "stdout",
     "output_type": "stream",
     "text": [
      "\n",
      "L2 Regularization weight: 1e-08\n"
     ]
    },
    {
     "name": "stderr",
     "output_type": "stream",
     "text": [
      "Loss: 0.00237: ██████████| 500/500 [04:47<00:00,  1.74it/s]\n"
     ]
    },
    {
     "name": "stdout",
     "output_type": "stream",
     "text": [
      "Loss: 0.00237\n"
     ]
    },
    {
     "name": "stderr",
     "output_type": "stream",
     "text": [
      "Encoded 99/100: ██████████| 100/100 [00:15<00:00,  6.52it/s]\n",
      "Encoded 19/20: ██████████| 20/20 [00:03<00:00,  6.50it/s]\n",
      "Loss: 0.02435:           | 0/500 [00:00<?, ?it/s]               "
     ]
    },
    {
     "name": "stdout",
     "output_type": "stream",
     "text": [
      "\n",
      "L2 Regularization weight: 1e-08\n"
     ]
    },
    {
     "name": "stderr",
     "output_type": "stream",
     "text": [
      "Loss: 0.00217: ██████████| 500/500 [04:46<00:00,  1.75it/s]\n"
     ]
    },
    {
     "name": "stdout",
     "output_type": "stream",
     "text": [
      "Loss: 0.00214\n"
     ]
    },
    {
     "name": "stderr",
     "output_type": "stream",
     "text": [
      "Encoded 99/100: ██████████| 100/100 [00:15<00:00,  6.51it/s]\n",
      "Encoded 19/20: ██████████| 20/20 [00:03<00:00,  6.51it/s]\n",
      "Loss: 0.02455:           | 0/500 [00:00<?, ?it/s]               "
     ]
    },
    {
     "name": "stdout",
     "output_type": "stream",
     "text": [
      "\n",
      "L2 Regularization weight: 1e-08\n"
     ]
    },
    {
     "name": "stderr",
     "output_type": "stream",
     "text": [
      "Loss: 0.00200: ██████████| 500/500 [04:45<00:00,  1.75it/s]\n"
     ]
    },
    {
     "name": "stdout",
     "output_type": "stream",
     "text": [
      "Loss: 0.00193\n"
     ]
    },
    {
     "name": "stderr",
     "output_type": "stream",
     "text": [
      "Encoded 99/100: ██████████| 100/100 [00:15<00:00,  6.52it/s]\n",
      "Encoded 19/20: ██████████| 20/20 [00:03<00:00,  6.51it/s]\n",
      "Loss: 0.04206:           | 0/500 [00:00<?, ?it/s]               "
     ]
    },
    {
     "name": "stdout",
     "output_type": "stream",
     "text": [
      "\n",
      "L2 Regularization weight: 1e-08\n"
     ]
    },
    {
     "name": "stderr",
     "output_type": "stream",
     "text": [
      "Loss: 0.00199: ██████████| 500/500 [05:31<00:00,  1.51it/s]\n"
     ]
    },
    {
     "name": "stdout",
     "output_type": "stream",
     "text": [
      "Loss: 0.00192\n"
     ]
    },
    {
     "name": "stderr",
     "output_type": "stream",
     "text": [
      "Encoded 99/100: ██████████| 100/100 [00:15<00:00,  6.49it/s]\n",
      "Encoded 19/20: ██████████| 20/20 [00:03<00:00,  6.39it/s]\n",
      "Loss: 0.02694:           | 0/500 [00:00<?, ?it/s]               "
     ]
    },
    {
     "name": "stdout",
     "output_type": "stream",
     "text": [
      "\n",
      "L2 Regularization weight: 1e-08\n"
     ]
    },
    {
     "name": "stderr",
     "output_type": "stream",
     "text": [
      "Loss: 0.00261: ██████████| 500/500 [06:13<00:00,  1.34it/s]\n"
     ]
    },
    {
     "name": "stdout",
     "output_type": "stream",
     "text": [
      "Loss: 0.00265\n"
     ]
    },
    {
     "name": "stderr",
     "output_type": "stream",
     "text": [
      "Encoded 99/100: ██████████| 100/100 [00:15<00:00,  6.48it/s]\n",
      "Encoded 19/20: ██████████| 20/20 [00:03<00:00,  6.42it/s]\n",
      "Loss: 0.02684:           | 0/500 [00:00<?, ?it/s]               "
     ]
    },
    {
     "name": "stdout",
     "output_type": "stream",
     "text": [
      "\n",
      "L2 Regularization weight: 1e-08\n"
     ]
    },
    {
     "name": "stderr",
     "output_type": "stream",
     "text": [
      "Loss: 0.00228: ██████████| 500/500 [06:07<00:00,  1.36it/s]\n"
     ]
    },
    {
     "name": "stdout",
     "output_type": "stream",
     "text": [
      "Loss: 0.00224\n"
     ]
    },
    {
     "name": "stderr",
     "output_type": "stream",
     "text": [
      "Encoded 99/100: ██████████| 100/100 [00:15<00:00,  6.47it/s]\n",
      "Encoded 19/20: ██████████| 20/20 [00:03<00:00,  6.55it/s]\n",
      "Loss: 0.02495:           | 0/500 [00:00<?, ?it/s]               "
     ]
    },
    {
     "name": "stdout",
     "output_type": "stream",
     "text": [
      "\n",
      "L2 Regularization weight: 1e-08\n"
     ]
    },
    {
     "name": "stderr",
     "output_type": "stream",
     "text": [
      "Loss: 0.00204: ██████████| 500/500 [05:55<00:00,  1.41it/s]\n"
     ]
    },
    {
     "name": "stdout",
     "output_type": "stream",
     "text": [
      "Loss: 0.00209\n"
     ]
    },
    {
     "name": "stderr",
     "output_type": "stream",
     "text": [
      "Encoded 99/100: ██████████| 100/100 [00:15<00:00,  6.53it/s]\n",
      "Encoded 19/20: ██████████| 20/20 [00:03<00:00,  6.66it/s]\n",
      "Loss: 0.04166:           | 0/500 [00:00<?, ?it/s]               "
     ]
    },
    {
     "name": "stdout",
     "output_type": "stream",
     "text": [
      "\n",
      "L2 Regularization weight: 1e-08\n"
     ]
    },
    {
     "name": "stderr",
     "output_type": "stream",
     "text": [
      "Loss: 0.00204: ██████████| 500/500 [05:27<00:00,  1.53it/s]\n"
     ]
    },
    {
     "name": "stdout",
     "output_type": "stream",
     "text": [
      "Loss: 0.00200\n"
     ]
    },
    {
     "name": "stderr",
     "output_type": "stream",
     "text": [
      "Encoded 99/100: ██████████| 100/100 [00:15<00:00,  6.54it/s]\n",
      "Encoded 19/20: ██████████| 20/20 [00:03<00:00,  6.63it/s]\n",
      "Loss: 0.03299:           | 0/500 [00:00<?, ?it/s]               "
     ]
    },
    {
     "name": "stdout",
     "output_type": "stream",
     "text": [
      "\n",
      "L2 Regularization weight: 1e-08\n"
     ]
    },
    {
     "name": "stderr",
     "output_type": "stream",
     "text": [
      "Loss: 0.00200: ██████████| 500/500 [05:51<00:00,  1.42it/s]"
     ]
    },
    {
     "name": "stdout",
     "output_type": "stream",
     "text": [
      "Loss: 0.00203\n",
      "defaultdict(<class 'list'>, {'sg-gp-0_run1': [0.003419135697185993, 0.0033648021053522825, 0.002980790799483657, 0.0029983208514750004, 0.0029040812514722347], 'sg-gp-0_run2': [0.0032946066930890083, 0.0031374164391309023, 0.0028855286072939634, 0.00277165649458766, 0.002800622256472707], 'sg-gp-0_run3': [0.0035003020893782377, 0.003553675953298807, 0.0033992882817983627, 0.0030832672491669655, 0.003087488003075123], 'sg-gp-1e-2_run1': [0.0024159327149391174, 0.0022131900768727064, 0.0020361386705189943, 0.0019236570224165916, 0.0019148692954331636], 'sg-gp-1e-2_run2': [0.002538957865908742, 0.002370979869738221, 0.00214185519143939, 0.001930977450683713, 0.0019152038730680943], 'sg-gp-1e-2_run3': [0.0026485261041671038, 0.0022389437071979046, 0.00209100847132504, 0.0019989381544291973, 0.002033272758126259]})\n"
     ]
    },
    {
     "name": "stderr",
     "output_type": "stream",
     "text": [
      "\n"
     ]
    }
   ],
   "source": [
    "%run scan_eval_reg.py --baselines sg-gp-0_run1,sg-gp-0_run2,sg-gp-0_run3 --ours sg-gp-1e-2_run1,sg-gp-1e-2_run2,sg-gp-1e-2_run3 "
   ]
  },
  {
   "cell_type": "code",
   "execution_count": 3,
   "metadata": {},
   "outputs": [
    {
     "name": "stderr",
     "output_type": "stream",
     "text": [
      "Loss: 0.08620:           | 0/500 [00:00<?, ?it/s]               "
     ]
    },
    {
     "name": "stdout",
     "output_type": "stream",
     "text": [
      "\n",
      "L2 Regularization weight: 1e-05\n"
     ]
    },
    {
     "name": "stderr",
     "output_type": "stream",
     "text": [
      "Loss: 0.05636: ██████████| 500/500 [01:37<00:00,  5.11it/s]\n"
     ]
    },
    {
     "name": "stdout",
     "output_type": "stream",
     "text": [
      "Loss: 0.05363\n"
     ]
    },
    {
     "name": "stderr",
     "output_type": "stream",
     "text": [
      "Loss: 0.08178:           | 0/500 [00:00<?, ?it/s]               "
     ]
    },
    {
     "name": "stdout",
     "output_type": "stream",
     "text": [
      "\n",
      "L2 Regularization weight: 1e-05\n"
     ]
    },
    {
     "name": "stderr",
     "output_type": "stream",
     "text": [
      "Loss: 0.06894: ██████████| 500/500 [00:25<00:00, 19.47it/s] \n"
     ]
    },
    {
     "name": "stdout",
     "output_type": "stream",
     "text": [
      "Loss: 0.06619\n"
     ]
    },
    {
     "name": "stderr",
     "output_type": "stream",
     "text": [
      "Loss: 0.08140:           | 0/500 [00:00<?, ?it/s]               "
     ]
    },
    {
     "name": "stdout",
     "output_type": "stream",
     "text": [
      "\n",
      "L2 Regularization weight: 1e-05\n"
     ]
    },
    {
     "name": "stderr",
     "output_type": "stream",
     "text": [
      "Loss: 0.07392: ██████████| 500/500 [00:19<00:00, 26.31it/s] \n"
     ]
    },
    {
     "name": "stdout",
     "output_type": "stream",
     "text": [
      "Loss: 0.07193\n"
     ]
    },
    {
     "name": "stderr",
     "output_type": "stream",
     "text": [
      "Loss: 0.08141:           | 0/500 [00:00<?, ?it/s]               "
     ]
    },
    {
     "name": "stdout",
     "output_type": "stream",
     "text": [
      "\n",
      "L2 Regularization weight: 1e-05\n"
     ]
    },
    {
     "name": "stderr",
     "output_type": "stream",
     "text": [
      "Loss: 0.07568: ██████████| 500/500 [00:14<00:00, 34.26it/s] \n"
     ]
    },
    {
     "name": "stdout",
     "output_type": "stream",
     "text": [
      "Loss: 0.07399\n"
     ]
    },
    {
     "name": "stderr",
     "output_type": "stream",
     "text": [
      "Loss: 0.08137:           | 0/500 [00:00<?, ?it/s]               "
     ]
    },
    {
     "name": "stdout",
     "output_type": "stream",
     "text": [
      "\n",
      "L2 Regularization weight: 1e-05\n"
     ]
    },
    {
     "name": "stderr",
     "output_type": "stream",
     "text": [
      "Loss: 0.07600: ██████████| 500/500 [00:13<00:00, 36.83it/s] \n"
     ]
    },
    {
     "name": "stdout",
     "output_type": "stream",
     "text": [
      "Loss: 0.07459\n"
     ]
    },
    {
     "name": "stderr",
     "output_type": "stream",
     "text": [
      "Loss: 0.08731:           | 0/500 [00:00<?, ?it/s]               "
     ]
    },
    {
     "name": "stdout",
     "output_type": "stream",
     "text": [
      "\n",
      "L2 Regularization weight: 1e-05\n"
     ]
    },
    {
     "name": "stderr",
     "output_type": "stream",
     "text": [
      "Loss: 0.05766: ██████████| 500/500 [01:07<00:00,  7.46it/s] \n"
     ]
    },
    {
     "name": "stdout",
     "output_type": "stream",
     "text": [
      "Loss: 0.05575\n"
     ]
    },
    {
     "name": "stderr",
     "output_type": "stream",
     "text": [
      "Loss: 0.08191:           | 0/500 [00:00<?, ?it/s]               "
     ]
    },
    {
     "name": "stdout",
     "output_type": "stream",
     "text": [
      "\n",
      "L2 Regularization weight: 1e-05\n"
     ]
    },
    {
     "name": "stderr",
     "output_type": "stream",
     "text": [
      "Loss: 0.06924: ██████████| 500/500 [00:26<00:00, 18.88it/s] \n"
     ]
    },
    {
     "name": "stdout",
     "output_type": "stream",
     "text": [
      "Loss: 0.06645\n"
     ]
    },
    {
     "name": "stderr",
     "output_type": "stream",
     "text": [
      "Loss: 0.08188:           | 0/500 [00:00<?, ?it/s]               "
     ]
    },
    {
     "name": "stdout",
     "output_type": "stream",
     "text": [
      "\n",
      "L2 Regularization weight: 1e-05\n"
     ]
    },
    {
     "name": "stderr",
     "output_type": "stream",
     "text": [
      "Loss: 0.07384: ██████████| 500/500 [00:15<00:00, 31.66it/s] \n"
     ]
    },
    {
     "name": "stdout",
     "output_type": "stream",
     "text": [
      "Loss: 0.07181\n"
     ]
    },
    {
     "name": "stderr",
     "output_type": "stream",
     "text": [
      "Loss: 0.08092:           | 0/500 [00:00<?, ?it/s]               "
     ]
    },
    {
     "name": "stdout",
     "output_type": "stream",
     "text": [
      "\n",
      "L2 Regularization weight: 1e-05\n"
     ]
    },
    {
     "name": "stderr",
     "output_type": "stream",
     "text": [
      "Loss: 0.07568: ██████████| 500/500 [00:14<00:00, 34.38it/s] \n"
     ]
    },
    {
     "name": "stdout",
     "output_type": "stream",
     "text": [
      "Loss: 0.07430\n"
     ]
    },
    {
     "name": "stderr",
     "output_type": "stream",
     "text": [
      "Loss: 0.08142:           | 0/500 [00:00<?, ?it/s]               "
     ]
    },
    {
     "name": "stdout",
     "output_type": "stream",
     "text": [
      "\n",
      "L2 Regularization weight: 1e-05\n"
     ]
    },
    {
     "name": "stderr",
     "output_type": "stream",
     "text": [
      "Loss: 0.07618: ██████████| 500/500 [00:15<00:00, 33.09it/s] \n"
     ]
    },
    {
     "name": "stdout",
     "output_type": "stream",
     "text": [
      "Loss: 0.07511\n"
     ]
    },
    {
     "name": "stderr",
     "output_type": "stream",
     "text": [
      "Loss: 0.08421:           | 0/500 [00:00<?, ?it/s]               "
     ]
    },
    {
     "name": "stdout",
     "output_type": "stream",
     "text": [
      "\n",
      "L2 Regularization weight: 1e-05\n"
     ]
    },
    {
     "name": "stderr",
     "output_type": "stream",
     "text": [
      "Loss: 0.05737: ██████████| 500/500 [01:20<00:00,  6.22it/s] \n"
     ]
    },
    {
     "name": "stdout",
     "output_type": "stream",
     "text": [
      "Loss: 0.05507\n"
     ]
    },
    {
     "name": "stderr",
     "output_type": "stream",
     "text": [
      "Loss: 0.08231:           | 0/500 [00:00<?, ?it/s]               "
     ]
    },
    {
     "name": "stdout",
     "output_type": "stream",
     "text": [
      "\n",
      "L2 Regularization weight: 1e-05\n"
     ]
    },
    {
     "name": "stderr",
     "output_type": "stream",
     "text": [
      "Loss: 0.06858: ██████████| 500/500 [00:23<00:00, 20.91it/s] \n"
     ]
    },
    {
     "name": "stdout",
     "output_type": "stream",
     "text": [
      "Loss: 0.06527\n"
     ]
    },
    {
     "name": "stderr",
     "output_type": "stream",
     "text": [
      "Loss: 0.08193:           | 0/500 [00:00<?, ?it/s]               "
     ]
    },
    {
     "name": "stdout",
     "output_type": "stream",
     "text": [
      "\n",
      "L2 Regularization weight: 1e-05\n"
     ]
    },
    {
     "name": "stderr",
     "output_type": "stream",
     "text": [
      "Loss: 0.07464: ██████████| 500/500 [00:15<00:00, 31.71it/s] \n"
     ]
    },
    {
     "name": "stdout",
     "output_type": "stream",
     "text": [
      "Loss: 0.07306\n"
     ]
    },
    {
     "name": "stderr",
     "output_type": "stream",
     "text": [
      "Loss: 0.08104:           | 0/500 [00:00<?, ?it/s]               "
     ]
    },
    {
     "name": "stdout",
     "output_type": "stream",
     "text": [
      "\n",
      "L2 Regularization weight: 1e-05\n"
     ]
    },
    {
     "name": "stderr",
     "output_type": "stream",
     "text": [
      "Loss: 0.07689: ██████████| 500/500 [00:13<00:00, 35.72it/s] \n"
     ]
    },
    {
     "name": "stdout",
     "output_type": "stream",
     "text": [
      "Loss: 0.07549\n"
     ]
    },
    {
     "name": "stderr",
     "output_type": "stream",
     "text": [
      "Loss: 0.08129:           | 0/500 [00:00<?, ?it/s]               "
     ]
    },
    {
     "name": "stdout",
     "output_type": "stream",
     "text": [
      "\n",
      "L2 Regularization weight: 1e-05\n"
     ]
    },
    {
     "name": "stderr",
     "output_type": "stream",
     "text": [
      "Loss: 0.07706: ██████████| 500/500 [00:12<00:00, 41.24it/s] \n"
     ]
    },
    {
     "name": "stdout",
     "output_type": "stream",
     "text": [
      "Loss: 0.07579\n"
     ]
    },
    {
     "name": "stderr",
     "output_type": "stream",
     "text": [
      "Loss: 0.11972:           | 0/500 [00:00<?, ?it/s]               "
     ]
    },
    {
     "name": "stdout",
     "output_type": "stream",
     "text": [
      "\n",
      "L2 Regularization weight: 1e-05\n"
     ]
    },
    {
     "name": "stderr",
     "output_type": "stream",
     "text": [
      "Loss: 0.04651: ██████████| 500/500 [02:38<00:00,  3.16it/s]\n"
     ]
    },
    {
     "name": "stdout",
     "output_type": "stream",
     "text": [
      "Loss: 0.03901\n"
     ]
    },
    {
     "name": "stderr",
     "output_type": "stream",
     "text": [
      "Loss: 0.08094:           | 0/500 [00:00<?, ?it/s]               "
     ]
    },
    {
     "name": "stdout",
     "output_type": "stream",
     "text": [
      "\n",
      "L2 Regularization weight: 1e-05\n"
     ]
    },
    {
     "name": "stderr",
     "output_type": "stream",
     "text": [
      "Loss: 0.06300: ██████████| 500/500 [02:21<00:00,  3.53it/s]\n"
     ]
    },
    {
     "name": "stdout",
     "output_type": "stream",
     "text": [
      "Loss: 0.05561\n"
     ]
    },
    {
     "name": "stderr",
     "output_type": "stream",
     "text": [
      "Loss: 0.08078:           | 0/500 [00:00<?, ?it/s]               "
     ]
    },
    {
     "name": "stdout",
     "output_type": "stream",
     "text": [
      "\n",
      "L2 Regularization weight: 1e-05\n"
     ]
    },
    {
     "name": "stderr",
     "output_type": "stream",
     "text": [
      "Loss: 0.06968: ██████████| 500/500 [01:55<00:00,  4.34it/s]\n"
     ]
    },
    {
     "name": "stdout",
     "output_type": "stream",
     "text": [
      "Loss: 0.06315\n"
     ]
    },
    {
     "name": "stderr",
     "output_type": "stream",
     "text": [
      "Loss: 0.08119:           | 0/500 [00:00<?, ?it/s]               "
     ]
    },
    {
     "name": "stdout",
     "output_type": "stream",
     "text": [
      "\n",
      "L2 Regularization weight: 1e-05\n"
     ]
    },
    {
     "name": "stderr",
     "output_type": "stream",
     "text": [
      "Loss: 0.08052: ██████████| 500/500 [01:12<00:00,  6.89it/s]\n"
     ]
    },
    {
     "name": "stdout",
     "output_type": "stream",
     "text": [
      "Loss: 0.08084\n"
     ]
    },
    {
     "name": "stderr",
     "output_type": "stream",
     "text": [
      "Loss: 0.08166:           | 0/500 [00:00<?, ?it/s]               "
     ]
    },
    {
     "name": "stdout",
     "output_type": "stream",
     "text": [
      "\n",
      "L2 Regularization weight: 1e-05\n"
     ]
    },
    {
     "name": "stderr",
     "output_type": "stream",
     "text": [
      "Loss: 0.08100: ██████████| 500/500 [01:12<00:00,  6.88it/s]\n"
     ]
    },
    {
     "name": "stdout",
     "output_type": "stream",
     "text": [
      "Loss: 0.08078\n"
     ]
    },
    {
     "name": "stderr",
     "output_type": "stream",
     "text": [
      "Loss: 0.08093:           | 0/500 [00:00<?, ?it/s]               "
     ]
    },
    {
     "name": "stdout",
     "output_type": "stream",
     "text": [
      "\n",
      "L2 Regularization weight: 1e-05\n"
     ]
    },
    {
     "name": "stderr",
     "output_type": "stream",
     "text": [
      "Loss: 0.04788: ██████████| 500/500 [02:56<00:00,  2.83it/s]\n"
     ]
    },
    {
     "name": "stdout",
     "output_type": "stream",
     "text": [
      "Loss: 0.03983\n"
     ]
    },
    {
     "name": "stderr",
     "output_type": "stream",
     "text": [
      "Loss: 0.08082:           | 0/500 [00:00<?, ?it/s]               "
     ]
    },
    {
     "name": "stdout",
     "output_type": "stream",
     "text": [
      "\n",
      "L2 Regularization weight: 1e-05\n"
     ]
    },
    {
     "name": "stderr",
     "output_type": "stream",
     "text": [
      "Loss: 0.06516: ██████████| 500/500 [02:23<00:00,  3.48it/s]\n"
     ]
    },
    {
     "name": "stdout",
     "output_type": "stream",
     "text": [
      "Loss: 0.05845\n"
     ]
    },
    {
     "name": "stderr",
     "output_type": "stream",
     "text": [
      "Loss: 0.08199:           | 0/500 [00:00<?, ?it/s]               "
     ]
    },
    {
     "name": "stdout",
     "output_type": "stream",
     "text": [
      "\n",
      "L2 Regularization weight: 1e-05\n"
     ]
    },
    {
     "name": "stderr",
     "output_type": "stream",
     "text": [
      "Loss: 0.08082: ██████████| 500/500 [01:11<00:00,  7.02it/s]\n"
     ]
    },
    {
     "name": "stdout",
     "output_type": "stream",
     "text": [
      "Loss: 0.08069\n"
     ]
    },
    {
     "name": "stderr",
     "output_type": "stream",
     "text": [
      "Loss: 0.08142:           | 0/500 [00:00<?, ?it/s]               "
     ]
    },
    {
     "name": "stdout",
     "output_type": "stream",
     "text": [
      "\n",
      "L2 Regularization weight: 1e-05\n"
     ]
    },
    {
     "name": "stderr",
     "output_type": "stream",
     "text": [
      "Loss: 0.08074: ██████████| 500/500 [01:11<00:00,  6.96it/s]\n"
     ]
    },
    {
     "name": "stdout",
     "output_type": "stream",
     "text": [
      "Loss: 0.08111\n"
     ]
    },
    {
     "name": "stderr",
     "output_type": "stream",
     "text": [
      "Loss: 0.08142:           | 0/500 [00:00<?, ?it/s]               "
     ]
    },
    {
     "name": "stdout",
     "output_type": "stream",
     "text": [
      "\n",
      "L2 Regularization weight: 1e-05\n"
     ]
    },
    {
     "name": "stderr",
     "output_type": "stream",
     "text": [
      "Loss: 0.08072: ██████████| 500/500 [01:11<00:00,  6.95it/s]\n"
     ]
    },
    {
     "name": "stdout",
     "output_type": "stream",
     "text": [
      "Loss: 0.08121\n"
     ]
    },
    {
     "name": "stderr",
     "output_type": "stream",
     "text": [
      "Loss: 0.08113:           | 0/500 [00:00<?, ?it/s]               "
     ]
    },
    {
     "name": "stdout",
     "output_type": "stream",
     "text": [
      "\n",
      "L2 Regularization weight: 1e-05\n"
     ]
    },
    {
     "name": "stderr",
     "output_type": "stream",
     "text": [
      "Loss: 0.04586: ██████████| 500/500 [02:53<00:00,  2.87it/s]\n"
     ]
    },
    {
     "name": "stdout",
     "output_type": "stream",
     "text": [
      "Loss: 0.03891\n"
     ]
    },
    {
     "name": "stderr",
     "output_type": "stream",
     "text": [
      "Loss: 0.08122:           | 0/500 [00:00<?, ?it/s]               "
     ]
    },
    {
     "name": "stdout",
     "output_type": "stream",
     "text": [
      "\n",
      "L2 Regularization weight: 1e-05\n"
     ]
    },
    {
     "name": "stderr",
     "output_type": "stream",
     "text": [
      "Loss: 0.06170: ██████████| 500/500 [02:40<00:00,  3.11it/s]\n"
     ]
    },
    {
     "name": "stdout",
     "output_type": "stream",
     "text": [
      "Loss: 0.05483\n"
     ]
    },
    {
     "name": "stderr",
     "output_type": "stream",
     "text": [
      "Loss: 0.08131:           | 0/500 [00:00<?, ?it/s]               "
     ]
    },
    {
     "name": "stdout",
     "output_type": "stream",
     "text": [
      "\n",
      "L2 Regularization weight: 1e-05\n"
     ]
    },
    {
     "name": "stderr",
     "output_type": "stream",
     "text": [
      "Loss: 0.08090: ██████████| 500/500 [01:24<00:00,  5.91it/s]\n"
     ]
    },
    {
     "name": "stdout",
     "output_type": "stream",
     "text": [
      "Loss: 0.08112\n"
     ]
    },
    {
     "name": "stderr",
     "output_type": "stream",
     "text": [
      "Loss: 0.08163:           | 0/500 [00:00<?, ?it/s]               "
     ]
    },
    {
     "name": "stdout",
     "output_type": "stream",
     "text": [
      "\n",
      "L2 Regularization weight: 1e-05\n"
     ]
    },
    {
     "name": "stderr",
     "output_type": "stream",
     "text": [
      "Loss: 0.08083: ██████████| 500/500 [01:12<00:00,  6.90it/s]\n"
     ]
    },
    {
     "name": "stdout",
     "output_type": "stream",
     "text": [
      "Loss: 0.08073\n"
     ]
    },
    {
     "name": "stderr",
     "output_type": "stream",
     "text": [
      "Loss: 0.08162:           | 0/500 [00:00<?, ?it/s]               "
     ]
    },
    {
     "name": "stdout",
     "output_type": "stream",
     "text": [
      "\n",
      "L2 Regularization weight: 1e-05\n"
     ]
    },
    {
     "name": "stderr",
     "output_type": "stream",
     "text": [
      "Loss: 0.08083: ██████████| 500/500 [01:12<00:00,  6.93it/s]\n"
     ]
    },
    {
     "name": "stdout",
     "output_type": "stream",
     "text": [
      "Loss: 0.08031\n",
      "defaultdict(<class 'list'>, {'sg-gp-0_run1': [0.053633566945791245, 0.06619103997945786, 0.07193471491336823, 0.07398846745491028, 0.07458848506212234], 'sg-gp-0_run2': [0.05574514716863632, 0.06645434349775314, 0.07180549204349518, 0.07429929822683334, 0.07511227577924728], 'sg-gp-0_run3': [0.05506762117147446, 0.06527018547058105, 0.07305511087179184, 0.07548914849758148, 0.07578888535499573], 'sg-gp-1e-2_run1': [0.039014462381601334, 0.055610291659832, 0.06315119564533234, 0.08083952963352203, 0.08077826350927353], 'sg-gp-1e-2_run2': [0.039832502603530884, 0.058449629694223404, 0.0806896761059761, 0.08110859245061874, 0.08120736479759216], 'sg-gp-1e-2_run3': [0.038911767303943634, 0.05483085289597511, 0.08112374693155289, 0.08073079586029053, 0.08031139522790909]})\n"
     ]
    }
   ],
   "source": [
    "%run scan_predict_alpha.py --baselines sg-gp-0_run1,sg-gp-0_run2,sg-gp-0_run3 --ours sg-gp-1e-2_run1,sg-gp-1e-2_run2,sg-gp-1e-2_run3 "
   ]
  },
  {
   "cell_type": "code",
   "execution_count": 4,
   "metadata": {},
   "outputs": [
    {
     "name": "stderr",
     "output_type": "stream",
     "text": [
      "100%|██████████| 200/200 [00:30<00:00,  6.46it/s]\n",
      "100%|██████████| 200/200 [00:31<00:00,  6.43it/s]\n",
      "100%|██████████| 200/200 [00:31<00:00,  6.30it/s]\n",
      "100%|██████████| 200/200 [00:31<00:00,  6.29it/s]\n",
      "100%|██████████| 200/200 [00:31<00:00,  6.28it/s]\n",
      "100%|██████████| 200/200 [00:31<00:00,  6.28it/s]\n",
      "100%|██████████| 200/200 [00:31<00:00,  6.28it/s]\n",
      "100%|██████████| 200/200 [00:31<00:00,  6.28it/s]\n",
      "100%|██████████| 200/200 [00:31<00:00,  6.28it/s]\n",
      "100%|██████████| 200/200 [00:31<00:00,  6.27it/s]\n",
      "100%|██████████| 200/200 [00:31<00:00,  6.28it/s]\n",
      "100%|██████████| 200/200 [00:31<00:00,  6.27it/s]\n",
      "100%|██████████| 200/200 [00:31<00:00,  6.28it/s]\n",
      "100%|██████████| 200/200 [00:31<00:00,  6.28it/s]\n",
      "100%|██████████| 200/200 [00:31<00:00,  6.27it/s]\n",
      "100%|██████████| 200/200 [00:31<00:00,  6.28it/s]\n",
      "100%|██████████| 200/200 [00:31<00:00,  6.28it/s]\n",
      "100%|██████████| 200/200 [00:31<00:00,  6.28it/s]\n",
      "100%|██████████| 200/200 [00:31<00:00,  6.28it/s]\n",
      "100%|██████████| 200/200 [00:31<00:00,  6.28it/s]\n",
      "100%|██████████| 200/200 [00:31<00:00,  6.29it/s]\n",
      "100%|██████████| 200/200 [00:31<00:00,  6.28it/s]\n",
      "100%|██████████| 200/200 [00:31<00:00,  6.29it/s]\n",
      "100%|██████████| 200/200 [00:31<00:00,  6.28it/s]\n",
      "100%|██████████| 200/200 [00:31<00:00,  6.28it/s]\n",
      "100%|██████████| 200/200 [00:31<00:00,  6.28it/s]\n",
      "100%|██████████| 200/200 [00:31<00:00,  6.28it/s]\n",
      "100%|██████████| 200/200 [00:31<00:00,  6.27it/s]\n",
      "100%|██████████| 200/200 [00:31<00:00,  6.29it/s]\n",
      "100%|██████████| 200/200 [00:31<00:00,  6.26it/s]"
     ]
    },
    {
     "name": "stdout",
     "output_type": "stream",
     "text": [
      "defaultdict(<class 'list'>, {'sg-gp-0_run1': [tensor(0.6278, device='cuda:0'), tensor(0.7346, device='cuda:0'), tensor(0.7648, device='cuda:0'), tensor(0.7774, device='cuda:0'), tensor(0.7818, device='cuda:0')], 'sg-gp-0_run2': [tensor(0.6364, device='cuda:0'), tensor(0.7418, device='cuda:0'), tensor(0.7792, device='cuda:0'), tensor(0.7952, device='cuda:0'), tensor(0.7983, device='cuda:0')], 'sg-gp-0_run3': [tensor(0.6288, device='cuda:0'), tensor(0.7315, device='cuda:0'), tensor(0.7645, device='cuda:0'), tensor(0.7813, device='cuda:0'), tensor(0.7875, device='cuda:0')], 'sg-gp-1e-2_run1': [tensor(0.0076, device='cuda:0'), tensor(0.0038, device='cuda:0'), tensor(0.0027, device='cuda:0'), tensor(0.0019, device='cuda:0'), tensor(0.0016, device='cuda:0')], 'sg-gp-1e-2_run2': [tensor(0.0081, device='cuda:0'), tensor(0.0036, device='cuda:0'), tensor(0.0024, device='cuda:0'), tensor(0.0018, device='cuda:0'), tensor(0.0016, device='cuda:0')], 'sg-gp-1e-2_run3': [tensor(0.0084, device='cuda:0'), tensor(0.0040, device='cuda:0'), tensor(0.0025, device='cuda:0'), tensor(0.0018, device='cuda:0'), tensor(0.0017, device='cuda:0')]})\n"
     ]
    },
    {
     "name": "stderr",
     "output_type": "stream",
     "text": [
      "\n"
     ]
    }
   ],
   "source": [
    "%run scan_trcov.py --baselines sg-gp-0_run1,sg-gp-0_run2,sg-gp-0_run3 --ours sg-gp-1e-2_run1,sg-gp-1e-2_run2,sg-gp-1e-2_run3 "
   ]
  },
  {
   "cell_type": "code",
   "execution_count": 9,
   "metadata": {},
   "outputs": [],
   "source": [
    "# eval reg\n",
    "eval_reg_dict = {'sg-gp-0_run1': [0.003419135697185993, 0.0033648021053522825, 0.002980790799483657, 0.0029983208514750004, 0.0029040812514722347], 'sg-gp-0_run2': [0.0032946066930890083, 0.0031374164391309023, 0.0028855286072939634, 0.00277165649458766, 0.002800622256472707], 'sg-gp-0_run3': [0.0035003020893782377, 0.003553675953298807, 0.0033992882817983627, 0.0030832672491669655, 0.003087488003075123], 'sg-gp-1e-2_run1': [0.0024159327149391174, 0.0022131900768727064, 0.0020361386705189943, 0.0019236570224165916, 0.0019148692954331636], 'sg-gp-1e-2_run2': [0.002538957865908742, 0.002370979869738221, 0.00214185519143939, 0.001930977450683713, 0.0019152038730680943], 'sg-gp-1e-2_run3': [0.0026485261041671038, 0.0022389437071979046, 0.00209100847132504, 0.0019989381544291973, 0.002033272758126259]}\n",
    "loss_alpha_dict = {'sg-gp-0_run1': [0.053633566945791245, 0.06619103997945786, 0.07193471491336823, 0.07398846745491028, 0.07458848506212234], 'sg-gp-0_run2': [0.05574514716863632, 0.06645434349775314, 0.07180549204349518, 0.07429929822683334, 0.07511227577924728], 'sg-gp-0_run3': [0.05506762117147446, 0.06527018547058105, 0.07305511087179184, 0.07548914849758148, 0.07578888535499573], 'sg-gp-1e-2_run1': [0.039014462381601334, 0.055610291659832, 0.06315119564533234, 0.08083952963352203, 0.08077826350927353], 'sg-gp-1e-2_run2': [0.039832502603530884, 0.058449629694223404, 0.0806896761059761, 0.08110859245061874, 0.08120736479759216], 'sg-gp-1e-2_run3': [0.038911767303943634, 0.05483085289597511, 0.08112374693155289, 0.08073079586029053, 0.08031139522790909]}\n",
    "trace_dict = {'sg-gp-0_run1': [tensor(0.6278, device='cuda:0'), tensor(0.7346, device='cuda:0'), tensor(0.7648, device='cuda:0'), tensor(0.7774, device='cuda:0'), tensor(0.7818, device='cuda:0')], 'sg-gp-0_run2': [tensor(0.6364, device='cuda:0'), tensor(0.7418, device='cuda:0'), tensor(0.7792, device='cuda:0'), tensor(0.7952, device='cuda:0'), tensor(0.7983, device='cuda:0')], 'sg-gp-0_run3': [tensor(0.6288, device='cuda:0'), tensor(0.7315, device='cuda:0'), tensor(0.7645, device='cuda:0'), tensor(0.7813, device='cuda:0'), tensor(0.7875, device='cuda:0')], 'sg-gp-1e-2_run1': [tensor(0.0076, device='cuda:0'), tensor(0.0038, device='cuda:0'), tensor(0.0027, device='cuda:0'), tensor(0.0019, device='cuda:0'), tensor(0.0016, device='cuda:0')], 'sg-gp-1e-2_run2': [tensor(0.0081, device='cuda:0'), tensor(0.0036, device='cuda:0'), tensor(0.0024, device='cuda:0'), tensor(0.0018, device='cuda:0'), tensor(0.0016, device='cuda:0')], 'sg-gp-1e-2_run3': [tensor(0.0084, device='cuda:0'), tensor(0.0040, device='cuda:0'), tensor(0.0025, device='cuda:0'), tensor(0.0018, device='cuda:0'), tensor(0.0017, device='cuda:0')]}"
   ]
  },
  {
   "cell_type": "code",
   "execution_count": 89,
   "metadata": {},
   "outputs": [],
   "source": [
    "def plot(A,B, name, savefile):\n",
    "    A_mean = A.mean(axis = 0)\n",
    "    B_mean = B.mean(axis = 0)\n",
    "    A_std = A.std(axis = 0)/np.sqrt(len(A))\n",
    "    B_std = B.std(axis = 0)/np.sqrt(len(B))\n",
    "    \n",
    "    epoch = [i*10 for i in range(1,6)]\n",
    "    plt.plot(epoch, A_mean, label = 'No gradient penalisation', marker = 'o')\n",
    "    plt.fill_between(epoch, A_mean -A_std, A_mean + A_std, alpha = 0.2)\n",
    "    plt.plot(epoch, B_mean, label = 'Gradient penalisation 1e-2', marker = 'x')\n",
    "    plt.fill_between(epoch, B_mean -B_std, B_mean + B_std, alpha = 0.2)\n",
    "    plt.legend()\n",
    "    plt.xlabel('Epoch')\n",
    "    plt.ylabel(name)\n",
    "    \n",
    "    destination = os.path.join('./figures', savefile)\n",
    "    plt.savefig(destination, dpi = 150, bbox_inches=\"tight\")\n",
    "    plt.show()\n",
    "    "
   ]
  },
  {
   "cell_type": "code",
   "execution_count": 85,
   "metadata": {},
   "outputs": [],
   "source": [
    "def get_array(eval_dict, name):\n",
    "    array = []\n",
    "    for i in range(1,4):\n",
    "        filename = name + '_run' + str(i)\n",
    "        array.append(torch.tensor(eval_dict[filename]))\n",
    "    return np.stack(array)\n",
    "        "
   ]
  },
  {
   "cell_type": "code",
   "execution_count": 90,
   "metadata": {},
   "outputs": [
    {
     "data": {
      "image/png": "[encoded data removed]",
      "text/plain": [
       "<Figure size 432x288 with 1 Axes>"
      ]
     },
     "metadata": {
      "needs_background": "light"
     },
     "output_type": "display_data"
    }
   ],
   "source": [
    "eval_loss_gp0 = get_array(eval_reg_dict, 'sg-gp-0')\n",
    "eval_loss_gp2 = get_array(eval_reg_dict, 'sg-gp-1e-2' )\n",
    "\n",
    "plot(eval_loss_gp0, eval_loss_gp2, 'Loss for parameter prediction', 'syn_param_loss')"
   ]
  },
  {
   "cell_type": "code",
   "execution_count": 91,
   "metadata": {},
   "outputs": [
    {
     "data": {
      "image/png": "[encoded data removed]",
      "text/plain": [
       "<Figure size 432x288 with 1 Axes>"
      ]
     },
     "metadata": {
      "needs_background": "light"
     },
     "output_type": "display_data"
    }
   ],
   "source": [
    "alpha_loss_gp0 = get_array(loss_alpha_dict, 'sg-gp-0')\n",
    "alpha_loss_gp2 = get_array(loss_alpha_dict, 'sg-gp-1e-2' )\n",
    "\n",
    "plot(alpha_loss_gp0, alpha_loss_gp2, 'Loss for alpha prediction', 'syn_alpha_loss')"
   ]
  },
  {
   "cell_type": "code",
   "execution_count": 92,
   "metadata": {},
   "outputs": [
    {
     "data": {
      "image/png": "[encoded data removed]",
      "text/plain": [
       "<Figure size 432x288 with 1 Axes>"
      ]
     },
     "metadata": {
      "needs_background": "light"
     },
     "output_type": "display_data"
    }
   ],
   "source": [
    "trace_gp0 = get_array(trace_dict, 'sg-gp-0')\n",
    "trace_gp2 = get_array(trace_dict, 'sg-gp-1e-2' )\n",
    "\n",
    "plot(trace_gp0, trace_gp2, 'Expected conditional variance',  'syn_cond_var')"
   ]
  },
  {
   "cell_type": "code",
   "execution_count": 10,
   "metadata": {},
   "outputs": [
    {
     "data": {
      "text/plain": [
       "[tensor(0.6278, device='cuda:0'),\n",
       " tensor(0.7346, device='cuda:0'),\n",
       " tensor(0.7648, device='cuda:0'),\n",
       " tensor(0.7774, device='cuda:0'),\n",
       " tensor(0.7818, device='cuda:0')]"
      ]
     },
     "execution_count": 10,
     "metadata": {},
     "output_type": "execute_result"
    }
   ],
   "source": [
    "trace_dict['sg-gp-0_run1']"
   ]
  },
  {
   "cell_type": "code",
   "execution_count": 6,
   "metadata": {},
   "outputs": [
    {
     "data": {
      "text/plain": [
       "[0.003419135697185993,\n",
       " 0.0033648021053522825,\n",
       " 0.002980790799483657,\n",
       " 0.0029983208514750004,\n",
       " 0.0029040812514722347]"
      ]
     },
     "execution_count": 6,
     "metadata": {},
     "output_type": "execute_result"
    }
   ],
   "source": [
    "eval_reg_dict['sg-gp-0_run1']"
   ]
  }
 ],
 "metadata": {
  "kernelspec": {
   "display_name": "Python 3",
   "language": "python",
   "name": "python3"
  },
  "language_info": {
   "codemirror_mode": {
    "name": "ipython",
    "version": 3
   },
   "file_extension": ".py",
   "mimetype": "text/x-python",
   "name": "python",
   "nbconvert_exporter": "python",
   "pygments_lexer": "ipython3",
   "version": "3.6.8"
  }
 },
 "nbformat": 4,
 "nbformat_minor": 4
}

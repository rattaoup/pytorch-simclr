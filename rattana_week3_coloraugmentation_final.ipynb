{
 "cells": [
  {
   "cell_type": "code",
   "execution_count": 2,
   "metadata": {},
   "outputs": [],
   "source": [
    "import os\n",
    "import torch\n",
    "import torchvision\n",
    "from torchvision import transforms\n",
    "import torch.nn as nn\n",
    "import numpy as np\n",
    "from configs import get_datasets\n",
    "from critic import LinearCritic\n",
    "import matplotlib.pyplot as plt\n",
    "import numpy as np\n",
    "import torchvision\n",
    "from PIL import Image\n",
    "from models import *\n",
    "import torch.backends.cudnn as cudnn\n",
    "from tqdm import tqdm\n",
    "import math\n",
    "import seaborn as sns\n",
    "\n",
    "\n",
    "import torch\n",
    "import numbers\n",
    "import random\n",
    "from torch import Tensor\n",
    "\n",
    "\n",
    "### config ####\n",
    "num_workers = 2\n",
    "batch_size = 512\n",
    "img_size = 32\n",
    "temperature = 0.5\n",
    "dataset = 'cifar10'\n",
    "CACHED_MEAN_STD = {\n",
    "        'cifar10': ((0.4914, 0.4822, 0.4465), (0.2023, 0.1994, 0.2010)),\n",
    "        'cifar100': ((0.5071, 0.4865, 0.4409), (0.2009, 0.1984, 0.2023)),\n",
    "        'stl10': ((0.4409, 0.4279, 0.3868), (0.2309, 0.2262, 0.2237)),\n",
    "        'imagenet': ((0.485, 0.456, 0.406), (0.229, 0.224, 0.225))\n",
    "    }\n",
    "\n",
    "device = 'cuda' if torch.cuda.is_available() else 'cpu'"
   ]
  },
  {
   "cell_type": "code",
   "execution_count": 3,
   "metadata": {},
   "outputs": [
    {
     "name": "stdout",
     "output_type": "stream",
     "text": [
      "Files already downloaded and verified\n",
      "Files already downloaded and verified\n"
     ]
    },
    {
     "data": {
      "text/plain": [
       "<matplotlib.image.AxesImage at 0x7f24cf564438>"
      ]
     },
     "execution_count": 3,
     "metadata": {},
     "output_type": "execute_result"
    },
    {
     "data": {
      "image/png": "[encoded data removed]",
      "text/plain": [
       "<Figure size 432x288 with 1 Axes>"
      ]
     },
     "metadata": {
      "needs_background": "light"
     },
     "output_type": "display_data"
    }
   ],
   "source": [
    "root = '/data/cifar10/'\n",
    "train = torchvision.datasets.CIFAR10(root = root, train=True, download=True)\n",
    "test = torchvision.datasets.CIFAR10(root = root, train = False, download = True)\n",
    "pic = train[19][0]\n",
    "plt.imshow(pic)"
   ]
  },
  {
   "cell_type": "code",
   "execution_count": 4,
   "metadata": {},
   "outputs": [
    {
     "name": "stdout",
     "output_type": "stream",
     "text": [
      "Files already downloaded and verified\n",
      "Files already downloaded and verified\n",
      "Files already downloaded and verified\n"
     ]
    }
   ],
   "source": [
    "trainset, testset, clftrainset, num_classes, stem = get_datasets(dataset)\n",
    "\n",
    "trainloader = torch.utils.data.DataLoader(trainset, batch_size=batch_size, shuffle=True,\n",
    "                                          num_workers=num_workers, pin_memory=True)\n",
    "testloader = torch.utils.data.DataLoader(testset, batch_size=1000, shuffle=False, num_workers=num_workers,\n",
    "                                         pin_memory=True)\n",
    "clftrainloader = torch.utils.data.DataLoader(clftrainset, batch_size=1000, shuffle=False, num_workers=num_workers,\n",
    "                                             pin_memory=True)"
   ]
  },
  {
   "cell_type": "code",
   "execution_count": 8,
   "metadata": {},
   "outputs": [],
   "source": [
    "# functions to show an image\n",
    "def imshow(img):\n",
    "    #img = img / 2 + 0.5     \n",
    "    npimg = img.numpy()\n",
    "    plt.imshow(np.transpose(npimg, (1, 2, 0)))\n",
    "    plt.show()\n",
    "    \n",
    "    \n",
    "transform_train = transforms.Compose([\n",
    "        transforms.RandomResizedCrop(img_size, interpolation=Image.BICUBIC),\n",
    "        transforms.RandomHorizontalFlip(),\n",
    "        # ColourDistortion(s=0.5),\n",
    "        transforms.ToTensor(),\n",
    "        # transforms.Normalize(*CACHED_MEAN_STD[dataset]),\n",
    "    ])"
   ]
  },
  {
   "cell_type": "code",
   "execution_count": 16,
   "metadata": {},
   "outputs": [
    {
     "data": {
      "image/png": "[encoded data removed]",
      "text/plain": [
       "<Figure size 432x288 with 1 Axes>"
      ]
     },
     "metadata": {
      "needs_background": "light"
     },
     "output_type": "display_data"
    }
   ],
   "source": [
    "pic = train[19][0]\n",
    "imshow(transform_train(pic))"
   ]
  },
  {
   "cell_type": "markdown",
   "metadata": {},
   "source": [
    "# Load batch data for test"
   ]
  },
  {
   "cell_type": "code",
   "execution_count": 17,
   "metadata": {},
   "outputs": [
    {
     "name": "stderr",
     "output_type": "stream",
     "text": [
      "Loss: **** ██████████| 98/98 [00:11<00:00,  8.30it/s]\n"
     ]
    }
   ],
   "source": [
    "t = tqdm(enumerate(trainloader), desc='Loss: **** ', total=len(trainloader), bar_format='{desc}{bar}{r_bar}')\n",
    "for batch_idx, (inputs, _, _) in t:\n",
    "        x1, x2 = inputs\n",
    "        x1, x2 = x1.to('cuda'), x2.to('cuda')"
   ]
  },
  {
   "cell_type": "markdown",
   "metadata": {},
   "source": [
    "# Final color augmentation class "
   ]
  },
  {
   "cell_type": "code",
   "execution_count": 31,
   "metadata": {},
   "outputs": [],
   "source": [
    "class DifferentiableColourDistortionByTorch3(nn.Module):\n",
    "    \n",
    "    def __init__(self, brightness=0, contrast=0, saturation=0, hue=0):\n",
    "        super().__init__()\n",
    "        self.brightness = self._check_input(brightness, 'brightness')\n",
    "        self.contrast = self._check_input(contrast, 'contrast')\n",
    "        self.saturation = self._check_input(saturation, 'saturation')\n",
    "        self.hue = self._check_input(hue, 'hue', center=0, bound=(-0.5, 0.5),\n",
    "                                     clip_first_on_zero=False)\n",
    "\n",
    "\n",
    "    def _check_input(self, value, name, center=1, bound=(0, float('inf')), clip_first_on_zero=True):\n",
    "        if isinstance(value, numbers.Number):\n",
    "            if value < 0:\n",
    "                raise ValueError(\"If {} is a single number, it must be non negative.\".format(name))\n",
    "            value = [center - float(value), center + float(value)]\n",
    "            if clip_first_on_zero:\n",
    "                value[0] = max(value[0], 0.0)\n",
    "        elif isinstance(value, (tuple, list)) and len(value) == 2:\n",
    "            if not bound[0] <= value[0] <= value[1] <= bound[1]:\n",
    "                raise ValueError(\"{} values should be between {}\".format(name, bound))\n",
    "        else:\n",
    "            raise TypeError(\"{} should be a single number or a list/tuple with lenght 2.\".format(name))\n",
    "\n",
    "        # if value is 0 or (1., 1.) for brightness/contrast/saturation\n",
    "        # or (0., 0.) for hue, do nothing\n",
    "        if value[0] == value[1] == center:\n",
    "            value = None\n",
    "        return value\n",
    "    \n",
    "    #### batch color augmentation forward #####\n",
    "    \n",
    "    def forward(self, x):\n",
    "        '''\n",
    "        Args:\n",
    "            x: Input tensor batchsize x 32 x 32\n",
    "        \n",
    "        Returns:\n",
    "            x_aug : color jittered image\n",
    "            \n",
    "        apply color jitter with prob 0.8\n",
    "        apply random grayscale with prob 0.2\n",
    "        \n",
    "        '''\n",
    "        batch_size = x.size()[0]\n",
    "        \n",
    "        p_jitter = torch.ones(batch_size) * 0.8\n",
    "        jitter = torch.bernoulli(p_jitter)\n",
    "        jitter = jitter.reshape(batch_size,1,1,1)\n",
    "\n",
    "        p_gray = torch.ones(batch_size)* 0.2\n",
    "        gray = torch.bernoulli(p_gray)\n",
    "        gray = gray.reshape(batch_size,1,1,1)\n",
    "\n",
    "        jitter = jitter.to(x.device)\n",
    "        gray = gray.to(x.device)\n",
    "        \n",
    "        #random color jitter\n",
    "        x_jitter = self.batch_colourjitter(x)\n",
    "        x = x_jitter * jitter + x *(1-jitter)\n",
    "        \n",
    "        #random gray scale\n",
    "        x_gray = self.batch_rgb_to_grayscale(x).unsqueeze(1)\n",
    "        x = x_gray * gray + x* (1-gray)\n",
    "       \n",
    "        return x\n",
    "    \n",
    "    \n",
    "    def batch_colourjitter(self, img: Tensor) -> Tensor:\n",
    "        \n",
    "        fn_idx = torch.randperm(4)\n",
    "        for fn_id in fn_idx:\n",
    "            if fn_id == 0 and self.brightness is not None:\n",
    "                brightness_bound = self.brightness\n",
    "                img = self.batch_adjust_brightness(img, brightness_bound)\n",
    "\n",
    "            if fn_id == 1 and self.contrast is not None:\n",
    "                contrast_bound = self.contrast\n",
    "                img = self.batch_adjust_contrast(img, contrast_bound)\n",
    "\n",
    "            if fn_id == 2 and self.saturation is not None:\n",
    "                saturation_bound = self.saturation\n",
    "                img = self.batch_adjust_saturation(img, saturation_bound)\n",
    "\n",
    "            if fn_id == 3 and self.hue is not None:\n",
    "                hue_bound = self.hue\n",
    "                img = self.batch_adjust_hue(img, hue_bound)\n",
    "\n",
    "        return img\n",
    "        \n",
    "\n",
    "    def __repr__(self):\n",
    "        format_string = self.__class__.__name__ + '('\n",
    "        format_string += 'brightness={0}'.format(self.brightness)\n",
    "        format_string += ', contrast={0}'.format(self.contrast)\n",
    "        format_string += ', saturation={0}'.format(self.saturation)\n",
    "        format_string += ', hue={0})'.format(self.hue)\n",
    "        return format_string\n",
    "                \n",
    "    ##### function from pytorch source code #####\n",
    "    def _is_tensor_a_torch_image(self, x: Tensor) -> bool:\n",
    "        return x.ndim >= 2\n",
    "    \n",
    "    def _blend(self, img1: Tensor, img2: Tensor, ratio: float) -> Tensor:\n",
    "        bound = 1 if img1.dtype in [torch.half, torch.float32, torch.float64] else 255\n",
    "        return (ratio * img1 + (1 - ratio) * img2).clamp(0, bound).to(img1.dtype)\n",
    "    \n",
    "    # batch adjust brightness\n",
    "    def batch_adjust_brightness(self,img: Tensor, brightness_bound: list) -> Tensor:\n",
    "        '''\n",
    "        Batch x C x H x  W -> Batch x C x H x W\n",
    "        '''\n",
    "        B = img.size()[0]\n",
    "        brightness_list = torch.torch.rand(B)*(brightness_bound[1] - brightness_bound[0]) + brightness_bound[0]\n",
    "        brightness_factor = brightness_list.reshape(B,1,1,1).to(img.device)\n",
    "        return self._blend(img, torch.zeros_like(img), brightness_factor)\n",
    "    \n",
    "    def batch_rgb_to_grayscale(self,img: Tensor) -> Tensor:\n",
    "        '''\n",
    "        Batch x C x H x  W -> Batch x C x H x W\n",
    "        '''\n",
    "        if img.shape[1] != 3:\n",
    "            raise TypeError('Input Image does not contain 3 Channels')\n",
    "\n",
    "        img_tp = img.transpose(0,1)\n",
    "        img_gray = (0.2989 * img_tp[0] + 0.5870 * img_tp[1] + 0.1140 * img_tp[2])\n",
    "        return img_gray\n",
    "    \n",
    "    def batch_adjust_saturation(self,img: Tensor, saturation_bound: list) -> Tensor:\n",
    "        '''\n",
    "        Batch x C x H x  W -> Batch x C x H x W\n",
    "        '''\n",
    "\n",
    "        B = img.size()[0]\n",
    "        saturation_list = torch.torch.rand(B)*(saturation_bound[1] - saturation_bound[0]) + saturation_bound[0]\n",
    "        saturation_factor = saturation_list.reshape(B,1,1,1).to(img.device)\n",
    "    #     print(saturation_factor.size())\n",
    "\n",
    "        return self._blend(img, self.batch_rgb_to_grayscale(img).unsqueeze(1), saturation_factor)\n",
    "    \n",
    "    def batch_adjust_contrast(self,img: Tensor, contrast_bound: float) -> Tensor:\n",
    "        '''\n",
    "        Batch x C x H x  W -> Batch x C x H x W\n",
    "        '''\n",
    "        B = img.size()[0]\n",
    "        contrast_list = torch.torch.rand(B)*(contrast_bound[1] - contrast_bound[0]) + contrast_bound[0]\n",
    "        contrast_list = contrast_list.reshape(B,1,1,1).to(img.device)\n",
    "\n",
    "        #mean for each pic (over HxW points)\n",
    "        img_gray = self.batch_rgb_to_grayscale(img)\n",
    "        mean = torch.mean(img_gray.reshape(img_gray.shape[0],-1), dim = 1)\n",
    "\n",
    "\n",
    "        return self._blend(img, mean.reshape([mean.size()[0],1,1,1]),  contrast_list)\n",
    "    \n",
    "    def batch_adjust_hue(self, img: Tensor, hue_bound: list) -> Tensor:\n",
    "        '''\n",
    "        Batch x C x H x  W -> Batch x C x H x W\n",
    "        '''\n",
    "\n",
    "        B = img.size()[0]\n",
    "        theta = (torch.torch.rand(B)*(hue_bound[1]-hue_bound[0]) + hue_bound[0])* 3.1415* 2\n",
    "\n",
    "        # generate tensor \n",
    "        one_tensor = torch.ones(B)\n",
    "        zero_tensor = torch.zeros(B)\n",
    "        cos_tensor = torch.cos(theta)\n",
    "        sin_tensor = torch.sin(theta)\n",
    "\n",
    "        #stack\n",
    "        T_hue = torch.stack([one_tensor, zero_tensor, zero_tensor,\n",
    "                     zero_tensor, cos_tensor, -sin_tensor,\n",
    "                     zero_tensor, sin_tensor, cos_tensor]).transpose(0,1).reshape(B,3,3)\n",
    "\n",
    "        T_yiq = torch.tensor([[0.299, 0.587, 0.114], [0.596, -0.274, -0.321], [0.211, -0.523, 0.311]])\n",
    "        T_rgb = torch.tensor([[1, 0.956, 0.621], [1, -0.272, -0.647], [1, -1.107, 1.705]])\n",
    "        T_final = torch.matmul(torch.matmul(T_rgb, T_hue), T_yiq)\n",
    "        T_final = T_final.to(img.device)\n",
    "\n",
    "        #return T_rgb x T_hue x T_yiq x img\n",
    "\n",
    "        return torch.matmul(T_final.unsqueeze(1).unsqueeze(1), img.transpose(1,-1).unsqueeze(-1)).squeeze(-1).transpose(1,-1)\n",
    "\n",
    "    \n",
    "    \n"
   ]
  },
  {
   "cell_type": "code",
   "execution_count": 32,
   "metadata": {},
   "outputs": [],
   "source": [
    "aug =  DifferentiableColourDistortionByTorch3(brightness=0.8, contrast=0.8, saturation=0.8, hue=0.2)\n",
    "aug_x1 = aug(x1)"
   ]
  },
  {
   "cell_type": "code",
   "execution_count": 33,
   "metadata": {},
   "outputs": [
    {
     "data": {
      "text/plain": [
       "torch.Size([336, 3, 32, 32])"
      ]
     },
     "execution_count": 33,
     "metadata": {},
     "output_type": "execute_result"
    }
   ],
   "source": [
    "aug_x1.size()"
   ]
  },
  {
   "cell_type": "code",
   "execution_count": 34,
   "metadata": {},
   "outputs": [
    {
     "data": {
      "image/png": "[encoded data removed]",
      "text/plain": [
       "<Figure size 432x288 with 1 Axes>"
      ]
     },
     "metadata": {
      "needs_background": "light"
     },
     "output_type": "display_data"
    }
   ],
   "source": [
    "imshow(x1[0].to('cpu'))"
   ]
  },
  {
   "cell_type": "code",
   "execution_count": 35,
   "metadata": {},
   "outputs": [
    {
     "data": {
      "image/png": "[encoded data removed]",
      "text/plain": [
       "<Figure size 432x288 with 1 Axes>"
      ]
     },
     "metadata": {
      "needs_background": "light"
     },
     "output_type": "display_data"
    }
   ],
   "source": [
    "imshow(aug_x1[0].to('cpu'))"
   ]
  },
  {
   "cell_type": "code",
   "execution_count": 36,
   "metadata": {},
   "outputs": [
    {
     "data": {
      "image/png": "[encoded data removed]",
      "text/plain": [
       "<Figure size 432x288 with 1 Axes>"
      ]
     },
     "metadata": {
      "needs_background": "light"
     },
     "output_type": "display_data"
    }
   ],
   "source": [
    "imshow(x1[1].to('cpu'))"
   ]
  },
  {
   "cell_type": "code",
   "execution_count": 37,
   "metadata": {},
   "outputs": [
    {
     "data": {
      "image/png": "[encoded data removed]",
      "text/plain": [
       "<Figure size 432x288 with 1 Axes>"
      ]
     },
     "metadata": {
      "needs_background": "light"
     },
     "output_type": "display_data"
    }
   ],
   "source": [
    "imshow(aug_x1[1].to('cpu'))"
   ]
  },
  {
   "cell_type": "code",
   "execution_count": 38,
   "metadata": {},
   "outputs": [
    {
     "data": {
      "image/png": "[encoded data removed]",
      "text/plain": [
       "<Figure size 432x288 with 1 Axes>"
      ]
     },
     "metadata": {
      "needs_background": "light"
     },
     "output_type": "display_data"
    }
   ],
   "source": [
    "imshow(x1[7].to('cpu'))"
   ]
  },
  {
   "cell_type": "code",
   "execution_count": 39,
   "metadata": {},
   "outputs": [
    {
     "data": {
      "image/png": "[encoded data removed]",
      "text/plain": [
       "<Figure size 432x288 with 1 Axes>"
      ]
     },
     "metadata": {
      "needs_background": "light"
     },
     "output_type": "display_data"
    }
   ],
   "source": [
    "imshow(aug_x1[7].to('cpu'))"
   ]
  },
  {
   "cell_type": "code",
   "execution_count": null,
   "metadata": {},
   "outputs": [],
   "source": []
  },
  {
   "cell_type": "code",
   "execution_count": null,
   "metadata": {},
   "outputs": [],
   "source": []
  }
 ],
 "metadata": {
  "kernelspec": {
   "display_name": "Python 3",
   "language": "python",
   "name": "python3"
  },
  "language_info": {
   "codemirror_mode": {
    "name": "ipython",
    "version": 3
   },
   "file_extension": ".py",
   "mimetype": "text/x-python",
   "name": "python",
   "nbconvert_exporter": "python",
   "pygments_lexer": "ipython3",
   "version": "3.6.8"
  }
 },
 "nbformat": 4,
 "nbformat_minor": 4
}

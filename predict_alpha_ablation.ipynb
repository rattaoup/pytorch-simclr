{
 "cells": [
  {
   "cell_type": "code",
   "execution_count": 1,
   "metadata": {},
   "outputs": [],
   "source": [
    "'''Train CIFAR10/100 with PyTorch using standard Contrastive Learning. This script tunes evaluates the invariance of\n",
    "the learned representations.'''\n",
    "import torch\n",
    "import torch.backends.cudnn as cudnn\n",
    "\n",
    "import math\n",
    "import os\n",
    "import argparse\n",
    "\n",
    "from augmentation import ColourDistortion, TensorNormalise, ModuleCompose\n",
    "from models import *\n",
    "from configs import get_datasets, get_mean_std\n",
    "from evaluate import train_reg, test_reg"
   ]
  },
  {
   "cell_type": "code",
   "execution_count": 28,
   "metadata": {},
   "outputs": [],
   "source": [
    "def predict_alpha(load_from):\n",
    "    \n",
    "    num_workers = 2\n",
    "    reg_lower = -6\n",
    "    reg_upper = -4\n",
    "    num_steps = 3\n",
    "\n",
    "    # Load checkpoint.\n",
    "    print('==> Loading settings from checkpoint..')\n",
    "    assert os.path.isdir('checkpoint'), 'Error: no checkpoint directory found!'\n",
    "    resume_from = os.path.join('./checkpoint', load_from)\n",
    "    checkpoint = torch.load(resume_from)\n",
    "    dataset = checkpoint['args']['dataset']\n",
    "    arch = checkpoint['args']['arch']\n",
    "\n",
    "    device = 'cuda' if torch.cuda.is_available() else 'cpu'\n",
    "\n",
    "    # Data\n",
    "    print('==> Preparing data..')\n",
    "    _, testset, clftrainset, _, stem, col_distort, batch_transform = get_datasets(\n",
    "        dataset, augment_clf_train=True, augment_test=True)\n",
    "\n",
    "    testloader = torch.utils.data.DataLoader(testset, batch_size=1000, shuffle=False, num_workers=num_workers,\n",
    "                                             pin_memory=True)\n",
    "    clftrainloader = torch.utils.data.DataLoader(clftrainset, batch_size=1000, shuffle=False, num_workers=num_workers,\n",
    "                                                 pin_memory=True)\n",
    "\n",
    "    # Model\n",
    "    print('==> Building model..')\n",
    "    ##############################################################\n",
    "    # Encoder\n",
    "    ##############################################################\n",
    "    if arch == 'resnet18':\n",
    "        net = ResNet18(stem=stem)\n",
    "    elif arch == 'resnet34':\n",
    "        net = ResNet34(stem=stem)\n",
    "    elif arch == 'resnet50':\n",
    "        net = ResNet50(stem=stem)\n",
    "    else:\n",
    "        raise ValueError(\"Bad architecture specification\")\n",
    "    net = net.to(device)\n",
    "\n",
    "    if device == 'cuda':\n",
    "        repr_dim = net.representation_dim\n",
    "        net = torch.nn.DataParallel(net)\n",
    "        net.representation_dim = repr_dim\n",
    "        cudnn.benchmark = True\n",
    "\n",
    "    print('==> Loading encoder from checkpoint..')\n",
    "    net.load_state_dict(checkpoint['net'])\n",
    "\n",
    "    batch_transform = batch_transform.to(device)\n",
    "\n",
    "\n",
    "    def create_dataset(clftrainloader, device, net, target=None):\n",
    "        if target is None:\n",
    "            target = device\n",
    "\n",
    "        net.eval()\n",
    "\n",
    "        with torch.no_grad():\n",
    "            store = []\n",
    "            for batch_idx, (inputs, _) in enumerate(clftrainloader):\n",
    "                inputs = inputs.to(device)\n",
    "                rn = col_distort.sample_random_numbers(inputs.shape, inputs.device)\n",
    "                inputs = batch_transform(inputs, rn)\n",
    "                representation = net(inputs)\n",
    "                representation = representation.to(target)\n",
    "                store.append((representation, rn))\n",
    "\n",
    "            Xi, y = zip(*store)\n",
    "            Xi, y = torch.cat(Xi, dim=0), torch.cat(y, dim=0)\n",
    "\n",
    "        return Xi, y\n",
    "\n",
    "\n",
    "    best_loss = float('inf')\n",
    "    X, y = create_dataset(clftrainloader, device, net)\n",
    "    X_test, y_test = create_dataset(testloader, device, net)\n",
    "    for reg_weight in torch.exp(math.log(10) * torch.linspace(reg_lower, reg_upper, num_steps,\n",
    "                                                              dtype=torch.float, device=device)):\n",
    "        clf = train_reg(X, y, device, reg_weight=reg_weight)\n",
    "        loss = test_reg(X_test, y_test, clf)\n",
    "        if loss < best_loss:\n",
    "            best_loss = loss\n",
    "    print(\"Best test loss\", best_loss)\n",
    "    return best_loss"
   ]
  },
  {
   "cell_type": "code",
   "execution_count": 7,
   "metadata": {},
   "outputs": [
    {
     "name": "stdout",
     "output_type": "stream",
     "text": [
      "==> Loading settings from checkpoint..\n",
      "==> Preparing data..\n",
      "Files already downloaded and verified\n",
      "Files already downloaded and verified\n",
      "Files already downloaded and verified\n",
      "==> Building model..\n",
      "==> Loading encoder from checkpoint..\n"
     ]
    },
    {
     "name": "stderr",
     "output_type": "stream",
     "text": [
      "Loss: 0.03554:           | 0/500 [00:00<?, ?it/s]               "
     ]
    },
    {
     "name": "stdout",
     "output_type": "stream",
     "text": [
      "\n",
      "L2 Regularization weight: 1e-06\n"
     ]
    },
    {
     "name": "stderr",
     "output_type": "stream",
     "text": [
      "Loss: 0.03140: ██████████| 500/500 [00:06<00:00, 75.55it/s]\n",
      "Loss: 0.03558:           | 0/500 [00:00<?, ?it/s]               "
     ]
    },
    {
     "name": "stdout",
     "output_type": "stream",
     "text": [
      "Loss: 0.03187\n",
      "\n",
      "L2 Regularization weight: 0.0001\n"
     ]
    },
    {
     "name": "stderr",
     "output_type": "stream",
     "text": [
      "Loss: 0.03147: ██████████| 500/500 [00:06<00:00, 77.54it/s] \n",
      "Loss: 0.03715:           | 0/500 [00:00<?, ?it/s]               "
     ]
    },
    {
     "name": "stdout",
     "output_type": "stream",
     "text": [
      "Loss: 0.03185\n",
      "\n",
      "L2 Regularization weight: 0.01\n"
     ]
    },
    {
     "name": "stderr",
     "output_type": "stream",
     "text": [
      "Loss: 0.03406: ██████████| 500/500 [00:02<00:00, 187.29it/s]\n"
     ]
    },
    {
     "name": "stdout",
     "output_type": "stream",
     "text": [
      "Loss: 0.03286\n",
      "Best test loss 0.0318523570895195\n"
     ]
    },
    {
     "data": {
      "text/plain": [
       "0.0318523570895195"
      ]
     },
     "execution_count": 7,
     "metadata": {},
     "output_type": "execute_result"
    }
   ],
   "source": [
    "predict_alpha('inv-gp-0_run1_epoch049.pth')"
   ]
  },
  {
   "cell_type": "code",
   "execution_count": 8,
   "metadata": {},
   "outputs": [
    {
     "name": "stdout",
     "output_type": "stream",
     "text": [
      "==> Loading settings from checkpoint..\n",
      "==> Preparing data..\n",
      "Files already downloaded and verified\n",
      "Files already downloaded and verified\n",
      "Files already downloaded and verified\n",
      "==> Building model..\n",
      "==> Loading encoder from checkpoint..\n"
     ]
    },
    {
     "name": "stderr",
     "output_type": "stream",
     "text": [
      "Loss: 0.03952:           | 0/500 [00:00<?, ?it/s]               "
     ]
    },
    {
     "name": "stdout",
     "output_type": "stream",
     "text": [
      "\n",
      "L2 Regularization weight: 1e-06\n"
     ]
    },
    {
     "name": "stderr",
     "output_type": "stream",
     "text": [
      "Loss: 0.03260: ██████████| 500/500 [01:20<00:00,  6.21it/s]\n",
      "Loss: 0.03501:           | 1/500 [00:00<00:50,  9.83it/s]       "
     ]
    },
    {
     "name": "stdout",
     "output_type": "stream",
     "text": [
      "Loss: 0.03279\n",
      "\n",
      "L2 Regularization weight: 0.0001\n"
     ]
    },
    {
     "name": "stderr",
     "output_type": "stream",
     "text": [
      "Loss: 0.03301: ██████████| 500/500 [00:35<00:00, 14.21it/s]\n",
      "Loss: 0.04968:           | 1/500 [00:00<00:50,  9.86it/s]       "
     ]
    },
    {
     "name": "stdout",
     "output_type": "stream",
     "text": [
      "Loss: 0.03277\n",
      "\n",
      "L2 Regularization weight: 0.01\n"
     ]
    },
    {
     "name": "stderr",
     "output_type": "stream",
     "text": [
      "Loss: 0.03788: ██████████| 500/500 [00:11<00:00, 42.05it/s]"
     ]
    },
    {
     "name": "stdout",
     "output_type": "stream",
     "text": [
      "Loss: 0.03639\n",
      "Best test loss 0.03277059271931648\n"
     ]
    },
    {
     "name": "stderr",
     "output_type": "stream",
     "text": [
      "\n"
     ]
    },
    {
     "data": {
      "text/plain": [
       "0.03277059271931648"
      ]
     },
     "execution_count": 8,
     "metadata": {},
     "output_type": "execute_result"
    }
   ],
   "source": [
    "predict_alpha('inv-gp-1_norm_run1_epoch049.pth')"
   ]
  },
  {
   "cell_type": "code",
   "execution_count": 10,
   "metadata": {},
   "outputs": [
    {
     "name": "stdout",
     "output_type": "stream",
     "text": [
      "==> Loading settings from checkpoint..\n",
      "==> Preparing data..\n",
      "Files already downloaded and verified\n",
      "Files already downloaded and verified\n",
      "Files already downloaded and verified\n",
      "==> Building model..\n",
      "==> Loading encoder from checkpoint..\n"
     ]
    },
    {
     "name": "stderr",
     "output_type": "stream",
     "text": [
      "Loss: 0.03605:           | 0/500 [00:00<?, ?it/s]               "
     ]
    },
    {
     "name": "stdout",
     "output_type": "stream",
     "text": [
      "\n",
      "L2 Regularization weight: 1e-06\n"
     ]
    },
    {
     "name": "stderr",
     "output_type": "stream",
     "text": [
      "Loss: 0.03341: ██████████| 500/500 [00:04<00:00, 115.62it/s]\n",
      "Loss: 0.03578:           | 0/500 [00:00<?, ?it/s]               "
     ]
    },
    {
     "name": "stdout",
     "output_type": "stream",
     "text": [
      "Loss: 0.03364\n",
      "\n",
      "L2 Regularization weight: 0.0001\n"
     ]
    },
    {
     "name": "stderr",
     "output_type": "stream",
     "text": [
      "Loss: 0.03347: ██████████| 500/500 [00:04<00:00, 116.79it/s]\n",
      "Loss: 0.03775:           | 0/500 [00:00<?, ?it/s]               "
     ]
    },
    {
     "name": "stdout",
     "output_type": "stream",
     "text": [
      "Loss: 0.03363\n",
      "\n",
      "L2 Regularization weight: 0.01\n"
     ]
    },
    {
     "name": "stderr",
     "output_type": "stream",
     "text": [
      "Loss: 0.03598: ██████████| 500/500 [00:02<00:00, 217.90it/s]\n"
     ]
    },
    {
     "name": "stdout",
     "output_type": "stream",
     "text": [
      "Loss: 0.03459\n",
      "Best test loss 0.033630046993494034\n"
     ]
    },
    {
     "data": {
      "text/plain": [
       "0.033630046993494034"
      ]
     },
     "execution_count": 10,
     "metadata": {},
     "output_type": "execute_result"
    }
   ],
   "source": [
    "predict_alpha('inv-gp-0_run1_epoch199.pth')"
   ]
  },
  {
   "cell_type": "code",
   "execution_count": 12,
   "metadata": {},
   "outputs": [
    {
     "name": "stdout",
     "output_type": "stream",
     "text": [
      "==> Loading settings from checkpoint..\n",
      "==> Preparing data..\n",
      "Files already downloaded and verified\n",
      "Files already downloaded and verified\n",
      "Files already downloaded and verified\n",
      "==> Building model..\n",
      "==> Loading encoder from checkpoint..\n"
     ]
    },
    {
     "name": "stderr",
     "output_type": "stream",
     "text": [
      "Loss: 0.03569:           | 0/500 [00:00<?, ?it/s]               "
     ]
    },
    {
     "name": "stdout",
     "output_type": "stream",
     "text": [
      "\n",
      "L2 Regularization weight: 1e-06\n"
     ]
    },
    {
     "name": "stderr",
     "output_type": "stream",
     "text": [
      "Loss: 0.03302: ██████████| 500/500 [00:04<00:00, 104.24it/s]\n",
      "Loss: 0.03597:           | 0/500 [00:00<?, ?it/s]               "
     ]
    },
    {
     "name": "stdout",
     "output_type": "stream",
     "text": [
      "Loss: 0.03352\n",
      "\n",
      "L2 Regularization weight: 0.0001\n"
     ]
    },
    {
     "name": "stderr",
     "output_type": "stream",
     "text": [
      "Loss: 0.03308: ██████████| 500/500 [00:04<00:00, 107.47it/s]\n",
      "Loss: 0.03765:           | 1/500 [00:00<00:51,  9.70it/s]       "
     ]
    },
    {
     "name": "stdout",
     "output_type": "stream",
     "text": [
      "Loss: 0.03351\n",
      "\n",
      "L2 Regularization weight: 0.01\n"
     ]
    },
    {
     "name": "stderr",
     "output_type": "stream",
     "text": [
      "Loss: 0.03553: ██████████| 500/500 [00:02<00:00, 191.10it/s]\n"
     ]
    },
    {
     "name": "stdout",
     "output_type": "stream",
     "text": [
      "Loss: 0.03449\n",
      "Best test loss 0.03351476415991783\n"
     ]
    },
    {
     "data": {
      "text/plain": [
       "0.03351476415991783"
      ]
     },
     "execution_count": 12,
     "metadata": {},
     "output_type": "execute_result"
    }
   ],
   "source": [
    "predict_alpha('inv-gp-0_run2_epoch199.pth')"
   ]
  },
  {
   "cell_type": "code",
   "execution_count": 11,
   "metadata": {},
   "outputs": [
    {
     "name": "stdout",
     "output_type": "stream",
     "text": [
      "==> Loading settings from checkpoint..\n",
      "==> Preparing data..\n",
      "Files already downloaded and verified\n",
      "Files already downloaded and verified\n",
      "Files already downloaded and verified\n",
      "==> Building model..\n",
      "==> Loading encoder from checkpoint..\n"
     ]
    },
    {
     "name": "stderr",
     "output_type": "stream",
     "text": [
      "Loss: 0.03449:           | 0/500 [00:00<?, ?it/s]               "
     ]
    },
    {
     "name": "stdout",
     "output_type": "stream",
     "text": [
      "\n",
      "L2 Regularization weight: 1e-06\n"
     ]
    },
    {
     "name": "stderr",
     "output_type": "stream",
     "text": [
      "Loss: 0.03314: ██████████| 500/500 [00:14<00:00, 35.30it/s]\n",
      "Loss: 0.04322:           | 0/500 [00:00<?, ?it/s]               "
     ]
    },
    {
     "name": "stdout",
     "output_type": "stream",
     "text": [
      "Loss: 0.03405\n",
      "\n",
      "L2 Regularization weight: 0.0001\n"
     ]
    },
    {
     "name": "stderr",
     "output_type": "stream",
     "text": [
      "Loss: 0.03332: ██████████| 500/500 [00:23<00:00, 21.62it/s]\n",
      "Loss: 0.04093:           | 0/500 [00:00<?, ?it/s]               "
     ]
    },
    {
     "name": "stdout",
     "output_type": "stream",
     "text": [
      "Loss: 0.03404\n",
      "\n",
      "L2 Regularization weight: 0.01\n"
     ]
    },
    {
     "name": "stderr",
     "output_type": "stream",
     "text": [
      "Loss: 0.03716: ██████████| 500/500 [00:11<00:00, 42.80it/s]\n"
     ]
    },
    {
     "name": "stdout",
     "output_type": "stream",
     "text": [
      "Loss: 0.03623\n",
      "Best test loss 0.03403806313872337\n"
     ]
    },
    {
     "data": {
      "text/plain": [
       "0.03403806313872337"
      ]
     },
     "execution_count": 11,
     "metadata": {},
     "output_type": "execute_result"
    }
   ],
   "source": [
    "predict_alpha('inv-gp-1_norm_run1_epoch199.pth')"
   ]
  },
  {
   "cell_type": "code",
   "execution_count": 26,
   "metadata": {},
   "outputs": [],
   "source": [
    "base200 = ['inv-gp-0_run1_epoch199.pth','inv-gp-0_run2_epoch199.pth','inv-gp-0_run3_epoch199.pth','inv-gp-0_run4_epoch199.pth','inv-gp-0_run5_epoch199.pth']\n",
    "base150 = ['inv-gp-0_run1_epoch149.pth','inv-gp-0_run2_epoch149.pth','inv-gp-0_run3_epoch149.pth','inv-gp-0_run4_epoch149.pth','inv-gp-0_run5_epoch149.pth']\n",
    "base100 = ['inv-gp-0_run1_epoch099.pth','inv-gp-0_run2_epoch099.pth','inv-gp-0_run3_epoch099.pth','inv-gp-0_run4_epoch099.pth','inv-gp-0_run5_epoch099.pth']\n",
    "base50 =  ['inv-gp-0_run1_epoch049.pth','inv-gp-0_run2_epoch049.pth','inv-gp-0_run3_epoch049.pth','inv-gp-0_run4_epoch049.pth', 'inv-gp-0_run5_epoch049.pth']\n",
    "base = [base50, base100, base150, base200]\n",
    "# base = [base50, base100]"
   ]
  },
  {
   "cell_type": "code",
   "execution_count": 27,
   "metadata": {},
   "outputs": [],
   "source": [
    "gp200 = ['inv-gp-1_norm_run1_epoch199.pth','inv-gp-1_norm_run2_epoch199.pth','inv-gp-1_norm_run3_epoch199.pth', 'inv-gp-1_norm_run4_epoch199.pth','inv-gp-1_norm_run5_epoch199.pth']\n",
    "gp150 = ['inv-gp-1_norm_run1_epoch149.pth','inv-gp-1_norm_run2_epoch149.pth', 'inv-gp-1_norm_run3_epoch149.pth','inv-gp-1_norm_run4_epoch149.pth','inv-gp-1_norm_run5_epoch149.pth']\n",
    "gp100 = ['inv-gp-1_norm_run1_epoch099.pth','inv-gp-1_norm_run2_epoch099.pth', 'inv-gp-1_norm_run3_epoch099.pth', 'inv-gp-1_norm_run4_epoch099.pth','inv-gp-1_norm_run5_epoch099.pth']\n",
    "gp50 = ['inv-gp-1_norm_run1_epoch049.pth','inv-gp-1_norm_run2_epoch049.pth','inv-gp-1_norm_run3_epoch049.pth', 'inv-gp-1_norm_run4_epoch049.pth', 'inv-gp-1_norm_run5_epoch049.pth']\n",
    "gp = [gp50, gp100, gp150, gp200]"
   ]
  },
  {
   "cell_type": "code",
   "execution_count": 29,
   "metadata": {},
   "outputs": [
    {
     "name": "stdout",
     "output_type": "stream",
     "text": [
      "==> Loading settings from checkpoint..\n",
      "==> Preparing data..\n",
      "Files already downloaded and verified\n",
      "Files already downloaded and verified\n",
      "Files already downloaded and verified\n",
      "==> Building model..\n",
      "==> Loading encoder from checkpoint..\n"
     ]
    },
    {
     "name": "stderr",
     "output_type": "stream",
     "text": [
      "Loss: 0.03526:           | 0/500 [00:00<?, ?it/s]               "
     ]
    },
    {
     "name": "stdout",
     "output_type": "stream",
     "text": [
      "\n",
      "L2 Regularization weight: 1e-06\n"
     ]
    },
    {
     "name": "stderr",
     "output_type": "stream",
     "text": [
      "Loss: 0.03133: ██████████| 500/500 [00:06<00:00, 75.21it/s] \n",
      "Loss: 0.03540:           | 0/500 [00:00<?, ?it/s]               "
     ]
    },
    {
     "name": "stdout",
     "output_type": "stream",
     "text": [
      "Loss: 0.03167\n",
      "\n",
      "L2 Regularization weight: 9.99999e-06\n"
     ]
    },
    {
     "name": "stderr",
     "output_type": "stream",
     "text": [
      "Loss: 0.03134: ██████████| 500/500 [00:06<00:00, 79.71it/s]\n",
      "Loss: 0.03582:           | 1/500 [00:00<00:51,  9.65it/s]       "
     ]
    },
    {
     "name": "stdout",
     "output_type": "stream",
     "text": [
      "Loss: 0.03166\n",
      "\n",
      "L2 Regularization weight: 0.0001\n"
     ]
    },
    {
     "name": "stderr",
     "output_type": "stream",
     "text": [
      "Loss: 0.03140: ██████████| 500/500 [00:06<00:00, 79.97it/s] \n"
     ]
    },
    {
     "name": "stdout",
     "output_type": "stream",
     "text": [
      "Loss: 0.03165\n",
      "Best test loss 0.031654179096221924\n",
      "==> Loading settings from checkpoint..\n",
      "==> Preparing data..\n",
      "Files already downloaded and verified\n",
      "Files already downloaded and verified\n",
      "Files already downloaded and verified\n",
      "==> Building model..\n",
      "==> Loading encoder from checkpoint..\n"
     ]
    },
    {
     "name": "stderr",
     "output_type": "stream",
     "text": [
      "Loss: 0.03569:           | 0/500 [00:00<?, ?it/s]               "
     ]
    },
    {
     "name": "stdout",
     "output_type": "stream",
     "text": [
      "\n",
      "L2 Regularization weight: 1e-06\n"
     ]
    },
    {
     "name": "stderr",
     "output_type": "stream",
     "text": [
      "Loss: 0.03194: ██████████| 500/500 [00:06<00:00, 76.56it/s] \n",
      "Loss: 0.03591:           | 0/500 [00:00<?, ?it/s]               "
     ]
    },
    {
     "name": "stdout",
     "output_type": "stream",
     "text": [
      "Loss: 0.03211\n",
      "\n",
      "L2 Regularization weight: 9.99999e-06\n"
     ]
    },
    {
     "name": "stderr",
     "output_type": "stream",
     "text": [
      "Loss: 0.03194: ██████████| 500/500 [00:06<00:00, 74.23it/s] \n",
      "Loss: 0.03692:           | 0/500 [00:00<?, ?it/s]               "
     ]
    },
    {
     "name": "stdout",
     "output_type": "stream",
     "text": [
      "Loss: 0.03211\n",
      "\n",
      "L2 Regularization weight: 0.0001\n"
     ]
    },
    {
     "name": "stderr",
     "output_type": "stream",
     "text": [
      "Loss: 0.03201: ██████████| 500/500 [00:06<00:00, 80.43it/s] \n"
     ]
    },
    {
     "name": "stdout",
     "output_type": "stream",
     "text": [
      "Loss: 0.03209\n",
      "Best test loss 0.03209270164370537\n",
      "==> Loading settings from checkpoint..\n",
      "==> Preparing data..\n",
      "Files already downloaded and verified\n",
      "Files already downloaded and verified\n",
      "Files already downloaded and verified\n",
      "==> Building model..\n",
      "==> Loading encoder from checkpoint..\n"
     ]
    },
    {
     "name": "stderr",
     "output_type": "stream",
     "text": [
      "Loss: 0.03556:           | 0/500 [00:00<?, ?it/s]               "
     ]
    },
    {
     "name": "stdout",
     "output_type": "stream",
     "text": [
      "\n",
      "L2 Regularization weight: 1e-06\n"
     ]
    },
    {
     "name": "stderr",
     "output_type": "stream",
     "text": [
      "Loss: 0.03221: ██████████| 500/500 [00:15<00:00, 32.96it/s]\n",
      "Loss: 0.03706:           | 0/500 [00:00<?, ?it/s]               "
     ]
    },
    {
     "name": "stdout",
     "output_type": "stream",
     "text": [
      "Loss: 0.03298\n",
      "\n",
      "L2 Regularization weight: 9.99999e-06\n"
     ]
    },
    {
     "name": "stderr",
     "output_type": "stream",
     "text": [
      "Loss: 0.03222: ██████████| 500/500 [00:06<00:00, 79.71it/s] \n",
      "Loss: 0.03741:           | 0/500 [00:00<?, ?it/s]               "
     ]
    },
    {
     "name": "stdout",
     "output_type": "stream",
     "text": [
      "Loss: 0.03298\n",
      "\n",
      "L2 Regularization weight: 0.0001\n"
     ]
    },
    {
     "name": "stderr",
     "output_type": "stream",
     "text": [
      "Loss: 0.03229: ██████████| 500/500 [00:06<00:00, 76.84it/s] \n"
     ]
    },
    {
     "name": "stdout",
     "output_type": "stream",
     "text": [
      "Loss: 0.03296\n",
      "Best test loss 0.032958921045064926\n",
      "==> Loading settings from checkpoint..\n",
      "==> Preparing data..\n",
      "Files already downloaded and verified\n",
      "Files already downloaded and verified\n",
      "Files already downloaded and verified\n",
      "==> Building model..\n",
      "==> Loading encoder from checkpoint..\n"
     ]
    },
    {
     "name": "stderr",
     "output_type": "stream",
     "text": [
      "Loss: 0.03585:           | 0/500 [00:00<?, ?it/s]               "
     ]
    },
    {
     "name": "stdout",
     "output_type": "stream",
     "text": [
      "\n",
      "L2 Regularization weight: 1e-06\n"
     ]
    },
    {
     "name": "stderr",
     "output_type": "stream",
     "text": [
      "Loss: 0.03224: ██████████| 500/500 [00:06<00:00, 78.85it/s] \n",
      "Loss: 0.03612:           | 0/500 [00:00<?, ?it/s]               "
     ]
    },
    {
     "name": "stdout",
     "output_type": "stream",
     "text": [
      "Loss: 0.03301\n",
      "\n",
      "L2 Regularization weight: 9.99999e-06\n"
     ]
    },
    {
     "name": "stderr",
     "output_type": "stream",
     "text": [
      "Loss: 0.03225: ██████████| 500/500 [00:06<00:00, 76.58it/s]\n",
      "Loss: 0.03594:           | 0/500 [00:00<?, ?it/s]               "
     ]
    },
    {
     "name": "stdout",
     "output_type": "stream",
     "text": [
      "Loss: 0.03301\n",
      "\n",
      "L2 Regularization weight: 0.0001\n"
     ]
    },
    {
     "name": "stderr",
     "output_type": "stream",
     "text": [
      "Loss: 0.03231: ██████████| 500/500 [00:06<00:00, 81.56it/s] \n"
     ]
    },
    {
     "name": "stdout",
     "output_type": "stream",
     "text": [
      "Loss: 0.03300\n",
      "Best test loss 0.03299608454108238\n",
      "==> Loading settings from checkpoint..\n",
      "==> Preparing data..\n",
      "Files already downloaded and verified\n",
      "Files already downloaded and verified\n",
      "Files already downloaded and verified\n",
      "==> Building model..\n",
      "==> Loading encoder from checkpoint..\n"
     ]
    },
    {
     "name": "stderr",
     "output_type": "stream",
     "text": [
      "Loss: 0.03688:           | 1/500 [00:00<01:05,  7.61it/s]       "
     ]
    },
    {
     "name": "stdout",
     "output_type": "stream",
     "text": [
      "\n",
      "L2 Regularization weight: 1e-06\n"
     ]
    },
    {
     "name": "stderr",
     "output_type": "stream",
     "text": [
      "Loss: 0.03162: ██████████| 500/500 [00:06<00:00, 71.66it/s] \n",
      "Loss: 0.03687:           | 1/500 [00:00<00:51,  9.62it/s]       "
     ]
    },
    {
     "name": "stdout",
     "output_type": "stream",
     "text": [
      "Loss: 0.03249\n",
      "\n",
      "L2 Regularization weight: 9.99999e-06\n"
     ]
    },
    {
     "name": "stderr",
     "output_type": "stream",
     "text": [
      "Loss: 0.03163: ██████████| 500/500 [00:07<00:00, 70.10it/s] \n",
      "Loss: 0.03633:           | 0/500 [00:00<?, ?it/s]               "
     ]
    },
    {
     "name": "stdout",
     "output_type": "stream",
     "text": [
      "Loss: 0.03249\n",
      "\n",
      "L2 Regularization weight: 0.0001\n"
     ]
    },
    {
     "name": "stderr",
     "output_type": "stream",
     "text": [
      "Loss: 0.03170: ██████████| 500/500 [00:07<00:00, 65.62it/s] \n"
     ]
    },
    {
     "name": "stdout",
     "output_type": "stream",
     "text": [
      "Loss: 0.03248\n",
      "Best test loss 0.032479383051395416\n",
      "==> Loading settings from checkpoint..\n",
      "==> Preparing data..\n",
      "Files already downloaded and verified\n",
      "Files already downloaded and verified\n",
      "Files already downloaded and verified\n",
      "==> Building model..\n",
      "==> Loading encoder from checkpoint..\n"
     ]
    },
    {
     "name": "stderr",
     "output_type": "stream",
     "text": [
      "Loss: 0.03758:           | 1/500 [00:00<00:52,  9.57it/s]       "
     ]
    },
    {
     "name": "stdout",
     "output_type": "stream",
     "text": [
      "\n",
      "L2 Regularization weight: 1e-06\n"
     ]
    },
    {
     "name": "stderr",
     "output_type": "stream",
     "text": [
      "Loss: 0.03359: ██████████| 500/500 [00:05<00:00, 95.61it/s] \n",
      "Loss: 0.03882:           | 1/500 [00:00<00:57,  8.75it/s]       "
     ]
    },
    {
     "name": "stdout",
     "output_type": "stream",
     "text": [
      "Loss: 0.03428\n",
      "\n",
      "L2 Regularization weight: 9.99999e-06\n"
     ]
    },
    {
     "name": "stderr",
     "output_type": "stream",
     "text": [
      "Loss: 0.03359: ██████████| 500/500 [00:06<00:00, 80.39it/s] \n",
      "Loss: 0.03769:           | 1/500 [00:00<00:57,  8.69it/s]       "
     ]
    },
    {
     "name": "stdout",
     "output_type": "stream",
     "text": [
      "Loss: 0.03428\n",
      "\n",
      "L2 Regularization weight: 0.0001\n"
     ]
    },
    {
     "name": "stderr",
     "output_type": "stream",
     "text": [
      "Loss: 0.03365: ██████████| 500/500 [00:05<00:00, 84.50it/s] \n"
     ]
    },
    {
     "name": "stdout",
     "output_type": "stream",
     "text": [
      "Loss: 0.03427\n",
      "Best test loss 0.034272175282239914\n",
      "==> Loading settings from checkpoint..\n",
      "==> Preparing data..\n",
      "Files already downloaded and verified\n",
      "Files already downloaded and verified\n",
      "Files already downloaded and verified\n",
      "==> Building model..\n",
      "==> Loading encoder from checkpoint..\n"
     ]
    },
    {
     "name": "stderr",
     "output_type": "stream",
     "text": [
      "Loss: 0.03640:           | 0/500 [00:00<?, ?it/s]               "
     ]
    },
    {
     "name": "stdout",
     "output_type": "stream",
     "text": [
      "\n",
      "L2 Regularization weight: 1e-06\n"
     ]
    },
    {
     "name": "stderr",
     "output_type": "stream",
     "text": [
      "Loss: 0.03325: ██████████| 500/500 [00:05<00:00, 93.43it/s] \n",
      "Loss: 0.03741:           | 1/500 [00:00<00:51,  9.61it/s]       "
     ]
    },
    {
     "name": "stdout",
     "output_type": "stream",
     "text": [
      "Loss: 0.03362\n",
      "\n",
      "L2 Regularization weight: 9.99999e-06\n"
     ]
    },
    {
     "name": "stderr",
     "output_type": "stream",
     "text": [
      "Loss: 0.03326: ██████████| 500/500 [00:05<00:00, 91.36it/s] \n",
      "Loss: 0.03608:           | 0/500 [00:00<?, ?it/s]               "
     ]
    },
    {
     "name": "stdout",
     "output_type": "stream",
     "text": [
      "Loss: 0.03361\n",
      "\n",
      "L2 Regularization weight: 0.0001\n"
     ]
    },
    {
     "name": "stderr",
     "output_type": "stream",
     "text": [
      "Loss: 0.03331: ██████████| 500/500 [00:05<00:00, 99.48it/s] \n"
     ]
    },
    {
     "name": "stdout",
     "output_type": "stream",
     "text": [
      "Loss: 0.03361\n",
      "Best test loss 0.03360540419816971\n",
      "==> Loading settings from checkpoint..\n",
      "==> Preparing data..\n",
      "Files already downloaded and verified\n",
      "Files already downloaded and verified\n",
      "Files already downloaded and verified\n",
      "==> Building model..\n",
      "==> Loading encoder from checkpoint..\n"
     ]
    },
    {
     "name": "stderr",
     "output_type": "stream",
     "text": [
      "Loss: 0.03556:           | 0/500 [00:00<?, ?it/s]               "
     ]
    },
    {
     "name": "stdout",
     "output_type": "stream",
     "text": [
      "\n",
      "L2 Regularization weight: 1e-06\n"
     ]
    },
    {
     "name": "stderr",
     "output_type": "stream",
     "text": [
      "Loss: 0.03276: ██████████| 500/500 [00:06<00:00, 82.27it/s] \n",
      "Loss: 0.03674:           | 0/500 [00:00<?, ?it/s]               "
     ]
    },
    {
     "name": "stdout",
     "output_type": "stream",
     "text": [
      "Loss: 0.03332\n",
      "\n",
      "L2 Regularization weight: 9.99999e-06\n"
     ]
    },
    {
     "name": "stderr",
     "output_type": "stream",
     "text": [
      "Loss: 0.03276: ██████████| 500/500 [00:06<00:00, 81.48it/s] \n",
      "Loss: 0.03584:           | 0/500 [00:00<?, ?it/s]               "
     ]
    },
    {
     "name": "stdout",
     "output_type": "stream",
     "text": [
      "Loss: 0.03332\n",
      "\n",
      "L2 Regularization weight: 0.0001\n"
     ]
    },
    {
     "name": "stderr",
     "output_type": "stream",
     "text": [
      "Loss: 0.03281: ██████████| 500/500 [00:05<00:00, 89.28it/s] \n"
     ]
    },
    {
     "name": "stdout",
     "output_type": "stream",
     "text": [
      "Loss: 0.03331\n",
      "Best test loss 0.03331141173839569\n",
      "==> Loading settings from checkpoint..\n",
      "==> Preparing data..\n",
      "Files already downloaded and verified\n",
      "Files already downloaded and verified\n",
      "Files already downloaded and verified\n",
      "==> Building model..\n",
      "==> Loading encoder from checkpoint..\n"
     ]
    },
    {
     "name": "stderr",
     "output_type": "stream",
     "text": [
      "Loss: 0.03683:           | 0/500 [00:00<?, ?it/s]               "
     ]
    },
    {
     "name": "stdout",
     "output_type": "stream",
     "text": [
      "\n",
      "L2 Regularization weight: 1e-06\n"
     ]
    },
    {
     "name": "stderr",
     "output_type": "stream",
     "text": [
      "Loss: 0.03294: ██████████| 500/500 [00:05<00:00, 96.30it/s] \n",
      "Loss: 0.03666:           | 0/500 [00:00<?, ?it/s]               "
     ]
    },
    {
     "name": "stdout",
     "output_type": "stream",
     "text": [
      "Loss: 0.03341\n",
      "\n",
      "L2 Regularization weight: 9.99999e-06\n"
     ]
    },
    {
     "name": "stderr",
     "output_type": "stream",
     "text": [
      "Loss: 0.03294: ██████████| 500/500 [00:05<00:00, 92.09it/s] \n",
      "Loss: 0.03609:           | 0/500 [00:00<?, ?it/s]               "
     ]
    },
    {
     "name": "stdout",
     "output_type": "stream",
     "text": [
      "Loss: 0.03340\n",
      "\n",
      "L2 Regularization weight: 0.0001\n"
     ]
    },
    {
     "name": "stderr",
     "output_type": "stream",
     "text": [
      "Loss: 0.03299: ██████████| 500/500 [00:05<00:00, 94.68it/s] \n"
     ]
    },
    {
     "name": "stdout",
     "output_type": "stream",
     "text": [
      "Loss: 0.03340\n",
      "Best test loss 0.03339635580778122\n",
      "==> Loading settings from checkpoint..\n",
      "==> Preparing data..\n",
      "Files already downloaded and verified\n",
      "Files already downloaded and verified\n",
      "Files already downloaded and verified\n",
      "==> Building model..\n",
      "==> Loading encoder from checkpoint..\n"
     ]
    },
    {
     "name": "stderr",
     "output_type": "stream",
     "text": [
      "Loss: 0.03634:           | 1/500 [00:00<00:51,  9.74it/s]       "
     ]
    },
    {
     "name": "stdout",
     "output_type": "stream",
     "text": [
      "\n",
      "L2 Regularization weight: 1e-06\n"
     ]
    },
    {
     "name": "stderr",
     "output_type": "stream",
     "text": [
      "Loss: 0.03290: ██████████| 500/500 [00:05<00:00, 94.00it/s] \n",
      "Loss: 0.03616:           | 0/500 [00:00<?, ?it/s]               "
     ]
    },
    {
     "name": "stdout",
     "output_type": "stream",
     "text": [
      "Loss: 0.03362\n",
      "\n",
      "L2 Regularization weight: 9.99999e-06\n"
     ]
    },
    {
     "name": "stderr",
     "output_type": "stream",
     "text": [
      "Loss: 0.03290: ██████████| 500/500 [00:05<00:00, 95.12it/s] \n",
      "Loss: 0.03602:           | 0/500 [00:00<?, ?it/s]               "
     ]
    },
    {
     "name": "stdout",
     "output_type": "stream",
     "text": [
      "Loss: 0.03362\n",
      "\n",
      "L2 Regularization weight: 0.0001\n"
     ]
    },
    {
     "name": "stderr",
     "output_type": "stream",
     "text": [
      "Loss: 0.03295: ██████████| 500/500 [00:05<00:00, 94.88it/s] \n"
     ]
    },
    {
     "name": "stdout",
     "output_type": "stream",
     "text": [
      "Loss: 0.03361\n",
      "Best test loss 0.03361125662922859\n",
      "==> Loading settings from checkpoint..\n",
      "==> Preparing data..\n",
      "Files already downloaded and verified\n",
      "Files already downloaded and verified\n",
      "Files already downloaded and verified\n",
      "==> Building model..\n",
      "==> Loading encoder from checkpoint..\n"
     ]
    },
    {
     "name": "stderr",
     "output_type": "stream",
     "text": [
      "Loss: 0.03657:           | 0/500 [00:00<?, ?it/s]               "
     ]
    },
    {
     "name": "stdout",
     "output_type": "stream",
     "text": [
      "\n",
      "L2 Regularization weight: 1e-06\n"
     ]
    },
    {
     "name": "stderr",
     "output_type": "stream",
     "text": [
      "Loss: 0.03346: ██████████| 500/500 [00:04<00:00, 110.56it/s]\n",
      "Loss: 0.03656:           | 0/500 [00:00<?, ?it/s]               "
     ]
    },
    {
     "name": "stdout",
     "output_type": "stream",
     "text": [
      "Loss: 0.03411\n",
      "\n",
      "L2 Regularization weight: 9.99999e-06\n"
     ]
    },
    {
     "name": "stderr",
     "output_type": "stream",
     "text": [
      "Loss: 0.03346: ██████████| 500/500 [00:04<00:00, 101.71it/s]\n",
      "Loss: 0.03654:           | 0/500 [00:00<?, ?it/s]               "
     ]
    },
    {
     "name": "stdout",
     "output_type": "stream",
     "text": [
      "Loss: 0.03411\n",
      "\n",
      "L2 Regularization weight: 0.0001\n"
     ]
    },
    {
     "name": "stderr",
     "output_type": "stream",
     "text": [
      "Loss: 0.03351: ██████████| 500/500 [00:13<00:00, 36.19it/s]\n"
     ]
    },
    {
     "name": "stdout",
     "output_type": "stream",
     "text": [
      "Loss: 0.03411\n",
      "Best test loss 0.03410811349749565\n",
      "==> Loading settings from checkpoint..\n",
      "==> Preparing data..\n",
      "Files already downloaded and verified\n",
      "Files already downloaded and verified\n",
      "Files already downloaded and verified\n",
      "==> Building model..\n",
      "==> Loading encoder from checkpoint..\n"
     ]
    },
    {
     "name": "stderr",
     "output_type": "stream",
     "text": [
      "Loss: 0.03593:           | 0/500 [00:00<?, ?it/s]               "
     ]
    },
    {
     "name": "stdout",
     "output_type": "stream",
     "text": [
      "\n",
      "L2 Regularization weight: 1e-06\n"
     ]
    },
    {
     "name": "stderr",
     "output_type": "stream",
     "text": [
      "Loss: 0.03344: ██████████| 500/500 [00:04<00:00, 113.57it/s]\n",
      "Loss: 0.03589:           | 0/500 [00:00<?, ?it/s]               "
     ]
    },
    {
     "name": "stdout",
     "output_type": "stream",
     "text": [
      "Loss: 0.03427\n",
      "\n",
      "L2 Regularization weight: 9.99999e-06\n"
     ]
    },
    {
     "name": "stderr",
     "output_type": "stream",
     "text": [
      "Loss: 0.03345: ██████████| 500/500 [00:04<00:00, 116.84it/s]\n",
      "Loss: 0.03638:           | 1/500 [00:00<00:51,  9.73it/s]       "
     ]
    },
    {
     "name": "stdout",
     "output_type": "stream",
     "text": [
      "Loss: 0.03427\n",
      "\n",
      "L2 Regularization weight: 0.0001\n"
     ]
    },
    {
     "name": "stderr",
     "output_type": "stream",
     "text": [
      "Loss: 0.03349: ██████████| 500/500 [00:04<00:00, 115.57it/s]\n"
     ]
    },
    {
     "name": "stdout",
     "output_type": "stream",
     "text": [
      "Loss: 0.03426\n",
      "Best test loss 0.034258391708135605\n",
      "==> Loading settings from checkpoint..\n",
      "==> Preparing data..\n",
      "Files already downloaded and verified\n",
      "Files already downloaded and verified\n",
      "Files already downloaded and verified\n",
      "==> Building model..\n",
      "==> Loading encoder from checkpoint..\n"
     ]
    },
    {
     "name": "stderr",
     "output_type": "stream",
     "text": [
      "Loss: 0.03670:           | 0/500 [00:00<?, ?it/s]               "
     ]
    },
    {
     "name": "stdout",
     "output_type": "stream",
     "text": [
      "\n",
      "L2 Regularization weight: 1e-06\n"
     ]
    },
    {
     "name": "stderr",
     "output_type": "stream",
     "text": [
      "Loss: 0.03400: ██████████| 500/500 [00:05<00:00, 91.10it/s] \n",
      "Loss: 0.03652:           | 0/500 [00:00<?, ?it/s]               "
     ]
    },
    {
     "name": "stdout",
     "output_type": "stream",
     "text": [
      "Loss: 0.03464\n",
      "\n",
      "L2 Regularization weight: 9.99999e-06\n"
     ]
    },
    {
     "name": "stderr",
     "output_type": "stream",
     "text": [
      "Loss: 0.03401: ██████████| 500/500 [00:05<00:00, 97.32it/s] \n",
      "Loss: 0.03704:           | 0/500 [00:00<?, ?it/s]               "
     ]
    },
    {
     "name": "stdout",
     "output_type": "stream",
     "text": [
      "Loss: 0.03464\n",
      "\n",
      "L2 Regularization weight: 0.0001\n"
     ]
    },
    {
     "name": "stderr",
     "output_type": "stream",
     "text": [
      "Loss: 0.03406: ██████████| 500/500 [00:05<00:00, 94.89it/s] \n"
     ]
    },
    {
     "name": "stdout",
     "output_type": "stream",
     "text": [
      "Loss: 0.03463\n",
      "Best test loss 0.03462822362780571\n",
      "==> Loading settings from checkpoint..\n",
      "==> Preparing data..\n",
      "Files already downloaded and verified\n",
      "Files already downloaded and verified\n",
      "Files already downloaded and verified\n",
      "==> Building model..\n",
      "==> Loading encoder from checkpoint..\n"
     ]
    },
    {
     "name": "stderr",
     "output_type": "stream",
     "text": [
      "Loss: 0.03614:           | 0/500 [00:00<?, ?it/s]               "
     ]
    },
    {
     "name": "stdout",
     "output_type": "stream",
     "text": [
      "\n",
      "L2 Regularization weight: 1e-06\n"
     ]
    },
    {
     "name": "stderr",
     "output_type": "stream",
     "text": [
      "Loss: 0.03347: ██████████| 500/500 [00:05<00:00, 92.25it/s] \n",
      "Loss: 0.03607:           | 0/500 [00:00<?, ?it/s]               "
     ]
    },
    {
     "name": "stdout",
     "output_type": "stream",
     "text": [
      "Loss: 0.03393\n",
      "\n",
      "L2 Regularization weight: 9.99999e-06\n"
     ]
    },
    {
     "name": "stderr",
     "output_type": "stream",
     "text": [
      "Loss: 0.03348: ██████████| 500/500 [00:05<00:00, 92.27it/s] \n",
      "Loss: 0.03750:           | 0/500 [00:00<?, ?it/s]               "
     ]
    },
    {
     "name": "stdout",
     "output_type": "stream",
     "text": [
      "Loss: 0.03393\n",
      "\n",
      "L2 Regularization weight: 0.0001\n"
     ]
    },
    {
     "name": "stderr",
     "output_type": "stream",
     "text": [
      "Loss: 0.03353: ██████████| 500/500 [00:05<00:00, 95.36it/s] \n"
     ]
    },
    {
     "name": "stdout",
     "output_type": "stream",
     "text": [
      "Loss: 0.03393\n",
      "Best test loss 0.03392939642071724\n",
      "==> Loading settings from checkpoint..\n",
      "==> Preparing data..\n",
      "Files already downloaded and verified\n",
      "Files already downloaded and verified\n",
      "Files already downloaded and verified\n",
      "==> Building model..\n",
      "==> Loading encoder from checkpoint..\n"
     ]
    },
    {
     "name": "stderr",
     "output_type": "stream",
     "text": [
      "Loss: 0.03658:           | 0/500 [00:00<?, ?it/s]               "
     ]
    },
    {
     "name": "stdout",
     "output_type": "stream",
     "text": [
      "\n",
      "L2 Regularization weight: 1e-06\n"
     ]
    },
    {
     "name": "stderr",
     "output_type": "stream",
     "text": [
      "Loss: 0.03321: ██████████| 500/500 [00:05<00:00, 98.99it/s] \n",
      "Loss: 0.03622:           | 0/500 [00:00<?, ?it/s]               "
     ]
    },
    {
     "name": "stdout",
     "output_type": "stream",
     "text": [
      "Loss: 0.03405\n",
      "\n",
      "L2 Regularization weight: 9.99999e-06\n"
     ]
    },
    {
     "name": "stderr",
     "output_type": "stream",
     "text": [
      "Loss: 0.03322: ██████████| 500/500 [00:04<00:00, 103.43it/s]\n",
      "Loss: 0.03638:           | 0/500 [00:00<?, ?it/s]               "
     ]
    },
    {
     "name": "stdout",
     "output_type": "stream",
     "text": [
      "Loss: 0.03404\n",
      "\n",
      "L2 Regularization weight: 0.0001\n"
     ]
    },
    {
     "name": "stderr",
     "output_type": "stream",
     "text": [
      "Loss: 0.03326: ██████████| 500/500 [00:13<00:00, 36.41it/s]\n"
     ]
    },
    {
     "name": "stdout",
     "output_type": "stream",
     "text": [
      "Loss: 0.03404\n",
      "Best test loss 0.034036848694086075\n",
      "==> Loading settings from checkpoint..\n",
      "==> Preparing data..\n",
      "Files already downloaded and verified\n",
      "Files already downloaded and verified\n",
      "Files already downloaded and verified\n",
      "==> Building model..\n",
      "==> Loading encoder from checkpoint..\n"
     ]
    },
    {
     "name": "stderr",
     "output_type": "stream",
     "text": [
      "Loss: 0.03571:           | 0/500 [00:00<?, ?it/s]               "
     ]
    },
    {
     "name": "stdout",
     "output_type": "stream",
     "text": [
      "\n",
      "L2 Regularization weight: 1e-06\n"
     ]
    },
    {
     "name": "stderr",
     "output_type": "stream",
     "text": [
      "Loss: 0.03344: ██████████| 500/500 [00:04<00:00, 122.14it/s]\n",
      "Loss: 0.03596:           | 0/500 [00:00<?, ?it/s]               "
     ]
    },
    {
     "name": "stdout",
     "output_type": "stream",
     "text": [
      "Loss: 0.03382\n",
      "\n",
      "L2 Regularization weight: 9.99999e-06\n"
     ]
    },
    {
     "name": "stderr",
     "output_type": "stream",
     "text": [
      "Loss: 0.03344: ██████████| 500/500 [00:04<00:00, 114.99it/s]\n",
      "Loss: 0.03636:           | 0/500 [00:00<?, ?it/s]               "
     ]
    },
    {
     "name": "stdout",
     "output_type": "stream",
     "text": [
      "Loss: 0.03381\n",
      "\n",
      "L2 Regularization weight: 0.0001\n"
     ]
    },
    {
     "name": "stderr",
     "output_type": "stream",
     "text": [
      "Loss: 0.03349: ██████████| 500/500 [00:04<00:00, 115.60it/s]\n"
     ]
    },
    {
     "name": "stdout",
     "output_type": "stream",
     "text": [
      "Loss: 0.03381\n",
      "Best test loss 0.03380674123764038\n",
      "==> Loading settings from checkpoint..\n",
      "==> Preparing data..\n",
      "Files already downloaded and verified\n",
      "Files already downloaded and verified\n",
      "Files already downloaded and verified\n",
      "==> Building model..\n",
      "==> Loading encoder from checkpoint..\n"
     ]
    },
    {
     "name": "stderr",
     "output_type": "stream",
     "text": [
      "Loss: 0.03569:           | 0/500 [00:00<?, ?it/s]               "
     ]
    },
    {
     "name": "stdout",
     "output_type": "stream",
     "text": [
      "\n",
      "L2 Regularization weight: 1e-06\n"
     ]
    },
    {
     "name": "stderr",
     "output_type": "stream",
     "text": [
      "Loss: 0.03310: ██████████| 500/500 [00:04<00:00, 114.57it/s]\n",
      "Loss: 0.03544:           | 0/500 [00:00<?, ?it/s]               "
     ]
    },
    {
     "name": "stdout",
     "output_type": "stream",
     "text": [
      "Loss: 0.03418\n",
      "\n",
      "L2 Regularization weight: 9.99999e-06\n"
     ]
    },
    {
     "name": "stderr",
     "output_type": "stream",
     "text": [
      "Loss: 0.03311: ██████████| 500/500 [00:04<00:00, 120.29it/s]\n",
      "Loss: 0.03534:           | 0/500 [00:00<?, ?it/s]               "
     ]
    },
    {
     "name": "stdout",
     "output_type": "stream",
     "text": [
      "Loss: 0.03418\n",
      "\n",
      "L2 Regularization weight: 0.0001\n"
     ]
    },
    {
     "name": "stderr",
     "output_type": "stream",
     "text": [
      "Loss: 0.03316: ██████████| 500/500 [00:04<00:00, 113.61it/s]\n"
     ]
    },
    {
     "name": "stdout",
     "output_type": "stream",
     "text": [
      "Loss: 0.03417\n",
      "Best test loss 0.03417329490184784\n",
      "==> Loading settings from checkpoint..\n",
      "==> Preparing data..\n",
      "Files already downloaded and verified\n",
      "Files already downloaded and verified\n",
      "Files already downloaded and verified\n",
      "==> Building model..\n",
      "==> Loading encoder from checkpoint..\n"
     ]
    },
    {
     "name": "stderr",
     "output_type": "stream",
     "text": [
      "Loss: 0.03611:           | 0/500 [00:00<?, ?it/s]               "
     ]
    },
    {
     "name": "stdout",
     "output_type": "stream",
     "text": [
      "\n",
      "L2 Regularization weight: 1e-06\n"
     ]
    },
    {
     "name": "stderr",
     "output_type": "stream",
     "text": [
      "Loss: 0.03402: ██████████| 500/500 [00:04<00:00, 111.03it/s]\n",
      "Loss: 0.03699:           | 0/500 [00:00<?, ?it/s]               "
     ]
    },
    {
     "name": "stdout",
     "output_type": "stream",
     "text": [
      "Loss: 0.03498\n",
      "\n",
      "L2 Regularization weight: 9.99999e-06\n"
     ]
    },
    {
     "name": "stderr",
     "output_type": "stream",
     "text": [
      "Loss: 0.03402: ██████████| 500/500 [00:04<00:00, 108.59it/s]\n",
      "Loss: 0.03680:           | 0/500 [00:00<?, ?it/s]               "
     ]
    },
    {
     "name": "stdout",
     "output_type": "stream",
     "text": [
      "Loss: 0.03498\n",
      "\n",
      "L2 Regularization weight: 0.0001\n"
     ]
    },
    {
     "name": "stderr",
     "output_type": "stream",
     "text": [
      "Loss: 0.03407: ██████████| 500/500 [00:04<00:00, 118.03it/s]\n"
     ]
    },
    {
     "name": "stdout",
     "output_type": "stream",
     "text": [
      "Loss: 0.03497\n",
      "Best test loss 0.03496694937348366\n",
      "==> Loading settings from checkpoint..\n",
      "==> Preparing data..\n",
      "Files already downloaded and verified\n",
      "Files already downloaded and verified\n",
      "Files already downloaded and verified\n",
      "==> Building model..\n",
      "==> Loading encoder from checkpoint..\n"
     ]
    },
    {
     "name": "stderr",
     "output_type": "stream",
     "text": [
      "Loss: 0.03642:           | 0/500 [00:00<?, ?it/s]               "
     ]
    },
    {
     "name": "stdout",
     "output_type": "stream",
     "text": [
      "\n",
      "L2 Regularization weight: 1e-06\n"
     ]
    },
    {
     "name": "stderr",
     "output_type": "stream",
     "text": [
      "Loss: 0.03410: ██████████| 500/500 [00:04<00:00, 117.45it/s]\n",
      "Loss: 0.03717:           | 1/500 [00:00<00:50,  9.80it/s]       "
     ]
    },
    {
     "name": "stdout",
     "output_type": "stream",
     "text": [
      "Loss: 0.03426\n",
      "\n",
      "L2 Regularization weight: 9.99999e-06\n"
     ]
    },
    {
     "name": "stderr",
     "output_type": "stream",
     "text": [
      "Loss: 0.03410: ██████████| 500/500 [00:04<00:00, 118.99it/s]\n",
      "Loss: 0.03657:           | 0/500 [00:00<?, ?it/s]               "
     ]
    },
    {
     "name": "stdout",
     "output_type": "stream",
     "text": [
      "Loss: 0.03426\n",
      "\n",
      "L2 Regularization weight: 0.0001\n"
     ]
    },
    {
     "name": "stderr",
     "output_type": "stream",
     "text": [
      "Loss: 0.03415: ██████████| 500/500 [00:04<00:00, 115.76it/s]\n"
     ]
    },
    {
     "name": "stdout",
     "output_type": "stream",
     "text": [
      "Loss: 0.03426\n",
      "Best test loss 0.034256190061569214\n",
      "==> Loading settings from checkpoint..\n",
      "==> Preparing data..\n",
      "Files already downloaded and verified\n",
      "Files already downloaded and verified\n",
      "Files already downloaded and verified\n",
      "==> Building model..\n",
      "==> Loading encoder from checkpoint..\n"
     ]
    },
    {
     "name": "stderr",
     "output_type": "stream",
     "text": [
      "Loss: 0.03550:           | 0/500 [00:00<?, ?it/s]               "
     ]
    },
    {
     "name": "stdout",
     "output_type": "stream",
     "text": [
      "\n",
      "L2 Regularization weight: 1e-06\n"
     ]
    },
    {
     "name": "stderr",
     "output_type": "stream",
     "text": [
      "Loss: 0.03282: ██████████| 500/500 [00:13<00:00, 37.72it/s]\n",
      "Loss: 0.03546:           | 0/500 [00:00<?, ?it/s]               "
     ]
    },
    {
     "name": "stdout",
     "output_type": "stream",
     "text": [
      "Loss: 0.03355\n",
      "\n",
      "L2 Regularization weight: 9.99999e-06\n"
     ]
    },
    {
     "name": "stderr",
     "output_type": "stream",
     "text": [
      "Loss: 0.03282: ██████████| 500/500 [00:04<00:00, 112.78it/s]\n",
      "Loss: 0.03526:           | 0/500 [00:00<?, ?it/s]               "
     ]
    },
    {
     "name": "stdout",
     "output_type": "stream",
     "text": [
      "Loss: 0.03355\n",
      "\n",
      "L2 Regularization weight: 0.0001\n"
     ]
    },
    {
     "name": "stderr",
     "output_type": "stream",
     "text": [
      "Loss: 0.03288: ██████████| 500/500 [00:04<00:00, 112.71it/s]\n"
     ]
    },
    {
     "name": "stdout",
     "output_type": "stream",
     "text": [
      "Loss: 0.03355\n",
      "Best test loss 0.03354700282216072\n"
     ]
    }
   ],
   "source": [
    "loss_base = []\n",
    "for base_i in base:\n",
    "    loss_i = []\n",
    "    for file in base_i:\n",
    "        best_loss = predict_alpha(file)\n",
    "        loss_i.append(best_loss)\n",
    "    loss_base.append(loss_i)"
   ]
  },
  {
   "cell_type": "code",
   "execution_count": 30,
   "metadata": {},
   "outputs": [],
   "source": [
    "import numpy as np\n",
    "base_mean = torch.tensor(loss_base).mean(axis = 1)\n",
    "base_std = torch.tensor(loss_base).std(axis = 1)/np.sqrt(5)"
   ]
  },
  {
   "cell_type": "code",
   "execution_count": 31,
   "metadata": {},
   "outputs": [
    {
     "name": "stdout",
     "output_type": "stream",
     "text": [
      "tensor([0.0324, 0.0336, 0.0342, 0.0342])\n",
      "tensor([0.0003, 0.0002, 0.0001, 0.0002])\n"
     ]
    }
   ],
   "source": [
    "print(base_mean)\n",
    "print(base_std)"
   ]
  },
  {
   "cell_type": "code",
   "execution_count": 32,
   "metadata": {},
   "outputs": [
    {
     "name": "stdout",
     "output_type": "stream",
     "text": [
      "==> Loading settings from checkpoint..\n",
      "==> Preparing data..\n",
      "Files already downloaded and verified\n",
      "Files already downloaded and verified\n",
      "Files already downloaded and verified\n",
      "==> Building model..\n",
      "==> Loading encoder from checkpoint..\n"
     ]
    },
    {
     "name": "stderr",
     "output_type": "stream",
     "text": [
      "Loss: 0.04153:           | 0/500 [00:00<?, ?it/s]               "
     ]
    },
    {
     "name": "stdout",
     "output_type": "stream",
     "text": [
      "\n",
      "L2 Regularization weight: 1e-06\n"
     ]
    },
    {
     "name": "stderr",
     "output_type": "stream",
     "text": [
      "Loss: 0.03241: ██████████| 500/500 [01:16<00:00,  6.51it/s]\n",
      "Loss: 0.04054:           | 0/500 [00:00<?, ?it/s]               "
     ]
    },
    {
     "name": "stdout",
     "output_type": "stream",
     "text": [
      "Loss: 0.03279\n",
      "\n",
      "L2 Regularization weight: 9.99999e-06\n"
     ]
    },
    {
     "name": "stderr",
     "output_type": "stream",
     "text": [
      "Loss: 0.03245: ██████████| 500/500 [01:19<00:00,  6.32it/s]\n",
      "Loss: 0.04157:           | 0/500 [00:00<?, ?it/s]               "
     ]
    },
    {
     "name": "stdout",
     "output_type": "stream",
     "text": [
      "Loss: 0.03278\n",
      "\n",
      "L2 Regularization weight: 0.0001\n"
     ]
    },
    {
     "name": "stderr",
     "output_type": "stream",
     "text": [
      "Loss: 0.03281: ██████████| 500/500 [01:03<00:00,  7.83it/s]\n"
     ]
    },
    {
     "name": "stdout",
     "output_type": "stream",
     "text": [
      "Loss: 0.03280\n",
      "Best test loss 0.032782550901174545\n",
      "==> Loading settings from checkpoint..\n",
      "==> Preparing data..\n",
      "Files already downloaded and verified\n",
      "Files already downloaded and verified\n",
      "Files already downloaded and verified\n",
      "==> Building model..\n",
      "==> Loading encoder from checkpoint..\n"
     ]
    },
    {
     "name": "stderr",
     "output_type": "stream",
     "text": [
      "Loss: 0.04169:           | 0/500 [00:00<?, ?it/s]               "
     ]
    },
    {
     "name": "stdout",
     "output_type": "stream",
     "text": [
      "\n",
      "L2 Regularization weight: 1e-06\n"
     ]
    },
    {
     "name": "stderr",
     "output_type": "stream",
     "text": [
      "Loss: 0.03160: ██████████| 500/500 [01:25<00:00,  5.86it/s]\n",
      "Loss: 0.03698:           | 0/500 [00:00<?, ?it/s]               "
     ]
    },
    {
     "name": "stdout",
     "output_type": "stream",
     "text": [
      "Loss: 0.03220\n",
      "\n",
      "L2 Regularization weight: 9.99999e-06\n"
     ]
    },
    {
     "name": "stderr",
     "output_type": "stream",
     "text": [
      "Loss: 0.03164: ██████████| 500/500 [01:20<00:00,  6.24it/s]\n",
      "Loss: 0.03905:           | 0/500 [00:00<?, ?it/s]               "
     ]
    },
    {
     "name": "stdout",
     "output_type": "stream",
     "text": [
      "Loss: 0.03219\n",
      "\n",
      "L2 Regularization weight: 0.0001\n"
     ]
    },
    {
     "name": "stderr",
     "output_type": "stream",
     "text": [
      "Loss: 0.03196: ██████████| 500/500 [01:05<00:00,  7.67it/s]\n"
     ]
    },
    {
     "name": "stdout",
     "output_type": "stream",
     "text": [
      "Loss: 0.03219\n",
      "Best test loss 0.032192353159189224\n",
      "==> Loading settings from checkpoint..\n",
      "==> Preparing data..\n",
      "Files already downloaded and verified\n",
      "Files already downloaded and verified\n",
      "Files already downloaded and verified\n",
      "==> Building model..\n",
      "==> Loading encoder from checkpoint..\n"
     ]
    },
    {
     "name": "stderr",
     "output_type": "stream",
     "text": [
      "Loss: 0.04125:           | 0/500 [00:00<?, ?it/s]               "
     ]
    },
    {
     "name": "stdout",
     "output_type": "stream",
     "text": [
      "\n",
      "L2 Regularization weight: 1e-06\n"
     ]
    },
    {
     "name": "stderr",
     "output_type": "stream",
     "text": [
      "Loss: 0.03176: ██████████| 500/500 [00:44<00:00, 11.17it/s]\n",
      "Loss: 0.04116:           | 0/500 [00:00<?, ?it/s]               "
     ]
    },
    {
     "name": "stdout",
     "output_type": "stream",
     "text": [
      "Loss: 0.03244\n",
      "\n",
      "L2 Regularization weight: 9.99999e-06\n"
     ]
    },
    {
     "name": "stderr",
     "output_type": "stream",
     "text": [
      "Loss: 0.03181: ██████████| 500/500 [00:38<00:00, 13.12it/s]\n",
      "Loss: 0.03975:           | 0/500 [00:00<?, ?it/s]               "
     ]
    },
    {
     "name": "stdout",
     "output_type": "stream",
     "text": [
      "Loss: 0.03243\n",
      "\n",
      "L2 Regularization weight: 0.0001\n"
     ]
    },
    {
     "name": "stderr",
     "output_type": "stream",
     "text": [
      "Loss: 0.03215: ██████████| 500/500 [00:31<00:00, 15.78it/s]\n"
     ]
    },
    {
     "name": "stdout",
     "output_type": "stream",
     "text": [
      "Loss: 0.03245\n",
      "Best test loss 0.03243108093738556\n",
      "==> Loading settings from checkpoint..\n",
      "==> Preparing data..\n",
      "Files already downloaded and verified\n",
      "Files already downloaded and verified\n",
      "Files already downloaded and verified\n",
      "==> Building model..\n",
      "==> Loading encoder from checkpoint..\n"
     ]
    },
    {
     "name": "stderr",
     "output_type": "stream",
     "text": [
      "Loss: 0.03848:           | 0/500 [00:00<?, ?it/s]               "
     ]
    },
    {
     "name": "stdout",
     "output_type": "stream",
     "text": [
      "\n",
      "L2 Regularization weight: 1e-06\n"
     ]
    },
    {
     "name": "stderr",
     "output_type": "stream",
     "text": [
      "Loss: 0.03273: ██████████| 500/500 [01:19<00:00,  6.29it/s]\n",
      "Loss: 0.04051:           | 1/500 [00:00<00:52,  9.56it/s]       "
     ]
    },
    {
     "name": "stdout",
     "output_type": "stream",
     "text": [
      "Loss: 0.03309\n",
      "\n",
      "L2 Regularization weight: 9.99999e-06\n"
     ]
    },
    {
     "name": "stderr",
     "output_type": "stream",
     "text": [
      "Loss: 0.03278: ██████████| 500/500 [01:20<00:00,  6.21it/s]\n",
      "Loss: 0.04040:           | 0/500 [00:00<?, ?it/s]               "
     ]
    },
    {
     "name": "stdout",
     "output_type": "stream",
     "text": [
      "Loss: 0.03308\n",
      "\n",
      "L2 Regularization weight: 0.0001\n"
     ]
    },
    {
     "name": "stderr",
     "output_type": "stream",
     "text": [
      "Loss: 0.03325: ██████████| 500/500 [00:34<00:00, 14.63it/s]\n"
     ]
    },
    {
     "name": "stdout",
     "output_type": "stream",
     "text": [
      "Loss: 0.03312\n",
      "Best test loss 0.0330786369740963\n",
      "==> Loading settings from checkpoint..\n",
      "==> Preparing data..\n",
      "Files already downloaded and verified\n",
      "Files already downloaded and verified\n",
      "Files already downloaded and verified\n",
      "==> Building model..\n",
      "==> Loading encoder from checkpoint..\n"
     ]
    },
    {
     "name": "stderr",
     "output_type": "stream",
     "text": [
      "Loss: 0.04094:           | 0/500 [00:00<?, ?it/s]               "
     ]
    },
    {
     "name": "stdout",
     "output_type": "stream",
     "text": [
      "\n",
      "L2 Regularization weight: 1e-06\n"
     ]
    },
    {
     "name": "stderr",
     "output_type": "stream",
     "text": [
      "Loss: 0.03278: ██████████| 500/500 [00:35<00:00, 14.21it/s]\n",
      "Loss: 0.04087:           | 1/500 [00:00<00:51,  9.66it/s]       "
     ]
    },
    {
     "name": "stdout",
     "output_type": "stream",
     "text": [
      "Loss: 0.03304\n",
      "\n",
      "L2 Regularization weight: 9.99999e-06\n"
     ]
    },
    {
     "name": "stderr",
     "output_type": "stream",
     "text": [
      "Loss: 0.03282: ██████████| 500/500 [00:33<00:00, 14.81it/s]\n",
      "Loss: 0.04077:           | 0/500 [00:00<?, ?it/s]               "
     ]
    },
    {
     "name": "stdout",
     "output_type": "stream",
     "text": [
      "Loss: 0.03304\n",
      "\n",
      "L2 Regularization weight: 0.0001\n"
     ]
    },
    {
     "name": "stderr",
     "output_type": "stream",
     "text": [
      "Loss: 0.03315: ██████████| 500/500 [00:29<00:00, 16.84it/s]\n"
     ]
    },
    {
     "name": "stdout",
     "output_type": "stream",
     "text": [
      "Loss: 0.03302\n",
      "Best test loss 0.03302151337265968\n",
      "==> Loading settings from checkpoint..\n",
      "==> Preparing data..\n",
      "Files already downloaded and verified\n",
      "Files already downloaded and verified\n",
      "Files already downloaded and verified\n",
      "==> Building model..\n",
      "==> Loading encoder from checkpoint..\n"
     ]
    },
    {
     "name": "stderr",
     "output_type": "stream",
     "text": [
      "Loss: 0.04274:           | 0/500 [00:00<?, ?it/s]               "
     ]
    },
    {
     "name": "stdout",
     "output_type": "stream",
     "text": [
      "\n",
      "L2 Regularization weight: 1e-06\n"
     ]
    },
    {
     "name": "stderr",
     "output_type": "stream",
     "text": [
      "Loss: 0.03319: ██████████| 500/500 [01:30<00:00,  5.51it/s]\n",
      "Loss: 0.04243:           | 0/500 [00:00<?, ?it/s]               "
     ]
    },
    {
     "name": "stdout",
     "output_type": "stream",
     "text": [
      "Loss: 0.03371\n",
      "\n",
      "L2 Regularization weight: 9.99999e-06\n"
     ]
    },
    {
     "name": "stderr",
     "output_type": "stream",
     "text": [
      "Loss: 0.03323: ██████████| 500/500 [01:34<00:00,  5.28it/s]\n",
      "Loss: 0.04295:           | 1/500 [00:00<00:51,  9.76it/s]       "
     ]
    },
    {
     "name": "stdout",
     "output_type": "stream",
     "text": [
      "Loss: 0.03370\n",
      "\n",
      "L2 Regularization weight: 0.0001\n"
     ]
    },
    {
     "name": "stderr",
     "output_type": "stream",
     "text": [
      "Loss: 0.03348: ██████████| 500/500 [01:30<00:00,  5.50it/s]\n"
     ]
    },
    {
     "name": "stdout",
     "output_type": "stream",
     "text": [
      "Loss: 0.03369\n",
      "Best test loss 0.03369256108999252\n",
      "==> Loading settings from checkpoint..\n",
      "==> Preparing data..\n",
      "Files already downloaded and verified\n",
      "Files already downloaded and verified\n",
      "Files already downloaded and verified\n",
      "==> Building model..\n",
      "==> Loading encoder from checkpoint..\n"
     ]
    },
    {
     "name": "stderr",
     "output_type": "stream",
     "text": [
      "Loss: 0.04270:           | 1/500 [00:00<00:52,  9.51it/s]       "
     ]
    },
    {
     "name": "stdout",
     "output_type": "stream",
     "text": [
      "\n",
      "L2 Regularization weight: 1e-06\n"
     ]
    },
    {
     "name": "stderr",
     "output_type": "stream",
     "text": [
      "Loss: 0.03187: ██████████| 500/500 [01:24<00:00,  5.91it/s]\n",
      "Loss: 0.04242:           | 0/500 [00:00<?, ?it/s]               "
     ]
    },
    {
     "name": "stdout",
     "output_type": "stream",
     "text": [
      "Loss: 0.03271\n",
      "\n",
      "L2 Regularization weight: 9.99999e-06\n"
     ]
    },
    {
     "name": "stderr",
     "output_type": "stream",
     "text": [
      "Loss: 0.03191: ██████████| 500/500 [01:28<00:00,  5.65it/s]\n",
      "Loss: 0.04217:           | 0/500 [00:00<?, ?it/s]               "
     ]
    },
    {
     "name": "stdout",
     "output_type": "stream",
     "text": [
      "Loss: 0.03270\n",
      "\n",
      "L2 Regularization weight: 0.0001\n"
     ]
    },
    {
     "name": "stderr",
     "output_type": "stream",
     "text": [
      "Loss: 0.03219: ██████████| 500/500 [01:15<00:00,  6.66it/s]\n"
     ]
    },
    {
     "name": "stdout",
     "output_type": "stream",
     "text": [
      "Loss: 0.03272\n",
      "Best test loss 0.03270367905497551\n",
      "==> Loading settings from checkpoint..\n",
      "==> Preparing data..\n",
      "Files already downloaded and verified\n",
      "Files already downloaded and verified\n",
      "Files already downloaded and verified\n",
      "==> Building model..\n",
      "==> Loading encoder from checkpoint..\n"
     ]
    },
    {
     "name": "stderr",
     "output_type": "stream",
     "text": [
      "Loss: 0.04134:           | 0/500 [00:00<?, ?it/s]               "
     ]
    },
    {
     "name": "stdout",
     "output_type": "stream",
     "text": [
      "\n",
      "L2 Regularization weight: 1e-06\n"
     ]
    },
    {
     "name": "stderr",
     "output_type": "stream",
     "text": [
      "Loss: 0.03249: ██████████| 500/500 [01:08<00:00,  7.28it/s]\n",
      "Loss: 0.04429:           | 0/500 [00:00<?, ?it/s]               "
     ]
    },
    {
     "name": "stdout",
     "output_type": "stream",
     "text": [
      "Loss: 0.03340\n",
      "\n",
      "L2 Regularization weight: 9.99999e-06\n"
     ]
    },
    {
     "name": "stderr",
     "output_type": "stream",
     "text": [
      "Loss: 0.03252: ██████████| 500/500 [01:15<00:00,  6.65it/s]\n",
      "Loss: 0.04138:           | 0/500 [00:00<?, ?it/s]               "
     ]
    },
    {
     "name": "stdout",
     "output_type": "stream",
     "text": [
      "Loss: 0.03340\n",
      "\n",
      "L2 Regularization weight: 0.0001\n"
     ]
    },
    {
     "name": "stderr",
     "output_type": "stream",
     "text": [
      "Loss: 0.03278: ██████████| 500/500 [01:01<00:00,  8.11it/s]\n"
     ]
    },
    {
     "name": "stdout",
     "output_type": "stream",
     "text": [
      "Loss: 0.03338\n",
      "Best test loss 0.03338354453444481\n",
      "==> Loading settings from checkpoint..\n",
      "==> Preparing data..\n",
      "Files already downloaded and verified\n",
      "Files already downloaded and verified\n",
      "Files already downloaded and verified\n",
      "==> Building model..\n",
      "==> Loading encoder from checkpoint..\n"
     ]
    },
    {
     "name": "stderr",
     "output_type": "stream",
     "text": [
      "Loss: 0.03456:           | 0/500 [00:00<?, ?it/s]               "
     ]
    },
    {
     "name": "stdout",
     "output_type": "stream",
     "text": [
      "\n",
      "L2 Regularization weight: 1e-06\n"
     ]
    },
    {
     "name": "stderr",
     "output_type": "stream",
     "text": [
      "Loss: 0.03287: ██████████| 500/500 [00:16<00:00, 31.05it/s]\n",
      "Loss: 0.03446:           | 0/500 [00:00<?, ?it/s]               "
     ]
    },
    {
     "name": "stdout",
     "output_type": "stream",
     "text": [
      "Loss: 0.03397\n",
      "\n",
      "L2 Regularization weight: 9.99999e-06\n"
     ]
    },
    {
     "name": "stderr",
     "output_type": "stream",
     "text": [
      "Loss: 0.03290: ██████████| 500/500 [00:27<00:00, 18.09it/s]\n",
      "Loss: 0.04119:           | 0/500 [00:00<?, ?it/s]               "
     ]
    },
    {
     "name": "stdout",
     "output_type": "stream",
     "text": [
      "Loss: 0.03397\n",
      "\n",
      "L2 Regularization weight: 0.0001\n"
     ]
    },
    {
     "name": "stderr",
     "output_type": "stream",
     "text": [
      "Loss: 0.03294: ██████████| 500/500 [01:20<00:00,  6.18it/s]\n"
     ]
    },
    {
     "name": "stdout",
     "output_type": "stream",
     "text": [
      "Loss: 0.03371\n",
      "Best test loss 0.03370827063918114\n",
      "==> Loading settings from checkpoint..\n",
      "==> Preparing data..\n",
      "Files already downloaded and verified\n",
      "Files already downloaded and verified\n",
      "Files already downloaded and verified\n",
      "==> Building model..\n",
      "==> Loading encoder from checkpoint..\n"
     ]
    },
    {
     "name": "stderr",
     "output_type": "stream",
     "text": [
      "Loss: 0.04227:           | 0/500 [00:00<?, ?it/s]               "
     ]
    },
    {
     "name": "stdout",
     "output_type": "stream",
     "text": [
      "\n",
      "L2 Regularization weight: 1e-06\n"
     ]
    },
    {
     "name": "stderr",
     "output_type": "stream",
     "text": [
      "Loss: 0.03217: ██████████| 500/500 [01:41<00:00,  4.94it/s]\n",
      "Loss: 0.04505:           | 0/500 [00:00<?, ?it/s]               "
     ]
    },
    {
     "name": "stdout",
     "output_type": "stream",
     "text": [
      "Loss: 0.03274\n",
      "\n",
      "L2 Regularization weight: 9.99999e-06\n"
     ]
    },
    {
     "name": "stderr",
     "output_type": "stream",
     "text": [
      "Loss: 0.03220: ██████████| 500/500 [01:37<00:00,  5.14it/s]\n",
      "Loss: 0.04097:           | 0/500 [00:00<?, ?it/s]               "
     ]
    },
    {
     "name": "stdout",
     "output_type": "stream",
     "text": [
      "Loss: 0.03274\n",
      "\n",
      "L2 Regularization weight: 0.0001\n"
     ]
    },
    {
     "name": "stderr",
     "output_type": "stream",
     "text": [
      "Loss: 0.03245: ██████████| 500/500 [01:15<00:00,  6.58it/s]\n"
     ]
    },
    {
     "name": "stdout",
     "output_type": "stream",
     "text": [
      "Loss: 0.03274\n",
      "Best test loss 0.03273548185825348\n",
      "==> Loading settings from checkpoint..\n",
      "==> Preparing data..\n",
      "Files already downloaded and verified\n",
      "Files already downloaded and verified\n",
      "Files already downloaded and verified\n",
      "==> Building model..\n",
      "==> Loading encoder from checkpoint..\n"
     ]
    },
    {
     "name": "stderr",
     "output_type": "stream",
     "text": [
      "Loss: 0.04202:           | 0/500 [00:00<?, ?it/s]               "
     ]
    },
    {
     "name": "stdout",
     "output_type": "stream",
     "text": [
      "\n",
      "L2 Regularization weight: 1e-06\n"
     ]
    },
    {
     "name": "stderr",
     "output_type": "stream",
     "text": [
      "Loss: 0.03390: ██████████| 500/500 [00:29<00:00, 17.04it/s]\n",
      "Loss: 0.04527:           | 0/500 [00:00<?, ?it/s]               "
     ]
    },
    {
     "name": "stdout",
     "output_type": "stream",
     "text": [
      "Loss: 0.03430\n",
      "\n",
      "L2 Regularization weight: 9.99999e-06\n"
     ]
    },
    {
     "name": "stderr",
     "output_type": "stream",
     "text": [
      "Loss: 0.03392: ██████████| 500/500 [00:37<00:00, 13.40it/s]\n",
      "Loss: 0.04315:           | 0/500 [00:00<?, ?it/s]               "
     ]
    },
    {
     "name": "stdout",
     "output_type": "stream",
     "text": [
      "Loss: 0.03429\n",
      "\n",
      "L2 Regularization weight: 0.0001\n"
     ]
    },
    {
     "name": "stderr",
     "output_type": "stream",
     "text": [
      "Loss: 0.03410: ██████████| 500/500 [00:32<00:00, 15.26it/s]\n"
     ]
    },
    {
     "name": "stdout",
     "output_type": "stream",
     "text": [
      "Loss: 0.03429\n",
      "Best test loss 0.03428712859749794\n",
      "==> Loading settings from checkpoint..\n",
      "==> Preparing data..\n",
      "Files already downloaded and verified\n",
      "Files already downloaded and verified\n",
      "Files already downloaded and verified\n",
      "==> Building model..\n",
      "==> Loading encoder from checkpoint..\n"
     ]
    },
    {
     "name": "stderr",
     "output_type": "stream",
     "text": [
      "Loss: 0.04545:           | 0/500 [00:00<?, ?it/s]               "
     ]
    },
    {
     "name": "stdout",
     "output_type": "stream",
     "text": [
      "\n",
      "L2 Regularization weight: 1e-06\n"
     ]
    },
    {
     "name": "stderr",
     "output_type": "stream",
     "text": [
      "Loss: 0.03255: ██████████| 500/500 [01:35<00:00,  5.24it/s]\n",
      "Loss: 0.04183:           | 0/500 [00:00<?, ?it/s]               "
     ]
    },
    {
     "name": "stdout",
     "output_type": "stream",
     "text": [
      "Loss: 0.03344\n",
      "\n",
      "L2 Regularization weight: 9.99999e-06\n"
     ]
    },
    {
     "name": "stderr",
     "output_type": "stream",
     "text": [
      "Loss: 0.03258: ██████████| 500/500 [01:31<00:00,  5.44it/s]\n",
      "Loss: 0.04151:           | 0/500 [00:00<?, ?it/s]               "
     ]
    },
    {
     "name": "stdout",
     "output_type": "stream",
     "text": [
      "Loss: 0.03344\n",
      "\n",
      "L2 Regularization weight: 0.0001\n"
     ]
    },
    {
     "name": "stderr",
     "output_type": "stream",
     "text": [
      "Loss: 0.03279: ██████████| 500/500 [01:15<00:00,  6.64it/s]\n"
     ]
    },
    {
     "name": "stdout",
     "output_type": "stream",
     "text": [
      "Loss: 0.03344\n",
      "Best test loss 0.033438540995121\n",
      "==> Loading settings from checkpoint..\n",
      "==> Preparing data..\n",
      "Files already downloaded and verified\n",
      "Files already downloaded and verified\n",
      "Files already downloaded and verified\n",
      "==> Building model..\n",
      "==> Loading encoder from checkpoint..\n"
     ]
    },
    {
     "name": "stderr",
     "output_type": "stream",
     "text": [
      "Loss: 0.04328:           | 0/500 [00:00<?, ?it/s]               "
     ]
    },
    {
     "name": "stdout",
     "output_type": "stream",
     "text": [
      "\n",
      "L2 Regularization weight: 1e-06\n"
     ]
    },
    {
     "name": "stderr",
     "output_type": "stream",
     "text": [
      "Loss: 0.03214: ██████████| 500/500 [01:16<00:00,  6.53it/s]\n",
      "Loss: 0.03453:           | 0/500 [00:00<?, ?it/s]               "
     ]
    },
    {
     "name": "stdout",
     "output_type": "stream",
     "text": [
      "Loss: 0.03246\n",
      "\n",
      "L2 Regularization weight: 9.99999e-06\n"
     ]
    },
    {
     "name": "stderr",
     "output_type": "stream",
     "text": [
      "Loss: 0.03250: ██████████| 500/500 [00:15<00:00, 32.89it/s]\n",
      "Loss: 0.04109:           | 0/500 [00:00<?, ?it/s]               "
     ]
    },
    {
     "name": "stdout",
     "output_type": "stream",
     "text": [
      "Loss: 0.03284\n",
      "\n",
      "L2 Regularization weight: 0.0001\n"
     ]
    },
    {
     "name": "stderr",
     "output_type": "stream",
     "text": [
      "Loss: 0.03240: ██████████| 500/500 [01:09<00:00,  7.20it/s]\n"
     ]
    },
    {
     "name": "stdout",
     "output_type": "stream",
     "text": [
      "Loss: 0.03247\n",
      "Best test loss 0.03246288001537323\n",
      "==> Loading settings from checkpoint..\n",
      "==> Preparing data..\n",
      "Files already downloaded and verified\n",
      "Files already downloaded and verified\n",
      "Files already downloaded and verified\n",
      "==> Building model..\n",
      "==> Loading encoder from checkpoint..\n"
     ]
    },
    {
     "name": "stderr",
     "output_type": "stream",
     "text": [
      "Loss: 0.04237:           | 0/500 [00:00<?, ?it/s]               "
     ]
    },
    {
     "name": "stdout",
     "output_type": "stream",
     "text": [
      "\n",
      "L2 Regularization weight: 1e-06\n"
     ]
    },
    {
     "name": "stderr",
     "output_type": "stream",
     "text": [
      "Loss: 0.03189: ██████████| 500/500 [01:46<00:00,  4.69it/s]\n",
      "Loss: 0.25795:           | 1/500 [00:00<00:54,  9.23it/s]       "
     ]
    },
    {
     "name": "stdout",
     "output_type": "stream",
     "text": [
      "Loss: 0.03235\n",
      "\n",
      "L2 Regularization weight: 9.99999e-06\n"
     ]
    },
    {
     "name": "stderr",
     "output_type": "stream",
     "text": [
      "Loss: 0.03192: ██████████| 500/500 [01:43<00:00,  4.81it/s]\n",
      "Loss: 0.04120:           | 0/500 [00:00<?, ?it/s]               "
     ]
    },
    {
     "name": "stdout",
     "output_type": "stream",
     "text": [
      "Loss: 0.03235\n",
      "\n",
      "L2 Regularization weight: 0.0001\n"
     ]
    },
    {
     "name": "stderr",
     "output_type": "stream",
     "text": [
      "Loss: 0.03213: ██████████| 500/500 [01:26<00:00,  5.77it/s]\n"
     ]
    },
    {
     "name": "stdout",
     "output_type": "stream",
     "text": [
      "Loss: 0.03234\n",
      "Best test loss 0.03234489634633064\n",
      "==> Loading settings from checkpoint..\n",
      "==> Preparing data..\n",
      "Files already downloaded and verified\n",
      "Files already downloaded and verified\n",
      "Files already downloaded and verified\n",
      "==> Building model..\n",
      "==> Loading encoder from checkpoint..\n"
     ]
    },
    {
     "name": "stderr",
     "output_type": "stream",
     "text": [
      "Loss: 0.04309:           | 0/500 [00:00<?, ?it/s]               "
     ]
    },
    {
     "name": "stdout",
     "output_type": "stream",
     "text": [
      "\n",
      "L2 Regularization weight: 1e-06\n"
     ]
    },
    {
     "name": "stderr",
     "output_type": "stream",
     "text": [
      "Loss: 0.03249: ██████████| 500/500 [01:29<00:00,  5.60it/s]\n",
      "Loss: 0.04526:           | 0/500 [00:00<?, ?it/s]               "
     ]
    },
    {
     "name": "stdout",
     "output_type": "stream",
     "text": [
      "Loss: 0.03356\n",
      "\n",
      "L2 Regularization weight: 9.99999e-06\n"
     ]
    },
    {
     "name": "stderr",
     "output_type": "stream",
     "text": [
      "Loss: 0.03251: ██████████| 500/500 [01:26<00:00,  5.77it/s]\n",
      "Loss: 0.03530:           | 0/500 [00:00<?, ?it/s]               "
     ]
    },
    {
     "name": "stdout",
     "output_type": "stream",
     "text": [
      "Loss: 0.03356\n",
      "\n",
      "L2 Regularization weight: 0.0001\n"
     ]
    },
    {
     "name": "stderr",
     "output_type": "stream",
     "text": [
      "Loss: 0.03269: ██████████| 500/500 [01:07<00:00,  7.42it/s]\n"
     ]
    },
    {
     "name": "stdout",
     "output_type": "stream",
     "text": [
      "Loss: 0.03355\n",
      "Best test loss 0.03355387598276138\n",
      "==> Loading settings from checkpoint..\n",
      "==> Preparing data..\n",
      "Files already downloaded and verified\n",
      "Files already downloaded and verified\n",
      "Files already downloaded and verified\n",
      "==> Building model..\n",
      "==> Loading encoder from checkpoint..\n"
     ]
    },
    {
     "name": "stderr",
     "output_type": "stream",
     "text": [
      "Loss: 0.04531:           | 0/500 [00:00<?, ?it/s]               "
     ]
    },
    {
     "name": "stdout",
     "output_type": "stream",
     "text": [
      "\n",
      "L2 Regularization weight: 1e-06\n"
     ]
    },
    {
     "name": "stderr",
     "output_type": "stream",
     "text": [
      "Loss: 0.03317: ██████████| 500/500 [00:34<00:00, 14.40it/s]\n",
      "Loss: 0.04279:           | 1/500 [00:00<00:50,  9.91it/s]       "
     ]
    },
    {
     "name": "stdout",
     "output_type": "stream",
     "text": [
      "Loss: 0.03389\n",
      "\n",
      "L2 Regularization weight: 9.99999e-06\n"
     ]
    },
    {
     "name": "stderr",
     "output_type": "stream",
     "text": [
      "Loss: 0.03318: ██████████| 500/500 [00:30<00:00, 16.61it/s]\n",
      "Loss: 0.03566:           | 1/500 [00:00<00:52,  9.55it/s]       "
     ]
    },
    {
     "name": "stdout",
     "output_type": "stream",
     "text": [
      "Loss: 0.03389\n",
      "\n",
      "L2 Regularization weight: 0.0001\n"
     ]
    },
    {
     "name": "stderr",
     "output_type": "stream",
     "text": [
      "Loss: 0.03333: ██████████| 500/500 [00:13<00:00, 37.70it/s]\n"
     ]
    },
    {
     "name": "stdout",
     "output_type": "stream",
     "text": [
      "Loss: 0.03389\n",
      "Best test loss 0.03388511762022972\n",
      "==> Loading settings from checkpoint..\n",
      "==> Preparing data..\n",
      "Files already downloaded and verified\n",
      "Files already downloaded and verified\n",
      "Files already downloaded and verified\n",
      "==> Building model..\n",
      "==> Loading encoder from checkpoint..\n"
     ]
    },
    {
     "name": "stderr",
     "output_type": "stream",
     "text": [
      "Loss: 0.04375:           | 1/500 [00:00<00:53,  9.36it/s]       "
     ]
    },
    {
     "name": "stdout",
     "output_type": "stream",
     "text": [
      "\n",
      "L2 Regularization weight: 1e-06\n"
     ]
    },
    {
     "name": "stderr",
     "output_type": "stream",
     "text": [
      "Loss: 0.03226: ██████████| 500/500 [01:28<00:00,  5.64it/s]\n",
      "Loss: 0.04302:           | 1/500 [00:00<00:51,  9.74it/s]       "
     ]
    },
    {
     "name": "stdout",
     "output_type": "stream",
     "text": [
      "Loss: 0.03300\n",
      "\n",
      "L2 Regularization weight: 9.99999e-06\n"
     ]
    },
    {
     "name": "stderr",
     "output_type": "stream",
     "text": [
      "Loss: 0.03229: ██████████| 500/500 [01:35<00:00,  5.25it/s]\n",
      "Loss: 0.03560:           | 1/500 [00:00<00:50,  9.82it/s]       "
     ]
    },
    {
     "name": "stdout",
     "output_type": "stream",
     "text": [
      "Loss: 0.03300\n",
      "\n",
      "L2 Regularization weight: 0.0001\n"
     ]
    },
    {
     "name": "stderr",
     "output_type": "stream",
     "text": [
      "Loss: 0.03253: ██████████| 500/500 [01:04<00:00,  7.71it/s]\n"
     ]
    },
    {
     "name": "stdout",
     "output_type": "stream",
     "text": [
      "Loss: 0.03300\n",
      "Best test loss 0.03299534320831299\n",
      "==> Loading settings from checkpoint..\n",
      "==> Preparing data..\n",
      "Files already downloaded and verified\n",
      "Files already downloaded and verified\n",
      "Files already downloaded and verified\n",
      "==> Building model..\n",
      "==> Loading encoder from checkpoint..\n"
     ]
    },
    {
     "name": "stderr",
     "output_type": "stream",
     "text": [
      "Loss: 0.04285:           | 1/500 [00:00<00:51,  9.65it/s]       "
     ]
    },
    {
     "name": "stdout",
     "output_type": "stream",
     "text": [
      "\n",
      "L2 Regularization weight: 1e-06\n"
     ]
    },
    {
     "name": "stderr",
     "output_type": "stream",
     "text": [
      "Loss: 0.03282: ██████████| 500/500 [01:21<00:00,  6.14it/s]\n",
      "Loss: 0.04310:           | 0/500 [00:00<?, ?it/s]               "
     ]
    },
    {
     "name": "stdout",
     "output_type": "stream",
     "text": [
      "Loss: 0.03323\n",
      "\n",
      "L2 Regularization weight: 9.99999e-06\n"
     ]
    },
    {
     "name": "stderr",
     "output_type": "stream",
     "text": [
      "Loss: 0.03284: ██████████| 500/500 [01:06<00:00,  7.49it/s]\n",
      "Loss: 0.04414:           | 0/500 [00:00<?, ?it/s]               "
     ]
    },
    {
     "name": "stdout",
     "output_type": "stream",
     "text": [
      "Loss: 0.03323\n",
      "\n",
      "L2 Regularization weight: 0.0001\n"
     ]
    },
    {
     "name": "stderr",
     "output_type": "stream",
     "text": [
      "Loss: 0.03304: ██████████| 500/500 [01:11<00:00,  7.00it/s]\n"
     ]
    },
    {
     "name": "stdout",
     "output_type": "stream",
     "text": [
      "Loss: 0.03323\n",
      "Best test loss 0.033226173371076584\n",
      "==> Loading settings from checkpoint..\n",
      "==> Preparing data..\n",
      "Files already downloaded and verified\n",
      "Files already downloaded and verified\n",
      "Files already downloaded and verified\n",
      "==> Building model..\n",
      "==> Loading encoder from checkpoint..\n"
     ]
    },
    {
     "name": "stderr",
     "output_type": "stream",
     "text": [
      "Loss: 0.04366:           | 1/500 [00:00<00:52,  9.45it/s]       "
     ]
    },
    {
     "name": "stdout",
     "output_type": "stream",
     "text": [
      "\n",
      "L2 Regularization weight: 1e-06\n"
     ]
    },
    {
     "name": "stderr",
     "output_type": "stream",
     "text": [
      "Loss: 0.03308: ██████████| 500/500 [01:32<00:00,  5.38it/s]\n",
      "Loss: 0.03563:           | 0/500 [00:00<?, ?it/s]               "
     ]
    },
    {
     "name": "stdout",
     "output_type": "stream",
     "text": [
      "Loss: 0.03421\n",
      "\n",
      "L2 Regularization weight: 9.99999e-06\n"
     ]
    },
    {
     "name": "stderr",
     "output_type": "stream",
     "text": [
      "Loss: 0.03311: ██████████| 500/500 [01:14<00:00,  6.74it/s]\n",
      "Loss: 0.04394:           | 0/500 [00:00<?, ?it/s]               "
     ]
    },
    {
     "name": "stdout",
     "output_type": "stream",
     "text": [
      "Loss: 0.03421\n",
      "\n",
      "L2 Regularization weight: 0.0001\n"
     ]
    },
    {
     "name": "stderr",
     "output_type": "stream",
     "text": [
      "Loss: 0.03330: ██████████| 500/500 [01:32<00:00,  5.43it/s]\n"
     ]
    },
    {
     "name": "stdout",
     "output_type": "stream",
     "text": [
      "Loss: 0.03420\n",
      "Best test loss 0.03419564291834831\n",
      "==> Loading settings from checkpoint..\n",
      "==> Preparing data..\n",
      "Files already downloaded and verified\n",
      "Files already downloaded and verified\n",
      "Files already downloaded and verified\n",
      "==> Building model..\n",
      "==> Loading encoder from checkpoint..\n"
     ]
    },
    {
     "name": "stderr",
     "output_type": "stream",
     "text": [
      "Loss: 0.04308:           | 0/500 [00:00<?, ?it/s]               "
     ]
    },
    {
     "name": "stdout",
     "output_type": "stream",
     "text": [
      "\n",
      "L2 Regularization weight: 1e-06\n"
     ]
    },
    {
     "name": "stderr",
     "output_type": "stream",
     "text": [
      "Loss: 0.03310: ██████████| 500/500 [01:15<00:00,  6.62it/s]\n",
      "Loss: 0.04623:           | 0/500 [00:00<?, ?it/s]               "
     ]
    },
    {
     "name": "stdout",
     "output_type": "stream",
     "text": [
      "Loss: 0.03362\n",
      "\n",
      "L2 Regularization weight: 9.99999e-06\n"
     ]
    },
    {
     "name": "stderr",
     "output_type": "stream",
     "text": [
      "Loss: 0.03312: ██████████| 500/500 [01:16<00:00,  6.54it/s]\n",
      "Loss: 0.04406:           | 0/500 [00:00<?, ?it/s]               "
     ]
    },
    {
     "name": "stdout",
     "output_type": "stream",
     "text": [
      "Loss: 0.03362\n",
      "\n",
      "L2 Regularization weight: 0.0001\n"
     ]
    },
    {
     "name": "stderr",
     "output_type": "stream",
     "text": [
      "Loss: 0.03331: ██████████| 500/500 [01:07<00:00,  7.38it/s]\n"
     ]
    },
    {
     "name": "stdout",
     "output_type": "stream",
     "text": [
      "Loss: 0.03362\n",
      "Best test loss 0.03361799195408821\n"
     ]
    }
   ],
   "source": [
    "loss_gp = []\n",
    "for base_i in gp:\n",
    "    loss_i = []\n",
    "    for file in base_i:\n",
    "        best_loss = predict_alpha(file)\n",
    "        loss_i.append(best_loss)\n",
    "    loss_gp.append(loss_i)"
   ]
  },
  {
   "cell_type": "code",
   "execution_count": 33,
   "metadata": {},
   "outputs": [],
   "source": [
    "gp_mean = torch.tensor(loss_gp).mean(axis = 1)\n",
    "gp_std = torch.tensor(loss_gp).std(axis = 1)/np.sqrt(5)"
   ]
  },
  {
   "cell_type": "code",
   "execution_count": 34,
   "metadata": {},
   "outputs": [
    {
     "name": "stdout",
     "output_type": "stream",
     "text": [
      "tensor([0.0327, 0.0332, 0.0332, 0.0336])\n",
      "tensor([0.0002, 0.0002, 0.0004, 0.0002])\n"
     ]
    }
   ],
   "source": [
    "print(gp_mean)\n",
    "print(gp_std)"
   ]
  },
  {
   "cell_type": "code",
   "execution_count": 35,
   "metadata": {},
   "outputs": [],
   "source": [
    "import matplotlib.pyplot as plt"
   ]
  },
  {
   "cell_type": "code",
   "execution_count": 36,
   "metadata": {},
   "outputs": [
    {
     "data": {
      "image/png": "[encoded data removed]",
      "text/plain": [
       "<Figure size 432x288 with 1 Axes>"
      ]
     },
     "metadata": {
      "needs_background": "light"
     },
     "output_type": "display_data"
    }
   ],
   "source": [
    "epoch = [i*50 for i in range(1,5)]\n",
    "plt.plot(epoch, base_mean, marker = 'o', label = 'baseline')\n",
    "plt.fill_between(epoch, base_mean - 1*base_std, base_mean + 1*base_std, alpha = 0.2)\n",
    "plt.plot(epoch, gp_mean, marker = 'o', label = 'gradient penalty')\n",
    "plt.fill_between(epoch, gp_mean - 1*gp_std, gp_mean + 1*gp_std, alpha = 0.2)\n",
    "plt.grid(True)"
   ]
  },
  {
   "cell_type": "code",
   "execution_count": null,
   "metadata": {},
   "outputs": [],
   "source": []
  }
 ],
 "metadata": {
  "kernelspec": {
   "display_name": "Python 3",
   "language": "python",
   "name": "python3"
  },
  "language_info": {
   "codemirror_mode": {
    "name": "ipython",
    "version": 3
   },
   "file_extension": ".py",
   "mimetype": "text/x-python",
   "name": "python",
   "nbconvert_exporter": "python",
   "pygments_lexer": "ipython3",
   "version": "3.6.8"
  }
 },
 "nbformat": 4,
 "nbformat_minor": 4
}

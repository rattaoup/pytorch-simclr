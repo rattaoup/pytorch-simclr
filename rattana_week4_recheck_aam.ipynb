{
 "cells": [
  {
   "cell_type": "code",
   "execution_count": 29,
   "metadata": {},
   "outputs": [],
   "source": [
    "import argparse\n",
    "import os\n",
    "import subprocess\n",
    "\n",
    "import torch\n",
    "import torch.backends.cudnn as cudnn\n",
    "import torch.nn as nn\n",
    "import torch.optim as optim\n",
    "from torchlars import LARS\n",
    "from tqdm import tqdm\n",
    "\n",
    "from configs import get_datasets\n",
    "from critic import LinearCritic\n",
    "from evaluate import save_checkpoint,save_checkpoint2, encode_train_set, train_clf, test\n",
    "from models import *\n",
    "from scheduler import CosineAnnealingWithLinearRampLR\n",
    "from augmentation import ManualNormalise, DifferentiableColourDistortionByTorch_manual, gen_lambda\n",
    "from torchvision import transforms\n",
    "\n",
    "import torch.autograd as autograd\n",
    "\n",
    "import warnings\n",
    "warnings.filterwarnings(\"ignore\")\n",
    "\n",
    "import matplotlib.pyplot as plt"
   ]
  },
  {
   "cell_type": "code",
   "execution_count": 8,
   "metadata": {},
   "outputs": [
    {
     "name": "stdout",
     "output_type": "stream",
     "text": [
      "Files already downloaded and verified\n",
      "Files already downloaded and verified\n",
      "Files already downloaded and verified\n",
      "\n",
      "Epoch: 100\n"
     ]
    },
    {
     "name": "stderr",
     "output_type": "stream",
     "text": [
      "gradient_penalty: 0.00202 ,  loss: 5.486: ██████████| 98/98 [01:33<00:00,  1.04it/s]\n"
     ]
    }
   ],
   "source": [
    "%run calgradient.py --arch resnet18 --num-epochs 1000 --cosine-anneal --norm 1 --resume resnet18_new.pth99 --lambda-gp 0"
   ]
  },
  {
   "cell_type": "code",
   "execution_count": 17,
   "metadata": {},
   "outputs": [
    {
     "name": "stdout",
     "output_type": "stream",
     "text": [
      "Files already downloaded and verified\n",
      "Files already downloaded and verified\n",
      "Files already downloaded and verified\n",
      "\n",
      "Epoch: 200\n"
     ]
    },
    {
     "name": "stderr",
     "output_type": "stream",
     "text": [
      "gradient_penalty: 0.00193 ,  loss: 5.429: ██████████| 98/98 [01:34<00:00,  1.04it/s]\n"
     ]
    }
   ],
   "source": [
    "%run calgradient.py --arch resnet18 --num-epochs 1000 --cosine-anneal --norm 1 --resume resnet18_new.pth199 --lambda-gp 0"
   ]
  },
  {
   "cell_type": "code",
   "execution_count": 18,
   "metadata": {},
   "outputs": [
    {
     "name": "stdout",
     "output_type": "stream",
     "text": [
      "Files already downloaded and verified\n",
      "Files already downloaded and verified\n",
      "Files already downloaded and verified\n",
      "\n",
      "Epoch: 300\n"
     ]
    },
    {
     "name": "stderr",
     "output_type": "stream",
     "text": [
      "gradient_penalty: 0.00194 ,  loss: 5.398: ██████████| 98/98 [01:35<00:00,  1.02it/s]\n"
     ]
    }
   ],
   "source": [
    "%run calgradient.py --arch resnet18 --num-epochs 1000 --cosine-anneal --norm 1 --resume resnet18_new.pth299 --lambda-gp 0"
   ]
  },
  {
   "cell_type": "code",
   "execution_count": 19,
   "metadata": {},
   "outputs": [
    {
     "name": "stdout",
     "output_type": "stream",
     "text": [
      "Files already downloaded and verified\n",
      "Files already downloaded and verified\n",
      "Files already downloaded and verified\n",
      "\n",
      "Epoch: 400\n"
     ]
    },
    {
     "name": "stderr",
     "output_type": "stream",
     "text": [
      "gradient_penalty: 0.00192 ,  loss: 5.374: ██████████| 98/98 [01:38<00:00,  1.01s/it]\n"
     ]
    }
   ],
   "source": [
    "%run calgradient.py --arch resnet18 --num-epochs 1000 --cosine-anneal --norm 1 --resume resnet18_new.pth399 --lambda-gp 0"
   ]
  },
  {
   "cell_type": "code",
   "execution_count": 20,
   "metadata": {},
   "outputs": [
    {
     "name": "stdout",
     "output_type": "stream",
     "text": [
      "Files already downloaded and verified\n",
      "Files already downloaded and verified\n",
      "Files already downloaded and verified\n",
      "\n",
      "Epoch: 500\n"
     ]
    },
    {
     "name": "stderr",
     "output_type": "stream",
     "text": [
      "gradient_penalty: 0.00197 ,  loss: 5.355: ██████████| 98/98 [01:39<00:00,  1.01s/it]\n"
     ]
    }
   ],
   "source": [
    "%run calgradient.py --arch resnet18 --num-epochs 1000 --cosine-anneal --norm 1 --resume resnet18_new.pth499 --lambda-gp 0"
   ]
  },
  {
   "cell_type": "code",
   "execution_count": 21,
   "metadata": {},
   "outputs": [
    {
     "name": "stdout",
     "output_type": "stream",
     "text": [
      "Files already downloaded and verified\n",
      "Files already downloaded and verified\n",
      "Files already downloaded and verified\n",
      "\n",
      "Epoch: 600\n"
     ]
    },
    {
     "name": "stderr",
     "output_type": "stream",
     "text": [
      "gradient_penalty: 0.00197 ,  loss: 5.341: ██████████| 98/98 [01:39<00:00,  1.01s/it]\n"
     ]
    }
   ],
   "source": [
    "%run calgradient.py --arch resnet18 --num-epochs 1000 --cosine-anneal --norm 1 --resume resnet18_new.pth599 --lambda-gp 0"
   ]
  },
  {
   "cell_type": "code",
   "execution_count": 22,
   "metadata": {},
   "outputs": [
    {
     "name": "stdout",
     "output_type": "stream",
     "text": [
      "Files already downloaded and verified\n",
      "Files already downloaded and verified\n",
      "Files already downloaded and verified\n",
      "\n",
      "Epoch: 700\n"
     ]
    },
    {
     "name": "stderr",
     "output_type": "stream",
     "text": [
      "gradient_penalty: 0.00205 ,  loss: 5.333: ██████████| 98/98 [01:38<00:00,  1.01s/it]\n"
     ]
    }
   ],
   "source": [
    "%run calgradient.py --arch resnet18 --num-epochs 1000 --cosine-anneal --norm 1 --resume resnet18_new.pth699 --lambda-gp 0"
   ]
  },
  {
   "cell_type": "code",
   "execution_count": 23,
   "metadata": {},
   "outputs": [
    {
     "name": "stdout",
     "output_type": "stream",
     "text": [
      "Files already downloaded and verified\n",
      "Files already downloaded and verified\n",
      "Files already downloaded and verified\n",
      "\n",
      "Epoch: 800\n"
     ]
    },
    {
     "name": "stderr",
     "output_type": "stream",
     "text": [
      "gradient_penalty: 0.00214 ,  loss: 5.324: ██████████| 98/98 [01:39<00:00,  1.01s/it]\n"
     ]
    }
   ],
   "source": [
    "%run calgradient.py --arch resnet18 --num-epochs 1000 --cosine-anneal --norm 1 --resume resnet18_new.pth799 --lambda-gp 0"
   ]
  },
  {
   "cell_type": "code",
   "execution_count": 24,
   "metadata": {},
   "outputs": [
    {
     "name": "stdout",
     "output_type": "stream",
     "text": [
      "Files already downloaded and verified\n",
      "Files already downloaded and verified\n",
      "Files already downloaded and verified\n",
      "\n",
      "Epoch: 900\n"
     ]
    },
    {
     "name": "stderr",
     "output_type": "stream",
     "text": [
      "gradient_penalty: 0.00237 ,  loss: 5.333: ██████████| 98/98 [01:39<00:00,  1.01s/it]\n"
     ]
    }
   ],
   "source": [
    "%run calgradient.py --arch resnet18 --num-epochs 1000 --cosine-anneal --norm 1 --resume resnet18_new.pth899 --lambda-gp 0"
   ]
  },
  {
   "cell_type": "code",
   "execution_count": 25,
   "metadata": {},
   "outputs": [
    {
     "name": "stdout",
     "output_type": "stream",
     "text": [
      "Files already downloaded and verified\n",
      "Files already downloaded and verified\n",
      "Files already downloaded and verified\n",
      "\n",
      "Epoch: 1000\n"
     ]
    },
    {
     "name": "stderr",
     "output_type": "stream",
     "text": [
      "gradient_penalty: 0.00280 ,  loss: 5.358: ██████████| 98/98 [01:39<00:00,  1.01s/it]\n"
     ]
    }
   ],
   "source": [
    "%run calgradient.py --arch resnet18 --num-epochs 1000 --cosine-anneal --norm 1 --resume resnet18_new.pth999 --lambda-gp 0"
   ]
  },
  {
   "cell_type": "markdown",
   "metadata": {},
   "source": [
    "# Gradient Penalty for new baseline aam simclr"
   ]
  },
  {
   "cell_type": "code",
   "execution_count": 9,
   "metadata": {},
   "outputs": [
    {
     "name": "stdout",
     "output_type": "stream",
     "text": [
      "Files already downloaded and verified\n",
      "Files already downloaded and verified\n",
      "Files already downloaded and verified\n",
      "\n",
      "Epoch: 100\n"
     ]
    },
    {
     "name": "stderr",
     "output_type": "stream",
     "text": [
      "gradient_penalty: 0.00150 ,  loss: 5.462: ██████████| 98/98 [01:35<00:00,  1.02it/s]\n"
     ]
    }
   ],
   "source": [
    "%run calgradient.py --arch resnet18 --num-epochs 1000 --cosine-anneal --norm 1 --resume resnet18_aam_new_baseline_rerun.pth99 --lambda-gp 0"
   ]
  },
  {
   "cell_type": "code",
   "execution_count": 10,
   "metadata": {},
   "outputs": [
    {
     "name": "stdout",
     "output_type": "stream",
     "text": [
      "Files already downloaded and verified\n",
      "Files already downloaded and verified\n",
      "Files already downloaded and verified\n",
      "\n",
      "Epoch: 200\n"
     ]
    },
    {
     "name": "stderr",
     "output_type": "stream",
     "text": [
      "gradient_penalty: 0.00145 ,  loss: 5.403: ██████████| 98/98 [01:38<00:00,  1.00s/it]\n"
     ]
    }
   ],
   "source": [
    "%run calgradient.py --arch resnet18 --num-epochs 1000 --cosine-anneal --norm 1 --resume resnet18_aam_new_baseline_rerun.pth199 --lambda-gp 0"
   ]
  },
  {
   "cell_type": "code",
   "execution_count": 11,
   "metadata": {},
   "outputs": [
    {
     "name": "stdout",
     "output_type": "stream",
     "text": [
      "Files already downloaded and verified\n",
      "Files already downloaded and verified\n",
      "Files already downloaded and verified\n",
      "\n",
      "Epoch: 300\n"
     ]
    },
    {
     "name": "stderr",
     "output_type": "stream",
     "text": [
      "gradient_penalty: 0.00148 ,  loss: 5.369: ██████████| 98/98 [01:38<00:00,  1.01s/it]\n"
     ]
    }
   ],
   "source": [
    "%run calgradient.py --arch resnet18 --num-epochs 1000 --cosine-anneal --norm 1 --resume resnet18_aam_new_baseline_rerun.pth299 --lambda-gp 0"
   ]
  },
  {
   "cell_type": "code",
   "execution_count": 12,
   "metadata": {},
   "outputs": [
    {
     "name": "stdout",
     "output_type": "stream",
     "text": [
      "Files already downloaded and verified\n",
      "Files already downloaded and verified\n",
      "Files already downloaded and verified\n",
      "\n",
      "Epoch: 400\n"
     ]
    },
    {
     "name": "stderr",
     "output_type": "stream",
     "text": [
      "gradient_penalty: 0.00148 ,  loss: 5.345: ██████████| 98/98 [01:39<00:00,  1.01s/it]\n"
     ]
    }
   ],
   "source": [
    "%run calgradient.py --arch resnet18 --num-epochs 1000 --cosine-anneal --norm 1 --resume resnet18_aam_new_baseline_rerun.pth399 --lambda-gp 0"
   ]
  },
  {
   "cell_type": "code",
   "execution_count": 13,
   "metadata": {},
   "outputs": [
    {
     "name": "stdout",
     "output_type": "stream",
     "text": [
      "Files already downloaded and verified\n",
      "Files already downloaded and verified\n",
      "Files already downloaded and verified\n",
      "\n",
      "Epoch: 500\n"
     ]
    },
    {
     "name": "stderr",
     "output_type": "stream",
     "text": [
      "gradient_penalty: 0.00145 ,  loss: 5.323: ██████████| 98/98 [01:39<00:00,  1.01s/it]\n"
     ]
    }
   ],
   "source": [
    "%run calgradient.py --arch resnet18 --num-epochs 1000 --cosine-anneal --norm 1 --resume resnet18_aam_new_baseline_rerun.pth499 --lambda-gp 0"
   ]
  },
  {
   "cell_type": "code",
   "execution_count": 14,
   "metadata": {},
   "outputs": [
    {
     "name": "stdout",
     "output_type": "stream",
     "text": [
      "Files already downloaded and verified\n",
      "Files already downloaded and verified\n",
      "Files already downloaded and verified\n",
      "\n",
      "Epoch: 600\n"
     ]
    },
    {
     "name": "stderr",
     "output_type": "stream",
     "text": [
      "gradient_penalty: 0.00146 ,  loss: 5.311: ██████████| 98/98 [01:39<00:00,  1.01s/it]\n"
     ]
    }
   ],
   "source": [
    "%run calgradient.py --arch resnet18 --num-epochs 1000 --cosine-anneal --norm 1 --resume resnet18_aam_new_baseline_rerun.pth599 --lambda-gp 0"
   ]
  },
  {
   "cell_type": "code",
   "execution_count": 15,
   "metadata": {},
   "outputs": [
    {
     "name": "stdout",
     "output_type": "stream",
     "text": [
      "Files already downloaded and verified\n",
      "Files already downloaded and verified\n",
      "Files already downloaded and verified\n",
      "\n",
      "Epoch: 700\n"
     ]
    },
    {
     "name": "stderr",
     "output_type": "stream",
     "text": [
      "gradient_penalty: 0.00144 ,  loss: 5.298: ██████████| 98/98 [01:39<00:00,  1.01s/it]\n"
     ]
    }
   ],
   "source": [
    "%run calgradient.py --arch resnet18 --num-epochs 1000 --cosine-anneal --norm 1 --resume resnet18_aam_new_baseline_rerun.pth699 --lambda-gp 0"
   ]
  },
  {
   "cell_type": "code",
   "execution_count": 16,
   "metadata": {},
   "outputs": [
    {
     "name": "stdout",
     "output_type": "stream",
     "text": [
      "Files already downloaded and verified\n",
      "Files already downloaded and verified\n",
      "Files already downloaded and verified\n",
      "\n",
      "Epoch: 800\n"
     ]
    },
    {
     "name": "stderr",
     "output_type": "stream",
     "text": [
      "gradient_penalty: 0.00142 ,  loss: 5.285: ██████████| 98/98 [01:39<00:00,  1.02s/it]\n"
     ]
    }
   ],
   "source": [
    "%run calgradient.py --arch resnet18 --num-epochs 1000 --cosine-anneal --norm 1 --resume resnet18_aam_new_baseline_rerun.pth799 --lambda-gp 0"
   ]
  },
  {
   "cell_type": "code",
   "execution_count": 63,
   "metadata": {},
   "outputs": [
    {
     "name": "stdout",
     "output_type": "stream",
     "text": [
      "Files already downloaded and verified\n",
      "Files already downloaded and verified\n",
      "Files already downloaded and verified\n",
      "\n",
      "Epoch: 900\n"
     ]
    },
    {
     "name": "stderr",
     "output_type": "stream",
     "text": [
      "gradient_penalty: 0.00138 ,  loss: 5.278: ██████████| 98/98 [01:37<00:00,  1.00it/s]\n"
     ]
    }
   ],
   "source": [
    "%run calgradient.py --arch resnet18 --num-epochs 1000 --cosine-anneal --norm 1 --resume resnet18_aam_new_baseline_rerun.pth899 --lambda-gp 0"
   ]
  },
  {
   "cell_type": "code",
   "execution_count": 64,
   "metadata": {},
   "outputs": [
    {
     "name": "stdout",
     "output_type": "stream",
     "text": [
      "Files already downloaded and verified\n",
      "Files already downloaded and verified\n",
      "Files already downloaded and verified\n",
      "\n",
      "Epoch: 1000\n"
     ]
    },
    {
     "name": "stderr",
     "output_type": "stream",
     "text": [
      "gradient_penalty: 0.00142 ,  loss: 5.279: ██████████| 98/98 [01:40<00:00,  1.02s/it]\n"
     ]
    }
   ],
   "source": [
    "%run calgradient.py --arch resnet18 --num-epochs 1000 --cosine-anneal --norm 1 --resume resnet18_aam_new_baseline_rerun.pth999 --lambda-gp 0"
   ]
  },
  {
   "cell_type": "code",
   "execution_count": 42,
   "metadata": {},
   "outputs": [
    {
     "name": "stdout",
     "output_type": "stream",
     "text": [
      "Files already downloaded and verified\n",
      "Files already downloaded and verified\n",
      "Files already downloaded and verified\n"
     ]
    }
   ],
   "source": [
    "rainset, testset, clftrainset, num_classes, stem = get_datasets(args.dataset)\n",
    "\n",
    "trainloader = torch.utils.data.DataLoader(trainset, batch_size=args.batch_size, shuffle=True,\n",
    "                                          num_workers=args.num_workers, pin_memory=True)\n",
    "testloader = torch.utils.data.DataLoader(testset, batch_size=1000, shuffle=False, num_workers=args.num_workers,\n",
    "                                         pin_memory=True)\n",
    "clftrainloader = torch.utils.data.DataLoader(clftrainset, batch_size=1000, shuffle=False, num_workers=args.num_workers,\n",
    "                                             pin_memory=True)\n",
    "device = 'cuda' if torch.cuda.is_available() else 'cpu'"
   ]
  },
  {
   "cell_type": "code",
   "execution_count": 44,
   "metadata": {},
   "outputs": [],
   "source": [
    "def cal_accuracy(file):\n",
    "    resume_from = os.path.join('./checkpoint', file)\n",
    "    checkpoint = torch.load(resume_from)\n",
    "    net = ResNet18(stem=stem)\n",
    "    net.to(device)\n",
    "    if device == 'cuda':\n",
    "        repr_dim = net.representation_dim\n",
    "        net = torch.nn.DataParallel(net)\n",
    "        net.representation_dim = repr_dim\n",
    "        cudnn.benchmark = True\n",
    "    \n",
    "    net.load_state_dict(checkpoint['net'])\n",
    "    \n",
    "    X, y = encode_train_set(clftrainloader, device, net)\n",
    "    clf = train_clf(X, y, net.representation_dim, num_classes, device, reg_weight=1e-5)\n",
    "    acc = test(testloader, device, net, clf)\n",
    "    print('acc : {} '.format(acc))\n",
    "    return acc"
   ]
  },
  {
   "cell_type": "code",
   "execution_count": 52,
   "metadata": {},
   "outputs": [],
   "source": [
    "filelist_aam = ['resnet18_aam_new_baseline_rerun.pth99']+ ['resnet18_aam_new_baseline_rerun.pth' + str(i) + '99' for i in range(1,10)]\n",
    "filelist_simclr = ['resnet18_new.pth99']+ ['resnet18_new.pth' + str(i) + '99' for i in range(1,10)]"
   ]
  },
  {
   "cell_type": "code",
   "execution_count": 60,
   "metadata": {},
   "outputs": [
    {
     "name": "stdout",
     "output_type": "stream",
     "text": [
      "resnet18_aam_new_baseline_rerun.pth99\n"
     ]
    },
    {
     "name": "stderr",
     "output_type": "stream",
     "text": [
      "Encoded 49/50: ██████████| 50/50 [00:07<00:00,  6.61it/s]\n",
      "Loss: 0.770 | Train Acc: 72.440% :           | 0/500 [00:00<?, ?it/s]"
     ]
    },
    {
     "name": "stdout",
     "output_type": "stream",
     "text": [
      "\n",
      "L2 Regularization weight: 1e-05\n"
     ]
    },
    {
     "name": "stderr",
     "output_type": "stream",
     "text": [
      "Loss: 0.492 | Train Acc: 82.968% : ██████████| 500/500 [00:59<00:00,  8.35it/s] \n",
      "Loss: 0.586 | Test Acc: 80.020% : ██████████| 10/10 [00:01<00:00,  5.73it/s]\n"
     ]
    },
    {
     "name": "stdout",
     "output_type": "stream",
     "text": [
      "acc : 80.02 \n",
      "resnet18_aam_new_baseline_rerun.pth199\n"
     ]
    },
    {
     "name": "stderr",
     "output_type": "stream",
     "text": [
      "Encoded 49/50: ██████████| 50/50 [00:07<00:00,  6.79it/s]\n",
      "Loss: 0.638 | Train Acc: 77.064% :           | 0/500 [00:00<?, ?it/s]"
     ]
    },
    {
     "name": "stdout",
     "output_type": "stream",
     "text": [
      "\n",
      "L2 Regularization weight: 1e-05\n"
     ]
    },
    {
     "name": "stderr",
     "output_type": "stream",
     "text": [
      "Loss: 0.404 | Train Acc: 85.966% : ██████████| 500/500 [00:39<00:00, 12.73it/s] \n",
      "Loss: 0.501 | Test Acc: 82.460% : ██████████| 10/10 [00:01<00:00,  5.75it/s]\n"
     ]
    },
    {
     "name": "stdout",
     "output_type": "stream",
     "text": [
      "acc : 82.46 \n",
      "resnet18_aam_new_baseline_rerun.pth299\n"
     ]
    },
    {
     "name": "stderr",
     "output_type": "stream",
     "text": [
      "Encoded 49/50: ██████████| 50/50 [00:07<00:00,  6.81it/s]\n",
      "Loss: 0.509 | Train Acc: 81.984% :           | 0/500 [00:00<?, ?it/s]"
     ]
    },
    {
     "name": "stdout",
     "output_type": "stream",
     "text": [
      "\n",
      "L2 Regularization weight: 1e-05\n"
     ]
    },
    {
     "name": "stderr",
     "output_type": "stream",
     "text": [
      "Loss: 0.355 | Train Acc: 87.752% : ██████████| 500/500 [00:14<00:00, 35.21it/s] \n",
      "Loss: 0.446 | Test Acc: 84.600% : ██████████| 10/10 [00:01<00:00,  5.70it/s]\n"
     ]
    },
    {
     "name": "stdout",
     "output_type": "stream",
     "text": [
      "acc : 84.6 \n",
      "resnet18_aam_new_baseline_rerun.pth399\n"
     ]
    },
    {
     "name": "stderr",
     "output_type": "stream",
     "text": [
      "Encoded 49/50: ██████████| 50/50 [00:07<00:00,  6.75it/s]\n",
      "Loss: 0.445 | Train Acc: 84.264% :           | 0/500 [00:00<?, ?it/s]"
     ]
    },
    {
     "name": "stdout",
     "output_type": "stream",
     "text": [
      "\n",
      "L2 Regularization weight: 1e-05\n"
     ]
    },
    {
     "name": "stderr",
     "output_type": "stream",
     "text": [
      "Loss: 0.327 | Train Acc: 88.794% : ██████████| 500/500 [00:08<00:00, 62.48it/s] \n",
      "Loss: 0.416 | Test Acc: 85.660% : ██████████| 10/10 [00:01<00:00,  5.62it/s]\n"
     ]
    },
    {
     "name": "stdout",
     "output_type": "stream",
     "text": [
      "acc : 85.66 \n",
      "resnet18_aam_new_baseline_rerun.pth499\n"
     ]
    },
    {
     "name": "stderr",
     "output_type": "stream",
     "text": [
      "Encoded 49/50: ██████████| 50/50 [00:07<00:00,  6.71it/s]\n",
      "Loss: 0.441 | Train Acc: 84.560% :           | 0/500 [00:00<?, ?it/s]"
     ]
    },
    {
     "name": "stdout",
     "output_type": "stream",
     "text": [
      "\n",
      "L2 Regularization weight: 1e-05\n"
     ]
    },
    {
     "name": "stderr",
     "output_type": "stream",
     "text": [
      "Loss: 0.305 | Train Acc: 89.558% : ██████████| 500/500 [00:07<00:00, 70.20it/s] \n",
      "Loss: 0.397 | Test Acc: 86.120% : ██████████| 10/10 [00:01<00:00,  5.45it/s]\n"
     ]
    },
    {
     "name": "stdout",
     "output_type": "stream",
     "text": [
      "acc : 86.12 \n",
      "resnet18_aam_new_baseline_rerun.pth599\n"
     ]
    },
    {
     "name": "stderr",
     "output_type": "stream",
     "text": [
      "Encoded 49/50: ██████████| 50/50 [00:07<00:00,  6.60it/s]\n",
      "Loss: 0.392 | Train Acc: 86.316% :           | 0/500 [00:00<?, ?it/s]"
     ]
    },
    {
     "name": "stdout",
     "output_type": "stream",
     "text": [
      "\n",
      "L2 Regularization weight: 1e-05\n"
     ]
    },
    {
     "name": "stderr",
     "output_type": "stream",
     "text": [
      "Loss: 0.291 | Train Acc: 90.176% : ██████████| 500/500 [00:06<00:00, 76.36it/s] \n",
      "Loss: 0.380 | Test Acc: 87.040% : ██████████| 10/10 [00:01<00:00,  5.46it/s]\n"
     ]
    },
    {
     "name": "stdout",
     "output_type": "stream",
     "text": [
      "acc : 87.04 \n",
      "resnet18_aam_new_baseline_rerun.pth699\n"
     ]
    },
    {
     "name": "stderr",
     "output_type": "stream",
     "text": [
      "Encoded 49/50: ██████████| 50/50 [00:07<00:00,  6.61it/s]\n",
      "Loss: 0.383 | Train Acc: 86.518% :           | 0/500 [00:00<?, ?it/s]"
     ]
    },
    {
     "name": "stdout",
     "output_type": "stream",
     "text": [
      "\n",
      "L2 Regularization weight: 1e-05\n"
     ]
    },
    {
     "name": "stderr",
     "output_type": "stream",
     "text": [
      "Loss: 0.280 | Train Acc: 90.488% : ██████████| 500/500 [00:06<00:00, 81.83it/s] \n",
      "Loss: 0.375 | Test Acc: 87.190% : ██████████| 10/10 [00:01<00:00,  5.42it/s]\n"
     ]
    },
    {
     "name": "stdout",
     "output_type": "stream",
     "text": [
      "acc : 87.19 \n",
      "resnet18_aam_new_baseline_rerun.pth799\n"
     ]
    },
    {
     "name": "stderr",
     "output_type": "stream",
     "text": [
      "Encoded 49/50: ██████████| 50/50 [00:07<00:00,  6.59it/s]\n",
      "Loss: 0.353 | Train Acc: 87.572% :           | 0/500 [00:00<?, ?it/s]"
     ]
    },
    {
     "name": "stdout",
     "output_type": "stream",
     "text": [
      "\n",
      "L2 Regularization weight: 1e-05\n"
     ]
    },
    {
     "name": "stderr",
     "output_type": "stream",
     "text": [
      "Loss: 0.275 | Train Acc: 90.670% : ██████████| 500/500 [00:06<00:00, 80.92it/s] \n",
      "Loss: 0.368 | Test Acc: 87.490% : ██████████| 10/10 [00:01<00:00,  5.52it/s]\n"
     ]
    },
    {
     "name": "stdout",
     "output_type": "stream",
     "text": [
      "acc : 87.49 \n",
      "resnet18_aam_new_baseline_rerun.pth899\n"
     ]
    },
    {
     "name": "stderr",
     "output_type": "stream",
     "text": [
      "Encoded 49/50: ██████████| 50/50 [00:07<00:00,  6.57it/s]\n",
      "Loss: 0.360 | Train Acc: 87.416% :           | 0/500 [00:00<?, ?it/s]"
     ]
    },
    {
     "name": "stdout",
     "output_type": "stream",
     "text": [
      "\n",
      "L2 Regularization weight: 1e-05\n"
     ]
    },
    {
     "name": "stderr",
     "output_type": "stream",
     "text": [
      "Loss: 0.271 | Train Acc: 90.850% : ██████████| 500/500 [00:05<00:00, 85.28it/s] \n",
      "Loss: 0.365 | Test Acc: 87.530% : ██████████| 10/10 [00:01<00:00,  5.64it/s]\n"
     ]
    },
    {
     "name": "stdout",
     "output_type": "stream",
     "text": [
      "acc : 87.53 \n",
      "resnet18_aam_new_baseline_rerun.pth999\n"
     ]
    },
    {
     "name": "stderr",
     "output_type": "stream",
     "text": [
      "Encoded 49/50: ██████████| 50/50 [00:07<00:00,  6.63it/s]\n",
      "Loss: 0.367 | Train Acc: 87.272% :           | 0/500 [00:00<?, ?it/s]"
     ]
    },
    {
     "name": "stdout",
     "output_type": "stream",
     "text": [
      "\n",
      "L2 Regularization weight: 1e-05\n"
     ]
    },
    {
     "name": "stderr",
     "output_type": "stream",
     "text": [
      "Loss: 0.270 | Train Acc: 90.798% : ██████████| 500/500 [00:05<00:00, 94.93it/s] \n",
      "Loss: 0.365 | Test Acc: 87.540% : ██████████| 10/10 [00:01<00:00,  5.32it/s]"
     ]
    },
    {
     "name": "stdout",
     "output_type": "stream",
     "text": [
      "acc : 87.54 \n"
     ]
    },
    {
     "name": "stderr",
     "output_type": "stream",
     "text": [
      "\n"
     ]
    }
   ],
   "source": [
    "acc_aam = []\n",
    "for file in filelist_aam:\n",
    "    print(file)\n",
    "    temp_acc = cal_accuracy(file)\n",
    "    acc_aam.append(temp_acc)"
   ]
  },
  {
   "cell_type": "code",
   "execution_count": 59,
   "metadata": {},
   "outputs": [
    {
     "name": "stdout",
     "output_type": "stream",
     "text": [
      "resnet18_new.pth99\n"
     ]
    },
    {
     "name": "stderr",
     "output_type": "stream",
     "text": [
      "Encoded 49/50: ██████████| 50/50 [00:07<00:00,  6.91it/s]\n",
      "Loss: 0.774 | Train Acc: 72.286% :           | 0/500 [00:00<?, ?it/s]"
     ]
    },
    {
     "name": "stdout",
     "output_type": "stream",
     "text": [
      "\n",
      "L2 Regularization weight: 1e-05\n"
     ]
    },
    {
     "name": "stderr",
     "output_type": "stream",
     "text": [
      "Loss: 0.496 | Train Acc: 82.788% : ██████████| 500/500 [00:49<00:00, 10.05it/s] \n",
      "Loss: 0.585 | Test Acc: 79.560% : ██████████| 10/10 [00:01<00:00,  5.62it/s]\n"
     ]
    },
    {
     "name": "stdout",
     "output_type": "stream",
     "text": [
      "acc : 79.56 \n",
      "resnet18_new.pth199\n"
     ]
    },
    {
     "name": "stderr",
     "output_type": "stream",
     "text": [
      "Encoded 49/50: ██████████| 50/50 [00:07<00:00,  6.87it/s]\n",
      "Loss: 0.661 | Train Acc: 76.470% :           | 0/500 [00:00<?, ?it/s]"
     ]
    },
    {
     "name": "stdout",
     "output_type": "stream",
     "text": [
      "\n",
      "L2 Regularization weight: 1e-05\n"
     ]
    },
    {
     "name": "stderr",
     "output_type": "stream",
     "text": [
      "Loss: 0.408 | Train Acc: 85.912% : ██████████| 500/500 [00:39<00:00, 12.70it/s] \n",
      "Loss: 0.503 | Test Acc: 82.250% : ██████████| 10/10 [00:01<00:00,  5.69it/s]\n"
     ]
    },
    {
     "name": "stdout",
     "output_type": "stream",
     "text": [
      "acc : 82.25 \n",
      "resnet18_new.pth299\n"
     ]
    },
    {
     "name": "stderr",
     "output_type": "stream",
     "text": [
      "Encoded 49/50: ██████████| 50/50 [00:07<00:00,  6.83it/s]\n",
      "Loss: 0.574 | Train Acc: 80.022% :           | 0/500 [00:00<?, ?it/s]"
     ]
    },
    {
     "name": "stdout",
     "output_type": "stream",
     "text": [
      "\n",
      "L2 Regularization weight: 1e-05\n"
     ]
    },
    {
     "name": "stderr",
     "output_type": "stream",
     "text": [
      "Loss: 0.376 | Train Acc: 87.184% : ██████████| 500/500 [00:13<00:00, 35.72it/s] \n",
      "Loss: 0.461 | Test Acc: 84.170% : ██████████| 10/10 [00:01<00:00,  5.68it/s]\n"
     ]
    },
    {
     "name": "stdout",
     "output_type": "stream",
     "text": [
      "acc : 84.17 \n",
      "resnet18_new.pth399\n"
     ]
    },
    {
     "name": "stderr",
     "output_type": "stream",
     "text": [
      "Encoded 49/50: ██████████| 50/50 [00:07<00:00,  6.86it/s]\n",
      "Loss: 0.483 | Train Acc: 83.196% :           | 0/500 [00:00<?, ?it/s]"
     ]
    },
    {
     "name": "stdout",
     "output_type": "stream",
     "text": [
      "\n",
      "L2 Regularization weight: 1e-05\n"
     ]
    },
    {
     "name": "stderr",
     "output_type": "stream",
     "text": [
      "Loss: 0.349 | Train Acc: 88.408% : ██████████| 500/500 [00:08<00:00, 61.62it/s] \n",
      "Loss: 0.436 | Test Acc: 84.780% : ██████████| 10/10 [00:01<00:00,  5.69it/s]\n"
     ]
    },
    {
     "name": "stdout",
     "output_type": "stream",
     "text": [
      "acc : 84.78 \n",
      "resnet18_new.pth499\n"
     ]
    },
    {
     "name": "stderr",
     "output_type": "stream",
     "text": [
      "Encoded 49/50: ██████████| 50/50 [00:07<00:00,  6.80it/s]\n",
      "Loss: 0.427 | Train Acc: 85.174% :           | 0/500 [00:00<?, ?it/s]"
     ]
    },
    {
     "name": "stdout",
     "output_type": "stream",
     "text": [
      "\n",
      "L2 Regularization weight: 1e-05\n"
     ]
    },
    {
     "name": "stderr",
     "output_type": "stream",
     "text": [
      "Loss: 0.320 | Train Acc: 89.272% : ██████████| 500/500 [00:07<00:00, 66.05it/s] \n",
      "Loss: 0.408 | Test Acc: 86.340% : ██████████| 10/10 [00:01<00:00,  5.79it/s]\n"
     ]
    },
    {
     "name": "stdout",
     "output_type": "stream",
     "text": [
      "acc : 86.34 \n",
      "resnet18_new.pth599\n"
     ]
    },
    {
     "name": "stderr",
     "output_type": "stream",
     "text": [
      "Encoded 49/50: ██████████| 50/50 [00:07<00:00,  6.78it/s]\n",
      "Loss: 0.397 | Train Acc: 86.454% :           | 0/500 [00:00<?, ?it/s]"
     ]
    },
    {
     "name": "stdout",
     "output_type": "stream",
     "text": [
      "\n",
      "L2 Regularization weight: 1e-05\n"
     ]
    },
    {
     "name": "stderr",
     "output_type": "stream",
     "text": [
      "Loss: 0.313 | Train Acc: 89.632% : ██████████| 500/500 [00:06<00:00, 79.13it/s] \n",
      "Loss: 0.401 | Test Acc: 86.250% : ██████████| 10/10 [00:01<00:00,  5.76it/s]\n"
     ]
    },
    {
     "name": "stdout",
     "output_type": "stream",
     "text": [
      "acc : 86.25 \n",
      "resnet18_new.pth699\n"
     ]
    },
    {
     "name": "stderr",
     "output_type": "stream",
     "text": [
      "Encoded 49/50: ██████████| 50/50 [00:07<00:00,  6.79it/s]\n",
      "Loss: 0.408 | Train Acc: 85.926% :           | 0/500 [00:00<?, ?it/s]"
     ]
    },
    {
     "name": "stdout",
     "output_type": "stream",
     "text": [
      "\n",
      "L2 Regularization weight: 1e-05\n"
     ]
    },
    {
     "name": "stderr",
     "output_type": "stream",
     "text": [
      "Loss: 0.302 | Train Acc: 89.932% : ██████████| 500/500 [00:06<00:00, 80.77it/s] \n",
      "Loss: 0.392 | Test Acc: 86.770% : ██████████| 10/10 [00:01<00:00,  5.52it/s]\n"
     ]
    },
    {
     "name": "stdout",
     "output_type": "stream",
     "text": [
      "acc : 86.77 \n",
      "resnet18_new.pth799\n"
     ]
    },
    {
     "name": "stderr",
     "output_type": "stream",
     "text": [
      "Encoded 49/50: ██████████| 50/50 [00:07<00:00,  6.79it/s]\n",
      "Loss: 0.395 | Train Acc: 86.646% :           | 0/500 [00:00<?, ?it/s]"
     ]
    },
    {
     "name": "stdout",
     "output_type": "stream",
     "text": [
      "\n",
      "L2 Regularization weight: 1e-05\n"
     ]
    },
    {
     "name": "stderr",
     "output_type": "stream",
     "text": [
      "Loss: 0.297 | Train Acc: 90.146% : ██████████| 500/500 [00:05<00:00, 85.73it/s] \n",
      "Loss: 0.388 | Test Acc: 86.880% : ██████████| 10/10 [00:01<00:00,  5.69it/s]\n"
     ]
    },
    {
     "name": "stdout",
     "output_type": "stream",
     "text": [
      "acc : 86.88 \n",
      "resnet18_new.pth899\n"
     ]
    },
    {
     "name": "stderr",
     "output_type": "stream",
     "text": [
      "Encoded 49/50: ██████████| 50/50 [00:07<00:00,  6.68it/s]\n",
      "Loss: 0.405 | Train Acc: 86.368% :           | 0/500 [00:00<?, ?it/s]"
     ]
    },
    {
     "name": "stdout",
     "output_type": "stream",
     "text": [
      "\n",
      "L2 Regularization weight: 1e-05\n"
     ]
    },
    {
     "name": "stderr",
     "output_type": "stream",
     "text": [
      "Loss: 0.293 | Train Acc: 90.226% : ██████████| 500/500 [00:04<00:00, 100.01it/s]\n",
      "Loss: 0.387 | Test Acc: 86.930% : ██████████| 10/10 [00:01<00:00,  5.54it/s]\n"
     ]
    },
    {
     "name": "stdout",
     "output_type": "stream",
     "text": [
      "acc : 86.93 \n",
      "resnet18_new.pth999\n"
     ]
    },
    {
     "name": "stderr",
     "output_type": "stream",
     "text": [
      "Encoded 49/50: ██████████| 50/50 [00:07<00:00,  6.61it/s]\n",
      "Loss: 0.388 | Train Acc: 86.736% :           | 0/500 [00:00<?, ?it/s]"
     ]
    },
    {
     "name": "stdout",
     "output_type": "stream",
     "text": [
      "\n",
      "L2 Regularization weight: 1e-05\n"
     ]
    },
    {
     "name": "stderr",
     "output_type": "stream",
     "text": [
      "Loss: 0.294 | Train Acc: 90.194% : ██████████| 500/500 [00:04<00:00, 106.48it/s]\n",
      "Loss: 0.387 | Test Acc: 86.790% : ██████████| 10/10 [00:01<00:00,  5.54it/s]"
     ]
    },
    {
     "name": "stdout",
     "output_type": "stream",
     "text": [
      "acc : 86.79 \n"
     ]
    },
    {
     "name": "stderr",
     "output_type": "stream",
     "text": [
      "\n"
     ]
    }
   ],
   "source": [
    "acc_simclr = []\n",
    "for file in filelist_simclr:\n",
    "    print(file)\n",
    "    temp_acc = cal_accuracy(file)\n",
    "    acc_simclr.append(temp_acc)"
   ]
  },
  {
   "cell_type": "markdown",
   "metadata": {},
   "source": [
    "# Plot !"
   ]
  },
  {
   "cell_type": "markdown",
   "metadata": {},
   "source": [
    "these number came from one run, so if we run the notebook again, the number may change !"
   ]
  },
  {
   "cell_type": "code",
   "execution_count": 74,
   "metadata": {},
   "outputs": [],
   "source": [
    "acc_aam = [80.02, 82.46, 84.6, 85.66, 86.12, 87.04, 87.19, 87.49, 87.53, 87.54 ]\n",
    "acc_simclr = [79.56, 82.25, 84.17,  84.78, 86.34, 86.25, 86.77, 86.88, 86.93, 86.79 ]\n",
    "epochs = [100*i for i in range(1,11)]\n",
    "\n",
    "gp_simclr = [0.00202, 0.00193, 0.00194 ,0.00192, 0.00197,0.00197,0.00205,0.00214 ,0.00237, 0.00280]\n",
    "loss_simclr = [5.486, 5.429, 5.398, 5.374, 5.355, 5.341, 5.333, 5.324, 5.333, 5.358]\n",
    "\n",
    "gp_aam = [0.00150, 0.00145, 0.00148, 0.00148, 0.00145, 0.00146, 0.00144, 0.00142 ,0.00138, 0.00142 ]\n",
    "loss_aam = [5.462, 5.403, 5.369, 5.345, 5.323 ,5.311 ,5.298 ,5.285, 5.278, 5.279]"
   ]
  },
  {
   "cell_type": "code",
   "execution_count": 78,
   "metadata": {},
   "outputs": [
    {
     "data": {
      "image/png": "[encoded data removed]",
      "text/plain": [
       "<Figure size 432x288 with 1 Axes>"
      ]
     },
     "metadata": {
      "needs_background": "light"
     },
     "output_type": "display_data"
    }
   ],
   "source": [
    "plt.plot(epochs,acc_simclr, label = 'simclr')\n",
    "plt.plot(epochs,acc_aam, label = 'simclr_aam')\n",
    "plt.xlabel('epochs')\n",
    "plt.ylabel('accuracy reg weight 1e-5')\n",
    "plt.legend()\n",
    "plt.show()"
   ]
  },
  {
   "cell_type": "code",
   "execution_count": 79,
   "metadata": {},
   "outputs": [
    {
     "data": {
      "image/png": "[encoded data removed]",
      "text/plain": [
       "<Figure size 432x288 with 1 Axes>"
      ]
     },
     "metadata": {
      "needs_background": "light"
     },
     "output_type": "display_data"
    }
   ],
   "source": [
    "plt.plot(epochs,loss_simclr, label = 'simclr')\n",
    "plt.plot(epochs,loss_aam, label = 'simclr_aam')\n",
    "plt.xlabel('epochs')\n",
    "plt.ylabel('loss')\n",
    "plt.legend()\n",
    "plt.show()"
   ]
  },
  {
   "cell_type": "code",
   "execution_count": 80,
   "metadata": {},
   "outputs": [
    {
     "data": {
      "image/png": "[encoded data removed]",
      "text/plain": [
       "<Figure size 432x288 with 1 Axes>"
      ]
     },
     "metadata": {
      "needs_background": "light"
     },
     "output_type": "display_data"
    }
   ],
   "source": [
    "plt.plot(epochs,gp_simclr, label = 'simclr')\n",
    "plt.plot(epochs,gp_aam, label = 'simclr_aam')\n",
    "plt.xlabel('epochs')\n",
    "plt.ylabel('gradient penalty')\n",
    "plt.legend()\n",
    "plt.show()"
   ]
  }
 ],
 "metadata": {
  "kernelspec": {
   "display_name": "Python 3",
   "language": "python",
   "name": "python3"
  },
  "language_info": {
   "codemirror_mode": {
    "name": "ipython",
    "version": 3
   },
   "file_extension": ".py",
   "mimetype": "text/x-python",
   "name": "python",
   "nbconvert_exporter": "python",
   "pygments_lexer": "ipython3",
   "version": "3.6.8"
  }
 },
 "nbformat": 4,
 "nbformat_minor": 4
}

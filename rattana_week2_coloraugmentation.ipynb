{
 "cells": [
  {
   "cell_type": "code",
   "execution_count": 26,
   "metadata": {},
   "outputs": [],
   "source": [
    "import os\n",
    "import torch\n",
    "import torchvision\n",
    "from torchvision import transforms\n",
    "import torch.nn as nn\n",
    "import numpy as np\n",
    "from configs import get_datasets\n",
    "from critic import LinearCritic\n",
    "import matplotlib.pyplot as plt\n",
    "import numpy as np\n",
    "import torchvision\n",
    "from PIL import Image\n",
    "from models import *\n",
    "import torch.backends.cudnn as cudnn\n",
    "from tqdm import tqdm\n",
    "import math\n",
    "import seaborn as sns\n",
    "\n",
    "\n",
    "### config ####\n",
    "num_workers = 2\n",
    "batch_size = 512\n",
    "img_size = 32\n",
    "temperature = 0.5\n",
    "dataset = 'cifar10'\n",
    "CACHED_MEAN_STD = {\n",
    "        'cifar10': ((0.4914, 0.4822, 0.4465), (0.2023, 0.1994, 0.2010)),\n",
    "        'cifar100': ((0.5071, 0.4865, 0.4409), (0.2009, 0.1984, 0.2023)),\n",
    "        'stl10': ((0.4409, 0.4279, 0.3868), (0.2309, 0.2262, 0.2237)),\n",
    "        'imagenet': ((0.485, 0.456, 0.406), (0.229, 0.224, 0.225))\n",
    "    }\n",
    "\n",
    "device = 'cuda' if torch.cuda.is_available() else 'cpu'"
   ]
  },
  {
   "cell_type": "code",
   "execution_count": 27,
   "metadata": {},
   "outputs": [
    {
     "name": "stdout",
     "output_type": "stream",
     "text": [
      "Files already downloaded and verified\n",
      "Files already downloaded and verified\n"
     ]
    },
    {
     "data": {
      "text/plain": [
       "<matplotlib.image.AxesImage at 0x7fa6532bc588>"
      ]
     },
     "execution_count": 27,
     "metadata": {},
     "output_type": "execute_result"
    },
    {
     "data": {
      "image/png": "[encoded data removed]",
      "text/plain": [
       "<Figure size 432x288 with 1 Axes>"
      ]
     },
     "metadata": {
      "needs_background": "light"
     },
     "output_type": "display_data"
    }
   ],
   "source": [
    "root = '/data/cifar10/'\n",
    "train = torchvision.datasets.CIFAR10(root = root, train=True, download=True)\n",
    "test = torchvision.datasets.CIFAR10(root = root, train = False, download = True)\n",
    "pic = train[19][0]\n",
    "plt.imshow(pic)"
   ]
  },
  {
   "cell_type": "code",
   "execution_count": 28,
   "metadata": {},
   "outputs": [
    {
     "name": "stdout",
     "output_type": "stream",
     "text": [
      "Files already downloaded and verified\n",
      "Files already downloaded and verified\n",
      "Files already downloaded and verified\n"
     ]
    }
   ],
   "source": [
    "trainset, testset, clftrainset, num_classes, stem = get_datasets(dataset)\n",
    "\n",
    "trainloader = torch.utils.data.DataLoader(trainset, batch_size=batch_size, shuffle=True,\n",
    "                                          num_workers=num_workers, pin_memory=True)\n",
    "testloader = torch.utils.data.DataLoader(testset, batch_size=1000, shuffle=False, num_workers=num_workers,\n",
    "                                         pin_memory=True)\n",
    "clftrainloader = torch.utils.data.DataLoader(clftrainset, batch_size=1000, shuffle=False, num_workers=num_workers,\n",
    "                                             pin_memory=True)"
   ]
  },
  {
   "cell_type": "markdown",
   "metadata": {},
   "source": [
    "# Write my own function, for color jitter?"
   ]
  },
  {
   "cell_type": "code",
   "execution_count": 29,
   "metadata": {},
   "outputs": [],
   "source": [
    " transform_train = transforms.Compose([\n",
    "        transforms.RandomResizedCrop(img_size, interpolation=Image.BICUBIC),\n",
    "        transforms.RandomHorizontalFlip(),\n",
    "        # ColourDistortion(s=0.5),\n",
    "        transforms.ToTensor(),\n",
    "        # transforms.Normalize(*CACHED_MEAN_STD[dataset]),\n",
    "    ])\n",
    "\n",
    "# now there are only random 1) crop 2) flip\n",
    "def ColourDistortion(s=1.0):\n",
    "    # s is the strength of color distortion.\n",
    "    color_jitter = transforms.ColorJitter(0.8*s, 0.8*s, 0.8*s, 0.2*s)\n",
    "    rnd_color_jitter = transforms.RandomApply([color_jitter], p=0.8)\n",
    "    rnd_gray = transforms.RandomGrayscale(p=0.2)\n",
    "    color_distort = transforms.Compose([rnd_color_jitter, rnd_gray])\n",
    "    return color_distort\n",
    "\n",
    "# functions to show an image\n",
    "def imshow(img):\n",
    "    #img = img / 2 + 0.5     \n",
    "    npimg = img.numpy()\n",
    "    plt.imshow(np.transpose(npimg, (1, 2, 0)))\n",
    "    plt.show()"
   ]
  },
  {
   "cell_type": "code",
   "execution_count": 30,
   "metadata": {},
   "outputs": [
    {
     "data": {
      "image/png": "[encoded data removed]",
      "text/plain": [
       "<Figure size 432x288 with 1 Axes>"
      ]
     },
     "metadata": {
      "needs_background": "light"
     },
     "output_type": "display_data"
    }
   ],
   "source": [
    "pic = train[19][0]\n",
    "imshow(transform_train(pic))"
   ]
  },
  {
   "cell_type": "markdown",
   "metadata": {},
   "source": [
    "# Use code from Torch vision source code and make sure it runs"
   ]
  },
  {
   "cell_type": "code",
   "execution_count": 31,
   "metadata": {},
   "outputs": [],
   "source": [
    "import torch\n",
    "import numbers\n",
    "import random\n",
    "from torch import Tensor"
   ]
  },
  {
   "cell_type": "code",
   "execution_count": 32,
   "metadata": {},
   "outputs": [],
   "source": [
    "def _is_tensor_a_torch_image(x: Tensor) -> bool:\n",
    "    return x.ndim >= 2\n",
    "def _blend(img1: Tensor, img2: Tensor, ratio: float) -> Tensor:\n",
    "    bound = 1 if img1.dtype in [torch.half, torch.float32, torch.float64] else 255\n",
    "    return (ratio * img1 + (1 - ratio) * img2).clamp(0, bound).to(img1.dtype)"
   ]
  },
  {
   "cell_type": "code",
   "execution_count": 33,
   "metadata": {},
   "outputs": [],
   "source": [
    "test_pic = transform_train(pic)"
   ]
  },
  {
   "cell_type": "code",
   "execution_count": 34,
   "metadata": {},
   "outputs": [
    {
     "data": {
      "image/png": "[encoded data removed]",
      "text/plain": [
       "<Figure size 432x288 with 1 Axes>"
      ]
     },
     "metadata": {
      "needs_background": "light"
     },
     "output_type": "display_data"
    }
   ],
   "source": [
    "imshow(test_pic)"
   ]
  },
  {
   "cell_type": "code",
   "execution_count": 35,
   "metadata": {},
   "outputs": [
    {
     "data": {
      "text/plain": [
       "torch.Size([3, 32, 32])"
      ]
     },
     "execution_count": 35,
     "metadata": {},
     "output_type": "execute_result"
    }
   ],
   "source": [
    "test_pic.size()"
   ]
  },
  {
   "cell_type": "code",
   "execution_count": 36,
   "metadata": {},
   "outputs": [
    {
     "data": {
      "text/plain": [
       "<matplotlib.image.AxesImage at 0x7fa62d076278>"
      ]
     },
     "execution_count": 36,
     "metadata": {},
     "output_type": "execute_result"
    },
    {
     "data": {
      "image/png": "[encoded data removed]",
      "text/plain": [
       "<Figure size 432x288 with 1 Axes>"
      ]
     },
     "metadata": {
      "needs_background": "light"
     },
     "output_type": "display_data"
    }
   ],
   "source": [
    "# code from functional_tensor\n",
    "def rgb_to_grayscale(img: Tensor) -> Tensor:\n",
    "    \"\"\"Convert the given RGB Image Tensor to Grayscale.\n",
    "    For RGB to Grayscale conversion, ITU-R 601-2 luma transform is performed which\n",
    "    is L = R * 0.2989 + G * 0.5870 + B * 0.1140\n",
    "\n",
    "    Args:\n",
    "        img (Tensor): Image to be converted to Grayscale in the form [C, H, W].\n",
    "\n",
    "    Returns:\n",
    "        Tensor: Grayscale image.\n",
    "\n",
    "    \"\"\"\n",
    "    if img.shape[0] != 3:\n",
    "        raise TypeError('Input Image does not contain 3 Channels')\n",
    "\n",
    "    return (0.2989 * img[0] + 0.5870 * img[1] + 0.1140 * img[2]).to(img.dtype)\n",
    "\n",
    "plt.imshow(rgb_to_grayscale(test_pic), cmap='gray')"
   ]
  },
  {
   "cell_type": "code",
   "execution_count": 37,
   "metadata": {},
   "outputs": [
    {
     "data": {
      "image/png": "[encoded data removed]",
      "text/plain": [
       "<Figure size 432x288 with 1 Axes>"
      ]
     },
     "metadata": {
      "needs_background": "light"
     },
     "output_type": "display_data"
    }
   ],
   "source": [
    "def _rgb2hsv(img):\n",
    "    r, g, b = img.unbind(0)\n",
    "\n",
    "    maxc = torch.max(img, dim=0).values\n",
    "    minc = torch.min(img, dim=0).values\n",
    "\n",
    "    # The algorithm erases S and H channel where `maxc = minc`. This avoids NaN\n",
    "    # from happening in the results, because\n",
    "    #   + S channel has division by `maxc`, which is zero only if `maxc = minc`\n",
    "    #   + H channel has division by `(maxc - minc)`.\n",
    "    #\n",
    "    # Instead of overwriting NaN afterwards, we just prevent it from occuring so\n",
    "    # we don't need to deal with it in case we save the NaN in a buffer in\n",
    "    # backprop, if it is ever supported, but it doesn't hurt to do so.\n",
    "    eqc = maxc == minc\n",
    "\n",
    "    cr = maxc - minc\n",
    "    # Since `eqc => cr = 0`, replacing denominator with 1 when `eqc` is fine.\n",
    "    s = cr / torch.where(eqc, maxc.new_ones(()), maxc)\n",
    "    # Note that `eqc => maxc = minc = r = g = b`. So the following calculation\n",
    "    # of `h` would reduce to `bc - gc + 2 + rc - bc + 4 + rc - bc = 6` so it\n",
    "    # would not matter what values `rc`, `gc`, and `bc` have here, and thus\n",
    "    # replacing denominator with 1 when `eqc` is fine.\n",
    "    cr_divisor = torch.where(eqc, maxc.new_ones(()), cr)\n",
    "    rc = (maxc - r) / cr_divisor\n",
    "    gc = (maxc - g) / cr_divisor\n",
    "    bc = (maxc - b) / cr_divisor\n",
    "\n",
    "#     hr = (maxc == r) * (bc - gc)\n",
    "#     hg = ((maxc == g) & (maxc != r)) * (2.0 + rc - bc)\n",
    "#     hb = ((maxc != g) & (maxc != r)) * (4.0 + gc - rc)   \n",
    "    hr = (maxc == r).float() * (bc - gc)\n",
    "    hg = ((maxc == g) & (maxc != r)).float() * (2.0 + rc - bc)\n",
    "    hb = ((maxc != g) & (maxc != r)).float() * (4.0 + gc - rc)\n",
    "    h = (hr + hg + hb)\n",
    "    h = torch.fmod((h / 6.0 + 1.0), 1.0)\n",
    "    return torch.stack((h, s, maxc))\n",
    "\n",
    "imshow(_rgb2hsv(test_pic))"
   ]
  },
  {
   "cell_type": "code",
   "execution_count": 38,
   "metadata": {},
   "outputs": [
    {
     "data": {
      "image/png": "[encoded data removed]",
      "text/plain": [
       "<Figure size 432x288 with 1 Axes>"
      ]
     },
     "metadata": {
      "needs_background": "light"
     },
     "output_type": "display_data"
    }
   ],
   "source": [
    "def _hsv2rgb(img):\n",
    "    h, s, v = img.unbind(0)\n",
    "    i = torch.floor(h * 6.0)\n",
    "    f = (h * 6.0) - i\n",
    "    i = i.to(dtype=torch.int32)\n",
    "\n",
    "    p = torch.clamp((v * (1.0 - s)), 0.0, 1.0)\n",
    "    q = torch.clamp((v * (1.0 - s * f)), 0.0, 1.0)\n",
    "    t = torch.clamp((v * (1.0 - s * (1.0 - f))), 0.0, 1.0)\n",
    "    i = i % 6\n",
    "\n",
    "#     mask = i == torch.arange(6)[:, None, None]\n",
    "    mask = (i == torch.arange(6)[:, None, None].int())\n",
    "    a1 = torch.stack((v, q, p, p, t, v))\n",
    "    a2 = torch.stack((t, v, v, q, p, p))\n",
    "    a3 = torch.stack((p, p, t, v, v, q))\n",
    "    a4 = torch.stack((a1, a2, a3))\n",
    "\n",
    "    return torch.einsum(\"ijk, xijk -> xjk\", mask.to(dtype=img.dtype), a4)\n",
    "imshow(_hsv2rgb(_rgb2hsv(test_pic)))"
   ]
  },
  {
   "cell_type": "code",
   "execution_count": 39,
   "metadata": {},
   "outputs": [
    {
     "data": {
      "image/png": "[encoded data removed]",
      "text/plain": [
       "<Figure size 432x288 with 1 Axes>"
      ]
     },
     "metadata": {
      "needs_background": "light"
     },
     "output_type": "display_data"
    }
   ],
   "source": [
    "def adjust_brightness(img: Tensor, brightness_factor: float) -> Tensor:\n",
    "    \"\"\"Adjust brightness of an RGB image.\n",
    "\n",
    "    Args:\n",
    "        img (Tensor): Image to be adjusted.\n",
    "        brightness_factor (float):  How much to adjust the brightness. Can be\n",
    "            any non negative number. 0 gives a black image, 1 gives the\n",
    "            original image while 2 increases the brightness by a factor of 2.\n",
    "\n",
    "    Returns:\n",
    "        Tensor: Brightness adjusted image.\n",
    "    \"\"\"\n",
    "    if brightness_factor < 0:\n",
    "        raise ValueError('brightness_factor ({}) is not non-negative.'.format(brightness_factor))\n",
    "\n",
    "    if not _is_tensor_a_torch_image(img):\n",
    "        raise TypeError('tensor is not a torch image.')\n",
    "\n",
    "    return _blend(img, torch.zeros_like(img), brightness_factor)\n",
    "imshow(adjust_brightness(test_pic, brightness_factor = 0.4))"
   ]
  },
  {
   "cell_type": "code",
   "execution_count": 40,
   "metadata": {},
   "outputs": [
    {
     "data": {
      "image/png": "[encoded data removed]",
      "text/plain": [
       "<Figure size 432x288 with 1 Axes>"
      ]
     },
     "metadata": {
      "needs_background": "light"
     },
     "output_type": "display_data"
    }
   ],
   "source": [
    "def adjust_contrast(img: Tensor, contrast_factor: float) -> Tensor:\n",
    "    \"\"\"Adjust contrast of an RGB image.\n",
    "\n",
    "    Args:\n",
    "        img (Tensor): Image to be adjusted.\n",
    "        contrast_factor (float): How much to adjust the contrast. Can be any\n",
    "            non negative number. 0 gives a solid gray image, 1 gives the\n",
    "            original image while 2 increases the contrast by a factor of 2.\n",
    "\n",
    "    Returns:\n",
    "        Tensor: Contrast adjusted image.\n",
    "    \"\"\"\n",
    "    if contrast_factor < 0:\n",
    "        raise ValueError('contrast_factor ({}) is not non-negative.'.format(contrast_factor))\n",
    "\n",
    "    if not _is_tensor_a_torch_image(img):\n",
    "        raise TypeError('tensor is not a torch image.')\n",
    "\n",
    "    mean = torch.mean(rgb_to_grayscale(img).to(torch.float))\n",
    "\n",
    "    return _blend(img, mean, contrast_factor)\n",
    "imshow(adjust_contrast(test_pic, contrast_factor = 2))"
   ]
  },
  {
   "cell_type": "code",
   "execution_count": 41,
   "metadata": {},
   "outputs": [
    {
     "data": {
      "image/png": "[encoded data removed]",
      "text/plain": [
       "<Figure size 432x288 with 1 Axes>"
      ]
     },
     "metadata": {
      "needs_background": "light"
     },
     "output_type": "display_data"
    }
   ],
   "source": [
    "def adjust_hue(img, hue_factor):\n",
    "    \"\"\"Adjust hue of an image.\n",
    "\n",
    "    The image hue is adjusted by converting the image to HSV and\n",
    "    cyclically shifting the intensities in the hue channel (H).\n",
    "    The image is then converted back to original image mode.\n",
    "\n",
    "    `hue_factor` is the amount of shift in H channel and must be in the\n",
    "    interval `[-0.5, 0.5]`.\n",
    "\n",
    "    See `Hue`_ for more details.\n",
    "\n",
    "    .. _Hue: https://en.wikipedia.org/wiki/Hue\n",
    "\n",
    "    Args:\n",
    "        img (Tensor): Image to be adjusted. Image type is either uint8 or float.\n",
    "        hue_factor (float):  How much to shift the hue channel. Should be in\n",
    "            [-0.5, 0.5]. 0.5 and -0.5 give complete reversal of hue channel in\n",
    "            HSV space in positive and negative direction respectively.\n",
    "            0 means no shift. Therefore, both -0.5 and 0.5 will give an image\n",
    "            with complementary colors while 0 gives the original image.\n",
    "\n",
    "    Returns:\n",
    "         Tensor: Hue adjusted image.\n",
    "    \"\"\"\n",
    "    if not (-0.5 <= hue_factor <= 0.5):\n",
    "        raise ValueError('hue_factor ({}) is not in [-0.5, 0.5].'.format(hue_factor))\n",
    "\n",
    "    if not _is_tensor_a_torch_image(img):\n",
    "        raise TypeError('tensor is not a torch image.')\n",
    "\n",
    "    orig_dtype = img.dtype\n",
    "    if img.dtype == torch.uint8:\n",
    "        img = img.to(dtype=torch.float32) / 255.0\n",
    "\n",
    "    img = _rgb2hsv(img)\n",
    "    h, s, v = img.unbind(0)\n",
    "    h += hue_factor\n",
    "    h = h % 1.0\n",
    "    img = torch.stack((h, s, v))\n",
    "    img_hue_adj = _hsv2rgb(img)\n",
    "\n",
    "    if orig_dtype == torch.uint8:\n",
    "        img_hue_adj = (img_hue_adj * 255.0).to(dtype=orig_dtype)\n",
    "\n",
    "    return img_hue_adj\n",
    "\n",
    "imshow(adjust_hue(test_pic, hue_factor = 0.3))"
   ]
  },
  {
   "cell_type": "code",
   "execution_count": 42,
   "metadata": {},
   "outputs": [
    {
     "data": {
      "image/png": "[encoded data removed]",
      "text/plain": [
       "<Figure size 432x288 with 1 Axes>"
      ]
     },
     "metadata": {
      "needs_background": "light"
     },
     "output_type": "display_data"
    }
   ],
   "source": [
    "def adjust_saturation(img: Tensor, saturation_factor: float) -> Tensor:\n",
    "    \"\"\"Adjust color saturation of an RGB image.\n",
    "\n",
    "    Args:\n",
    "        img (Tensor): Image to be adjusted.\n",
    "        saturation_factor (float):  How much to adjust the saturation. Can be any\n",
    "            non negative number. 0 gives a black and white image, 1 gives the\n",
    "            original image while 2 enhances the saturation by a factor of 2.\n",
    "\n",
    "    Returns:\n",
    "        Tensor: Saturation adjusted image.\n",
    "    \"\"\"\n",
    "    if saturation_factor < 0:\n",
    "        raise ValueError('saturation_factor ({}) is not non-negative.'.format(saturation_factor))\n",
    "\n",
    "    if not _is_tensor_a_torch_image(img):\n",
    "        raise TypeError('tensor is not a torch image.')\n",
    "\n",
    "    return _blend(img, rgb_to_grayscale(img), saturation_factor)\n",
    "imshow(adjust_saturation(test_pic, saturation_factor = 0.3))"
   ]
  },
  {
   "cell_type": "markdown",
   "metadata": {},
   "source": [
    "# Rewrite ColorJitter function"
   ]
  },
  {
   "cell_type": "code",
   "execution_count": 43,
   "metadata": {},
   "outputs": [],
   "source": [
    "class ColorJitter(torch.nn.Module):\n",
    "    \"\"\"Randomly change the brightness, contrast and saturation of an image.\n",
    "\n",
    "    Args:\n",
    "        brightness (float or tuple of float (min, max)): How much to jitter brightness.\n",
    "            brightness_factor is chosen uniformly from [max(0, 1 - brightness), 1 + brightness]\n",
    "            or the given [min, max]. Should be non negative numbers.\n",
    "        contrast (float or tuple of float (min, max)): How much to jitter contrast.\n",
    "            contrast_factor is chosen uniformly from [max(0, 1 - contrast), 1 + contrast]\n",
    "            or the given [min, max]. Should be non negative numbers.\n",
    "        saturation (float or tuple of float (min, max)): How much to jitter saturation.\n",
    "            saturation_factor is chosen uniformly from [max(0, 1 - saturation), 1 + saturation]\n",
    "            or the given [min, max]. Should be non negative numbers.\n",
    "        hue (float or tuple of float (min, max)): How much to jitter hue.\n",
    "            hue_factor is chosen uniformly from [-hue, hue] or the given [min, max].\n",
    "            Should have 0<= hue <= 0.5 or -0.5 <= min <= max <= 0.5.\n",
    "    \"\"\"\n",
    "\n",
    "    def __init__(self, brightness=0, contrast=0, saturation=0, hue=0):\n",
    "        super().__init__()\n",
    "        self.brightness = self._check_input(brightness, 'brightness')\n",
    "        self.contrast = self._check_input(contrast, 'contrast')\n",
    "        self.saturation = self._check_input(saturation, 'saturation')\n",
    "        self.hue = self._check_input(hue, 'hue', center=0, bound=(-0.5, 0.5),\n",
    "                                     clip_first_on_zero=False)\n",
    "\n",
    "#     @torch.jit.unused\n",
    "    def _check_input(self, value, name, center=1, bound=(0, float('inf')), clip_first_on_zero=True):\n",
    "        if isinstance(value, numbers.Number):\n",
    "            if value < 0:\n",
    "                raise ValueError(\"If {} is a single number, it must be non negative.\".format(name))\n",
    "            value = [center - float(value), center + float(value)]\n",
    "            if clip_first_on_zero:\n",
    "                value[0] = max(value[0], 0.0)\n",
    "        elif isinstance(value, (tuple, list)) and len(value) == 2:\n",
    "            if not bound[0] <= value[0] <= value[1] <= bound[1]:\n",
    "                raise ValueError(\"{} values should be between {}\".format(name, bound))\n",
    "        else:\n",
    "            raise TypeError(\"{} should be a single number or a list/tuple with lenght 2.\".format(name))\n",
    "\n",
    "        # if value is 0 or (1., 1.) for brightness/contrast/saturation\n",
    "        # or (0., 0.) for hue, do nothing\n",
    "        if value[0] == value[1] == center:\n",
    "            value = None\n",
    "        return value\n",
    "\n",
    "#     @staticmethod\n",
    "#     @torch.jit.unused\n",
    "    def get_params(brightness, contrast, saturation, hue):\n",
    "        \"\"\"Get a randomized transform to be applied on image.\n",
    "\n",
    "        Arguments are same as that of __init__.\n",
    "\n",
    "        Returns:\n",
    "            Transform which randomly adjusts brightness, contrast and\n",
    "            saturation in a random order.\n",
    "        \"\"\"\n",
    "        transforms = []\n",
    "\n",
    "#         if brightness is not None:\n",
    "#             brightness_factor = random.uniform(brightness[0], brightness[1])\n",
    "#             transforms.append(Lambda(lambda img: F.adjust_brightness(img, brightness_factor)))\n",
    "\n",
    "#         if contrast is not None:\n",
    "#             contrast_factor = random.uniform(contrast[0], contrast[1])\n",
    "#             transforms.append(Lambda(lambda img: F.adjust_contrast(img, contrast_factor)))\n",
    "\n",
    "#         if saturation is not None:\n",
    "#             saturation_factor = random.uniform(saturation[0], saturation[1])\n",
    "#             transforms.append(Lambda(lambda img: F.adjust_saturation(img, saturation_factor)))\n",
    "\n",
    "#         if hue is not None:\n",
    "#             hue_factor = random.uniform(hue[0], hue[1])\n",
    "#             transforms.append(Lambda(lambda img: F.adjust_hue(img, hue_factor)))\n",
    "            \n",
    "            \n",
    "        if brightness is not None:\n",
    "            brightness_factor = random.uniform(brightness[0], brightness[1])\n",
    "            transforms.append(Lambda(lambda img: adjust_brightness(img, brightness_factor)))\n",
    "\n",
    "        if contrast is not None:\n",
    "            contrast_factor = random.uniform(contrast[0], contrast[1])\n",
    "            transforms.append(Lambda(lambda img: adjust_contrast(img, contrast_factor)))\n",
    "\n",
    "        if saturation is not None:\n",
    "            saturation_factor = random.uniform(saturation[0], saturation[1])\n",
    "            transforms.append(Lambda(lambda img: adjust_saturation(img, saturation_factor)))\n",
    "\n",
    "        if hue is not None:\n",
    "            hue_factor = random.uniform(hue[0], hue[1])\n",
    "            transforms.append(Lambda(lambda img: adjust_hue(img, hue_factor)))\n",
    "\n",
    "        random.shuffle(transforms)\n",
    "        transform = Compose(transforms)\n",
    "\n",
    "        return transform\n",
    "\n",
    "    def forward(self, img):\n",
    "        \"\"\"\n",
    "        Args:\n",
    "            img (PIL Image or Tensor): Input image.\n",
    "\n",
    "        Returns:\n",
    "            PIL Image or Tensor: Color jittered image.\n",
    "        \"\"\"\n",
    "#         fn_idx = torch.randperm(4)\n",
    "#         for fn_id in fn_idx:\n",
    "#             if fn_id == 0 and self.brightness is not None:\n",
    "#                 brightness = self.brightness\n",
    "#                 brightness_factor = torch.tensor(1.0).uniform_(brightness[0], brightness[1]).item()\n",
    "#                 img = F.adjust_brightness(img, brightness_factor)\n",
    "\n",
    "#             if fn_id == 1 and self.contrast is not None:\n",
    "#                 contrast = self.contrast\n",
    "#                 contrast_factor = torch.tensor(1.0).uniform_(contrast[0], contrast[1]).item()\n",
    "#                 img = F.adjust_contrast(img, contrast_factor)\n",
    "\n",
    "#             if fn_id == 2 and self.saturation is not None:\n",
    "#                 saturation = self.saturation\n",
    "#                 saturation_factor = torch.tensor(1.0).uniform_(saturation[0], saturation[1]).item()\n",
    "#                 img = F.adjust_saturation(img, saturation_factor)\n",
    "\n",
    "#             if fn_id == 3 and self.hue is not None:\n",
    "#                 hue = self.hue\n",
    "#                 hue_factor = torch.tensor(1.0).uniform_(hue[0], hue[1]).item()\n",
    "#                 img = F.adjust_hue(img, hue_factor)\n",
    "                \n",
    "        #### index\n",
    "        brightness_factor = None\n",
    "        contrast_factor = None\n",
    "        saturation_factor = None\n",
    "        hue_factor = None\n",
    "        \n",
    "        fn_idx = torch.randperm(4)\n",
    "        for fn_id in fn_idx:\n",
    "            if fn_id == 0 and self.brightness is not None:\n",
    "                brightness = self.brightness\n",
    "                brightness_factor = torch.tensor(1.0).uniform_(brightness[0], brightness[1]).item()\n",
    "                img = adjust_brightness(img, brightness_factor)\n",
    "\n",
    "            if fn_id == 1 and self.contrast is not None:\n",
    "                contrast = self.contrast\n",
    "                contrast_factor = torch.tensor(1.0).uniform_(contrast[0], contrast[1]).item()\n",
    "                img = adjust_contrast(img, contrast_factor)\n",
    "\n",
    "            if fn_id == 2 and self.saturation is not None:\n",
    "                saturation = self.saturation\n",
    "                saturation_factor = torch.tensor(1.0).uniform_(saturation[0], saturation[1]).item()\n",
    "                img = adjust_saturation(img, saturation_factor)\n",
    "\n",
    "            if fn_id == 3 and self.hue is not None:\n",
    "                hue = self.hue\n",
    "                hue_factor = torch.tensor(1.0).uniform_(hue[0], hue[1]).item()\n",
    "                img = adjust_hue(img, hue_factor)\n",
    "                \n",
    "        #also return the coefficient\n",
    "        format_string = self.__class__.__name__ + '('\n",
    "        format_string += 'brightness={:.3f}'.format(brightness_factor)\n",
    "        format_string += ', contrast={:.3f}'.format(contrast_factor)\n",
    "        format_string += ', saturation={:.3f}'.format(saturation_factor)\n",
    "        format_string += ', hue={:.3f})'.format(hue_factor)\n",
    "        print(format_string)\n",
    "\n",
    "        return img\n",
    "\n",
    "    def __repr__(self):\n",
    "        format_string = self.__class__.__name__ + '('\n",
    "        format_string += 'brightness={0}'.format(self.brightness)\n",
    "        format_string += ', contrast={0}'.format(self.contrast)\n",
    "        format_string += ', saturation={0}'.format(self.saturation)\n",
    "        format_string += ', hue={0})'.format(self.hue)\n",
    "        return format_string"
   ]
  },
  {
   "cell_type": "code",
   "execution_count": 44,
   "metadata": {},
   "outputs": [],
   "source": [
    "aug = ColorJitter(brightness=0.3, contrast=0.5, saturation=0.2, hue=[-0.2, 0.4])"
   ]
  },
  {
   "cell_type": "code",
   "execution_count": 45,
   "metadata": {},
   "outputs": [
    {
     "data": {
      "text/plain": [
       "'ColorJitter(brightness=[0.7, 1.3], contrast=[0.5, 1.5], saturation=[0.8, 1.2], hue=[-0.2, 0.4])'"
      ]
     },
     "execution_count": 45,
     "metadata": {},
     "output_type": "execute_result"
    }
   ],
   "source": [
    "aug.__repr__()"
   ]
  },
  {
   "cell_type": "code",
   "execution_count": 46,
   "metadata": {},
   "outputs": [
    {
     "name": "stdout",
     "output_type": "stream",
     "text": [
      "ColorJitter(brightness=0.814, contrast=0.668, saturation=1.018, hue=0.389)\n"
     ]
    },
    {
     "data": {
      "image/png": "[encoded data removed]",
      "text/plain": [
       "<Figure size 432x288 with 1 Axes>"
      ]
     },
     "metadata": {
      "needs_background": "light"
     },
     "output_type": "display_data"
    }
   ],
   "source": [
    "imshow(aug(test_pic))"
   ]
  },
  {
   "cell_type": "markdown",
   "metadata": {},
   "source": [
    "# Color Augmentation class"
   ]
  },
  {
   "cell_type": "code",
   "execution_count": 47,
   "metadata": {},
   "outputs": [],
   "source": [
    "class DifferentiableColourDistortionByTorch(nn.Module):\n",
    "    \n",
    "    def __init__(self, brightness=0, contrast=0, saturation=0, hue=0):\n",
    "        super().__init__()\n",
    "        self.brightness = self._check_input(brightness, 'brightness')\n",
    "        self.contrast = self._check_input(contrast, 'contrast')\n",
    "        self.saturation = self._check_input(saturation, 'saturation')\n",
    "        self.hue = self._check_input(hue, 'hue', center=0, bound=(-0.5, 0.5),\n",
    "                                     clip_first_on_zero=False)\n",
    "\n",
    "#     @torch.jit.unused\n",
    "    def _check_input(self, value, name, center=1, bound=(0, float('inf')), clip_first_on_zero=True):\n",
    "        if isinstance(value, numbers.Number):\n",
    "            if value < 0:\n",
    "                raise ValueError(\"If {} is a single number, it must be non negative.\".format(name))\n",
    "            value = [center - float(value), center + float(value)]\n",
    "            if clip_first_on_zero:\n",
    "                value[0] = max(value[0], 0.0)\n",
    "        elif isinstance(value, (tuple, list)) and len(value) == 2:\n",
    "            if not bound[0] <= value[0] <= value[1] <= bound[1]:\n",
    "                raise ValueError(\"{} values should be between {}\".format(name, bound))\n",
    "        else:\n",
    "            raise TypeError(\"{} should be a single number or a list/tuple with lenght 2.\".format(name))\n",
    "\n",
    "        # if value is 0 or (1., 1.) for brightness/contrast/saturation\n",
    "        # or (0., 0.) for hue, do nothing\n",
    "        if value[0] == value[1] == center:\n",
    "            value = None\n",
    "        return value\n",
    "    \n",
    "    #### batch color augmentation forward #####\n",
    "    \n",
    "    def forward(self, x):\n",
    "        '''\n",
    "        Args:\n",
    "            x: Input tensor batchsize x 32 x 32\n",
    "        \n",
    "        Returns:\n",
    "            x_aug : color jittered image\n",
    "        \n",
    "        '''\n",
    "        aug_x = []\n",
    "        for i in range(x.shape[0]):\n",
    "            aug_x.append(self.colorjitter(x[i].to(x.device)))\n",
    "        aug_x_torch = torch.stack(aug_x,0)\n",
    "        \n",
    "        return aug_x_torch\n",
    "        \n",
    "    def colorjitter(self, img):\n",
    "        \"\"\"\n",
    "        Args:\n",
    "            img (PIL Image or Tensor): Input image.\n",
    "\n",
    "        Returns:\n",
    "            PIL Image or Tensor: Color jittered image.\n",
    "        \"\"\"     \n",
    "        #### index\n",
    "#         brightness_factor = None\n",
    "#         contrast_factor = None\n",
    "#         saturation_factor = None\n",
    "#         hue_factor = None\n",
    "        \n",
    "        fn_idx = torch.randperm(4)\n",
    "        for fn_id in fn_idx:\n",
    "            if fn_id == 0 and self.brightness is not None:\n",
    "                brightness = self.brightness\n",
    "                brightness_factor = torch.tensor(1.0).uniform_(brightness[0], brightness[1]).item()\n",
    "                img = self.adjust_brightness(img, brightness_factor)\n",
    "\n",
    "            if fn_id == 1 and self.contrast is not None:\n",
    "                contrast = self.contrast\n",
    "                contrast_factor = torch.tensor(1.0).uniform_(contrast[0], contrast[1]).item()\n",
    "                img = self.adjust_contrast(img, contrast_factor)\n",
    "\n",
    "            if fn_id == 2 and self.saturation is not None:\n",
    "                saturation = self.saturation\n",
    "                saturation_factor = torch.tensor(1.0).uniform_(saturation[0], saturation[1]).item()\n",
    "                img = self.adjust_saturation(img, saturation_factor)\n",
    "\n",
    "            if fn_id == 3 and self.hue is not None:\n",
    "                hue = self.hue\n",
    "                hue_factor = torch.tensor(1.0).uniform_(hue[0], hue[1]).item()\n",
    "                img = self.adjust_hue(img, hue_factor)\n",
    "                \n",
    "        #also return the coefficient\n",
    "#         format_string = self.__class__.__name__ + '('\n",
    "#         format_string += 'brightness={:.3f}'.format(brightness_factor)\n",
    "#         format_string += ', contrast={:.3f}'.format(contrast_factor)\n",
    "#         format_string += ', saturation={:.3f}'.format(saturation_factor)\n",
    "#         format_string += ', hue={:.3f})'.format(hue_factor)\n",
    "        #print(format_string)\n",
    "\n",
    "        return img\n",
    "\n",
    "    def __repr__(self):\n",
    "        format_string = self.__class__.__name__ + '('\n",
    "        format_string += 'brightness={0}'.format(self.brightness)\n",
    "        format_string += ', contrast={0}'.format(self.contrast)\n",
    "        format_string += ', saturation={0}'.format(self.saturation)\n",
    "        format_string += ', hue={0})'.format(self.hue)\n",
    "        return format_string\n",
    "                \n",
    "    ##### function from pytorch source code #####\n",
    "    def _is_tensor_a_torch_image(self, x: Tensor) -> bool:\n",
    "        return x.ndim >= 2\n",
    "    \n",
    "    def _blend(self, img1: Tensor, img2: Tensor, ratio: float) -> Tensor:\n",
    "        bound = 1 if img1.dtype in [torch.half, torch.float32, torch.float64] else 255\n",
    "        return (ratio * img1 + (1 - ratio) * img2).clamp(0, bound).to(img1.dtype)\n",
    "    \n",
    "    def rgb_to_grayscale(self, img: Tensor) -> Tensor:\n",
    "        \"\"\"Convert the given RGB Image Tensor to Grayscale.\n",
    "        For RGB to Grayscale conversion, ITU-R 601-2 luma transform is performed which\n",
    "        is L = R * 0.2989 + G * 0.5870 + B * 0.1140\n",
    "\n",
    "        Args:\n",
    "            img (Tensor): Image to be converted to Grayscale in the form [C, H, W].\n",
    "\n",
    "        Returns:\n",
    "            Tensor: Grayscale image.\n",
    "\n",
    "        \"\"\"\n",
    "        if img.shape[0] != 3:\n",
    "            raise TypeError('Input Image does not contain 3 Channels')\n",
    "\n",
    "        return (0.2989 * img[0] + 0.5870 * img[1] + 0.1140 * img[2]).to(img.dtype)\n",
    "    \n",
    "    def _rgb2hsv(self, img):\n",
    "        r, g, b = img.unbind(0)\n",
    "\n",
    "        maxc = torch.max(img, dim=0).values\n",
    "        minc = torch.min(img, dim=0).values\n",
    "\n",
    "        # The algorithm erases S and H channel where `maxc = minc`. This avoids NaN\n",
    "        # from happening in the results, because\n",
    "        #   + S channel has division by `maxc`, which is zero only if `maxc = minc`\n",
    "        #   + H channel has division by `(maxc - minc)`.\n",
    "        #\n",
    "        # Instead of overwriting NaN afterwards, we just prevent it from occuring so\n",
    "        # we don't need to deal with it in case we save the NaN in a buffer in\n",
    "        # backprop, if it is ever supported, but it doesn't hurt to do so.\n",
    "        eqc = maxc == minc\n",
    "\n",
    "        cr = maxc - minc\n",
    "        # Since `eqc => cr = 0`, replacing denominator with 1 when `eqc` is fine.\n",
    "        s = cr / torch.where(eqc, maxc.new_ones(()), maxc)\n",
    "        # Note that `eqc => maxc = minc = r = g = b`. So the following calculation\n",
    "        # of `h` would reduce to `bc - gc + 2 + rc - bc + 4 + rc - bc = 6` so it\n",
    "        # would not matter what values `rc`, `gc`, and `bc` have here, and thus\n",
    "        # replacing denominator with 1 when `eqc` is fine.\n",
    "        cr_divisor = torch.where(eqc, maxc.new_ones(()), cr)\n",
    "        rc = (maxc - r) / cr_divisor\n",
    "        gc = (maxc - g) / cr_divisor\n",
    "        bc = (maxc - b) / cr_divisor\n",
    "\n",
    "    #     hr = (maxc == r) * (bc - gc)\n",
    "    #     hg = ((maxc == g) & (maxc != r)) * (2.0 + rc - bc)\n",
    "    #     hb = ((maxc != g) & (maxc != r)) * (4.0 + gc - rc)   \n",
    "        hr = (maxc == r).float() * (bc - gc)\n",
    "        hg = ((maxc == g) & (maxc != r)).float() * (2.0 + rc - bc)\n",
    "        hb = ((maxc != g) & (maxc != r)).float() * (4.0 + gc - rc)\n",
    "        h = (hr + hg + hb)\n",
    "        h = torch.fmod((h / 6.0 + 1.0), 1.0)\n",
    "        return torch.stack((h, s, maxc))\n",
    "    \n",
    "    def _hsv2rgb(self, img):\n",
    "        h, s, v = img.unbind(0)\n",
    "        i = torch.floor(h * 6.0)\n",
    "        f = (h * 6.0) - i\n",
    "        i = i.to(dtype=torch.int32)\n",
    "\n",
    "        p = torch.clamp((v * (1.0 - s)), 0.0, 1.0)\n",
    "        q = torch.clamp((v * (1.0 - s * f)), 0.0, 1.0)\n",
    "        t = torch.clamp((v * (1.0 - s * (1.0 - f))), 0.0, 1.0)\n",
    "        i = i % 6\n",
    "\n",
    "    #     mask = i == torch.arange(6)[:, None, None]\n",
    "        mask = (i == torch.arange(6)[:, None, None].to(img.device).int())\n",
    "        a1 = torch.stack((v, q, p, p, t, v))\n",
    "        a2 = torch.stack((t, v, v, q, p, p))\n",
    "        a3 = torch.stack((p, p, t, v, v, q))\n",
    "        a4 = torch.stack((a1, a2, a3))\n",
    "\n",
    "        return torch.einsum(\"ijk, xijk -> xjk\", mask.to(dtype=img.dtype), a4)\n",
    "    \n",
    "    #### Brightness ####\n",
    "    def adjust_brightness(self, img: Tensor, brightness_factor: float) -> Tensor:\n",
    "        \"\"\"Adjust brightness of an RGB image.\n",
    "\n",
    "        Args:\n",
    "            img (Tensor): Image to be adjusted.\n",
    "            brightness_factor (float):  How much to adjust the brightness. Can be\n",
    "                any non negative number. 0 gives a black image, 1 gives the\n",
    "                original image while 2 increases the brightness by a factor of 2.\n",
    "\n",
    "        Returns:\n",
    "            Tensor: Brightness adjusted image.\n",
    "        \"\"\"\n",
    "        if brightness_factor < 0:\n",
    "            raise ValueError('brightness_factor ({}) is not non-negative.'.format(brightness_factor))\n",
    "\n",
    "        if not self._is_tensor_a_torch_image(img):\n",
    "            raise TypeError('tensor is not a torch image.')\n",
    "\n",
    "        return self._blend(img, torch.zeros_like(img), brightness_factor)\n",
    "    \n",
    "    #### Contrast ####\n",
    "    def adjust_contrast(self, img: Tensor, contrast_factor: float) -> Tensor:\n",
    "        \"\"\"Adjust contrast of an RGB image.\n",
    "\n",
    "        Args:\n",
    "            img (Tensor): Image to be adjusted.\n",
    "            contrast_factor (float): How much to adjust the contrast. Can be any\n",
    "                non negative number. 0 gives a solid gray image, 1 gives the\n",
    "                original image while 2 increases the contrast by a factor of 2.\n",
    "\n",
    "        Returns:\n",
    "            Tensor: Contrast adjusted image.\n",
    "        \"\"\"\n",
    "        if contrast_factor < 0:\n",
    "            raise ValueError('contrast_factor ({}) is not non-negative.'.format(contrast_factor))\n",
    "\n",
    "        if not self._is_tensor_a_torch_image(img):\n",
    "            raise TypeError('tensor is not a torch image.')\n",
    "\n",
    "        mean = torch.mean(self.rgb_to_grayscale(img).to(torch.float))\n",
    "\n",
    "        return self._blend(img, mean, contrast_factor)\n",
    "    \n",
    "    #### Hue ####\n",
    "    def adjust_hue(self, img, hue_factor):\n",
    "        \"\"\"Adjust hue of an image.\n",
    "\n",
    "        The image hue is adjusted by converting the image to HSV and\n",
    "        cyclically shifting the intensities in the hue channel (H).\n",
    "        The image is then converted back to original image mode.\n",
    "\n",
    "        `hue_factor` is the amount of shift in H channel and must be in the\n",
    "        interval `[-0.5, 0.5]`.\n",
    "\n",
    "        See `Hue`_ for more details.\n",
    "\n",
    "        .. _Hue: https://en.wikipedia.org/wiki/Hue\n",
    "\n",
    "        Args:\n",
    "            img (Tensor): Image to be adjusted. Image type is either uint8 or float.\n",
    "            hue_factor (float):  How much to shift the hue channel. Should be in\n",
    "                [-0.5, 0.5]. 0.5 and -0.5 give complete reversal of hue channel in\n",
    "                HSV space in positive and negative direction respectively.\n",
    "                0 means no shift. Therefore, both -0.5 and 0.5 will give an image\n",
    "                with complementary colors while 0 gives the original image.\n",
    "\n",
    "        Returns:\n",
    "             Tensor: Hue adjusted image.\n",
    "        \"\"\"\n",
    "        if not (-0.5 <= hue_factor <= 0.5):\n",
    "            raise ValueError('hue_factor ({}) is not in [-0.5, 0.5].'.format(hue_factor))\n",
    "\n",
    "        if not self._is_tensor_a_torch_image(img):\n",
    "            raise TypeError('tensor is not a torch image.')\n",
    "\n",
    "        orig_dtype = img.dtype\n",
    "        if img.dtype == torch.uint8:\n",
    "            img = img.to(dtype=torch.float32) / 255.0\n",
    "\n",
    "        img = self._rgb2hsv(img)\n",
    "        h, s, v = img.unbind(0)\n",
    "        h += hue_factor\n",
    "        h = h % 1.0\n",
    "        img = torch.stack((h, s, v))\n",
    "        img_hue_adj = self._hsv2rgb(img)\n",
    "\n",
    "        if orig_dtype == torch.uint8:\n",
    "            img_hue_adj = (img_hue_adj * 255.0).to(dtype=orig_dtype)\n",
    "\n",
    "        return img_hue_adj\n",
    "    \n",
    "    def adjust_saturation(self, img: Tensor, saturation_factor: float) -> Tensor:\n",
    "        \"\"\"Adjust color saturation of an RGB image.\n",
    "\n",
    "        Args:\n",
    "            img (Tensor): Image to be adjusted.\n",
    "            saturation_factor (float):  How much to adjust the saturation. Can be any\n",
    "                non negative number. 0 gives a black and white image, 1 gives the\n",
    "                original image while 2 enhances the saturation by a factor of 2.\n",
    "\n",
    "        Returns:\n",
    "            Tensor: Saturation adjusted image.\n",
    "        \"\"\"\n",
    "        if saturation_factor < 0:\n",
    "            raise ValueError('saturation_factor ({}) is not non-negative.'.format(saturation_factor))\n",
    "\n",
    "        if not self._is_tensor_a_torch_image(img):\n",
    "            raise TypeError('tensor is not a torch image.')\n",
    "\n",
    "        return self._blend(img, self.rgb_to_grayscale(img), saturation_factor)\n",
    "\n",
    "\n",
    "\n",
    "    "
   ]
  },
  {
   "cell_type": "code",
   "execution_count": 49,
   "metadata": {},
   "outputs": [],
   "source": [
    "aug = DifferentiableColourDistortionByTorch(brightness=0.3, contrast=0.5, saturation=0.2, hue=[-0.2, 0.4])"
   ]
  },
  {
   "cell_type": "code",
   "execution_count": 50,
   "metadata": {},
   "outputs": [
    {
     "data": {
      "text/plain": [
       "'DifferentiableColourDistortionByTorch(brightness=[0.7, 1.3], contrast=[0.5, 1.5], saturation=[0.8, 1.2], hue=[-0.2, 0.4])'"
      ]
     },
     "execution_count": 50,
     "metadata": {},
     "output_type": "execute_result"
    }
   ],
   "source": [
    "aug.__repr__()"
   ]
  },
  {
   "cell_type": "markdown",
   "metadata": {},
   "source": [
    "# Batch color augmentation"
   ]
  },
  {
   "cell_type": "code",
   "execution_count": 51,
   "metadata": {},
   "outputs": [
    {
     "name": "stderr",
     "output_type": "stream",
     "text": [
      "Loss: ****           | 0/98 [00:00<?, ?it/s]"
     ]
    }
   ],
   "source": [
    "t = tqdm(enumerate(trainloader), desc='Loss: **** ', total=len(trainloader), bar_format='{desc}{bar}{r_bar}')"
   ]
  },
  {
   "cell_type": "code",
   "execution_count": 52,
   "metadata": {},
   "outputs": [
    {
     "name": "stderr",
     "output_type": "stream",
     "text": [
      "Loss: **** ██████████| 98/98 [00:12<00:00,  7.67it/s]\n"
     ]
    }
   ],
   "source": [
    "for batch_idx, (inputs, _, _) in t:\n",
    "        x1, x2 = inputs\n",
    "        x1, x2 = x1.to('cuda'), x2.to('cuda')"
   ]
  },
  {
   "cell_type": "code",
   "execution_count": 53,
   "metadata": {},
   "outputs": [
    {
     "data": {
      "text/plain": [
       "torch.Size([336, 3, 32, 32])"
      ]
     },
     "execution_count": 53,
     "metadata": {},
     "output_type": "execute_result"
    }
   ],
   "source": [
    "x1.size()"
   ]
  },
  {
   "cell_type": "code",
   "execution_count": 54,
   "metadata": {},
   "outputs": [
    {
     "data": {
      "text/plain": [
       "torch.Size([3, 32, 32])"
      ]
     },
     "execution_count": 54,
     "metadata": {},
     "output_type": "execute_result"
    }
   ],
   "source": [
    "x1[0].size()"
   ]
  },
  {
   "cell_type": "code",
   "execution_count": 55,
   "metadata": {},
   "outputs": [
    {
     "data": {
      "image/png": "[encoded data removed]",
      "text/plain": [
       "<Figure size 432x288 with 1 Axes>"
      ]
     },
     "metadata": {
      "needs_background": "light"
     },
     "output_type": "display_data"
    }
   ],
   "source": [
    "imshow(x1[0].to('cpu'))"
   ]
  },
  {
   "cell_type": "code",
   "execution_count": 56,
   "metadata": {},
   "outputs": [],
   "source": [
    "aug = DifferentiableColourDistortionByTorch(brightness=0.6, contrast=[0.5, 1.2], saturation=0.2, hue=0.3)"
   ]
  },
  {
   "cell_type": "code",
   "execution_count": 57,
   "metadata": {},
   "outputs": [],
   "source": [
    "x1_torch = aug(x1)"
   ]
  },
  {
   "cell_type": "code",
   "execution_count": 58,
   "metadata": {},
   "outputs": [
    {
     "data": {
      "image/png": "[encoded data removed]",
      "text/plain": [
       "<Figure size 432x288 with 1 Axes>"
      ]
     },
     "metadata": {
      "needs_background": "light"
     },
     "output_type": "display_data"
    }
   ],
   "source": [
    "imshow(x1_torch[0].to('cpu'))"
   ]
  },
  {
   "cell_type": "code",
   "execution_count": null,
   "metadata": {},
   "outputs": [],
   "source": []
  }
 ],
 "metadata": {
  "kernelspec": {
   "display_name": "Python 3",
   "language": "python",
   "name": "python3"
  },
  "language_info": {
   "codemirror_mode": {
    "name": "ipython",
    "version": 3
   },
   "file_extension": ".py",
   "mimetype": "text/x-python",
   "name": "python",
   "nbconvert_exporter": "python",
   "pygments_lexer": "ipython3",
   "version": "3.6.8"
  }
 },
 "nbformat": 4,
 "nbformat_minor": 4
}

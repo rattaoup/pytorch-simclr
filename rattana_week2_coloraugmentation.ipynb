{
 "cells": [
  {
   "cell_type": "code",
   "execution_count": 1,
   "metadata": {},
   "outputs": [],
   "source": [
    "import os\n",
    "import torch\n",
    "import torchvision\n",
    "from torchvision import transforms\n",
    "import torch.nn as nn\n",
    "import numpy as np\n",
    "from configs import get_datasets\n",
    "from critic import LinearCritic\n",
    "import matplotlib.pyplot as plt\n",
    "import numpy as np\n",
    "import torchvision\n",
    "from PIL import Image\n",
    "from models import *\n",
    "import torch.backends.cudnn as cudnn\n",
    "from tqdm import tqdm\n",
    "import math\n",
    "import seaborn as sns\n",
    "\n",
    "\n",
    "### config ####\n",
    "num_workers = 2\n",
    "batch_size = 512\n",
    "img_size = 32\n",
    "temperature = 0.5\n",
    "dataset = 'cifar10'\n",
    "CACHED_MEAN_STD = {\n",
    "        'cifar10': ((0.4914, 0.4822, 0.4465), (0.2023, 0.1994, 0.2010)),\n",
    "        'cifar100': ((0.5071, 0.4865, 0.4409), (0.2009, 0.1984, 0.2023)),\n",
    "        'stl10': ((0.4409, 0.4279, 0.3868), (0.2309, 0.2262, 0.2237)),\n",
    "        'imagenet': ((0.485, 0.456, 0.406), (0.229, 0.224, 0.225))\n",
    "    }\n",
    "\n",
    "device = 'cuda' if torch.cuda.is_available() else 'cpu'"
   ]
  },
  {
   "cell_type": "code",
   "execution_count": 2,
   "metadata": {},
   "outputs": [
    {
     "name": "stdout",
     "output_type": "stream",
     "text": [
      "Files already downloaded and verified\n",
      "Files already downloaded and verified\n"
     ]
    },
    {
     "data": {
      "text/plain": [
       "<matplotlib.image.AxesImage at 0x7f2a0be82588>"
      ]
     },
     "execution_count": 2,
     "metadata": {},
     "output_type": "execute_result"
    },
    {
     "data": {
      "image/png": "[encoded data removed]",
      "text/plain": [
       "<Figure size 432x288 with 1 Axes>"
      ]
     },
     "metadata": {
      "needs_background": "light"
     },
     "output_type": "display_data"
    }
   ],
   "source": [
    "root = '/data/cifar10/'\n",
    "train = torchvision.datasets.CIFAR10(root = root, train=True, download=True)\n",
    "test = torchvision.datasets.CIFAR10(root = root, train = False, download = True)\n",
    "pic = train[19][0]\n",
    "plt.imshow(pic)"
   ]
  },
  {
   "cell_type": "code",
   "execution_count": 3,
   "metadata": {},
   "outputs": [
    {
     "name": "stdout",
     "output_type": "stream",
     "text": [
      "Files already downloaded and verified\n",
      "Files already downloaded and verified\n",
      "Files already downloaded and verified\n"
     ]
    }
   ],
   "source": [
    "trainset, testset, clftrainset, num_classes, stem = get_datasets(dataset)\n",
    "\n",
    "trainloader = torch.utils.data.DataLoader(trainset, batch_size=batch_size, shuffle=True,\n",
    "                                          num_workers=num_workers, pin_memory=True)\n",
    "testloader = torch.utils.data.DataLoader(testset, batch_size=1000, shuffle=False, num_workers=num_workers,\n",
    "                                         pin_memory=True)\n",
    "clftrainloader = torch.utils.data.DataLoader(clftrainset, batch_size=1000, shuffle=False, num_workers=num_workers,\n",
    "                                             pin_memory=True)"
   ]
  },
  {
   "cell_type": "markdown",
   "metadata": {},
   "source": [
    "# Write my own function, for color jitter?"
   ]
  },
  {
   "cell_type": "code",
   "execution_count": 4,
   "metadata": {},
   "outputs": [],
   "source": [
    " transform_train = transforms.Compose([\n",
    "        transforms.RandomResizedCrop(img_size, interpolation=Image.BICUBIC),\n",
    "        transforms.RandomHorizontalFlip(),\n",
    "        # ColourDistortion(s=0.5),\n",
    "        transforms.ToTensor(),\n",
    "        # transforms.Normalize(*CACHED_MEAN_STD[dataset]),\n",
    "    ])\n",
    "\n",
    "# now there are only random 1) crop 2) flip\n",
    "def ColourDistortion(s=1.0):\n",
    "    # s is the strength of color distortion.\n",
    "    color_jitter = transforms.ColorJitter(0.8*s, 0.8*s, 0.8*s, 0.2*s)\n",
    "    rnd_color_jitter = transforms.RandomApply([color_jitter], p=0.8)\n",
    "    rnd_gray = transforms.RandomGrayscale(p=0.2)\n",
    "    color_distort = transforms.Compose([rnd_color_jitter, rnd_gray])\n",
    "    return color_distort\n",
    "\n",
    "# functions to show an image\n",
    "def imshow(img):\n",
    "    #img = img / 2 + 0.5     \n",
    "    npimg = img.numpy()\n",
    "    plt.imshow(np.transpose(npimg, (1, 2, 0)))\n",
    "    plt.show()"
   ]
  },
  {
   "cell_type": "code",
   "execution_count": 66,
   "metadata": {},
   "outputs": [
    {
     "data": {
      "image/png": "[encoded data removed]",
      "text/plain": [
       "<Figure size 432x288 with 1 Axes>"
      ]
     },
     "metadata": {
      "needs_background": "light"
     },
     "output_type": "display_data"
    }
   ],
   "source": [
    "pic = train[19][0]\n",
    "imshow(transform_train(pic))"
   ]
  },
  {
   "cell_type": "markdown",
   "metadata": {},
   "source": [
    "# Use code from Torch vision source code and make sure it runs"
   ]
  },
  {
   "cell_type": "code",
   "execution_count": 5,
   "metadata": {},
   "outputs": [],
   "source": [
    "import torch\n",
    "import numbers\n",
    "import random\n",
    "from torch import Tensor"
   ]
  },
  {
   "cell_type": "code",
   "execution_count": 68,
   "metadata": {},
   "outputs": [],
   "source": [
    "def _is_tensor_a_torch_image(x: Tensor) -> bool:\n",
    "    return x.ndim >= 2\n",
    "def _blend(img1: Tensor, img2: Tensor, ratio: float) -> Tensor:\n",
    "    bound = 1 if img1.dtype in [torch.half, torch.float32, torch.float64] else 255\n",
    "    return (ratio * img1 + (1 - ratio) * img2).clamp(0, bound).to(img1.dtype)"
   ]
  },
  {
   "cell_type": "code",
   "execution_count": 69,
   "metadata": {},
   "outputs": [],
   "source": [
    "test_pic = transform_train(pic)"
   ]
  },
  {
   "cell_type": "code",
   "execution_count": 70,
   "metadata": {},
   "outputs": [
    {
     "data": {
      "image/png": "[encoded data removed]",
      "text/plain": [
       "<Figure size 432x288 with 1 Axes>"
      ]
     },
     "metadata": {
      "needs_background": "light"
     },
     "output_type": "display_data"
    }
   ],
   "source": [
    "imshow(test_pic)"
   ]
  },
  {
   "cell_type": "code",
   "execution_count": 71,
   "metadata": {},
   "outputs": [
    {
     "data": {
      "text/plain": [
       "torch.Size([3, 32, 32])"
      ]
     },
     "execution_count": 71,
     "metadata": {},
     "output_type": "execute_result"
    }
   ],
   "source": [
    "test_pic.size()"
   ]
  },
  {
   "cell_type": "code",
   "execution_count": 72,
   "metadata": {},
   "outputs": [
    {
     "data": {
      "text/plain": [
       "<matplotlib.image.AxesImage at 0x7fedc58f0668>"
      ]
     },
     "execution_count": 72,
     "metadata": {},
     "output_type": "execute_result"
    },
    {
     "data": {
      "image/png": "[encoded data removed]",
      "text/plain": [
       "<Figure size 432x288 with 1 Axes>"
      ]
     },
     "metadata": {
      "needs_background": "light"
     },
     "output_type": "display_data"
    }
   ],
   "source": [
    "# code from functional_tensor\n",
    "def rgb_to_grayscale(img: Tensor) -> Tensor:\n",
    "    \"\"\"Convert the given RGB Image Tensor to Grayscale.\n",
    "    For RGB to Grayscale conversion, ITU-R 601-2 luma transform is performed which\n",
    "    is L = R * 0.2989 + G * 0.5870 + B * 0.1140\n",
    "\n",
    "    Args:\n",
    "        img (Tensor): Image to be converted to Grayscale in the form [C, H, W].\n",
    "\n",
    "    Returns:\n",
    "        Tensor: Grayscale image.\n",
    "\n",
    "    \"\"\"\n",
    "    if img.shape[0] != 3:\n",
    "        raise TypeError('Input Image does not contain 3 Channels')\n",
    "\n",
    "    return (0.2989 * img[0] + 0.5870 * img[1] + 0.1140 * img[2]).to(img.dtype)\n",
    "\n",
    "plt.imshow(rgb_to_grayscale(test_pic), cmap='gray')"
   ]
  },
  {
   "cell_type": "code",
   "execution_count": 73,
   "metadata": {},
   "outputs": [
    {
     "data": {
      "image/png": "[encoded data removed]",
      "text/plain": [
       "<Figure size 432x288 with 1 Axes>"
      ]
     },
     "metadata": {
      "needs_background": "light"
     },
     "output_type": "display_data"
    }
   ],
   "source": [
    "def _rgb2hsv(img):\n",
    "    r, g, b = img.unbind(0)\n",
    "\n",
    "    maxc = torch.max(img, dim=0).values\n",
    "    minc = torch.min(img, dim=0).values\n",
    "\n",
    "    # The algorithm erases S and H channel where `maxc = minc`. This avoids NaN\n",
    "    # from happening in the results, because\n",
    "    #   + S channel has division by `maxc`, which is zero only if `maxc = minc`\n",
    "    #   + H channel has division by `(maxc - minc)`.\n",
    "    #\n",
    "    # Instead of overwriting NaN afterwards, we just prevent it from occuring so\n",
    "    # we don't need to deal with it in case we save the NaN in a buffer in\n",
    "    # backprop, if it is ever supported, but it doesn't hurt to do so.\n",
    "    eqc = maxc == minc\n",
    "\n",
    "    cr = maxc - minc\n",
    "    # Since `eqc => cr = 0`, replacing denominator with 1 when `eqc` is fine.\n",
    "    s = cr / torch.where(eqc, maxc.new_ones(()), maxc)\n",
    "    # Note that `eqc => maxc = minc = r = g = b`. So the following calculation\n",
    "    # of `h` would reduce to `bc - gc + 2 + rc - bc + 4 + rc - bc = 6` so it\n",
    "    # would not matter what values `rc`, `gc`, and `bc` have here, and thus\n",
    "    # replacing denominator with 1 when `eqc` is fine.\n",
    "    cr_divisor = torch.where(eqc, maxc.new_ones(()), cr)\n",
    "    rc = (maxc - r) / cr_divisor\n",
    "    gc = (maxc - g) / cr_divisor\n",
    "    bc = (maxc - b) / cr_divisor\n",
    "\n",
    "#     hr = (maxc == r) * (bc - gc)\n",
    "#     hg = ((maxc == g) & (maxc != r)) * (2.0 + rc - bc)\n",
    "#     hb = ((maxc != g) & (maxc != r)) * (4.0 + gc - rc)   \n",
    "    hr = (maxc == r).float() * (bc - gc)\n",
    "    hg = ((maxc == g) & (maxc != r)).float() * (2.0 + rc - bc)\n",
    "    hb = ((maxc != g) & (maxc != r)).float() * (4.0 + gc - rc)\n",
    "    h = (hr + hg + hb)\n",
    "    h = torch.fmod((h / 6.0 + 1.0), 1.0)\n",
    "    return torch.stack((h, s, maxc))\n",
    "\n",
    "imshow(_rgb2hsv(test_pic))"
   ]
  },
  {
   "cell_type": "code",
   "execution_count": 74,
   "metadata": {},
   "outputs": [
    {
     "data": {
      "image/png": "[encoded data removed]",
      "text/plain": [
       "<Figure size 432x288 with 1 Axes>"
      ]
     },
     "metadata": {
      "needs_background": "light"
     },
     "output_type": "display_data"
    }
   ],
   "source": [
    "def _hsv2rgb(img):\n",
    "    h, s, v = img.unbind(0)\n",
    "    i = torch.floor(h * 6.0)\n",
    "    f = (h * 6.0) - i\n",
    "    i = i.to(dtype=torch.int32)\n",
    "\n",
    "    p = torch.clamp((v * (1.0 - s)), 0.0, 1.0)\n",
    "    q = torch.clamp((v * (1.0 - s * f)), 0.0, 1.0)\n",
    "    t = torch.clamp((v * (1.0 - s * (1.0 - f))), 0.0, 1.0)\n",
    "    i = i % 6\n",
    "\n",
    "#     mask = i == torch.arange(6)[:, None, None]\n",
    "    mask = (i == torch.arange(6)[:, None, None].to(img.device).int())\n",
    "    a1 = torch.stack((v, q, p, p, t, v))\n",
    "    a2 = torch.stack((t, v, v, q, p, p))\n",
    "    a3 = torch.stack((p, p, t, v, v, q))\n",
    "    a4 = torch.stack((a1, a2, a3))\n",
    "\n",
    "    return torch.einsum(\"ijk, xijk -> xjk\", mask.to(dtype=img.dtype), a4)\n",
    "imshow(_hsv2rgb(_rgb2hsv(test_pic)))"
   ]
  },
  {
   "cell_type": "code",
   "execution_count": 75,
   "metadata": {},
   "outputs": [
    {
     "data": {
      "image/png": "[encoded data removed]",
      "text/plain": [
       "<Figure size 432x288 with 1 Axes>"
      ]
     },
     "metadata": {
      "needs_background": "light"
     },
     "output_type": "display_data"
    }
   ],
   "source": [
    "def adjust_brightness(img: Tensor, brightness_factor: float) -> Tensor:\n",
    "    \"\"\"Adjust brightness of an RGB image.\n",
    "\n",
    "    Args:\n",
    "        img (Tensor): Image to be adjusted.\n",
    "        brightness_factor (float):  How much to adjust the brightness. Can be\n",
    "            any non negative number. 0 gives a black image, 1 gives the\n",
    "            original image while 2 increases the brightness by a factor of 2.\n",
    "\n",
    "    Returns:\n",
    "        Tensor: Brightness adjusted image.\n",
    "    \"\"\"\n",
    "    if brightness_factor < 0:\n",
    "        raise ValueError('brightness_factor ({}) is not non-negative.'.format(brightness_factor))\n",
    "\n",
    "    if not _is_tensor_a_torch_image(img):\n",
    "        raise TypeError('tensor is not a torch image.')\n",
    "\n",
    "    return _blend(img, torch.zeros_like(img), brightness_factor)\n",
    "imshow(adjust_brightness(test_pic, brightness_factor = 0.4))"
   ]
  },
  {
   "cell_type": "code",
   "execution_count": 76,
   "metadata": {},
   "outputs": [
    {
     "data": {
      "image/png": "[encoded data removed]",
      "text/plain": [
       "<Figure size 432x288 with 1 Axes>"
      ]
     },
     "metadata": {
      "needs_background": "light"
     },
     "output_type": "display_data"
    }
   ],
   "source": [
    "def adjust_contrast(img: Tensor, contrast_factor: float) -> Tensor:\n",
    "    \"\"\"Adjust contrast of an RGB image.\n",
    "\n",
    "    Args:\n",
    "        img (Tensor): Image to be adjusted.\n",
    "        contrast_factor (float): How much to adjust the contrast. Can be any\n",
    "            non negative number. 0 gives a solid gray image, 1 gives the\n",
    "            original image while 2 increases the contrast by a factor of 2.\n",
    "\n",
    "    Returns:\n",
    "        Tensor: Contrast adjusted image.\n",
    "    \"\"\"\n",
    "    if contrast_factor < 0:\n",
    "        raise ValueError('contrast_factor ({}) is not non-negative.'.format(contrast_factor))\n",
    "\n",
    "    if not _is_tensor_a_torch_image(img):\n",
    "        raise TypeError('tensor is not a torch image.')\n",
    "\n",
    "    mean = torch.mean(rgb_to_grayscale(img))\n",
    "\n",
    "    return _blend(img, mean, contrast_factor)\n",
    "imshow(adjust_contrast(test_pic, contrast_factor = 2))"
   ]
  },
  {
   "cell_type": "code",
   "execution_count": 77,
   "metadata": {},
   "outputs": [
    {
     "data": {
      "image/png": "[encoded data removed]",
      "text/plain": [
       "<Figure size 432x288 with 1 Axes>"
      ]
     },
     "metadata": {
      "needs_background": "light"
     },
     "output_type": "display_data"
    }
   ],
   "source": [
    "def adjust_hue(img, hue_factor):\n",
    "    \"\"\"Adjust hue of an image.\n",
    "\n",
    "    The image hue is adjusted by converting the image to HSV and\n",
    "    cyclically shifting the intensities in the hue channel (H).\n",
    "    The image is then converted back to original image mode.\n",
    "\n",
    "    `hue_factor` is the amount of shift in H channel and must be in the\n",
    "    interval `[-0.5, 0.5]`.\n",
    "\n",
    "    See `Hue`_ for more details.\n",
    "\n",
    "    .. _Hue: https://en.wikipedia.org/wiki/Hue\n",
    "\n",
    "    Args:\n",
    "        img (Tensor): Image to be adjusted. Image type is either uint8 or float.\n",
    "        hue_factor (float):  How much to shift the hue channel. Should be in\n",
    "            [-0.5, 0.5]. 0.5 and -0.5 give complete reversal of hue channel in\n",
    "            HSV space in positive and negative direction respectively.\n",
    "            0 means no shift. Therefore, both -0.5 and 0.5 will give an image\n",
    "            with complementary colors while 0 gives the original image.\n",
    "\n",
    "    Returns:\n",
    "         Tensor: Hue adjusted image.\n",
    "    \"\"\"\n",
    "    if not (-0.5 <= hue_factor <= 0.5):\n",
    "        raise ValueError('hue_factor ({}) is not in [-0.5, 0.5].'.format(hue_factor))\n",
    "\n",
    "    if not _is_tensor_a_torch_image(img):\n",
    "        raise TypeError('tensor is not a torch image.')\n",
    "\n",
    "    orig_dtype = img.dtype\n",
    "    if img.dtype == torch.uint8:\n",
    "        img = img.to(dtype=torch.float32) / 255.0\n",
    "\n",
    "    img = _rgb2hsv(img)\n",
    "    h, s, v = img.unbind(0)\n",
    "    h += hue_factor\n",
    "    h = h % 1.0\n",
    "    img = torch.stack((h, s, v))\n",
    "    img_hue_adj = _hsv2rgb(img)\n",
    "\n",
    "    if orig_dtype == torch.uint8:\n",
    "        img_hue_adj = (img_hue_adj * 255.0).to(dtype=orig_dtype)\n",
    "\n",
    "    return img_hue_adj\n",
    "\n",
    "imshow(adjust_hue(test_pic, hue_factor = 0.3))"
   ]
  },
  {
   "cell_type": "code",
   "execution_count": 78,
   "metadata": {},
   "outputs": [
    {
     "data": {
      "image/png": "[encoded data removed]",
      "text/plain": [
       "<Figure size 432x288 with 1 Axes>"
      ]
     },
     "metadata": {
      "needs_background": "light"
     },
     "output_type": "display_data"
    }
   ],
   "source": [
    "def adjust_saturation(img: Tensor, saturation_factor: float) -> Tensor:\n",
    "    \"\"\"Adjust color saturation of an RGB image.\n",
    "\n",
    "    Args:\n",
    "        img (Tensor): Image to be adjusted.\n",
    "        saturation_factor (float):  How much to adjust the saturation. Can be any\n",
    "            non negative number. 0 gives a black and white image, 1 gives the\n",
    "            original image while 2 enhances the saturation by a factor of 2.\n",
    "\n",
    "    Returns:\n",
    "        Tensor: Saturation adjusted image.\n",
    "    \"\"\"\n",
    "    if saturation_factor < 0:\n",
    "        raise ValueError('saturation_factor ({}) is not non-negative.'.format(saturation_factor))\n",
    "\n",
    "    if not _is_tensor_a_torch_image(img):\n",
    "        raise TypeError('tensor is not a torch image.')\n",
    "\n",
    "    return _blend(img, rgb_to_grayscale(img), saturation_factor)\n",
    "imshow(adjust_saturation(test_pic, saturation_factor = 0.3))"
   ]
  },
  {
   "cell_type": "markdown",
   "metadata": {},
   "source": [
    "# Rewrite ColorJitter function"
   ]
  },
  {
   "cell_type": "code",
   "execution_count": 79,
   "metadata": {},
   "outputs": [],
   "source": [
    "class ColorJitter(torch.nn.Module):\n",
    "    \"\"\"Randomly change the brightness, contrast and saturation of an image.\n",
    "\n",
    "    Args:\n",
    "        brightness (float or tuple of float (min, max)): How much to jitter brightness.\n",
    "            brightness_factor is chosen uniformly from [max(0, 1 - brightness), 1 + brightness]\n",
    "            or the given [min, max]. Should be non negative numbers.\n",
    "        contrast (float or tuple of float (min, max)): How much to jitter contrast.\n",
    "            contrast_factor is chosen uniformly from [max(0, 1 - contrast), 1 + contrast]\n",
    "            or the given [min, max]. Should be non negative numbers.\n",
    "        saturation (float or tuple of float (min, max)): How much to jitter saturation.\n",
    "            saturation_factor is chosen uniformly from [max(0, 1 - saturation), 1 + saturation]\n",
    "            or the given [min, max]. Should be non negative numbers.\n",
    "        hue (float or tuple of float (min, max)): How much to jitter hue.\n",
    "            hue_factor is chosen uniformly from [-hue, hue] or the given [min, max].\n",
    "            Should have 0<= hue <= 0.5 or -0.5 <= min <= max <= 0.5.\n",
    "    \"\"\"\n",
    "\n",
    "    def __init__(self, brightness=0, contrast=0, saturation=0, hue=0):\n",
    "        super().__init__()\n",
    "        self.brightness = self._check_input(brightness, 'brightness')\n",
    "        self.contrast = self._check_input(contrast, 'contrast')\n",
    "        self.saturation = self._check_input(saturation, 'saturation')\n",
    "        self.hue = self._check_input(hue, 'hue', center=0, bound=(-0.5, 0.5),\n",
    "                                     clip_first_on_zero=False)\n",
    "\n",
    "#     @torch.jit.unused\n",
    "    def _check_input(self, value, name, center=1, bound=(0, float('inf')), clip_first_on_zero=True):\n",
    "        if isinstance(value, numbers.Number):\n",
    "            if value < 0:\n",
    "                raise ValueError(\"If {} is a single number, it must be non negative.\".format(name))\n",
    "            value = [center - float(value), center + float(value)]\n",
    "            if clip_first_on_zero:\n",
    "                value[0] = max(value[0], 0.0)\n",
    "        elif isinstance(value, (tuple, list)) and len(value) == 2:\n",
    "            if not bound[0] <= value[0] <= value[1] <= bound[1]:\n",
    "                raise ValueError(\"{} values should be between {}\".format(name, bound))\n",
    "        else:\n",
    "            raise TypeError(\"{} should be a single number or a list/tuple with lenght 2.\".format(name))\n",
    "\n",
    "        # if value is 0 or (1., 1.) for brightness/contrast/saturation\n",
    "        # or (0., 0.) for hue, do nothing\n",
    "        if value[0] == value[1] == center:\n",
    "            value = None\n",
    "        return value\n",
    "\n",
    "#     @staticmethod\n",
    "#     @torch.jit.unused\n",
    "    def get_params(brightness, contrast, saturation, hue):\n",
    "        \"\"\"Get a randomized transform to be applied on image.\n",
    "\n",
    "        Arguments are same as that of __init__.\n",
    "\n",
    "        Returns:\n",
    "            Transform which randomly adjusts brightness, contrast and\n",
    "            saturation in a random order.\n",
    "        \"\"\"\n",
    "        transforms = []\n",
    "\n",
    "#         if brightness is not None:\n",
    "#             brightness_factor = random.uniform(brightness[0], brightness[1])\n",
    "#             transforms.append(Lambda(lambda img: F.adjust_brightness(img, brightness_factor)))\n",
    "\n",
    "#         if contrast is not None:\n",
    "#             contrast_factor = random.uniform(contrast[0], contrast[1])\n",
    "#             transforms.append(Lambda(lambda img: F.adjust_contrast(img, contrast_factor)))\n",
    "\n",
    "#         if saturation is not None:\n",
    "#             saturation_factor = random.uniform(saturation[0], saturation[1])\n",
    "#             transforms.append(Lambda(lambda img: F.adjust_saturation(img, saturation_factor)))\n",
    "\n",
    "#         if hue is not None:\n",
    "#             hue_factor = random.uniform(hue[0], hue[1])\n",
    "#             transforms.append(Lambda(lambda img: F.adjust_hue(img, hue_factor)))\n",
    "            \n",
    "            \n",
    "        if brightness is not None:\n",
    "            brightness_factor = random.uniform(brightness[0], brightness[1])\n",
    "            transforms.append(Lambda(lambda img: adjust_brightness(img, brightness_factor)))\n",
    "\n",
    "        if contrast is not None:\n",
    "            contrast_factor = random.uniform(contrast[0], contrast[1])\n",
    "            transforms.append(Lambda(lambda img: adjust_contrast(img, contrast_factor)))\n",
    "\n",
    "        if saturation is not None:\n",
    "            saturation_factor = random.uniform(saturation[0], saturation[1])\n",
    "            transforms.append(Lambda(lambda img: adjust_saturation(img, saturation_factor)))\n",
    "\n",
    "        if hue is not None:\n",
    "            hue_factor = random.uniform(hue[0], hue[1])\n",
    "            transforms.append(Lambda(lambda img: adjust_hue(img, hue_factor)))\n",
    "\n",
    "        random.shuffle(transforms)\n",
    "        transform = Compose(transforms)\n",
    "\n",
    "        return transform\n",
    "\n",
    "    def forward(self, img):\n",
    "        \"\"\"\n",
    "        Args:\n",
    "            img (PIL Image or Tensor): Input image.\n",
    "\n",
    "        Returns:\n",
    "            PIL Image or Tensor: Color jittered image.\n",
    "        \"\"\"\n",
    "#         fn_idx = torch.randperm(4)\n",
    "#         for fn_id in fn_idx:\n",
    "#             if fn_id == 0 and self.brightness is not None:\n",
    "#                 brightness = self.brightness\n",
    "#                 brightness_factor = torch.tensor(1.0).uniform_(brightness[0], brightness[1]).item()\n",
    "#                 img = F.adjust_brightness(img, brightness_factor)\n",
    "\n",
    "#             if fn_id == 1 and self.contrast is not None:\n",
    "#                 contrast = self.contrast\n",
    "#                 contrast_factor = torch.tensor(1.0).uniform_(contrast[0], contrast[1]).item()\n",
    "#                 img = F.adjust_contrast(img, contrast_factor)\n",
    "\n",
    "#             if fn_id == 2 and self.saturation is not None:\n",
    "#                 saturation = self.saturation\n",
    "#                 saturation_factor = torch.tensor(1.0).uniform_(saturation[0], saturation[1]).item()\n",
    "#                 img = F.adjust_saturation(img, saturation_factor)\n",
    "\n",
    "#             if fn_id == 3 and self.hue is not None:\n",
    "#                 hue = self.hue\n",
    "#                 hue_factor = torch.tensor(1.0).uniform_(hue[0], hue[1]).item()\n",
    "#                 img = F.adjust_hue(img, hue_factor)\n",
    "                \n",
    "        #### index\n",
    "        brightness_factor = None\n",
    "        contrast_factor = None\n",
    "        saturation_factor = None\n",
    "        hue_factor = None\n",
    "        \n",
    "        fn_idx = torch.randperm(4)\n",
    "        for fn_id in fn_idx:\n",
    "            if fn_id == 0 and self.brightness is not None:\n",
    "                brightness = self.brightness\n",
    "                brightness_factor = torch.tensor(1.0).uniform_(brightness[0], brightness[1]).item()\n",
    "                img = adjust_brightness(img, brightness_factor)\n",
    "\n",
    "            if fn_id == 1 and self.contrast is not None:\n",
    "                contrast = self.contrast\n",
    "                contrast_factor = torch.tensor(1.0).uniform_(contrast[0], contrast[1]).item()\n",
    "                img = adjust_contrast(img, contrast_factor)\n",
    "\n",
    "            if fn_id == 2 and self.saturation is not None:\n",
    "                saturation = self.saturation\n",
    "                saturation_factor = torch.tensor(1.0).uniform_(saturation[0], saturation[1]).item()\n",
    "                img = adjust_saturation(img, saturation_factor)\n",
    "\n",
    "            if fn_id == 3 and self.hue is not None:\n",
    "                hue = self.hue\n",
    "                hue_factor = torch.tensor(1.0).uniform_(hue[0], hue[1]).item()\n",
    "                img = adjust_hue(img, hue_factor)\n",
    "                \n",
    "        #also return the coefficient\n",
    "        format_string = self.__class__.__name__ + '('\n",
    "        format_string += 'brightness={:.3f}'.format(brightness_factor)\n",
    "        format_string += ', contrast={:.3f}'.format(contrast_factor)\n",
    "        format_string += ', saturation={:.3f}'.format(saturation_factor)\n",
    "        format_string += ', hue={:.3f})'.format(hue_factor)\n",
    "        print(format_string)\n",
    "\n",
    "        return img\n",
    "\n",
    "    def __repr__(self):\n",
    "        format_string = self.__class__.__name__ + '('\n",
    "        format_string += 'brightness={0}'.format(self.brightness)\n",
    "        format_string += ', contrast={0}'.format(self.contrast)\n",
    "        format_string += ', saturation={0}'.format(self.saturation)\n",
    "        format_string += ', hue={0})'.format(self.hue)\n",
    "        return format_string"
   ]
  },
  {
   "cell_type": "code",
   "execution_count": 80,
   "metadata": {},
   "outputs": [],
   "source": [
    "aug = ColorJitter(brightness=0.3, contrast=0.5, saturation=0.2, hue=[-0.2, 0.4])"
   ]
  },
  {
   "cell_type": "code",
   "execution_count": 81,
   "metadata": {},
   "outputs": [
    {
     "data": {
      "text/plain": [
       "'ColorJitter(brightness=[0.7, 1.3], contrast=[0.5, 1.5], saturation=[0.8, 1.2], hue=[-0.2, 0.4])'"
      ]
     },
     "execution_count": 81,
     "metadata": {},
     "output_type": "execute_result"
    }
   ],
   "source": [
    "aug.__repr__()"
   ]
  },
  {
   "cell_type": "code",
   "execution_count": 82,
   "metadata": {},
   "outputs": [
    {
     "name": "stdout",
     "output_type": "stream",
     "text": [
      "ColorJitter(brightness=0.864, contrast=0.887, saturation=0.916, hue=-0.170)\n"
     ]
    },
    {
     "data": {
      "image/png": "[encoded data removed]",
      "text/plain": [
       "<Figure size 432x288 with 1 Axes>"
      ]
     },
     "metadata": {
      "needs_background": "light"
     },
     "output_type": "display_data"
    }
   ],
   "source": [
    "imshow(aug(test_pic))"
   ]
  },
  {
   "cell_type": "markdown",
   "metadata": {},
   "source": [
    "# Color Augmentation class"
   ]
  },
  {
   "cell_type": "code",
   "execution_count": 83,
   "metadata": {},
   "outputs": [],
   "source": [
    "class DifferentiableColourDistortionByTorch(nn.Module):\n",
    "    \n",
    "    def __init__(self, brightness=0, contrast=0, saturation=0, hue=0):\n",
    "        super().__init__()\n",
    "        self.brightness = self._check_input(brightness, 'brightness')\n",
    "        self.contrast = self._check_input(contrast, 'contrast')\n",
    "        self.saturation = self._check_input(saturation, 'saturation')\n",
    "        self.hue = self._check_input(hue, 'hue', center=0, bound=(-0.5, 0.5),\n",
    "                                     clip_first_on_zero=False)\n",
    "\n",
    "#     @torch.jit.unused\n",
    "    def _check_input(self, value, name, center=1, bound=(0, float('inf')), clip_first_on_zero=True):\n",
    "        if isinstance(value, numbers.Number):\n",
    "            if value < 0:\n",
    "                raise ValueError(\"If {} is a single number, it must be non negative.\".format(name))\n",
    "            value = [center - float(value), center + float(value)]\n",
    "            if clip_first_on_zero:\n",
    "                value[0] = max(value[0], 0.0)\n",
    "        elif isinstance(value, (tuple, list)) and len(value) == 2:\n",
    "            if not bound[0] <= value[0] <= value[1] <= bound[1]:\n",
    "                raise ValueError(\"{} values should be between {}\".format(name, bound))\n",
    "        else:\n",
    "            raise TypeError(\"{} should be a single number or a list/tuple with lenght 2.\".format(name))\n",
    "\n",
    "        # if value is 0 or (1., 1.) for brightness/contrast/saturation\n",
    "        # or (0., 0.) for hue, do nothing\n",
    "        if value[0] == value[1] == center:\n",
    "            value = None\n",
    "        return value\n",
    "    \n",
    "    #### batch color augmentation forward #####\n",
    "    \n",
    "    def forward(self, x):\n",
    "        '''\n",
    "        Args:\n",
    "            x: Input tensor batchsize x 32 x 32\n",
    "        \n",
    "        Returns:\n",
    "            x_aug : color jittered image\n",
    "        \n",
    "        '''\n",
    "        xu = torch.unbind(x, dim=0)\n",
    "        aug_x = torch.stack([self.colordistort(x_i) for i,x_i in enumerate(xu)], dim = 0)\n",
    "\n",
    "        \n",
    "        return aug_x\n",
    "    \n",
    "    def colordistort(self, img: Tensor)-> Tensor:\n",
    "        if (torch.rand(1)<0.8):\n",
    "            img = self.colorjitter(img)\n",
    "            #print(x_i.shape)\n",
    "        if (torch.rand(1)<0.2):\n",
    "            img = self.rgb_to_grayscale(img)\n",
    "            img = img.repeat(3,1,1) # reshape to r==g==b\n",
    "            #print(x_i.shape)    \n",
    "        return img\n",
    "        \n",
    "        \n",
    "    def colorjitter(self, img):\n",
    "        \"\"\"\n",
    "        Args:\n",
    "            img (PIL Image or Tensor): Input image.\n",
    "\n",
    "        Returns:\n",
    "            PIL Image or Tensor: Color jittered image.\n",
    "        \"\"\"     \n",
    "        #### index\n",
    "#         brightness_factor = None\n",
    "#         contrast_factor = None\n",
    "#         saturation_factor = None\n",
    "#         hue_factor = None\n",
    "        \n",
    "        fn_idx = torch.randperm(4)\n",
    "        for fn_id in fn_idx:\n",
    "            if fn_id == 0 and self.brightness is not None:\n",
    "                brightness = self.brightness\n",
    "                brightness_factor = torch.tensor(1.0).uniform_(brightness[0], brightness[1]).item()\n",
    "                img = self.adjust_brightness(img, brightness_factor)\n",
    "\n",
    "            if fn_id == 1 and self.contrast is not None:\n",
    "                contrast = self.contrast\n",
    "                contrast_factor = torch.tensor(1.0).uniform_(contrast[0], contrast[1]).item()\n",
    "                img = self.adjust_contrast(img, contrast_factor)\n",
    "\n",
    "            if fn_id == 2 and self.saturation is not None:\n",
    "                saturation = self.saturation\n",
    "                saturation_factor = torch.tensor(1.0).uniform_(saturation[0], saturation[1]).item()\n",
    "                img = self.adjust_saturation(img, saturation_factor)\n",
    "\n",
    "            if fn_id == 3 and self.hue is not None:\n",
    "                hue = self.hue\n",
    "                hue_factor = torch.tensor(1.0).uniform_(hue[0], hue[1]).item()\n",
    "                img = self.adjust_hue(img, hue_factor)\n",
    "                \n",
    "        #also return the coefficient\n",
    "#         format_string = self.__class__.__name__ + '('\n",
    "#         format_string += 'brightness={:.3f}'.format(brightness_factor)\n",
    "#         format_string += ', contrast={:.3f}'.format(contrast_factor)\n",
    "#         format_string += ', saturation={:.3f}'.format(saturation_factor)\n",
    "#         format_string += ', hue={:.3f})'.format(hue_factor)\n",
    "        #print(format_string)\n",
    "\n",
    "        return img\n",
    "\n",
    "    def __repr__(self):\n",
    "        format_string = self.__class__.__name__ + '('\n",
    "        format_string += 'brightness={0}'.format(self.brightness)\n",
    "        format_string += ', contrast={0}'.format(self.contrast)\n",
    "        format_string += ', saturation={0}'.format(self.saturation)\n",
    "        format_string += ', hue={0})'.format(self.hue)\n",
    "        return format_string\n",
    "                \n",
    "    ##### function from pytorch source code #####\n",
    "    def _is_tensor_a_torch_image(self, x: Tensor) -> bool:\n",
    "        return x.ndim >= 2\n",
    "    \n",
    "    def _blend(self, img1: Tensor, img2: Tensor, ratio: float) -> Tensor:\n",
    "        bound = 1 if img1.dtype in [torch.half, torch.float32, torch.float64] else 255\n",
    "        return (ratio * img1 + (1 - ratio) * img2).clamp(0, bound).to(img1.dtype)\n",
    "    \n",
    "    def rgb_to_grayscale(self, img: Tensor) -> Tensor:\n",
    "        \"\"\"Convert the given RGB Image Tensor to Grayscale.\n",
    "        For RGB to Grayscale conversion, ITU-R 601-2 luma transform is performed which\n",
    "        is L = R * 0.2989 + G * 0.5870 + B * 0.1140\n",
    "\n",
    "        Args:\n",
    "            img (Tensor): Image to be converted to Grayscale in the form [C, H, W].\n",
    "\n",
    "        Returns:\n",
    "            Tensor: Grayscale image.\n",
    "\n",
    "        \"\"\"\n",
    "        if img.shape[0] != 3:\n",
    "            raise TypeError('Input Image does not contain 3 Channels')\n",
    "\n",
    "        return (0.2989 * img[0] + 0.5870 * img[1] + 0.1140 * img[2]).to(img.dtype)\n",
    "    \n",
    "    def _rgb2hsv(self, img):\n",
    "        r, g, b = img.unbind(0)\n",
    "\n",
    "        maxc = torch.max(img, dim=0).values\n",
    "        minc = torch.min(img, dim=0).values\n",
    "\n",
    "        # The algorithm erases S and H channel where `maxc = minc`. This avoids NaN\n",
    "        # from happening in the results, because\n",
    "        #   + S channel has division by `maxc`, which is zero only if `maxc = minc`\n",
    "        #   + H channel has division by `(maxc - minc)`.\n",
    "        #\n",
    "        # Instead of overwriting NaN afterwards, we just prevent it from occuring so\n",
    "        # we don't need to deal with it in case we save the NaN in a buffer in\n",
    "        # backprop, if it is ever supported, but it doesn't hurt to do so.\n",
    "        eqc = maxc == minc\n",
    "\n",
    "        cr = maxc - minc\n",
    "        # Since `eqc => cr = 0`, replacing denominator with 1 when `eqc` is fine.\n",
    "        s = cr / torch.where(eqc, maxc.new_ones(()), maxc)\n",
    "        # Note that `eqc => maxc = minc = r = g = b`. So the following calculation\n",
    "        # of `h` would reduce to `bc - gc + 2 + rc - bc + 4 + rc - bc = 6` so it\n",
    "        # would not matter what values `rc`, `gc`, and `bc` have here, and thus\n",
    "        # replacing denominator with 1 when `eqc` is fine.\n",
    "        cr_divisor = torch.where(eqc, maxc.new_ones(()), cr)\n",
    "        rc = (maxc - r) / cr_divisor\n",
    "        gc = (maxc - g) / cr_divisor\n",
    "        bc = (maxc - b) / cr_divisor\n",
    "\n",
    "    #     hr = (maxc == r) * (bc - gc)\n",
    "    #     hg = ((maxc == g) & (maxc != r)) * (2.0 + rc - bc)\n",
    "    #     hb = ((maxc != g) & (maxc != r)) * (4.0 + gc - rc)   \n",
    "        hr = (maxc == r).float() * (bc - gc)\n",
    "        hg = ((maxc == g) & (maxc != r)).float() * (2.0 + rc - bc)\n",
    "        hb = ((maxc != g) & (maxc != r)).float() * (4.0 + gc - rc)\n",
    "        h = (hr + hg + hb)\n",
    "        h = torch.fmod((h / 6.0 + 1.0), 1.0)\n",
    "        return torch.stack((h, s, maxc))\n",
    "    \n",
    "    def _hsv2rgb(self, img):\n",
    "        h, s, v = img.unbind(0)\n",
    "        i = torch.floor(h * 6.0)\n",
    "        f = (h * 6.0) - i\n",
    "        i = i.to(dtype=torch.int32)\n",
    "\n",
    "        p = torch.clamp((v * (1.0 - s)), 0.0, 1.0)\n",
    "        q = torch.clamp((v * (1.0 - s * f)), 0.0, 1.0)\n",
    "        t = torch.clamp((v * (1.0 - s * (1.0 - f))), 0.0, 1.0)\n",
    "        i = i % 6\n",
    "\n",
    "    #     mask = i == torch.arange(6)[:, None, None]\n",
    "        mask = (i == torch.arange(6)[:, None, None].to(img.device).int())\n",
    "        a1 = torch.stack((v, q, p, p, t, v))\n",
    "        a2 = torch.stack((t, v, v, q, p, p))\n",
    "        a3 = torch.stack((p, p, t, v, v, q))\n",
    "        a4 = torch.stack((a1, a2, a3))\n",
    "\n",
    "        return torch.einsum(\"ijk, xijk -> xjk\", mask.to(dtype=img.dtype), a4)\n",
    "    \n",
    "    #### Brightness ####\n",
    "    def adjust_brightness(self, img: Tensor, brightness_factor: float) -> Tensor:\n",
    "        \"\"\"Adjust brightness of an RGB image.\n",
    "\n",
    "        Args:\n",
    "            img (Tensor): Image to be adjusted.\n",
    "            brightness_factor (float):  How much to adjust the brightness. Can be\n",
    "                any non negative number. 0 gives a black image, 1 gives the\n",
    "                original image while 2 increases the brightness by a factor of 2.\n",
    "\n",
    "        Returns:\n",
    "            Tensor: Brightness adjusted image.\n",
    "        \"\"\"\n",
    "        if brightness_factor < 0:\n",
    "            raise ValueError('brightness_factor ({}) is not non-negative.'.format(brightness_factor))\n",
    "\n",
    "        if not self._is_tensor_a_torch_image(img):\n",
    "            raise TypeError('tensor is not a torch image.')\n",
    "\n",
    "        return self._blend(img, torch.zeros_like(img), brightness_factor)\n",
    "    \n",
    "    #### Contrast ####\n",
    "    def adjust_contrast(self, img: Tensor, contrast_factor: float) -> Tensor:\n",
    "        \"\"\"Adjust contrast of an RGB image.\n",
    "\n",
    "        Args:\n",
    "            img (Tensor): Image to be adjusted.\n",
    "            contrast_factor (float): How much to adjust the contrast. Can be any\n",
    "                non negative number. 0 gives a solid gray image, 1 gives the\n",
    "                original image while 2 increases the contrast by a factor of 2.\n",
    "\n",
    "        Returns:\n",
    "            Tensor: Contrast adjusted image.\n",
    "        \"\"\"\n",
    "        if contrast_factor < 0:\n",
    "            raise ValueError('contrast_factor ({}) is not non-negative.'.format(contrast_factor))\n",
    "\n",
    "        if not self._is_tensor_a_torch_image(img):\n",
    "            raise TypeError('tensor is not a torch image.')\n",
    "\n",
    "        mean = torch.mean(self.rgb_to_grayscale(img).to(torch.float))\n",
    "\n",
    "        return self._blend(img, mean, contrast_factor)\n",
    "    \n",
    "    #### Hue ####\n",
    "    def adjust_hue(self, img, hue_factor):\n",
    "        \"\"\"Adjust hue of an image.\n",
    "\n",
    "        The image hue is adjusted by converting the image to HSV and\n",
    "        cyclically shifting the intensities in the hue channel (H).\n",
    "        The image is then converted back to original image mode.\n",
    "\n",
    "        `hue_factor` is the amount of shift in H channel and must be in the\n",
    "        interval `[-0.5, 0.5]`.\n",
    "\n",
    "        See `Hue`_ for more details.\n",
    "\n",
    "        .. _Hue: https://en.wikipedia.org/wiki/Hue\n",
    "\n",
    "        Args:\n",
    "            img (Tensor): Image to be adjusted. Image type is either uint8 or float.\n",
    "            hue_factor (float):  How much to shift the hue channel. Should be in\n",
    "                [-0.5, 0.5]. 0.5 and -0.5 give complete reversal of hue channel in\n",
    "                HSV space in positive and negative direction respectively.\n",
    "                0 means no shift. Therefore, both -0.5 and 0.5 will give an image\n",
    "                with complementary colors while 0 gives the original image.\n",
    "\n",
    "        Returns:\n",
    "             Tensor: Hue adjusted image.\n",
    "        \"\"\"\n",
    "        if not (-0.5 <= hue_factor <= 0.5):\n",
    "            raise ValueError('hue_factor ({}) is not in [-0.5, 0.5].'.format(hue_factor))\n",
    "\n",
    "        if not self._is_tensor_a_torch_image(img):\n",
    "            raise TypeError('tensor is not a torch image.')\n",
    "\n",
    "        orig_dtype = img.dtype\n",
    "        if img.dtype == torch.uint8:\n",
    "            img = img.to(dtype=torch.float32) / 255.0\n",
    "\n",
    "        img = self._rgb2hsv(img)\n",
    "        h, s, v = img.unbind(0)\n",
    "        h += hue_factor\n",
    "        h = h % 1.0\n",
    "        img = torch.stack((h, s, v))\n",
    "        img_hue_adj = self._hsv2rgb(img)\n",
    "\n",
    "        if orig_dtype == torch.uint8:\n",
    "            img_hue_adj = (img_hue_adj * 255.0).to(dtype=orig_dtype)\n",
    "\n",
    "        return img_hue_adj\n",
    "    \n",
    "    def adjust_saturation(self, img: Tensor, saturation_factor: float) -> Tensor:\n",
    "        \"\"\"Adjust color saturation of an RGB image.\n",
    "\n",
    "        Args:\n",
    "            img (Tensor): Image to be adjusted.\n",
    "            saturation_factor (float):  How much to adjust the saturation. Can be any\n",
    "                non negative number. 0 gives a black and white image, 1 gives the\n",
    "                original image while 2 enhances the saturation by a factor of 2.\n",
    "\n",
    "        Returns:\n",
    "            Tensor: Saturation adjusted image.\n",
    "        \"\"\"\n",
    "        if saturation_factor < 0:\n",
    "            raise ValueError('saturation_factor ({}) is not non-negative.'.format(saturation_factor))\n",
    "\n",
    "        if not self._is_tensor_a_torch_image(img):\n",
    "            raise TypeError('tensor is not a torch image.')\n",
    "\n",
    "        return self._blend(img, self.rgb_to_grayscale(img), saturation_factor)\n",
    "\n",
    "\n",
    "\n",
    "    "
   ]
  },
  {
   "cell_type": "code",
   "execution_count": 84,
   "metadata": {},
   "outputs": [],
   "source": [
    "aug = DifferentiableColourDistortionByTorch(brightness=0.3, contrast=0.5, saturation=0.2, hue=[-0.2, 0.4])"
   ]
  },
  {
   "cell_type": "code",
   "execution_count": 85,
   "metadata": {},
   "outputs": [
    {
     "data": {
      "text/plain": [
       "'DifferentiableColourDistortionByTorch(brightness=[0.7, 1.3], contrast=[0.5, 1.5], saturation=[0.8, 1.2], hue=[-0.2, 0.4])'"
      ]
     },
     "execution_count": 85,
     "metadata": {},
     "output_type": "execute_result"
    }
   ],
   "source": [
    "aug.__repr__()"
   ]
  },
  {
   "cell_type": "markdown",
   "metadata": {},
   "source": [
    "# Batch color augmentation test"
   ]
  },
  {
   "cell_type": "code",
   "execution_count": 6,
   "metadata": {},
   "outputs": [
    {
     "name": "stderr",
     "output_type": "stream",
     "text": [
      "Loss: ****           | 0/98 [00:00<?, ?it/s]"
     ]
    }
   ],
   "source": [
    "t = tqdm(enumerate(trainloader), desc='Loss: **** ', total=len(trainloader), bar_format='{desc}{bar}{r_bar}')"
   ]
  },
  {
   "cell_type": "code",
   "execution_count": 7,
   "metadata": {},
   "outputs": [
    {
     "name": "stderr",
     "output_type": "stream",
     "text": [
      "Loss: **** ██████████| 98/98 [00:11<00:00,  8.48it/s]\n"
     ]
    }
   ],
   "source": [
    "for batch_idx, (inputs, _, _) in t:\n",
    "        x1, x2 = inputs\n",
    "        x1, x2 = x1.to('cuda'), x2.to('cuda')"
   ]
  },
  {
   "cell_type": "code",
   "execution_count": 88,
   "metadata": {},
   "outputs": [
    {
     "data": {
      "text/plain": [
       "torch.Size([336, 3, 32, 32])"
      ]
     },
     "execution_count": 88,
     "metadata": {},
     "output_type": "execute_result"
    }
   ],
   "source": [
    "x1.size()"
   ]
  },
  {
   "cell_type": "code",
   "execution_count": 89,
   "metadata": {},
   "outputs": [
    {
     "data": {
      "text/plain": [
       "torch.Size([3, 32, 32])"
      ]
     },
     "execution_count": 89,
     "metadata": {},
     "output_type": "execute_result"
    }
   ],
   "source": [
    "x1[0].size()"
   ]
  },
  {
   "cell_type": "code",
   "execution_count": 90,
   "metadata": {},
   "outputs": [
    {
     "data": {
      "image/png": "[encoded data removed]",
      "text/plain": [
       "<Figure size 432x288 with 1 Axes>"
      ]
     },
     "metadata": {
      "needs_background": "light"
     },
     "output_type": "display_data"
    }
   ],
   "source": [
    "imshow(x1[0].to('cpu'))"
   ]
  },
  {
   "cell_type": "code",
   "execution_count": 91,
   "metadata": {},
   "outputs": [],
   "source": [
    "aug = DifferentiableColourDistortionByTorch(brightness=0.6, contrast=[0.5, 1.2], saturation=0.2, hue=0.3)"
   ]
  },
  {
   "cell_type": "code",
   "execution_count": 92,
   "metadata": {},
   "outputs": [
    {
     "data": {
      "text/plain": [
       "torch.Size([336, 3, 32, 32])"
      ]
     },
     "execution_count": 92,
     "metadata": {},
     "output_type": "execute_result"
    }
   ],
   "source": [
    "aug(x1).size()"
   ]
  },
  {
   "cell_type": "markdown",
   "metadata": {},
   "source": [
    "# Optimise code"
   ]
  },
  {
   "cell_type": "code",
   "execution_count": 93,
   "metadata": {},
   "outputs": [],
   "source": [
    "xu = torch.unbind(x1, dim=0)"
   ]
  },
  {
   "cell_type": "code",
   "execution_count": 94,
   "metadata": {},
   "outputs": [
    {
     "data": {
      "text/plain": [
       "torch.Size([336, 3, 32, 32])"
      ]
     },
     "execution_count": 94,
     "metadata": {},
     "output_type": "execute_result"
    }
   ],
   "source": [
    "torch.stack([adjust_saturation(x, saturation_factor = 0.3) for i,x in enumerate(xu)], dim = 0).size()"
   ]
  },
  {
   "cell_type": "code",
   "execution_count": 95,
   "metadata": {},
   "outputs": [
    {
     "data": {
      "text/plain": [
       "torch.Size([336, 3, 32, 32])"
      ]
     },
     "execution_count": 95,
     "metadata": {},
     "output_type": "execute_result"
    }
   ],
   "source": [
    "# Batch_blend\n",
    "x1.size()"
   ]
  },
  {
   "cell_type": "code",
   "execution_count": 96,
   "metadata": {},
   "outputs": [
    {
     "data": {
      "text/plain": [
       "torch.Size([336, 3, 32, 32])"
      ]
     },
     "execution_count": 96,
     "metadata": {},
     "output_type": "execute_result"
    }
   ],
   "source": [
    "torch.zeros_like(x1).size()"
   ]
  },
  {
   "cell_type": "code",
   "execution_count": 97,
   "metadata": {},
   "outputs": [],
   "source": [
    "B = x1.size()[0]"
   ]
  },
  {
   "cell_type": "code",
   "execution_count": 98,
   "metadata": {},
   "outputs": [],
   "source": [
    "brightness = [0.5,0.8]\n",
    "brightness_factor  = torch.torch.rand(B)*(brightness[1] - brightness[0]) + brightness[0]"
   ]
  },
  {
   "cell_type": "code",
   "execution_count": 99,
   "metadata": {},
   "outputs": [],
   "source": [
    "brightness_reshape = brightness_factor.reshape(B,1,1,1).to(x1.device)\n",
    "brightness_c_reshape = (1- brightness_factor).reshape(B,1,1,1).to(x1.device)"
   ]
  },
  {
   "cell_type": "code",
   "execution_count": 100,
   "metadata": {},
   "outputs": [
    {
     "data": {
      "text/plain": [
       "torch.Size([336, 1, 1, 1])"
      ]
     },
     "execution_count": 100,
     "metadata": {},
     "output_type": "execute_result"
    }
   ],
   "source": [
    "brightness_reshape.size()"
   ]
  },
  {
   "cell_type": "code",
   "execution_count": 101,
   "metadata": {},
   "outputs": [
    {
     "data": {
      "text/plain": [
       "tensor([[0.0118, 0.0510, 0.1490,  ..., 0.5843, 0.6549, 0.5569],\n",
       "        [0.1216, 0.0706, 0.0745,  ..., 0.6078, 0.6627, 0.5333],\n",
       "        [0.2667, 0.1765, 0.1059,  ..., 0.5961, 0.6392, 0.4510],\n",
       "        ...,\n",
       "        [0.0510, 0.0588, 0.0706,  ..., 0.4235, 0.4627, 0.4353],\n",
       "        [0.1020, 0.1137, 0.1373,  ..., 0.4431, 0.4353, 0.3843],\n",
       "        [0.1765, 0.1922, 0.2275,  ..., 0.3882, 0.3529, 0.3490]],\n",
       "       device='cuda:0')"
      ]
     },
     "execution_count": 101,
     "metadata": {},
     "output_type": "execute_result"
    }
   ],
   "source": [
    "x1[1][0]"
   ]
  },
  {
   "cell_type": "code",
   "execution_count": 102,
   "metadata": {},
   "outputs": [
    {
     "data": {
      "text/plain": [
       "tensor([[[0.5218]]], device='cuda:0')"
      ]
     },
     "execution_count": 102,
     "metadata": {},
     "output_type": "execute_result"
    }
   ],
   "source": [
    "brightness_reshape[1]"
   ]
  },
  {
   "cell_type": "markdown",
   "metadata": {},
   "source": [
    "# Batch adjust brightness"
   ]
  },
  {
   "cell_type": "code",
   "execution_count": 103,
   "metadata": {},
   "outputs": [],
   "source": [
    "# batch adjust brightness\n",
    "def batch_adjust_brightness(img: Tensor, brightness_bound: list) -> Tensor:\n",
    "    '''\n",
    "    Batch x C x H x  W -> Batch x C x H x W\n",
    "    '''\n",
    "    batch_size = img.size()[0]\n",
    "    brightness_list = torch.torch.rand(B)*(brightness_bound[1] - brightness_bound[0]) + brightness_bound[0]\n",
    "    brightness_factor = brightness_list.reshape(B,1,1,1).to(img.device)\n",
    "    return _blend(img, torch.zeros_like(img), brightness_factor)"
   ]
  },
  {
   "cell_type": "code",
   "execution_count": 104,
   "metadata": {},
   "outputs": [],
   "source": [
    "adjbn_x = batch_adjust_brightness(x1, brightness_bound = [0.3,2.0])"
   ]
  },
  {
   "cell_type": "code",
   "execution_count": 105,
   "metadata": {},
   "outputs": [
    {
     "data": {
      "image/png": "[encoded data removed]",
      "text/plain": [
       "<Figure size 432x288 with 1 Axes>"
      ]
     },
     "metadata": {
      "needs_background": "light"
     },
     "output_type": "display_data"
    },
    {
     "data": {
      "image/png": "[encoded data removed]",
      "text/plain": [
       "<Figure size 432x288 with 1 Axes>"
      ]
     },
     "metadata": {
      "needs_background": "light"
     },
     "output_type": "display_data"
    }
   ],
   "source": [
    "imshow(x1[0].to('cpu'))\n",
    "imshow(x1[1].to('cpu'))"
   ]
  },
  {
   "cell_type": "code",
   "execution_count": 106,
   "metadata": {},
   "outputs": [
    {
     "data": {
      "image/png": "[encoded data removed]",
      "text/plain": [
       "<Figure size 432x288 with 1 Axes>"
      ]
     },
     "metadata": {
      "needs_background": "light"
     },
     "output_type": "display_data"
    },
    {
     "data": {
      "image/png": "[encoded data removed]",
      "text/plain": [
       "<Figure size 432x288 with 1 Axes>"
      ]
     },
     "metadata": {
      "needs_background": "light"
     },
     "output_type": "display_data"
    }
   ],
   "source": [
    "imshow(adjbn_x[0].to('cpu'))\n",
    "imshow(adjbn_x[1].to('cpu'))"
   ]
  },
  {
   "cell_type": "markdown",
   "metadata": {},
   "source": [
    "# Batch gray scale"
   ]
  },
  {
   "cell_type": "code",
   "execution_count": 107,
   "metadata": {},
   "outputs": [],
   "source": [
    "def batch_rgb_to_grayscale(img: Tensor) -> Tensor:\n",
    "    '''\n",
    "    Batch x C x H x  W -> Batch x C x H x W\n",
    "    '''\n",
    "    if img.shape[1] != 3:\n",
    "        raise TypeError('Input Image does not contain 3 Channels')\n",
    "        \n",
    "    img_tp = img.transpose(0,1)\n",
    "    img_gray = (0.2989 * img_tp[0] + 0.5870 * img_tp[1] + 0.1140 * img_tp[2])\n",
    "    return img_gray"
   ]
  },
  {
   "cell_type": "code",
   "execution_count": 108,
   "metadata": {},
   "outputs": [
    {
     "data": {
      "text/plain": [
       "torch.Size([336, 3, 32, 32])"
      ]
     },
     "execution_count": 108,
     "metadata": {},
     "output_type": "execute_result"
    }
   ],
   "source": [
    "x1.size()"
   ]
  },
  {
   "cell_type": "code",
   "execution_count": 109,
   "metadata": {},
   "outputs": [],
   "source": [
    "x1.transpose(0,1).size() #permute color channel to be the first\n",
    "x_tp = x1.transpose(0,1)\n",
    "x_gray = (0.2989 * x_tp[0] + 0.5870 * x_tp[1] + 0.1140 * x_tp[2])"
   ]
  },
  {
   "cell_type": "code",
   "execution_count": 110,
   "metadata": {},
   "outputs": [
    {
     "data": {
      "text/plain": [
       "torch.Size([336, 1, 32, 32])"
      ]
     },
     "execution_count": 110,
     "metadata": {},
     "output_type": "execute_result"
    }
   ],
   "source": [
    "x_gray.unsqueeze(1).size()"
   ]
  },
  {
   "cell_type": "code",
   "execution_count": 111,
   "metadata": {},
   "outputs": [
    {
     "data": {
      "text/plain": [
       "torch.Size([336, 32, 32])"
      ]
     },
     "execution_count": 111,
     "metadata": {},
     "output_type": "execute_result"
    }
   ],
   "source": [
    "x_gray.size()"
   ]
  },
  {
   "cell_type": "code",
   "execution_count": 112,
   "metadata": {},
   "outputs": [],
   "source": [
    "x_gray = batch_rgb_to_grayscale(x1)"
   ]
  },
  {
   "cell_type": "code",
   "execution_count": 113,
   "metadata": {},
   "outputs": [
    {
     "data": {
      "text/plain": [
       "<matplotlib.image.AxesImage at 0x7fedc576e518>"
      ]
     },
     "execution_count": 113,
     "metadata": {},
     "output_type": "execute_result"
    },
    {
     "data": {
      "image/png": "[encoded data removed]",
      "text/plain": [
       "<Figure size 432x288 with 1 Axes>"
      ]
     },
     "metadata": {
      "needs_background": "light"
     },
     "output_type": "display_data"
    }
   ],
   "source": [
    "plt.imshow(x_gray[0].to('cpu'), cmap='gray')"
   ]
  },
  {
   "cell_type": "code",
   "execution_count": 114,
   "metadata": {},
   "outputs": [
    {
     "data": {
      "text/plain": [
       "<matplotlib.image.AxesImage at 0x7fed4271a1d0>"
      ]
     },
     "execution_count": 114,
     "metadata": {},
     "output_type": "execute_result"
    },
    {
     "data": {
      "image/png": "[encoded data removed]",
      "text/plain": [
       "<Figure size 432x288 with 1 Axes>"
      ]
     },
     "metadata": {
      "needs_background": "light"
     },
     "output_type": "display_data"
    }
   ],
   "source": [
    "plt.imshow(x_gray[1].to('cpu'), cmap='gray')"
   ]
  },
  {
   "cell_type": "markdown",
   "metadata": {},
   "source": [
    "# Batch Saturation"
   ]
  },
  {
   "cell_type": "code",
   "execution_count": 226,
   "metadata": {},
   "outputs": [],
   "source": [
    "# batch saturation brightness\n",
    "def batch_adjust_saturation(img: Tensor, saturation_bound: list) -> Tensor:\n",
    "    '''\n",
    "    Batch x C x H x  W -> Batch x C x H x W\n",
    "    '''\n",
    "    \n",
    "    batch_size = img.size()[0]\n",
    "    saturation_list = torch.torch.rand(B)*(saturation_bound[1] - saturation_bound[0]) + saturation_bound[0]\n",
    "    saturation_factor = saturation_list.reshape(B,1,1,1).to(img.device)\n",
    "#     print(saturation_factor.size())\n",
    "    \n",
    "    return _blend(img, batch_rgb_to_grayscale(img).unsqueeze(1), saturation_factor)"
   ]
  },
  {
   "cell_type": "code",
   "execution_count": 227,
   "metadata": {},
   "outputs": [],
   "source": [
    "adjsat_x = _blend(x1, batch_rgb_to_grayscale(x1).unsqueeze(1), 0.4)"
   ]
  },
  {
   "cell_type": "code",
   "execution_count": 228,
   "metadata": {},
   "outputs": [],
   "source": [
    "adjsat_x = batch_adjust_saturation(x1, saturation_bound = [0,0.5])"
   ]
  },
  {
   "cell_type": "code",
   "execution_count": 118,
   "metadata": {},
   "outputs": [
    {
     "data": {
      "text/plain": [
       "torch.Size([336, 3, 32, 32])"
      ]
     },
     "execution_count": 118,
     "metadata": {},
     "output_type": "execute_result"
    }
   ],
   "source": [
    "adjsat_x.size()"
   ]
  },
  {
   "cell_type": "code",
   "execution_count": 119,
   "metadata": {},
   "outputs": [
    {
     "data": {
      "image/png": "[encoded data removed]",
      "text/plain": [
       "<Figure size 432x288 with 1 Axes>"
      ]
     },
     "metadata": {
      "needs_background": "light"
     },
     "output_type": "display_data"
    }
   ],
   "source": [
    "imshow(adjsat_x[0].to('cpu'))"
   ]
  },
  {
   "cell_type": "code",
   "execution_count": 120,
   "metadata": {},
   "outputs": [
    {
     "data": {
      "image/png": "[encoded data removed]",
      "text/plain": [
       "<Figure size 432x288 with 1 Axes>"
      ]
     },
     "metadata": {
      "needs_background": "light"
     },
     "output_type": "display_data"
    }
   ],
   "source": [
    "imshow(x1[0].to('cpu'))"
   ]
  },
  {
   "cell_type": "code",
   "execution_count": 121,
   "metadata": {},
   "outputs": [
    {
     "data": {
      "image/png": "[encoded data removed]",
      "text/plain": [
       "<Figure size 432x288 with 1 Axes>"
      ]
     },
     "metadata": {
      "needs_background": "light"
     },
     "output_type": "display_data"
    }
   ],
   "source": [
    "imshow(adjsat_x[1].to('cpu'))"
   ]
  },
  {
   "cell_type": "code",
   "execution_count": 122,
   "metadata": {},
   "outputs": [
    {
     "data": {
      "image/png": "[encoded data removed]",
      "text/plain": [
       "<Figure size 432x288 with 1 Axes>"
      ]
     },
     "metadata": {
      "needs_background": "light"
     },
     "output_type": "display_data"
    }
   ],
   "source": [
    "imshow(x1[1].to('cpu'))"
   ]
  },
  {
   "cell_type": "code",
   "execution_count": 123,
   "metadata": {},
   "outputs": [
    {
     "data": {
      "text/plain": [
       "torch.Size([3, 32, 32])"
      ]
     },
     "execution_count": 123,
     "metadata": {},
     "output_type": "execute_result"
    }
   ],
   "source": [
    "test_pic.size()"
   ]
  },
  {
   "cell_type": "code",
   "execution_count": 124,
   "metadata": {},
   "outputs": [
    {
     "data": {
      "text/plain": [
       "torch.Size([32, 32])"
      ]
     },
     "execution_count": 124,
     "metadata": {},
     "output_type": "execute_result"
    }
   ],
   "source": [
    "rgb_to_grayscale(test_pic).size()"
   ]
  },
  {
   "cell_type": "code",
   "execution_count": 125,
   "metadata": {},
   "outputs": [
    {
     "data": {
      "text/plain": [
       "torch.Size([3, 32, 32])"
      ]
     },
     "execution_count": 125,
     "metadata": {},
     "output_type": "execute_result"
    }
   ],
   "source": [
    "test_pic.size()"
   ]
  },
  {
   "cell_type": "code",
   "execution_count": 126,
   "metadata": {},
   "outputs": [
    {
     "data": {
      "text/plain": [
       "tensor([[[0.3819, 0.3929, 0.4062,  ..., 0.4493, 0.3515, 0.3024],\n",
       "         [0.3619, 0.3682, 0.3752,  ..., 0.4473, 0.3515, 0.3024],\n",
       "         [0.3243, 0.3213, 0.3154,  ..., 0.4434, 0.3495, 0.3044],\n",
       "         ...,\n",
       "         [0.4224, 0.3373, 0.1689,  ..., 0.2261, 0.3625, 0.4296],\n",
       "         [0.3631, 0.2997, 0.1731,  ..., 0.2541, 0.3983, 0.4713],\n",
       "         [0.3216, 0.2738, 0.1750,  ..., 0.2691, 0.4133, 0.4895]],\n",
       "\n",
       "        [[0.3701, 0.4059, 0.4697,  ..., 0.4504, 0.3550, 0.3071],\n",
       "         [0.3843, 0.4094, 0.4575,  ..., 0.4473, 0.3550, 0.3071],\n",
       "         [0.4043, 0.4107, 0.4271,  ..., 0.4434, 0.3519, 0.3079],\n",
       "         ...,\n",
       "         [0.4353, 0.3538, 0.1913,  ..., 0.2814, 0.4119, 0.4766],\n",
       "         [0.3808, 0.3197, 0.1978,  ..., 0.3153, 0.4536, 0.5231],\n",
       "         [0.3404, 0.2950, 0.2009,  ..., 0.3326, 0.4710, 0.5460]],\n",
       "\n",
       "        [[0.3301, 0.3588, 0.4121,  ..., 0.4516, 0.3574, 0.3095],\n",
       "         [0.3395, 0.3612, 0.4034,  ..., 0.4485, 0.3574, 0.3095],\n",
       "         [0.3502, 0.3613, 0.3801,  ..., 0.4446, 0.3543, 0.3103],\n",
       "         ...,\n",
       "         [0.4400, 0.3562, 0.1878,  ..., 0.2755, 0.4096, 0.4755],\n",
       "         [0.3843, 0.3209, 0.1955,  ..., 0.3047, 0.4466, 0.5172],\n",
       "         [0.3428, 0.2950, 0.1986,  ..., 0.3197, 0.4616, 0.5354]]])"
      ]
     },
     "execution_count": 126,
     "metadata": {},
     "output_type": "execute_result"
    }
   ],
   "source": [
    "_blend(test_pic, rgb_to_grayscale(test_pic), 0.3)"
   ]
  },
  {
   "cell_type": "markdown",
   "metadata": {},
   "source": [
    "# Adjust contrast"
   ]
  },
  {
   "cell_type": "code",
   "execution_count": 127,
   "metadata": {},
   "outputs": [
    {
     "data": {
      "text/plain": [
       "torch.Size([3, 32, 32])"
      ]
     },
     "execution_count": 127,
     "metadata": {},
     "output_type": "execute_result"
    }
   ],
   "source": [
    "test_pic.size()"
   ]
  },
  {
   "cell_type": "code",
   "execution_count": 128,
   "metadata": {},
   "outputs": [
    {
     "data": {
      "text/plain": [
       "tensor(0.4868)"
      ]
     },
     "execution_count": 128,
     "metadata": {},
     "output_type": "execute_result"
    }
   ],
   "source": [
    "torch.mean((rgb_to_grayscale(test_pic)))"
   ]
  },
  {
   "cell_type": "code",
   "execution_count": 129,
   "metadata": {},
   "outputs": [
    {
     "data": {
      "text/plain": [
       "tensor(0.4868)"
      ]
     },
     "execution_count": 129,
     "metadata": {},
     "output_type": "execute_result"
    }
   ],
   "source": [
    "torch.mean((rgb_to_grayscale(test_pic).to(torch.float)))"
   ]
  },
  {
   "cell_type": "code",
   "execution_count": 130,
   "metadata": {},
   "outputs": [
    {
     "data": {
      "text/plain": [
       "torch.Size([336, 32, 32])"
      ]
     },
     "execution_count": 130,
     "metadata": {},
     "output_type": "execute_result"
    }
   ],
   "source": [
    "batch_rgb = batch_rgb_to_grayscale(x1)\n",
    "batch_rgb.size()"
   ]
  },
  {
   "cell_type": "code",
   "execution_count": 131,
   "metadata": {},
   "outputs": [
    {
     "data": {
      "text/plain": [
       "torch.Size([336])"
      ]
     },
     "execution_count": 131,
     "metadata": {},
     "output_type": "execute_result"
    }
   ],
   "source": [
    "torch.mean(batch_rgb.view(batch_rgb.shape[0],-1), dim = 1).size()"
   ]
  },
  {
   "cell_type": "code",
   "execution_count": 132,
   "metadata": {},
   "outputs": [],
   "source": [
    "mean = torch.mean(batch_rgb.view(batch_rgb.shape[0],-1), dim = 1)"
   ]
  },
  {
   "cell_type": "code",
   "execution_count": 133,
   "metadata": {},
   "outputs": [
    {
     "data": {
      "text/plain": [
       "torch.Size([336, 1, 1, 1])"
      ]
     },
     "execution_count": 133,
     "metadata": {},
     "output_type": "execute_result"
    }
   ],
   "source": [
    "mean.reshape([mean.size()[0],1,1,1]).size()"
   ]
  },
  {
   "cell_type": "code",
   "execution_count": 134,
   "metadata": {},
   "outputs": [
    {
     "data": {
      "text/plain": [
       "torch.Size([336, 3, 32, 32])"
      ]
     },
     "execution_count": 134,
     "metadata": {},
     "output_type": "execute_result"
    }
   ],
   "source": [
    "_blend(x1, mean.reshape([mean.size()[0],1,1,1]),  2).size()"
   ]
  },
  {
   "cell_type": "code",
   "execution_count": 135,
   "metadata": {},
   "outputs": [],
   "source": [
    "def batch_adjust_contrast(img: Tensor, contrast_bound: float) -> Tensor:\n",
    "    '''\n",
    "    Batch x C x H x  W -> Batch x C x H x W\n",
    "    '''\n",
    "    batch_size = img.size()[0]\n",
    "    contrast_list = torch.torch.rand(B)*(contrast_bound[1] - contrast_bound[0]) + contrast_bound[0]\n",
    "    contrast_list = contrast_list.reshape(B,1,1,1).to(img.device)\n",
    "    \n",
    "    #mean for each pic (over HxW points)\n",
    "    img_gray = batch_rgb_to_grayscale(img)\n",
    "    mean = torch.mean(img_gray.view(img_gray.shape[0],-1), dim = 1)\n",
    "    \n",
    "    \n",
    "    return _blend(img, mean.reshape([mean.size()[0],1,1,1]),  contrast_list)\n",
    "    "
   ]
  },
  {
   "cell_type": "code",
   "execution_count": 136,
   "metadata": {},
   "outputs": [],
   "source": [
    "adjcon_x = batch_adjust_contrast(x1, contrast_bound = [1.3,1.7])"
   ]
  },
  {
   "cell_type": "code",
   "execution_count": 137,
   "metadata": {},
   "outputs": [
    {
     "data": {
      "image/png": "[encoded data removed]",
      "text/plain": [
       "<Figure size 432x288 with 1 Axes>"
      ]
     },
     "metadata": {
      "needs_background": "light"
     },
     "output_type": "display_data"
    }
   ],
   "source": [
    "imshow(adjcon_x[2].to('cpu'))"
   ]
  },
  {
   "cell_type": "code",
   "execution_count": 138,
   "metadata": {},
   "outputs": [
    {
     "data": {
      "image/png": "[encoded data removed]",
      "text/plain": [
       "<Figure size 432x288 with 1 Axes>"
      ]
     },
     "metadata": {
      "needs_background": "light"
     },
     "output_type": "display_data"
    }
   ],
   "source": [
    "imshow(x1[2].to('cpu'))"
   ]
  },
  {
   "cell_type": "code",
   "execution_count": 139,
   "metadata": {},
   "outputs": [
    {
     "data": {
      "image/png": "[encoded data removed]",
      "text/plain": [
       "<Figure size 432x288 with 1 Axes>"
      ]
     },
     "metadata": {
      "needs_background": "light"
     },
     "output_type": "display_data"
    }
   ],
   "source": [
    "imshow(adjcon_x[1].to('cpu'))"
   ]
  },
  {
   "cell_type": "code",
   "execution_count": 140,
   "metadata": {},
   "outputs": [
    {
     "data": {
      "image/png": "[encoded data removed]",
      "text/plain": [
       "<Figure size 432x288 with 1 Axes>"
      ]
     },
     "metadata": {
      "needs_background": "light"
     },
     "output_type": "display_data"
    }
   ],
   "source": [
    "imshow(x1[1].to('cpu'))"
   ]
  },
  {
   "cell_type": "markdown",
   "metadata": {},
   "source": [
    "# Batch adjust Hue"
   ]
  },
  {
   "cell_type": "markdown",
   "metadata": {},
   "source": [
    "adjusting hue is quite complicated so I will just apply it n times"
   ]
  },
  {
   "cell_type": "code",
   "execution_count": 141,
   "metadata": {},
   "outputs": [],
   "source": [
    "def batch_adjust_hue(img: Tensor, hue_bound: float) -> Tensor:\n",
    "    '''\n",
    "    Batch x C x H x  W -> Batch x C x H x W\n",
    "    '''\n",
    "    batch_size = img.size()[0]\n",
    "    hue_list = torch.torch.rand(B)*(hue_bound[1] - hue_bound[0]) + hue_bound[0]\n",
    "    hue_list = hue_list.to(x1.device)\n",
    "    \n",
    "    #unbind\n",
    "    img_u = torch.unbind(img, dim = 0)\n",
    "    \n",
    "    \n",
    "    return torch.stack([adjust_hue(img_i, hue_list[i]) for i, img_i in enumerate(img_u)], dim = 0)"
   ]
  },
  {
   "cell_type": "code",
   "execution_count": 142,
   "metadata": {},
   "outputs": [],
   "source": [
    "xu = torch.unbind(x1, dim = 0)\n",
    "img = x1\n",
    "hue_bound = [-0.5,0.5]\n",
    "batch_size = img.size()[0]\n",
    "hue_list = torch.torch.rand(B)*(hue_bound[1] - hue_bound[0]) + hue_bound[0]\n",
    "hue_list = hue_list.to(x1.device)\n",
    "# hue_list = hue_list.reshape(B,1,1,1).to(img.device)"
   ]
  },
  {
   "cell_type": "code",
   "execution_count": 143,
   "metadata": {},
   "outputs": [
    {
     "data": {
      "text/plain": [
       "torch.Size([336, 3, 32, 32])"
      ]
     },
     "execution_count": 143,
     "metadata": {},
     "output_type": "execute_result"
    }
   ],
   "source": [
    "x1.size()"
   ]
  },
  {
   "cell_type": "code",
   "execution_count": 144,
   "metadata": {},
   "outputs": [
    {
     "data": {
      "text/plain": [
       "tensor(-0.1896, device='cuda:0')"
      ]
     },
     "execution_count": 144,
     "metadata": {},
     "output_type": "execute_result"
    }
   ],
   "source": [
    "hue_list[0]"
   ]
  },
  {
   "cell_type": "code",
   "execution_count": 145,
   "metadata": {},
   "outputs": [],
   "source": [
    "adjhue_x = torch.stack([adjust_hue(x_i, hue_list[i]) for i, x_i in enumerate(xu)], dim = 0)"
   ]
  },
  {
   "cell_type": "code",
   "execution_count": 146,
   "metadata": {},
   "outputs": [
    {
     "data": {
      "text/plain": [
       "torch.Size([336, 3, 32, 32])"
      ]
     },
     "execution_count": 146,
     "metadata": {},
     "output_type": "execute_result"
    }
   ],
   "source": [
    "adjhue_x.size()"
   ]
  },
  {
   "cell_type": "code",
   "execution_count": 147,
   "metadata": {},
   "outputs": [],
   "source": [
    "adjhue_x = batch_adjust_hue(x1, hue_bound = [-0.5,0.5])"
   ]
  },
  {
   "cell_type": "code",
   "execution_count": 148,
   "metadata": {},
   "outputs": [
    {
     "data": {
      "image/png": "[encoded data removed]",
      "text/plain": [
       "<Figure size 432x288 with 1 Axes>"
      ]
     },
     "metadata": {
      "needs_background": "light"
     },
     "output_type": "display_data"
    }
   ],
   "source": [
    "imshow(adjhue_x[2].to('cpu'))"
   ]
  },
  {
   "cell_type": "code",
   "execution_count": 149,
   "metadata": {},
   "outputs": [
    {
     "data": {
      "image/png": "[encoded data removed]",
      "text/plain": [
       "<Figure size 432x288 with 1 Axes>"
      ]
     },
     "metadata": {
      "needs_background": "light"
     },
     "output_type": "display_data"
    }
   ],
   "source": [
    "imshow(x1[2].to('cpu'))"
   ]
  },
  {
   "cell_type": "code",
   "execution_count": 150,
   "metadata": {},
   "outputs": [
    {
     "data": {
      "image/png": "[encoded data removed]",
      "text/plain": [
       "<Figure size 432x288 with 1 Axes>"
      ]
     },
     "metadata": {
      "needs_background": "light"
     },
     "output_type": "display_data"
    }
   ],
   "source": [
    "imshow(adjhue_x[0].to('cpu'))"
   ]
  },
  {
   "cell_type": "code",
   "execution_count": 151,
   "metadata": {},
   "outputs": [
    {
     "data": {
      "image/png": "[encoded data removed]",
      "text/plain": [
       "<Figure size 432x288 with 1 Axes>"
      ]
     },
     "metadata": {
      "needs_background": "light"
     },
     "output_type": "display_data"
    }
   ],
   "source": [
    "imshow(x1[0].to('cpu'))"
   ]
  },
  {
   "cell_type": "markdown",
   "metadata": {},
   "source": [
    "# Combine into batch color distortion"
   ]
  },
  {
   "cell_type": "code",
   "execution_count": 19,
   "metadata": {},
   "outputs": [],
   "source": [
    "class DifferentiableColourDistortionByTorch2(nn.Module):\n",
    "    \n",
    "    def __init__(self, brightness=0, contrast=0, saturation=0, hue=0):\n",
    "        super().__init__()\n",
    "        self.brightness = self._check_input(brightness, 'brightness')\n",
    "        self.contrast = self._check_input(contrast, 'contrast')\n",
    "        self.saturation = self._check_input(saturation, 'saturation')\n",
    "        self.hue = self._check_input(hue, 'hue', center=0, bound=(-0.5, 0.5),\n",
    "                                     clip_first_on_zero=False)\n",
    "\n",
    "\n",
    "    def _check_input(self, value, name, center=1, bound=(0, float('inf')), clip_first_on_zero=True):\n",
    "        if isinstance(value, numbers.Number):\n",
    "            if value < 0:\n",
    "                raise ValueError(\"If {} is a single number, it must be non negative.\".format(name))\n",
    "            value = [center - float(value), center + float(value)]\n",
    "            if clip_first_on_zero:\n",
    "                value[0] = max(value[0], 0.0)\n",
    "        elif isinstance(value, (tuple, list)) and len(value) == 2:\n",
    "            if not bound[0] <= value[0] <= value[1] <= bound[1]:\n",
    "                raise ValueError(\"{} values should be between {}\".format(name, bound))\n",
    "        else:\n",
    "            raise TypeError(\"{} should be a single number or a list/tuple with lenght 2.\".format(name))\n",
    "\n",
    "        # if value is 0 or (1., 1.) for brightness/contrast/saturation\n",
    "        # or (0., 0.) for hue, do nothing\n",
    "        if value[0] == value[1] == center:\n",
    "            value = None\n",
    "        return value\n",
    "    \n",
    "    #### batch color augmentation forward #####\n",
    "    \n",
    "    def forward(self, x):\n",
    "        '''\n",
    "        Args:\n",
    "            x: Input tensor batchsize x 32 x 32\n",
    "        \n",
    "        Returns:\n",
    "            x_aug : color jittered image\n",
    "            \n",
    "        apply color jitter with prob 0.8\n",
    "        apply random grayscale with prob 0.2\n",
    "        \n",
    "        '''\n",
    "        batch_size = x.size()[0]\n",
    "        \n",
    "        p_jitter = torch.ones(batch_size) * 0.8\n",
    "        jitter = torch.bernoulli(p_jitter)\n",
    "        jitter = jitter.reshape(batch_size,1,1,1)\n",
    "\n",
    "        p_gray = torch.ones(batch_size)* 0.2\n",
    "        gray = torch.bernoulli(p_gray)\n",
    "        gray = gray.reshape(batch_size,1,1,1)\n",
    "\n",
    "        jitter = jitter.to(x.device)\n",
    "        gray = gray.to(x.device)\n",
    "        \n",
    "        #random color jitter\n",
    "        x_jitter = self.batch_colourjitter(x)\n",
    "        x = x_jitter * jitter + x *(1-jitter)\n",
    "        \n",
    "        #random gray scale\n",
    "        x_gray = self.batch_rgb_to_grayscale(x).unsqueeze(1)\n",
    "#         print(x_gray.size())\n",
    "#         print(gray.size())\n",
    "        x = x_gray * gray + x* (1-gray)\n",
    "       \n",
    "        return x\n",
    "    \n",
    "    \n",
    "    def batch_colourjitter(self, img: Tensor) -> Tensor:\n",
    "        \n",
    "        fn_idx = torch.randperm(4)\n",
    "        for fn_id in fn_idx:\n",
    "            if fn_id == 0 and self.brightness is not None:\n",
    "                brightness_bound = self.brightness\n",
    "                img = self.batch_adjust_brightness(img, brightness_bound)\n",
    "\n",
    "            if fn_id == 1 and self.contrast is not None:\n",
    "                contrast_bound = self.contrast\n",
    "                img = self.batch_adjust_contrast(img, contrast_bound)\n",
    "\n",
    "            if fn_id == 2 and self.saturation is not None:\n",
    "                saturation_bound = self.saturation\n",
    "                img = self.batch_adjust_saturation(img, saturation_bound)\n",
    "\n",
    "            if fn_id == 3 and self.hue is not None:\n",
    "                hue_bound = self.hue\n",
    "                img = self.batch_adjust_hue(img, hue_bound)\n",
    "\n",
    "        return img\n",
    "        \n",
    "\n",
    "    def __repr__(self):\n",
    "        format_string = self.__class__.__name__ + '('\n",
    "        format_string += 'brightness={0}'.format(self.brightness)\n",
    "        format_string += ', contrast={0}'.format(self.contrast)\n",
    "        format_string += ', saturation={0}'.format(self.saturation)\n",
    "        format_string += ', hue={0})'.format(self.hue)\n",
    "        return format_string\n",
    "                \n",
    "    ##### function from pytorch source code #####\n",
    "    def _is_tensor_a_torch_image(self, x: Tensor) -> bool:\n",
    "        return x.ndim >= 2\n",
    "    \n",
    "    def _blend(self, img1: Tensor, img2: Tensor, ratio: float) -> Tensor:\n",
    "        bound = 1 if img1.dtype in [torch.half, torch.float32, torch.float64] else 255\n",
    "        return (ratio * img1 + (1 - ratio) * img2).clamp(0, bound).to(img1.dtype)\n",
    "    \n",
    "    # batch adjust brightness\n",
    "    def batch_adjust_brightness(self,img: Tensor, brightness_bound: list) -> Tensor:\n",
    "        '''\n",
    "        Batch x C x H x  W -> Batch x C x H x W\n",
    "        '''\n",
    "        B = img.size()[0]\n",
    "        brightness_list = torch.torch.rand(B)*(brightness_bound[1] - brightness_bound[0]) + brightness_bound[0]\n",
    "        brightness_factor = brightness_list.reshape(B,1,1,1).to(img.device)\n",
    "        return self._blend(img, torch.zeros_like(img), brightness_factor)\n",
    "    \n",
    "    def batch_rgb_to_grayscale(self,img: Tensor) -> Tensor:\n",
    "        '''\n",
    "        Batch x C x H x  W -> Batch x C x H x W\n",
    "        '''\n",
    "        if img.shape[1] != 3:\n",
    "            raise TypeError('Input Image does not contain 3 Channels')\n",
    "\n",
    "        img_tp = img.transpose(0,1)\n",
    "        img_gray = (0.2989 * img_tp[0] + 0.5870 * img_tp[1] + 0.1140 * img_tp[2])\n",
    "        return img_gray\n",
    "    \n",
    "    def batch_adjust_saturation(self,img: Tensor, saturation_bound: list) -> Tensor:\n",
    "        '''\n",
    "        Batch x C x H x  W -> Batch x C x H x W\n",
    "        '''\n",
    "\n",
    "        B = img.size()[0]\n",
    "        saturation_list = torch.torch.rand(B)*(saturation_bound[1] - saturation_bound[0]) + saturation_bound[0]\n",
    "        saturation_factor = saturation_list.reshape(B,1,1,1).to(img.device)\n",
    "    #     print(saturation_factor.size())\n",
    "\n",
    "        return self._blend(img, self.batch_rgb_to_grayscale(img).unsqueeze(1), saturation_factor)\n",
    "    \n",
    "    def batch_adjust_contrast(self,img: Tensor, contrast_bound: float) -> Tensor:\n",
    "        '''\n",
    "        Batch x C x H x  W -> Batch x C x H x W\n",
    "        '''\n",
    "        B = img.size()[0]\n",
    "        contrast_list = torch.torch.rand(B)*(contrast_bound[1] - contrast_bound[0]) + contrast_bound[0]\n",
    "        contrast_list = contrast_list.reshape(B,1,1,1).to(img.device)\n",
    "\n",
    "        #mean for each pic (over HxW points)\n",
    "        img_gray = self.batch_rgb_to_grayscale(img)\n",
    "        mean = torch.mean(img_gray.view(img_gray.shape[0],-1), dim = 1)\n",
    "\n",
    "\n",
    "        return self._blend(img, mean.reshape([mean.size()[0],1,1,1]),  contrast_list)\n",
    "    \n",
    "    def batch_adjust_hue(self, img: Tensor, hue_bound: float) -> Tensor:\n",
    "        '''\n",
    "        Batch x C x H x  W -> Batch x C x H x W\n",
    "        '''\n",
    "        B = img.size()[0]\n",
    "        hue_list = torch.torch.rand(B)*(hue_bound[1] - hue_bound[0]) + hue_bound[0]\n",
    "        hue_list = hue_list.to(img.device)\n",
    "\n",
    "        #unbind\n",
    "        img_u = torch.unbind(img, dim = 0)\n",
    "\n",
    "\n",
    "        return torch.stack([self.adjust_hue(img_i, hue_list[i]) for i, img_i in enumerate(img_u)], dim = 0)\n",
    "    \n",
    "    \n",
    "    def _rgb2hsv(self, img):\n",
    "        r, g, b = img.unbind(0)\n",
    "\n",
    "        maxc = torch.max(img, dim=0).values\n",
    "        minc = torch.min(img, dim=0).values\n",
    "\n",
    "        # The algorithm erases S and H channel where `maxc = minc`. This avoids NaN\n",
    "        # from happening in the results, because\n",
    "        #   + S channel has division by `maxc`, which is zero only if `maxc = minc`\n",
    "        #   + H channel has division by `(maxc - minc)`.\n",
    "        #\n",
    "        # Instead of overwriting NaN afterwards, we just prevent it from occuring so\n",
    "        # we don't need to deal with it in case we save the NaN in a buffer in\n",
    "        # backprop, if it is ever supported, but it doesn't hurt to do so.\n",
    "        eqc = maxc == minc\n",
    "\n",
    "        cr = maxc - minc\n",
    "        # Since `eqc => cr = 0`, replacing denominator with 1 when `eqc` is fine.\n",
    "        s = cr / torch.where(eqc, maxc.new_ones(()), maxc)\n",
    "        # Note that `eqc => maxc = minc = r = g = b`. So the following calculation\n",
    "        # of `h` would reduce to `bc - gc + 2 + rc - bc + 4 + rc - bc = 6` so it\n",
    "        # would not matter what values `rc`, `gc`, and `bc` have here, and thus\n",
    "        # replacing denominator with 1 when `eqc` is fine.\n",
    "        cr_divisor = torch.where(eqc, maxc.new_ones(()), cr)\n",
    "        rc = (maxc - r) / cr_divisor\n",
    "        gc = (maxc - g) / cr_divisor\n",
    "        bc = (maxc - b) / cr_divisor\n",
    "\n",
    "    #     hr = (maxc == r) * (bc - gc)\n",
    "    #     hg = ((maxc == g) & (maxc != r)) * (2.0 + rc - bc)\n",
    "    #     hb = ((maxc != g) & (maxc != r)) * (4.0 + gc - rc)   \n",
    "        hr = (maxc == r).float() * (bc - gc)\n",
    "        hg = ((maxc == g) & (maxc != r)).float() * (2.0 + rc - bc)\n",
    "        hb = ((maxc != g) & (maxc != r)).float() * (4.0 + gc - rc)\n",
    "        h = (hr + hg + hb)\n",
    "        h = torch.fmod((h / 6.0 + 1.0), 1.0)\n",
    "        return torch.stack((h, s, maxc))\n",
    "    \n",
    "    def _hsv2rgb(self, img):\n",
    "        h, s, v = img.unbind(0)\n",
    "        i = torch.floor(h * 6.0)\n",
    "        f = (h * 6.0) - i\n",
    "        i = i.to(dtype=torch.int32)\n",
    "\n",
    "        p = torch.clamp((v * (1.0 - s)), 0.0, 1.0)\n",
    "        q = torch.clamp((v * (1.0 - s * f)), 0.0, 1.0)\n",
    "        t = torch.clamp((v * (1.0 - s * (1.0 - f))), 0.0, 1.0)\n",
    "        i = i % 6\n",
    "\n",
    "    #     mask = i == torch.arange(6)[:, None, None]\n",
    "        mask = (i == torch.arange(6)[:, None, None].to(img.device).int())\n",
    "        a1 = torch.stack((v, q, p, p, t, v))\n",
    "        a2 = torch.stack((t, v, v, q, p, p))\n",
    "        a3 = torch.stack((p, p, t, v, v, q))\n",
    "        a4 = torch.stack((a1, a2, a3))\n",
    "\n",
    "        return torch.einsum(\"ijk, xijk -> xjk\", mask.to(dtype=img.dtype), a4)\n",
    "    \n",
    "    def adjust_hue(self, img, hue_factor):\n",
    "\n",
    "        if not (-0.5 <= hue_factor <= 0.5):\n",
    "            raise ValueError('hue_factor ({}) is not in [-0.5, 0.5].'.format(hue_factor))\n",
    "\n",
    "        if not self._is_tensor_a_torch_image(img):\n",
    "            raise TypeError('tensor is not a torch image.')\n",
    "\n",
    "        orig_dtype = img.dtype\n",
    "        if img.dtype == torch.uint8:\n",
    "            img = img.to(dtype=torch.float32) / 255.0\n",
    "\n",
    "        img = self._rgb2hsv(img)\n",
    "        h, s, v = img.unbind(0)\n",
    "        h += hue_factor\n",
    "        h = h % 1.0\n",
    "        img = torch.stack((h, s, v))\n",
    "        img_hue_adj = self._hsv2rgb(img)\n",
    "\n",
    "        if orig_dtype == torch.uint8:\n",
    "            img_hue_adj = (img_hue_adj * 255.0).to(dtype=orig_dtype)\n",
    "\n",
    "        return img_hue_adj\n",
    "    \n",
    "   "
   ]
  },
  {
   "cell_type": "code",
   "execution_count": 20,
   "metadata": {},
   "outputs": [],
   "source": [
    "aug = DifferentiableColourDistortionByTorch2(brightness=0.8, contrast=0.8, saturation=0.8, hue=0.2)"
   ]
  },
  {
   "cell_type": "code",
   "execution_count": 21,
   "metadata": {},
   "outputs": [
    {
     "data": {
      "text/plain": [
       "torch.Size([336, 3, 32, 32])"
      ]
     },
     "execution_count": 21,
     "metadata": {},
     "output_type": "execute_result"
    }
   ],
   "source": [
    "aug(x1).size()"
   ]
  },
  {
   "cell_type": "code",
   "execution_count": 14,
   "metadata": {},
   "outputs": [],
   "source": [
    "aug_x1 = aug(x1)\n"
   ]
  },
  {
   "cell_type": "code",
   "execution_count": 30,
   "metadata": {},
   "outputs": [
    {
     "data": {
      "image/png": "[encoded data removed]",
      "text/plain": [
       "<Figure size 432x288 with 1 Axes>"
      ]
     },
     "metadata": {
      "needs_background": "light"
     },
     "output_type": "display_data"
    }
   ],
   "source": [
    "imshow(x1[7].to('cpu'))"
   ]
  },
  {
   "cell_type": "code",
   "execution_count": 31,
   "metadata": {},
   "outputs": [
    {
     "data": {
      "image/png": "[encoded data removed]",
      "text/plain": [
       "<Figure size 432x288 with 1 Axes>"
      ]
     },
     "metadata": {
      "needs_background": "light"
     },
     "output_type": "display_data"
    }
   ],
   "source": [
    "imshow(aug_x1[7].to('cpu'))"
   ]
  },
  {
   "cell_type": "code",
   "execution_count": 16,
   "metadata": {},
   "outputs": [
    {
     "data": {
      "image/png": "[encoded data removed]",
      "text/plain": [
       "<Figure size 432x288 with 1 Axes>"
      ]
     },
     "metadata": {
      "needs_background": "light"
     },
     "output_type": "display_data"
    }
   ],
   "source": [
    "imshow(aug_x1[1].to('cpu'))"
   ]
  },
  {
   "cell_type": "code",
   "execution_count": 17,
   "metadata": {},
   "outputs": [
    {
     "data": {
      "image/png": "[encoded data removed]",
      "text/plain": [
       "<Figure size 432x288 with 1 Axes>"
      ]
     },
     "metadata": {
      "needs_background": "light"
     },
     "output_type": "display_data"
    }
   ],
   "source": [
    "imshow(aug_x1[2].to('cpu'))"
   ]
  },
  {
   "cell_type": "code",
   "execution_count": 18,
   "metadata": {},
   "outputs": [
    {
     "data": {
      "image/png": "[encoded data removed]",
      "text/plain": [
       "<Figure size 432x288 with 1 Axes>"
      ]
     },
     "metadata": {
      "needs_background": "light"
     },
     "output_type": "display_data"
    }
   ],
   "source": [
    "imshow(aug_x1[3].to('cpu'))"
   ]
  },
  {
   "cell_type": "markdown",
   "metadata": {},
   "source": [
    "# normalise !!"
   ]
  },
  {
   "cell_type": "code",
   "execution_count": 152,
   "metadata": {},
   "outputs": [],
   "source": [
    "#### Mean _std for normalising after augmentation ####\n",
    "CACHED_MEAN_STD = {\n",
    "        'cifar10': ((0.4914, 0.4822, 0.4465), (0.2023, 0.1994, 0.2010)),\n",
    "        'cifar100': ((0.5071, 0.4865, 0.4409), (0.2009, 0.1984, 0.2023)),\n",
    "        'stl10': ((0.4409, 0.4279, 0.3868), (0.2309, 0.2262, 0.2237)),\n",
    "        'imagenet': ((0.485, 0.456, 0.406), (0.229, 0.224, 0.225))\n",
    "    }\n",
    "\n",
    "normalise = transforms.Compose([\n",
    "        transforms.ToTensor(),\n",
    "        transforms.Normalize(*CACHED_MEAN_STD[dataset]),\n",
    "    ])"
   ]
  },
  {
   "cell_type": "code",
   "execution_count": 153,
   "metadata": {},
   "outputs": [],
   "source": [
    "x1_aug = aug(x1)"
   ]
  },
  {
   "cell_type": "code",
   "execution_count": 154,
   "metadata": {},
   "outputs": [
    {
     "data": {
      "text/plain": [
       "torch.Size([336, 3, 32, 32])"
      ]
     },
     "execution_count": 154,
     "metadata": {},
     "output_type": "execute_result"
    }
   ],
   "source": [
    "x1_aug.size()"
   ]
  },
  {
   "cell_type": "code",
   "execution_count": 155,
   "metadata": {},
   "outputs": [],
   "source": [
    "mean = CACHED_MEAN_STD[dataset][0]\n",
    "std = CACHED_MEAN_STD[dataset][1]"
   ]
  },
  {
   "cell_type": "code",
   "execution_count": 156,
   "metadata": {},
   "outputs": [
    {
     "data": {
      "text/plain": [
       "tensor([[[0.4914, 0.4914, 0.4914,  ..., 0.4914, 0.4914, 0.4914],\n",
       "         [0.4914, 0.4914, 0.4914,  ..., 0.4914, 0.4914, 0.4914],\n",
       "         [0.4914, 0.4914, 0.4914,  ..., 0.4914, 0.4914, 0.4914],\n",
       "         ...,\n",
       "         [0.4914, 0.4914, 0.4914,  ..., 0.4914, 0.4914, 0.4914],\n",
       "         [0.4914, 0.4914, 0.4914,  ..., 0.4914, 0.4914, 0.4914],\n",
       "         [0.4914, 0.4914, 0.4914,  ..., 0.4914, 0.4914, 0.4914]],\n",
       "\n",
       "        [[0.4822, 0.4822, 0.4822,  ..., 0.4822, 0.4822, 0.4822],\n",
       "         [0.4822, 0.4822, 0.4822,  ..., 0.4822, 0.4822, 0.4822],\n",
       "         [0.4822, 0.4822, 0.4822,  ..., 0.4822, 0.4822, 0.4822],\n",
       "         ...,\n",
       "         [0.4822, 0.4822, 0.4822,  ..., 0.4822, 0.4822, 0.4822],\n",
       "         [0.4822, 0.4822, 0.4822,  ..., 0.4822, 0.4822, 0.4822],\n",
       "         [0.4822, 0.4822, 0.4822,  ..., 0.4822, 0.4822, 0.4822]],\n",
       "\n",
       "        [[0.4465, 0.4465, 0.4465,  ..., 0.4465, 0.4465, 0.4465],\n",
       "         [0.4465, 0.4465, 0.4465,  ..., 0.4465, 0.4465, 0.4465],\n",
       "         [0.4465, 0.4465, 0.4465,  ..., 0.4465, 0.4465, 0.4465],\n",
       "         ...,\n",
       "         [0.4465, 0.4465, 0.4465,  ..., 0.4465, 0.4465, 0.4465],\n",
       "         [0.4465, 0.4465, 0.4465,  ..., 0.4465, 0.4465, 0.4465],\n",
       "         [0.4465, 0.4465, 0.4465,  ..., 0.4465, 0.4465, 0.4465]]])"
      ]
     },
     "execution_count": 156,
     "metadata": {},
     "output_type": "execute_result"
    }
   ],
   "source": [
    "torch.stack([torch.tensor(mean[i]).repeat(32,32) for i in range(3)], dim = 0)"
   ]
  },
  {
   "cell_type": "code",
   "execution_count": 157,
   "metadata": {},
   "outputs": [
    {
     "data": {
      "text/plain": [
       "torch.Size([336, 3, 32, 32])"
      ]
     },
     "execution_count": 157,
     "metadata": {},
     "output_type": "execute_result"
    }
   ],
   "source": [
    "torch.stack([torch.tensor(mean[i]).repeat(32,32) for i in range(3)], dim = 0).repeat(336,1,1,1).size()"
   ]
  },
  {
   "cell_type": "code",
   "execution_count": 158,
   "metadata": {},
   "outputs": [],
   "source": [
    "mean_batch = torch.stack([torch.tensor(mean[i]).repeat(32,32) for i in range(3)], dim = 0).repeat(336,1,1,1)\n",
    "std_batch = torch.stack([torch.tensor(std[i]).repeat(32,32) for i in range(3)], dim = 0).repeat(336,1,1,1)"
   ]
  },
  {
   "cell_type": "code",
   "execution_count": 159,
   "metadata": {},
   "outputs": [
    {
     "data": {
      "text/plain": [
       "torch.Size([336, 3, 32, 32])"
      ]
     },
     "execution_count": 159,
     "metadata": {},
     "output_type": "execute_result"
    }
   ],
   "source": [
    "x1_aug.size()"
   ]
  },
  {
   "cell_type": "code",
   "execution_count": null,
   "metadata": {},
   "outputs": [],
   "source": []
  },
  {
   "cell_type": "code",
   "execution_count": 160,
   "metadata": {},
   "outputs": [
    {
     "data": {
      "text/plain": [
       "torch.Size([336, 3, 32, 32])"
      ]
     },
     "execution_count": 160,
     "metadata": {},
     "output_type": "execute_result"
    }
   ],
   "source": [
    "x1_aug.size()"
   ]
  },
  {
   "cell_type": "code",
   "execution_count": 161,
   "metadata": {},
   "outputs": [],
   "source": [
    "B = x1_aug.size()[0]\n",
    "C = x1_aug.size()[1]\n",
    "H = x1_aug.size()[2]\n",
    "W = x1_aug.size()[3]"
   ]
  },
  {
   "cell_type": "code",
   "execution_count": 162,
   "metadata": {},
   "outputs": [
    {
     "data": {
      "text/plain": [
       "32"
      ]
     },
     "execution_count": 162,
     "metadata": {},
     "output_type": "execute_result"
    }
   ],
   "source": [
    "H"
   ]
  },
  {
   "cell_type": "code",
   "execution_count": 163,
   "metadata": {},
   "outputs": [],
   "source": [
    "mean_batch = torch.stack([torch.tensor(mean[i]).repeat(H,W) for i in range(C)], dim = 0).repeat(B,1,1,1)\n",
    "std_batch = torch.stack([torch.tensor(std[i]).repeat(H,W) for i in range(C)], dim = 0).repeat(B,1,1,1)\n",
    "mean_batch = mean_batch.to(x1_aug.device)\n",
    "std_batch = std_batch.to(x1_aug.device)"
   ]
  },
  {
   "cell_type": "code",
   "execution_count": 164,
   "metadata": {},
   "outputs": [
    {
     "ename": "TypeError",
     "evalue": "unsupported operand type(s) for /: 'tuple' and 'tuple'",
     "output_type": "error",
     "traceback": [
      "\u001b[0;31m---------------------------------------------------------------------------\u001b[0m",
      "\u001b[0;31mTypeError\u001b[0m                                 Traceback (most recent call last)",
      "\u001b[0;32m<ipython-input-164-3152aba2e5d0>\u001b[0m in \u001b[0;36m<module>\u001b[0;34m\u001b[0m\n\u001b[0;32m----> 1\u001b[0;31m \u001b[0;34m(\u001b[0m\u001b[0mmean\u001b[0m\u001b[0;34m/\u001b[0m\u001b[0mstd\u001b[0m\u001b[0;34m)\u001b[0m\u001b[0;34m.\u001b[0m\u001b[0msize\u001b[0m\u001b[0;34m(\u001b[0m\u001b[0;34m)\u001b[0m\u001b[0;34m\u001b[0m\u001b[0;34m\u001b[0m\u001b[0m\n\u001b[0m",
      "\u001b[0;31mTypeError\u001b[0m: unsupported operand type(s) for /: 'tuple' and 'tuple'"
     ]
    }
   ],
   "source": [
    "(mean/std).size()"
   ]
  },
  {
   "cell_type": "code",
   "execution_count": null,
   "metadata": {},
   "outputs": [],
   "source": [
    "normx1 = (x1_aug - mean_batch)/std_batch"
   ]
  },
  {
   "cell_type": "code",
   "execution_count": null,
   "metadata": {},
   "outputs": [],
   "source": [
    "normx1.size()"
   ]
  },
  {
   "cell_type": "code",
   "execution_count": null,
   "metadata": {},
   "outputs": [],
   "source": [
    "def ManualNormalise(x, dataset):\n",
    "    CACHED_MEAN_STD = {\n",
    "        'cifar10': ((0.4914, 0.4822, 0.4465), (0.2023, 0.1994, 0.2010)),\n",
    "        'cifar100': ((0.5071, 0.4865, 0.4409), (0.2009, 0.1984, 0.2023)),\n",
    "        'stl10': ((0.4409, 0.4279, 0.3868), (0.2309, 0.2262, 0.2237)),\n",
    "        'imagenet': ((0.485, 0.456, 0.406), (0.229, 0.224, 0.225))\n",
    "    }\n",
    "    \n",
    "    mean = CACHED_MEAN_STD[dataset][0]\n",
    "    std = CACHED_MEAN_STD[dataset][1]\n",
    "    \n",
    "    #batch x channel x height x wide\n",
    "    B = x.size()[0]\n",
    "    C = x.size()[1]\n",
    "    H = x.size()[2]\n",
    "    W = x.size()[3]\n",
    "    \n",
    "    #create a matrix\n",
    "    mean_batch = torch.stack([torch.tensor(mean[i]).repeat(H,W) for i in range(C)], dim = 0).repeat(B,1,1,1)\n",
    "    std_batch = torch.stack([torch.tensor(std[i]).repeat(H,W) for i in range(C)], dim = 0).repeat(B,1,1,1)\n",
    "    mean_batch = mean_batch.to(x.device)\n",
    "    std_batch = std_batch.to(x.device)\n",
    "    \n",
    "    norm_x = (x - mean_batch)/std_batch\n",
    "    \n",
    "    return norm_x\n",
    "    \n",
    "    "
   ]
  },
  {
   "cell_type": "markdown",
   "metadata": {},
   "source": [
    "end"
   ]
  },
  {
   "cell_type": "code",
   "execution_count": 209,
   "metadata": {},
   "outputs": [],
   "source": [
    "B = x1.size()[0]\n",
    "p_jitter = torch.ones(B) * 0.8\n",
    "jitter = torch.bernoulli(p_jitter)\n",
    "jitter = jitter.reshape(B,1,1,1)\n",
    "\n",
    "p_gray = torch.ones(B)* 0.2\n",
    "gray = torch.bernoulli(p_gray)\n",
    "gray = gray.reshape(B,1,1,1)\n",
    "\n",
    "jitter = jitter.to(x1.device)\n",
    "gray = gray.to(x1.device)"
   ]
  },
  {
   "cell_type": "code",
   "execution_count": 203,
   "metadata": {},
   "outputs": [
    {
     "data": {
      "text/plain": [
       "torch.Size([336, 3, 32, 32])"
      ]
     },
     "execution_count": 203,
     "metadata": {},
     "output_type": "execute_result"
    }
   ],
   "source": [
    "x1.size()"
   ]
  },
  {
   "cell_type": "code",
   "execution_count": 212,
   "metadata": {},
   "outputs": [],
   "source": [
    "x1_adjbrightness = batch_adjust_brightness(x1, brightness_bound = [0.1,0.2])"
   ]
  },
  {
   "cell_type": "code",
   "execution_count": 214,
   "metadata": {},
   "outputs": [],
   "source": [
    "x1_randombn = x1_adjbrightness * jitter + x1 *(1-jitter)"
   ]
  },
  {
   "cell_type": "code",
   "execution_count": 217,
   "metadata": {},
   "outputs": [
    {
     "data": {
      "image/png": "[encoded data removed]",
      "text/plain": [
       "<Figure size 432x288 with 1 Axes>"
      ]
     },
     "metadata": {
      "needs_background": "light"
     },
     "output_type": "display_data"
    }
   ],
   "source": [
    "imshow(x1_randombn[12].to('cpu'))"
   ]
  },
  {
   "cell_type": "code",
   "execution_count": 218,
   "metadata": {},
   "outputs": [
    {
     "data": {
      "image/png": "[encoded data removed]",
      "text/plain": [
       "<Figure size 432x288 with 1 Axes>"
      ]
     },
     "metadata": {
      "needs_background": "light"
     },
     "output_type": "display_data"
    }
   ],
   "source": [
    "imshow(x1[12].to('cpu'))"
   ]
  },
  {
   "cell_type": "code",
   "execution_count": 216,
   "metadata": {},
   "outputs": [
    {
     "data": {
      "image/png": "[encoded data removed]",
      "text/plain": [
       "<Figure size 432x288 with 1 Axes>"
      ]
     },
     "metadata": {
      "needs_background": "light"
     },
     "output_type": "display_data"
    }
   ],
   "source": [
    "imshow(x1_randombn[13].to('cpu'))"
   ]
  },
  {
   "cell_type": "code",
   "execution_count": 219,
   "metadata": {},
   "outputs": [
    {
     "data": {
      "image/png": "[encoded data removed]",
      "text/plain": [
       "<Figure size 432x288 with 1 Axes>"
      ]
     },
     "metadata": {
      "needs_background": "light"
     },
     "output_type": "display_data"
    }
   ],
   "source": [
    "imshow(x1[13].to('cpu'))"
   ]
  },
  {
   "cell_type": "code",
   "execution_count": null,
   "metadata": {},
   "outputs": [],
   "source": []
  }
 ],
 "metadata": {
  "kernelspec": {
   "display_name": "Python 3",
   "language": "python",
   "name": "python3"
  },
  "language_info": {
   "codemirror_mode": {
    "name": "ipython",
    "version": 3
   },
   "file_extension": ".py",
   "mimetype": "text/x-python",
   "name": "python",
   "nbconvert_exporter": "python",
   "pygments_lexer": "ipython3",
   "version": "3.6.8"
  }
 },
 "nbformat": 4,
 "nbformat_minor": 4
}

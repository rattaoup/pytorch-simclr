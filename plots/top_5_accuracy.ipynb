{
 "cells": [
  {
   "cell_type": "code",
   "execution_count": 6,
   "metadata": {},
   "outputs": [],
   "source": [
    "'''This script tunes the L2 reg weight of the final classifier.'''\n",
    "import argparse\n",
    "import os\n",
    "import math\n",
    "\n",
    "import torch\n",
    "import torch.backends.cudnn as cudnn\n",
    "\n",
    "from configs import get_datasets\n",
    "from evaluate import encode_train_set, train_clf, test\n",
    "from models import *\n",
    "from tqdm import tqdm\n",
    "import numpy as np"
   ]
  },
  {
   "cell_type": "code",
   "execution_count": 7,
   "metadata": {},
   "outputs": [],
   "source": [
    "import warnings\n",
    "warnings.filterwarnings(\"ignore\")"
   ]
  },
  {
   "cell_type": "code",
   "execution_count": 8,
   "metadata": {},
   "outputs": [],
   "source": [
    "def test_topk(testloader, device, net, clf, k):\n",
    "    criterion = nn.CrossEntropyLoss()\n",
    "    net.eval()\n",
    "    clf.eval()\n",
    "    test_clf_loss = 0\n",
    "    correct = 0\n",
    "    total = 0\n",
    "    topk_acc = np.zeros(k)\n",
    "    with torch.no_grad():\n",
    "        t = tqdm(enumerate(testloader), total=len(testloader), desc='Loss: **** | Test Acc: ****% ',\n",
    "                 bar_format='{desc}{bar}{r_bar}')\n",
    "        for batch_idx, (inputs, targets) in t:\n",
    "            inputs, targets = inputs.to(device), targets.to(device)\n",
    "            representation = net(inputs)\n",
    "            # test_repr_loss = criterion(representation, targets)\n",
    "            raw_scores = clf(representation)\n",
    "            clf_loss = criterion(raw_scores, targets)\n",
    "\n",
    "            test_clf_loss += clf_loss.item()\n",
    "            _, predicted = raw_scores.topk(k, 1, True, True)\n",
    "            total += targets.size(0)\n",
    "            correct += predicted.eq(targets.unsqueeze(-1).expand_as(predicted)).sum().item()\n",
    "            \n",
    "            \n",
    "            correct_ = predicted.eq(targets.unsqueeze(-1).expand_as(predicted))\n",
    "            for i in range(1,k+1):\n",
    "                topk_acc[i-1] += correct_[:,:i].sum().item()\n",
    "\n",
    "            t.set_description('Loss: %.3f | Test Acc: %.3f%% ' % (test_clf_loss / (batch_idx + 1), 100. * correct / total))\n",
    "    topk_acc = 100.* topk_acc/ total\n",
    "    acc = 100. * correct / total\n",
    "    return topk_acc, test_clf_loss / len(testloader)\n",
    "#     return raw_scores, targets"
   ]
  },
  {
   "cell_type": "code",
   "execution_count": 9,
   "metadata": {},
   "outputs": [],
   "source": [
    "def cal_topk_accuracy(file, k):\n",
    "    load_from = file\n",
    "    num_workers = 2\n",
    "    device = 'cuda' if torch.cuda.is_available() else 'cpu'\n",
    "    dataset = 'cifar10'\n",
    "    arch = 'resnet18'\n",
    "\n",
    "    print('==> Preparing data..')\n",
    "    _, testset, clftrainset, num_classes, stem = get_datasets(dataset)\n",
    "\n",
    "    testloader = torch.utils.data.DataLoader(testset, batch_size=1000, shuffle=False, num_workers=num_workers,\n",
    "                                             pin_memory=True)\n",
    "    clftrainloader = torch.utils.data.DataLoader(clftrainset, batch_size=1000, shuffle=False, num_workers=num_workers,\n",
    "                                                 pin_memory=True)\n",
    "\n",
    "    assert os.path.isdir('checkpoint'), 'Error: no checkpoint directory found!'\n",
    "    resume_from = os.path.join('./checkpoint', load_from)\n",
    "    checkpoint = torch.load(resume_from)\n",
    "    \n",
    "    if arch == 'resnet18':\n",
    "        net = ResNet18(stem=stem)\n",
    "    elif arch == 'resnet34':\n",
    "        net = ResNet34(stem=stem)\n",
    "    elif archh == 'resnet50':\n",
    "        net = ResNet50(stem=stem)\n",
    "    else:\n",
    "        raise ValueError(\"Bad architecture specification\")\n",
    "    net = net.to(device)\n",
    "\n",
    "    if device == 'cuda':\n",
    "        repr_dim = net.representation_dim\n",
    "        net = torch.nn.DataParallel(net)\n",
    "        net.representation_dim = repr_dim\n",
    "        cudnn.benchmark = True\n",
    "\n",
    "    print('==> Loading encoder from checkpoint..')\n",
    "    net.load_state_dict(checkpoint['net'])\n",
    "    \n",
    "    best_acc = 0\n",
    "    X, y = encode_train_set(clftrainloader, device, net)\n",
    "    clf = train_clf(X, y, net.representation_dim, num_classes, device, reg_weight=1e-5)\n",
    "    \n",
    "    ##### test #####\n",
    "    acc,test_loss = test_topk(testloader, device, net, clf, k)\n",
    "    \n",
    "    return acc, test_loss"
   ]
  },
  {
   "cell_type": "code",
   "execution_count": 10,
   "metadata": {},
   "outputs": [
    {
     "name": "stdout",
     "output_type": "stream",
     "text": [
      "==> Preparing data..\n",
      "Files already downloaded and verified\n",
      "Files already downloaded and verified\n",
      "Files already downloaded and verified\n",
      "==> Loading encoder from checkpoint..\n"
     ]
    },
    {
     "name": "stderr",
     "output_type": "stream",
     "text": [
      "Encoded 49/50: ██████████| 50/50 [00:07<00:00,  6.85it/s]\n",
      "Loss: 0.488 | Train Acc: 82.762% :           | 0/500 [00:00<?, ?it/s]"
     ]
    },
    {
     "name": "stdout",
     "output_type": "stream",
     "text": [
      "\n",
      "L2 Regularization weight: 1e-05\n"
     ]
    },
    {
     "name": "stderr",
     "output_type": "stream",
     "text": [
      "Loss: 0.329 | Train Acc: 88.492% : ██████████| 500/500 [00:15<00:00, 32.85it/s] \n",
      "Loss: 0.428 | Test Acc: 99.500% : ██████████| 10/10 [00:01<00:00,  5.66it/s]\n"
     ]
    },
    {
     "data": {
      "text/plain": [
       "(array([84.9 , 94.43, 97.39, 98.85, 99.5 ]), 0.4278107464313507)"
      ]
     },
     "execution_count": 10,
     "metadata": {},
     "output_type": "execute_result"
    }
   ],
   "source": [
    "cal_topk_accuracy('inv-gp-0_run2_epoch199.pth', 5)"
   ]
  },
  {
   "cell_type": "code",
   "execution_count": 11,
   "metadata": {},
   "outputs": [
    {
     "name": "stdout",
     "output_type": "stream",
     "text": [
      "==> Preparing data..\n",
      "Files already downloaded and verified\n",
      "Files already downloaded and verified\n",
      "Files already downloaded and verified\n",
      "==> Loading encoder from checkpoint..\n"
     ]
    },
    {
     "name": "stderr",
     "output_type": "stream",
     "text": [
      "Encoded 49/50: ██████████| 50/50 [00:07<00:00,  6.86it/s]\n",
      "Loss: 0.726 | Train Acc: 75.288% :           | 0/500 [00:00<?, ?it/s]"
     ]
    },
    {
     "name": "stdout",
     "output_type": "stream",
     "text": [
      "\n",
      "L2 Regularization weight: 1e-05\n"
     ]
    },
    {
     "name": "stderr",
     "output_type": "stream",
     "text": [
      "Loss: 0.326 | Train Acc: 88.744% : ██████████| 500/500 [01:23<00:00,  5.98it/s]\n",
      "Loss: 0.405 | Test Acc: 99.600% : ██████████| 10/10 [00:01<00:00,  5.56it/s]\n"
     ]
    },
    {
     "data": {
      "text/plain": [
       "(array([85.81, 94.78, 97.75, 99.12, 99.6 ]), 0.4046896308660507)"
      ]
     },
     "execution_count": 11,
     "metadata": {},
     "output_type": "execute_result"
    }
   ],
   "source": [
    "cal_topk_accuracy('inv-gp-1_norm_run2_epoch199.pth', 5)"
   ]
  },
  {
   "cell_type": "code",
   "execution_count": 12,
   "metadata": {},
   "outputs": [
    {
     "name": "stdout",
     "output_type": "stream",
     "text": [
      "==> Preparing data..\n",
      "Files already downloaded and verified\n",
      "Files already downloaded and verified\n",
      "Files already downloaded and verified\n",
      "==> Loading encoder from checkpoint..\n"
     ]
    },
    {
     "name": "stderr",
     "output_type": "stream",
     "text": [
      "Encoded 49/50: ██████████| 50/50 [00:07<00:00,  6.91it/s]\n",
      "Loss: 0.462 | Train Acc: 83.598% :           | 0/500 [00:00<?, ?it/s]"
     ]
    },
    {
     "name": "stdout",
     "output_type": "stream",
     "text": [
      "\n",
      "L2 Regularization weight: 1e-05\n"
     ]
    },
    {
     "name": "stderr",
     "output_type": "stream",
     "text": [
      "Loss: 0.323 | Train Acc: 88.774% : ██████████| 500/500 [00:17<00:00, 28.71it/s] \n",
      "Loss: 0.434 | Test Acc: 99.440% : ██████████| 10/10 [00:01<00:00,  5.67it/s]\n"
     ]
    },
    {
     "name": "stdout",
     "output_type": "stream",
     "text": [
      "==> Preparing data..\n",
      "Files already downloaded and verified\n",
      "Files already downloaded and verified\n",
      "Files already downloaded and verified\n",
      "==> Loading encoder from checkpoint..\n"
     ]
    },
    {
     "name": "stderr",
     "output_type": "stream",
     "text": [
      "Encoded 49/50: ██████████| 50/50 [00:07<00:00,  6.86it/s]\n",
      "Loss: 0.488 | Train Acc: 82.840% :           | 0/500 [00:00<?, ?it/s]"
     ]
    },
    {
     "name": "stdout",
     "output_type": "stream",
     "text": [
      "\n",
      "L2 Regularization weight: 1e-05\n"
     ]
    },
    {
     "name": "stderr",
     "output_type": "stream",
     "text": [
      "Loss: 0.329 | Train Acc: 88.498% : ██████████| 500/500 [00:16<00:00, 30.33it/s] \n",
      "Loss: 0.428 | Test Acc: 99.500% : ██████████| 10/10 [00:01<00:00,  5.53it/s]\n"
     ]
    },
    {
     "name": "stdout",
     "output_type": "stream",
     "text": [
      "==> Preparing data..\n",
      "Files already downloaded and verified\n",
      "Files already downloaded and verified\n",
      "Files already downloaded and verified\n",
      "==> Loading encoder from checkpoint..\n"
     ]
    },
    {
     "name": "stderr",
     "output_type": "stream",
     "text": [
      "Encoded 49/50: ██████████| 50/50 [00:07<00:00,  6.80it/s]\n",
      "Loss: 0.437 | Train Acc: 84.496% :           | 1/500 [00:00<01:10,  7.05it/s]"
     ]
    },
    {
     "name": "stdout",
     "output_type": "stream",
     "text": [
      "\n",
      "L2 Regularization weight: 1e-05\n"
     ]
    },
    {
     "name": "stderr",
     "output_type": "stream",
     "text": [
      "Loss: 0.319 | Train Acc: 88.892% : ██████████| 500/500 [00:15<00:00, 32.18it/s] \n",
      "Loss: 0.422 | Test Acc: 99.480% : ██████████| 10/10 [00:01<00:00,  5.64it/s]\n"
     ]
    },
    {
     "name": "stdout",
     "output_type": "stream",
     "text": [
      "==> Preparing data..\n",
      "Files already downloaded and verified\n",
      "Files already downloaded and verified\n",
      "Files already downloaded and verified\n",
      "==> Loading encoder from checkpoint..\n"
     ]
    },
    {
     "name": "stderr",
     "output_type": "stream",
     "text": [
      "Encoded 49/50: ██████████| 50/50 [00:07<00:00,  6.90it/s]\n",
      "Loss: 0.445 | Train Acc: 84.384% :           | 0/500 [00:00<?, ?it/s]"
     ]
    },
    {
     "name": "stdout",
     "output_type": "stream",
     "text": [
      "\n",
      "L2 Regularization weight: 1e-05\n"
     ]
    },
    {
     "name": "stderr",
     "output_type": "stream",
     "text": [
      "Loss: 0.320 | Train Acc: 88.978% : ██████████| 500/500 [00:15<00:00, 32.84it/s] \n",
      "Loss: 0.421 | Test Acc: 99.420% : ██████████| 10/10 [00:01<00:00,  5.52it/s]\n"
     ]
    },
    {
     "name": "stdout",
     "output_type": "stream",
     "text": [
      "==> Preparing data..\n",
      "Files already downloaded and verified\n",
      "Files already downloaded and verified\n",
      "Files already downloaded and verified\n",
      "==> Loading encoder from checkpoint..\n"
     ]
    },
    {
     "name": "stderr",
     "output_type": "stream",
     "text": [
      "Encoded 49/50: ██████████| 50/50 [00:07<00:00,  6.91it/s]\n",
      "Loss: 0.459 | Train Acc: 83.924% :           | 0/500 [00:00<?, ?it/s]"
     ]
    },
    {
     "name": "stdout",
     "output_type": "stream",
     "text": [
      "\n",
      "L2 Regularization weight: 1e-05\n"
     ]
    },
    {
     "name": "stderr",
     "output_type": "stream",
     "text": [
      "Loss: 0.316 | Train Acc: 88.990% : ██████████| 500/500 [00:15<00:00, 32.18it/s] \n",
      "Loss: 0.424 | Test Acc: 99.460% : ██████████| 10/10 [00:01<00:00,  5.50it/s]\n"
     ]
    },
    {
     "name": "stdout",
     "output_type": "stream",
     "text": [
      "==> Preparing data..\n",
      "Files already downloaded and verified\n",
      "Files already downloaded and verified\n",
      "Files already downloaded and verified\n",
      "==> Loading encoder from checkpoint..\n"
     ]
    },
    {
     "name": "stderr",
     "output_type": "stream",
     "text": [
      "Encoded 49/50: ██████████| 50/50 [00:07<00:00,  6.88it/s]\n",
      "Loss: 0.744 | Train Acc: 74.342% :           | 0/500 [00:00<?, ?it/s]"
     ]
    },
    {
     "name": "stdout",
     "output_type": "stream",
     "text": [
      "\n",
      "L2 Regularization weight: 1e-05\n"
     ]
    },
    {
     "name": "stderr",
     "output_type": "stream",
     "text": [
      "Loss: 0.335 | Train Acc: 88.692% : ██████████| 500/500 [01:35<00:00,  5.26it/s]\n",
      "Loss: 0.413 | Test Acc: 99.500% : ██████████| 10/10 [00:01<00:00,  5.51it/s]\n"
     ]
    },
    {
     "name": "stdout",
     "output_type": "stream",
     "text": [
      "==> Preparing data..\n",
      "Files already downloaded and verified\n",
      "Files already downloaded and verified\n",
      "Files already downloaded and verified\n",
      "==> Loading encoder from checkpoint..\n"
     ]
    },
    {
     "name": "stderr",
     "output_type": "stream",
     "text": [
      "Encoded 49/50: ██████████| 50/50 [00:07<00:00,  6.85it/s]\n",
      "Loss: 0.753 | Train Acc: 74.572% :           | 0/500 [00:00<?, ?it/s]"
     ]
    },
    {
     "name": "stdout",
     "output_type": "stream",
     "text": [
      "\n",
      "L2 Regularization weight: 1e-05\n"
     ]
    },
    {
     "name": "stderr",
     "output_type": "stream",
     "text": [
      "Loss: 0.326 | Train Acc: 88.740% : ██████████| 500/500 [01:31<00:00,  5.48it/s]\n",
      "Loss: 0.405 | Test Acc: 99.600% : ██████████| 10/10 [00:01<00:00,  5.48it/s]\n"
     ]
    },
    {
     "name": "stdout",
     "output_type": "stream",
     "text": [
      "==> Preparing data..\n",
      "Files already downloaded and verified\n",
      "Files already downloaded and verified\n",
      "Files already downloaded and verified\n",
      "==> Loading encoder from checkpoint..\n"
     ]
    },
    {
     "name": "stderr",
     "output_type": "stream",
     "text": [
      "Encoded 49/50: ██████████| 50/50 [00:07<00:00,  6.82it/s]\n",
      "Loss: 0.778 | Train Acc: 73.736% :           | 0/500 [00:00<?, ?it/s]"
     ]
    },
    {
     "name": "stdout",
     "output_type": "stream",
     "text": [
      "\n",
      "L2 Regularization weight: 1e-05\n"
     ]
    },
    {
     "name": "stderr",
     "output_type": "stream",
     "text": [
      "Loss: 0.335 | Train Acc: 88.516% : ██████████| 500/500 [01:28<00:00,  5.63it/s]\n",
      "Loss: 0.423 | Test Acc: 99.560% : ██████████| 10/10 [00:01<00:00,  5.73it/s]\n"
     ]
    },
    {
     "name": "stdout",
     "output_type": "stream",
     "text": [
      "==> Preparing data..\n",
      "Files already downloaded and verified\n",
      "Files already downloaded and verified\n",
      "Files already downloaded and verified\n",
      "==> Loading encoder from checkpoint..\n"
     ]
    },
    {
     "name": "stderr",
     "output_type": "stream",
     "text": [
      "Encoded 49/50: ██████████| 50/50 [00:07<00:00,  6.83it/s]\n",
      "Loss: 0.753 | Train Acc: 74.006% :           | 0/500 [00:00<?, ?it/s]"
     ]
    },
    {
     "name": "stdout",
     "output_type": "stream",
     "text": [
      "\n",
      "L2 Regularization weight: 1e-05\n"
     ]
    },
    {
     "name": "stderr",
     "output_type": "stream",
     "text": [
      "Loss: 0.338 | Train Acc: 88.562% : ██████████| 500/500 [01:36<00:00,  5.20it/s]\n",
      "Loss: 0.424 | Test Acc: 99.570% : ██████████| 10/10 [00:01<00:00,  5.76it/s]\n"
     ]
    },
    {
     "name": "stdout",
     "output_type": "stream",
     "text": [
      "==> Preparing data..\n",
      "Files already downloaded and verified\n",
      "Files already downloaded and verified\n",
      "Files already downloaded and verified\n",
      "==> Loading encoder from checkpoint..\n"
     ]
    },
    {
     "name": "stderr",
     "output_type": "stream",
     "text": [
      "Encoded 49/50: ██████████| 50/50 [00:07<00:00,  6.87it/s]\n",
      "Loss: 0.741 | Train Acc: 74.860% :           | 0/500 [00:00<?, ?it/s]"
     ]
    },
    {
     "name": "stdout",
     "output_type": "stream",
     "text": [
      "\n",
      "L2 Regularization weight: 1e-05\n"
     ]
    },
    {
     "name": "stderr",
     "output_type": "stream",
     "text": [
      "Loss: 0.333 | Train Acc: 88.534% : ██████████| 500/500 [01:49<00:00,  4.57it/s]\n",
      "Loss: 0.416 | Test Acc: 99.470% : ██████████| 10/10 [00:01<00:00,  5.77it/s]\n"
     ]
    }
   ],
   "source": [
    "base_topk_acc = []\n",
    "for file in ['inv-gp-0_run1_epoch199.pth','inv-gp-0_run2_epoch199.pth','inv-gp-0_run3_epoch199.pth','inv-gp-0_run4_epoch199.pth','inv-gp-0_run5_epoch199.pth']:\n",
    "    acc, test_loss = cal_topk_accuracy(file, 5)\n",
    "    base_topk_acc.append(acc)\n",
    "base_topk_acc = np.stack(base_topk_acc)\n",
    "\n",
    "\n",
    "gp_topk_acc = []\n",
    "for file in  ['inv-gp-1_norm_run1_epoch199.pth','inv-gp-1_norm_run2_epoch199.pth','inv-gp-1_norm_run3_epoch199.pth', 'inv-gp-1_norm_run4_epoch199.pth','inv-gp-1_norm_run5_epoch199.pth']:\n",
    "    acc, test_loss = cal_topk_accuracy(file, 5)\n",
    "    gp_topk_acc.append(acc)\n",
    "gp_topk_acc = np.stack(gp_topk_acc)\n"
   ]
  },
  {
   "cell_type": "code",
   "execution_count": 13,
   "metadata": {},
   "outputs": [
    {
     "data": {
      "text/plain": [
       "array([[85.18, 94.27, 97.28, 98.69, 99.44],\n",
       "       [84.91, 94.43, 97.37, 98.84, 99.5 ],\n",
       "       [85.43, 94.7 , 97.38, 99.  , 99.48],\n",
       "       [85.79, 94.63, 97.51, 98.9 , 99.42],\n",
       "       [85.5 , 94.64, 97.51, 98.84, 99.46]])"
      ]
     },
     "execution_count": 13,
     "metadata": {},
     "output_type": "execute_result"
    }
   ],
   "source": [
    "base_topk_acc"
   ]
  },
  {
   "cell_type": "code",
   "execution_count": 35,
   "metadata": {},
   "outputs": [
    {
     "name": "stdout",
     "output_type": "stream",
     "text": [
      "[85.362 94.534 97.41  98.854 99.46 ]\n",
      "[0.13330866 0.07169937 0.03969887 0.0450422  0.01264911]\n"
     ]
    }
   ],
   "source": [
    "print(base_topk_acc.mean(axis = 0))\n",
    "print(base_topk_acc.std(axis = 0)/np.sqrt(5))"
   ]
  },
  {
   "cell_type": "code",
   "execution_count": 34,
   "metadata": {},
   "outputs": [
    {
     "name": "stdout",
     "output_type": "stream",
     "text": [
      "[85.466 94.782 97.664 98.972 99.54 ]\n",
      "[0.14842102 0.08155489 0.07405944 0.04265208 0.02135416]\n"
     ]
    }
   ],
   "source": [
    "print(gp_topk_acc.mean(axis = 0))\n",
    "print(gp_topk_acc.std(axis = 0)/np.sqrt(5))"
   ]
  },
  {
   "cell_type": "code",
   "execution_count": 14,
   "metadata": {},
   "outputs": [
    {
     "data": {
      "text/plain": [
       "array([[85.82, 94.89, 97.93, 99.02, 99.5 ],\n",
       "       [85.8 , 94.79, 97.74, 99.12, 99.6 ],\n",
       "       [84.99, 94.69, 97.49, 98.97, 99.56],\n",
       "       [85.18, 94.5 , 97.49, 98.91, 99.57],\n",
       "       [85.54, 95.04, 97.67, 98.84, 99.47]])"
      ]
     },
     "execution_count": 14,
     "metadata": {},
     "output_type": "execute_result"
    }
   ],
   "source": [
    "gp_topk_acc"
   ]
  },
  {
   "cell_type": "code",
   "execution_count": 20,
   "metadata": {},
   "outputs": [
    {
     "data": {
      "text/plain": [
       "array([85.466, 94.782, 97.664, 98.972, 99.54 ])"
      ]
     },
     "execution_count": 20,
     "metadata": {},
     "output_type": "execute_result"
    }
   ],
   "source": [
    "gp_topk_acc.mean(axis = 0)"
   ]
  },
  {
   "cell_type": "code",
   "execution_count": null,
   "metadata": {},
   "outputs": [],
   "source": []
  },
  {
   "cell_type": "code",
   "execution_count": 15,
   "metadata": {},
   "outputs": [],
   "source": [
    "import matplotlib.pyplot as plt"
   ]
  },
  {
   "cell_type": "code",
   "execution_count": 32,
   "metadata": {},
   "outputs": [
    {
     "data": {
      "image/png": "[encoded data removed]",
      "text/plain": [
       "<Figure size 900x600 with 1 Axes>"
      ]
     },
     "metadata": {
      "needs_background": "light"
     },
     "output_type": "display_data"
    }
   ],
   "source": [
    "plt.figure( dpi = 150)\n",
    "plt.scatter([i for i in range(5)], base_topk_acc.mean(axis = 0), label = 'baseline')\n",
    "plt.scatter([i for i in range(5)], gp_topk_acc.mean(axis = 0), label = 'gp with norm')\n",
    "plt.ylabel('accuracy')\n",
    "plt.xlabel('k')\n",
    "plt.legend()\n",
    "plt.grid(True)"
   ]
  },
  {
   "cell_type": "code",
   "execution_count": 33,
   "metadata": {},
   "outputs": [
    {
     "data": {
      "image/png": "[encoded data removed]",
      "text/plain": [
       "<Figure size 900x600 with 1 Axes>"
      ]
     },
     "metadata": {
      "needs_background": "light"
     },
     "output_type": "display_data"
    }
   ],
   "source": [
    "plt.figure( dpi = 150)\n",
    "plt.plot(gp_topk_acc.mean(axis = 0) - base_topk_acc.mean(axis = 0))\n",
    "plt.grid(True)"
   ]
  }
 ],
 "metadata": {
  "kernelspec": {
   "display_name": "Python 3",
   "language": "python",
   "name": "python3"
  },
  "language_info": {
   "codemirror_mode": {
    "name": "ipython",
    "version": 3
   },
   "file_extension": ".py",
   "mimetype": "text/x-python",
   "name": "python",
   "nbconvert_exporter": "python",
   "pygments_lexer": "ipython3",
   "version": "3.6.8"
  }
 },
 "nbformat": 4,
 "nbformat_minor": 4
}

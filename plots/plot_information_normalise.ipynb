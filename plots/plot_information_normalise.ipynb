{
 "cells": [
  {
   "cell_type": "markdown",
   "metadata": {},
   "source": [
    "# Mutual Information in SimClr"
   ]
  },
  {
   "cell_type": "markdown",
   "metadata": {},
   "source": [
    "In this notebook, we want to demystify what's happening to the encoder in the SimClr  https://arxiv.org/abs/2002.05709  as we train it. We use the same notation as in the paper where, x is an image, h = resnet(x), z = g(h) where g is a NN with one hidden layer. <br>\n",
    "\n",
    "We take a look at the mutual information <br>\n",
    "I(x;z) = H(z) -E_x(H(z|x)) <br>\n",
    "\n",
    "which (according to wikipedia) quantifies the \"amount of information\" (in units such as shannons, commonly called bits) obtained about one random variable through observing the other random variable. <br>\n",
    "\n",
    "Since it's difficult to calculate the entropy we approximated it using the upper bound from inequalities <br>\n",
    "H(u) <= 0.5*log(2pi*e) + 0.5*log(det(cov(u)) <= 0.5*log(2pi*e) + 0.5*log(trace(cov(u))<br>\n",
    "So we are interested in two quantities, log det of covariance matrix and trace of covariance matrix.\n"
   ]
  },
  {
   "cell_type": "markdown",
   "metadata": {},
   "source": [
    "### calculation for h"
   ]
  },
  {
   "cell_type": "markdown",
   "metadata": {},
   "source": [
    "* for h (or z), we sample B images from the dataset (train or test set) x1,x2,...xB\n",
    "* apply augmentation to each image\n",
    "* apply an encoder to calculate h (or z)\n",
    "* calculate a covariance matrix of h1,h2,...hB , C which is a DxD matrix where D is the dimension of h(or z)"
   ]
  },
  {
   "cell_type": "markdown",
   "metadata": {},
   "source": [
    "### calculation for h|x"
   ]
  },
  {
   "cell_type": "markdown",
   "metadata": {},
   "source": [
    "* for h|x (or z|x) we sample B images from the dataset (train or test set) x1,x2,...xB\n",
    "* for each xi, we generate A images by applying random augmentations xi1, xi2, ... xiA\n",
    "* apply an encoder to get hi1,hi2, ... hiA and calculate a covariance matrix Ci\n",
    "* calculate trace or logdet of each Ci\n",
    "* take an average of trace (or logdet) from C1, C2, ... CB"
   ]
  },
  {
   "cell_type": "code",
   "execution_count": 1,
   "metadata": {},
   "outputs": [],
   "source": [
    "import os\n",
    "import torch\n",
    "import torchvision\n",
    "from torchvision import transforms\n",
    "import torch.nn as nn\n",
    "import numpy as np\n",
    "from configs import get_datasets\n",
    "from critic import LinearCritic\n",
    "import matplotlib.pyplot as plt\n",
    "import numpy as np\n",
    "import torchvision\n",
    "from PIL import Image\n",
    "from models import *\n",
    "import torch.backends.cudnn as cudnn\n",
    "from tqdm import tqdm\n",
    "import math\n",
    "import seaborn as sns\n",
    "\n",
    "\n",
    "### config ####\n",
    "num_workers = 2\n",
    "batch_size = 512\n",
    "img_size = 32\n",
    "temperature = 0.5\n",
    "dataset = 'cifar10'\n",
    "CACHED_MEAN_STD = {\n",
    "        'cifar10': ((0.4914, 0.4822, 0.4465), (0.2023, 0.1994, 0.2010)),\n",
    "        'cifar100': ((0.5071, 0.4865, 0.4409), (0.2009, 0.1984, 0.2023)),\n",
    "        'stl10': ((0.4409, 0.4279, 0.3868), (0.2309, 0.2262, 0.2237)),\n",
    "        'imagenet': ((0.485, 0.456, 0.406), (0.229, 0.224, 0.225))\n",
    "    }\n",
    "\n",
    "device = 'cuda' if torch.cuda.is_available() else 'cpu'"
   ]
  },
  {
   "cell_type": "code",
   "execution_count": 2,
   "metadata": {},
   "outputs": [],
   "source": [
    "##### Transformation #####\n",
    "def ColourDistortion(s=1.0):\n",
    "    # s is the strength of color distortion.\n",
    "    color_jitter = transforms.ColorJitter(0.8*s, 0.8*s, 0.8*s, 0.2*s)\n",
    "    rnd_color_jitter = transforms.RandomApply([color_jitter], p=0.8)\n",
    "    rnd_gray = transforms.RandomGrayscale(p=0.2)\n",
    "    color_distort = transforms.Compose([rnd_color_jitter, rnd_gray])\n",
    "    return color_distort\n",
    "\n",
    "\n",
    "transform_train = transforms.Compose([\n",
    "        transforms.RandomResizedCrop(img_size, interpolation=Image.BICUBIC),\n",
    "        transforms.RandomHorizontalFlip(),\n",
    "        ColourDistortion(s=0.5),\n",
    "        transforms.ToTensor(),\n",
    "        transforms.Normalize(*CACHED_MEAN_STD[dataset]),\n",
    "    ])\n",
    "\n",
    "\n",
    "# functions to show an image\n",
    "def imshow(img):\n",
    "    npimg = img.numpy()\n",
    "    plt.imshow(np.transpose(npimg, (1, 2, 0)))\n",
    "    plt.show()"
   ]
  },
  {
   "cell_type": "code",
   "execution_count": 3,
   "metadata": {},
   "outputs": [
    {
     "name": "stdout",
     "output_type": "stream",
     "text": [
      "Files already downloaded and verified\n",
      "Files already downloaded and verified\n"
     ]
    },
    {
     "data": {
      "text/plain": [
       "<matplotlib.image.AxesImage at 0x7fb8d3d7c780>"
      ]
     },
     "execution_count": 3,
     "metadata": {},
     "output_type": "execute_result"
    },
    {
     "data": {
      "image/png": "[encoded data removed]",
      "text/plain": [
       "<Figure size 432x288 with 1 Axes>"
      ]
     },
     "metadata": {
      "needs_background": "light"
     },
     "output_type": "display_data"
    }
   ],
   "source": [
    "root = '/data/cifar10/'\n",
    "train = torchvision.datasets.CIFAR10(root = root, train=True, download=True)\n",
    "test = torchvision.datasets.CIFAR10(root = root, train = False, download = True)\n",
    "pic = train[19][0]\n",
    "plt.imshow(pic)"
   ]
  },
  {
   "cell_type": "markdown",
   "metadata": {},
   "source": [
    "# Code for generate data"
   ]
  },
  {
   "cell_type": "code",
   "execution_count": 4,
   "metadata": {},
   "outputs": [
    {
     "name": "stdout",
     "output_type": "stream",
     "text": [
      "Files already downloaded and verified\n",
      "Files already downloaded and verified\n"
     ]
    }
   ],
   "source": [
    "##### generate data ######\n",
    "\n",
    "root = '/data/cifar10/'\n",
    "train = torchvision.datasets.CIFAR10(root = root, train=True, download=True)\n",
    "test = torchvision.datasets.CIFAR10(root = root, train = False, download = True)\n",
    "    \n",
    "def x_to_xaug(data, sample = 100, index = 0):\n",
    "    '''\n",
    "    Input : a list of picture, index of the pic we want, sample = number of sample generate \n",
    "    \n",
    "    Output: list of pictures each have random augmentations on it\n",
    "    '''\n",
    "    x = []\n",
    "    original_pic = data[index][0]\n",
    "    for i in range(sample):\n",
    "        transform_pic = transform_train(original_pic)\n",
    "        x.append(transform_pic)\n",
    "    return x\n",
    "\n",
    "def gen_data(B = 500, sample = 100):\n",
    "    '''\n",
    "    B = image batch\n",
    "    num_aug = number of augmented picture for each image \n",
    "    \n",
    "    return x_train, x_test (list) [[pic1_aug1, pic1_aug2, ..., pic1_augA], [pic2_aug1, pic2_aug2, ...], ..., [picB_aug1,....picB_augA]]\n",
    "    '''\n",
    "    idx_train = np.random.randint(low = 0, high = len(train), size = B)\n",
    "    idx__test = np.random.randint(low = 0, high = len(test), size = B)\n",
    "    #sample augmented image !\n",
    "    X_train = [x_to_xaug(data = train, sample = sample, index = idx_train[i]) for i in range(B)]\n",
    "    X_test = [x_to_xaug(data = test, sample = sample, index = idx__test[i]) for i in range(B)]\n",
    "    \n",
    "    return X_train, X_test\n",
    "\n",
    "\n",
    "# get data for x with only one sample for each image \n",
    "def gen_data_1pic(B = 100):\n",
    "    '''\n",
    "    the main difference between this function and gen_data is that this function return\n",
    "    a list [[pic1_aug, pic2_aug, ..., picB_aug]] each original picture is selected once\n",
    "    '''\n",
    "    train, test = gen_data(B=B, sample = 1)\n",
    "    X_train1 = [train[i][0] for i in range(len(train))]\n",
    "    X_test1 = [test[i][0] for i in range(len(test))]\n",
    "    return [X_train1], [X_test1]\n"
   ]
  },
  {
   "cell_type": "markdown",
   "metadata": {},
   "source": [
    "# Code for calculating h, z, covariance matrix"
   ]
  },
  {
   "cell_type": "code",
   "execution_count": 5,
   "metadata": {},
   "outputs": [],
   "source": [
    "##### load net, critics Resnet18 checkpoint ######\n",
    "def get_net(filename):\n",
    "    '''\n",
    "    Input: checkpoint filename\n",
    "    Return: net, critic\n",
    "     \n",
    "    '''\n",
    "    \n",
    "    net = ResNet18()\n",
    "    net = net.to(device)\n",
    "\n",
    "    if device == 'cuda':\n",
    "        repr_dim = net.representation_dim\n",
    "        net = torch.nn.DataParallel(net)\n",
    "        net.representation_dim = repr_dim\n",
    "        cudnn.benchmark = True\n",
    "\n",
    "    #print('==> Loading encoder from checkpoint..')\n",
    "    resume_from = os.path.join('./checkpoint', filename)\n",
    "    checkpoint = torch.load(resume_from)\n",
    " \n",
    "    net.load_state_dict(checkpoint['net'])\n",
    "    \n",
    "    \n",
    "    #load critics\n",
    "    critics = LinearCritic(net.representation_dim, temperature=temperature).to(device)\n",
    "    critics.load_state_dict(checkpoint['critic'])\n",
    "    \n",
    "    return net, critics"
   ]
  },
  {
   "cell_type": "code",
   "execution_count": 6,
   "metadata": {},
   "outputs": [],
   "source": [
    "#calculating h, z from x\n",
    "def x_to_h(x, net):\n",
    "    '''\n",
    "    Input list[tensor] , net\n",
    "    \n",
    "    return list[tensor]\n",
    "    '''\n",
    "    h = []\n",
    "    net.eval()\n",
    "    with torch.no_grad():\n",
    "        for i in range(len(x)):\n",
    "            x_i = x[i].unsqueeze(0)\n",
    "            h_i = net(x_i)\n",
    "            h_i = h_i/h_i.norm(p=2, dim=-1, keepdim = True)\n",
    "            h.append(h_i)\n",
    "    return h\n",
    "\n",
    "def h_to_z(h, critics):\n",
    "    '''\n",
    "    Input list[tensor] , critics\n",
    "    \n",
    "    return list[tensor]\n",
    "    '''\n",
    "    z = []\n",
    "    critics.eval()\n",
    "    with torch.no_grad():\n",
    "        for i in range(len(h)):\n",
    "            z_i = critics.project(h[i])\n",
    "            z.append(z_i)\n",
    "    return z"
   ]
  },
  {
   "cell_type": "code",
   "execution_count": 7,
   "metadata": {},
   "outputs": [],
   "source": [
    "#calculate covariance matrix from a list of h\n",
    "def h_to_cov(h):\n",
    "    '''\n",
    "    h = list(tensor1, tensor2, ...)\n",
    "    \n",
    "    return 512x512 covariance matrix \n",
    "    '''\n",
    "    B = len(h)\n",
    "    H_torch = torch.stack(h).squeeze(1)\n",
    "    H_torch_mean = H_torch.mean(dim = 0)\n",
    "    H_torch_mean = H_torch_mean.repeat(B,1)\n",
    "    \n",
    "    H_torch_norm = H_torch- H_torch_mean\n",
    "    cov_H = 1/(B-1) * torch.matmul(H_torch_norm.transpose(0,1), H_torch_norm)\n",
    "    \n",
    "    return cov_H\n",
    "\n",
    "\n",
    "def cov_to_trace(cov_H):\n",
    "    '''\n",
    "    Input covariance tensor\n",
    "    return trace\n",
    "    '''\n",
    "    return cov_H.trace()\n",
    "\n",
    "def cov_to_logdet(cov_H, buffer = 1):\n",
    "    '''\n",
    "    Input covariance tensor\n",
    "    return logdet of (covariance matrix + buffer* identity)\n",
    "    '''\n",
    "    return (cov_H + (torch.eye(cov_H.size()[0])*buffer).to(device)).det().log()"
   ]
  },
  {
   "cell_type": "markdown",
   "metadata": {},
   "source": [
    "# Code for calculation"
   ]
  },
  {
   "cell_type": "code",
   "execution_count": 8,
   "metadata": {},
   "outputs": [],
   "source": [
    "def x_to_cov(X, filename):\n",
    "    '''\n",
    "    Input: X is a list of list of tensor\n",
    "        [[tensor11,tensor12,...,], .... [tensorn1,tensorn2, ....]]\n",
    "        \n",
    "    filename = checkpoint filename\n",
    "    Return: a list of covariance matrix\n",
    "    [cov_tensor1, cov_tensor2, ...., cov_tensorn]\n",
    "    '''\n",
    "    net, critics = get_net(filename)\n",
    "    \n",
    "    cov_H = []\n",
    "    cov_Z = []\n",
    "    for i in range(len(X)):\n",
    "        x_i = X[i]  # list of augmented images that come from the same original pic\n",
    "        h_i = x_to_h(x_i, net)\n",
    "        z_i = h_to_z(h_i, critics)\n",
    "        cov_h_i = h_to_cov(h_i) # calculate covariance matrix\n",
    "        cov_z_i = h_to_cov(z_i)\n",
    "        \n",
    "        cov_H.append(cov_h_i)\n",
    "        cov_Z.append(cov_z_i)\n",
    "        \n",
    "    return cov_H, cov_Z\n",
    "\n",
    "def x_to_logdet(X, filename):\n",
    "    '''\n",
    "    Input: X is a list of list of tensor\n",
    "        [[tensor11,tensor12,...,], .... [tensorn1,tensorn2, ....]]\n",
    "        \n",
    "    filename = checkpoint filename\n",
    "    Return: a list of log det of covariance matrix\n",
    "    [logdet_cov_tensor1, logdet_cov_tensor2, ...., logdet_cov_tensorn]\n",
    "    '''\n",
    "    \n",
    "    net, critics = get_net(filename)\n",
    "    \n",
    "    logdet_H = []\n",
    "    logdet_Z = []\n",
    "    for i in range(len(X)):\n",
    "        x_i = X[i]  # list of augmented images that come from the same original pic\n",
    "        h_i = x_to_h(x_i, net)\n",
    "        z_i = h_to_z(h_i, critics)\n",
    "        cov_h_i = h_to_cov(h_i) # calculate covariance matrix\n",
    "        cov_z_i = h_to_cov(z_i)\n",
    "        \n",
    "        logdet_H.append(cov_to_logdet(cov_h_i))\n",
    "        logdet_Z.append(cov_to_logdet(cov_z_i))\n",
    "        \n",
    "        \n",
    "    return torch.tensor(logdet_H), torch.tensor(logdet_Z)\n",
    "\n",
    "\n",
    "\n",
    "def x_to_trace(X, filename):\n",
    "    \n",
    "    '''\n",
    "    Input: X is a list of list of tensor\n",
    "        [[tensor11,tensor12,...,], .... [tensorn1,tensorn2, ....]]\n",
    "        \n",
    "    filename = checkpoint filename\n",
    "    Return: a list of trace of covariance matrix\n",
    "    [trace_cov_tensor1, trace_cov_tensor2, ...., trace_cov_tensorn] for h and z\n",
    "    '''\n",
    "    \n",
    "    net, critics = get_net(filename)\n",
    "    \n",
    "    trace_H = []\n",
    "    trace_Z = []\n",
    "    for i in range(len(X)):\n",
    "        x_i = X[i]  # list of augmented images that come from the same original pic\n",
    "        h_i = x_to_h(x_i, net)\n",
    "        z_i = h_to_z(h_i, critics)\n",
    "        cov_h_i = h_to_cov(h_i) # calculate covariance matrix\n",
    "        cov_z_i = h_to_cov(z_i)\n",
    "        \n",
    "        trace_H.append(cov_to_trace(cov_h_i))\n",
    "        trace_Z.append(cov_to_trace(cov_z_i))\n",
    "        \n",
    "    return torch.tensor(trace_H), torch.tensor(trace_Z)\n",
    "       \n"
   ]
  },
  {
   "cell_type": "code",
   "execution_count": 9,
   "metadata": {},
   "outputs": [],
   "source": [
    "base200 = ['inv-gp-0_run1_epoch199.pth','inv-gp-0_run2_epoch199.pth','inv-gp-0_run3_epoch199.pth','inv-gp-0_run4_epoch199.pth','inv-gp-0_run5_epoch199.pth']\n",
    "base150 = ['inv-gp-0_run1_epoch149.pth','inv-gp-0_run2_epoch149.pth','inv-gp-0_run3_epoch149.pth','inv-gp-0_run4_epoch149.pth','inv-gp-0_run5_epoch149.pth']\n",
    "base100 = ['inv-gp-0_run1_epoch099.pth','inv-gp-0_run2_epoch099.pth','inv-gp-0_run3_epoch099.pth','inv-gp-0_run4_epoch099.pth','inv-gp-0_run5_epoch099.pth']\n",
    "base50 =  ['inv-gp-0_run1_epoch049.pth','inv-gp-0_run2_epoch049.pth','inv-gp-0_run3_epoch049.pth','inv-gp-0_run4_epoch049.pth', 'inv-gp-0_run5_epoch049.pth']\n",
    "base = [base50, base100, base150, base200]"
   ]
  },
  {
   "cell_type": "code",
   "execution_count": 10,
   "metadata": {},
   "outputs": [],
   "source": [
    "gp200 = ['inv-gp-1_norm_run1_epoch199.pth','inv-gp-1_norm_run2_epoch199.pth','inv-gp-1_norm_run3_epoch199.pth', 'inv-gp-1_norm_run4_epoch199.pth','inv-gp-1_norm_run5_epoch199.pth']\n",
    "gp150 = ['inv-gp-1_norm_run1_epoch149.pth','inv-gp-1_norm_run2_epoch149.pth', 'inv-gp-1_norm_run3_epoch149.pth','inv-gp-1_norm_run4_epoch149.pth','inv-gp-1_norm_run5_epoch149.pth']\n",
    "gp100 = ['inv-gp-1_norm_run1_epoch099.pth','inv-gp-1_norm_run2_epoch099.pth', 'inv-gp-1_norm_run3_epoch099.pth', 'inv-gp-1_norm_run4_epoch099.pth','inv-gp-1_norm_run5_epoch099.pth']\n",
    "gp50 = ['inv-gp-1_norm_run1_epoch049.pth','inv-gp-1_norm_run2_epoch049.pth','inv-gp-1_norm_run3_epoch049.pth', 'inv-gp-1_norm_run4_epoch049.pth', 'inv-gp-1_norm_run5_epoch049.pth']\n",
    "gp = [gp50, gp100, gp150, gp200]"
   ]
  },
  {
   "cell_type": "code",
   "execution_count": 11,
   "metadata": {},
   "outputs": [],
   "source": [
    "# helper function\n",
    "def cal_trace(X, checkpointfile):\n",
    "    h_list = []\n",
    "    z_list = []\n",
    "    for file in checkpointfile:\n",
    "#         print(file)\n",
    "        trace_h, trace_z = x_to_trace(X, file)\n",
    "        h_list.append(trace_h)\n",
    "        z_list.append(trace_z)\n",
    "    h_list = torch.stack(h_list)\n",
    "    z_list = torch.stack(z_list)\n",
    "    return h_list, z_list"
   ]
  },
  {
   "cell_type": "code",
   "execution_count": 12,
   "metadata": {},
   "outputs": [],
   "source": [
    "# helper function\n",
    "def cal_logdet(X, checkpointfile):\n",
    "    h_list = []\n",
    "    z_list = []\n",
    "    for file in checkpointfile:\n",
    "#         print(file)\n",
    "        logdet_h, logdet_z = x_to_logdet(X, file)\n",
    "        h_list.append(logdet_h)\n",
    "        z_list.append(logdet_z)\n",
    "    h_list = torch.stack(h_list)\n",
    "    z_list = torch.stack(z_list)\n",
    "    return h_list, z_list"
   ]
  },
  {
   "cell_type": "markdown",
   "metadata": {},
   "source": [
    "# E(h|x), E(z|x)"
   ]
  },
  {
   "cell_type": "code",
   "execution_count": 13,
   "metadata": {},
   "outputs": [],
   "source": [
    "#100 images, 50 augmentation for each image\n",
    "X_h_giv_x, X_h_giv_x_test = gen_data(B=100, sample = 10)"
   ]
  },
  {
   "cell_type": "code",
   "execution_count": 14,
   "metadata": {},
   "outputs": [],
   "source": [
    "def cal_(X, checkpoint_list, mode):\n",
    "    h_list = []\n",
    "    z_list = []\n",
    "    for file in tqdm(checkpoint_list):\n",
    "        if (mode == 'trace'):           \n",
    "            h, z = cal_trace(X, file)\n",
    "        elif (mode == 'logdet'):\n",
    "            h, z = cal_logdet(X, file)\n",
    "        h_list.append(h)\n",
    "        z_list.append(z)\n",
    "    h_list = torch.stack(h_list)\n",
    "    z_list = torch.stack(z_list)\n",
    "    \n",
    "    return h_list, z_list"
   ]
  },
  {
   "cell_type": "code",
   "execution_count": 15,
   "metadata": {},
   "outputs": [
    {
     "name": "stderr",
     "output_type": "stream",
     "text": [
      "100%|██████████| 4/4 [01:49<00:00, 27.45s/it]\n",
      "100%|██████████| 4/4 [02:03<00:00, 30.79s/it]\n"
     ]
    }
   ],
   "source": [
    "base_tr_h_x, base_tr_z_x = cal_(X_h_giv_x, base, mode = 'trace')\n",
    "base_logdet_h_x, base_logdet_z_x = cal_(X_h_giv_x, base, mode = 'logdet')"
   ]
  },
  {
   "cell_type": "code",
   "execution_count": 16,
   "metadata": {},
   "outputs": [
    {
     "name": "stderr",
     "output_type": "stream",
     "text": [
      "100%|██████████| 4/4 [01:44<00:00, 26.10s/it]\n",
      "100%|██████████| 4/4 [02:02<00:00, 30.62s/it]\n"
     ]
    }
   ],
   "source": [
    "gp_tr_h_x, gp_tr_z_x = cal_(X_h_giv_x, gp, mode = 'trace')\n",
    "gp_logdet_h_x, gp_logdet_z_x = cal_(X_h_giv_x, gp, mode = 'logdet')"
   ]
  },
  {
   "cell_type": "markdown",
   "metadata": {},
   "source": [
    "# E(h), E(z)"
   ]
  },
  {
   "cell_type": "code",
   "execution_count": 17,
   "metadata": {},
   "outputs": [],
   "source": [
    "X_h , X_h_test = gen_data_1pic(B = 1000)"
   ]
  },
  {
   "cell_type": "code",
   "execution_count": 18,
   "metadata": {},
   "outputs": [
    {
     "name": "stderr",
     "output_type": "stream",
     "text": [
      "100%|██████████| 4/4 [01:42<00:00, 25.72s/it]\n",
      "100%|██████████| 4/4 [01:43<00:00, 25.98s/it]\n"
     ]
    }
   ],
   "source": [
    "base_tr_h, base_tr_z = cal_(X_h, base, mode = 'trace')\n",
    "base_logdet_h, base_logdet_z = cal_(X_h, base, mode = 'logdet')"
   ]
  },
  {
   "cell_type": "code",
   "execution_count": 19,
   "metadata": {},
   "outputs": [
    {
     "name": "stderr",
     "output_type": "stream",
     "text": [
      "100%|██████████| 4/4 [01:43<00:00, 25.88s/it]\n",
      "100%|██████████| 4/4 [01:43<00:00, 25.77s/it]\n"
     ]
    }
   ],
   "source": [
    "gp_tr_h, gp_tr_z = cal_(X_h, gp, mode = 'trace')\n",
    "gp_logdet_h, gp_logdet_z = cal_(X_h, gp, mode = 'logdet')"
   ]
  },
  {
   "cell_type": "code",
   "execution_count": 20,
   "metadata": {},
   "outputs": [],
   "source": [
    "epochs = [i*50 for i in range(1,5)]"
   ]
  },
  {
   "cell_type": "code",
   "execution_count": 21,
   "metadata": {},
   "outputs": [],
   "source": [
    "def plot(A,B, name):\n",
    "    plt.figure(dpi = 70)\n",
    "    plt.plot(epochs, A, label = 'baseline',marker = 'o')\n",
    "    plt.plot(epochs, B, label = 'gp norm', marker = 'o')\n",
    "    plt.xlabel('epochs')\n",
    "    plt.ylabel(name)\n",
    "    plt.legend()\n",
    "    plt.grid(True)  "
   ]
  },
  {
   "cell_type": "code",
   "execution_count": 22,
   "metadata": {},
   "outputs": [
    {
     "data": {
      "image/png": "[encoded data removed]",
      "text/plain": [
       "<Figure size 420x280 with 1 Axes>"
      ]
     },
     "metadata": {
      "needs_background": "light"
     },
     "output_type": "display_data"
    },
    {
     "data": {
      "image/png": "[encoded data removed]",
      "text/plain": [
       "<Figure size 420x280 with 1 Axes>"
      ]
     },
     "metadata": {
      "needs_background": "light"
     },
     "output_type": "display_data"
    }
   ],
   "source": [
    "plot(base_tr_h_x.mean(axis = 1).mean(axis=1),\n",
    "    gp_tr_h_x.mean(axis=1).mean(axis=1),\n",
    "    'approx. E(h|x) (trace)')\n",
    "plot(base_logdet_h_x.mean(axis = 1).mean(axis=1),\n",
    "    gp_logdet_h_x.mean(axis=1).mean(axis=1),\n",
    "    'approx. E(h|x) (logdet)')"
   ]
  },
  {
   "cell_type": "code",
   "execution_count": 23,
   "metadata": {},
   "outputs": [
    {
     "data": {
      "image/png": "[encoded data removed]",
      "text/plain": [
       "<Figure size 420x280 with 1 Axes>"
      ]
     },
     "metadata": {
      "needs_background": "light"
     },
     "output_type": "display_data"
    },
    {
     "data": {
      "image/png": "[encoded data removed]",
      "text/plain": [
       "<Figure size 420x280 with 1 Axes>"
      ]
     },
     "metadata": {
      "needs_background": "light"
     },
     "output_type": "display_data"
    }
   ],
   "source": [
    "plot(base_tr_z_x.mean(axis = 1).mean(axis=1),\n",
    "    gp_tr_z_x.mean(axis=1).mean(axis=1),\n",
    "    'approx. E(z|x) (trace)')\n",
    "plot(base_logdet_z_x.mean(axis = 1).mean(axis=1),\n",
    "    gp_logdet_z_x.mean(axis=1).mean(axis=1),\n",
    "    'approx. E(z|x) (logdet)')"
   ]
  },
  {
   "cell_type": "code",
   "execution_count": 24,
   "metadata": {},
   "outputs": [
    {
     "data": {
      "image/png": "[encoded data removed]",
      "text/plain": [
       "<Figure size 420x280 with 1 Axes>"
      ]
     },
     "metadata": {
      "needs_background": "light"
     },
     "output_type": "display_data"
    },
    {
     "data": {
      "image/png": "[encoded data removed]",
      "text/plain": [
       "<Figure size 420x280 with 1 Axes>"
      ]
     },
     "metadata": {
      "needs_background": "light"
     },
     "output_type": "display_data"
    }
   ],
   "source": [
    "plot(base_tr_h.mean(axis = 1).mean(axis=1),\n",
    "    gp_tr_h.mean(axis=1).mean(axis=1),\n",
    "    'approx. E(h) (trace)')\n",
    "plot(base_logdet_h.mean(axis = 1).mean(axis=1),\n",
    "    gp_logdet_h.mean(axis=1).mean(axis=1),\n",
    "    'approx. E(h) (logdet)')"
   ]
  },
  {
   "cell_type": "code",
   "execution_count": 25,
   "metadata": {},
   "outputs": [
    {
     "data": {
      "image/png": "[encoded data removed]",
      "text/plain": [
       "<Figure size 420x280 with 1 Axes>"
      ]
     },
     "metadata": {
      "needs_background": "light"
     },
     "output_type": "display_data"
    },
    {
     "data": {
      "image/png": "[encoded data removed]",
      "text/plain": [
       "<Figure size 420x280 with 1 Axes>"
      ]
     },
     "metadata": {
      "needs_background": "light"
     },
     "output_type": "display_data"
    }
   ],
   "source": [
    "plot(base_tr_z.mean(axis = 1).mean(axis=1),\n",
    "    gp_tr_z.mean(axis=1).mean(axis=1),\n",
    "    'approx. E(z) (trace)')\n",
    "plot(base_logdet_z.mean(axis = 1).mean(axis=1),\n",
    "    gp_logdet_z.mean(axis=1).mean(axis=1),\n",
    "    'approx. E(z) (logdet)')"
   ]
  },
  {
   "cell_type": "markdown",
   "metadata": {},
   "source": [
    "# Investigate size"
   ]
  },
  {
   "cell_type": "code",
   "execution_count": 26,
   "metadata": {},
   "outputs": [],
   "source": [
    "def x_to_h2(X, filename):\n",
    "\n",
    "    net, critics = get_net(filename)\n",
    "    \n",
    "    H = []\n",
    "    Z = []\n",
    "    for i in range(len(X)):\n",
    "        x_i = X[i]  # list of augmented images that come from the same original pic\n",
    "        h_i = x_to_h(x_i, net)\n",
    "        z_i = h_to_z(h_i, critics)\n",
    "        \n",
    "        H.append(h_i)\n",
    "        Z.append(z_i)\n",
    "        \n",
    "    return H,Z"
   ]
  },
  {
   "cell_type": "code",
   "execution_count": 27,
   "metadata": {},
   "outputs": [
    {
     "data": {
      "text/plain": [
       "tensor(1., device='cuda:0')"
      ]
     },
     "execution_count": 27,
     "metadata": {},
     "output_type": "execute_result"
    }
   ],
   "source": [
    "H,Z = x_to_h2(X_h_giv_x, 'inv-gp-0_run1_epoch199.pth')\n",
    "torch.stack(H[0]).norm(p=2, dim = -1).mean()"
   ]
  },
  {
   "cell_type": "code",
   "execution_count": 28,
   "metadata": {},
   "outputs": [
    {
     "data": {
      "text/plain": [
       "tensor(1., device='cuda:0')"
      ]
     },
     "execution_count": 28,
     "metadata": {},
     "output_type": "execute_result"
    }
   ],
   "source": [
    "H,Z = x_to_h2(X_h_giv_x, 'inv-gp-0_run1_epoch099.pth')\n",
    "torch.stack(H[0]).norm(p=2, dim = -1).mean()"
   ]
  },
  {
   "cell_type": "code",
   "execution_count": 29,
   "metadata": {},
   "outputs": [
    {
     "data": {
      "text/plain": [
       "tensor(1., device='cuda:0')"
      ]
     },
     "execution_count": 29,
     "metadata": {},
     "output_type": "execute_result"
    }
   ],
   "source": [
    "H,Z = x_to_h2(X_h_giv_x, 'inv-gp-1_norm_run1_epoch199.pth')\n",
    "torch.stack(H[0]).norm(dim = -1, p = 2).mean()"
   ]
  },
  {
   "cell_type": "code",
   "execution_count": 30,
   "metadata": {},
   "outputs": [
    {
     "data": {
      "text/plain": [
       "tensor(1., device='cuda:0')"
      ]
     },
     "execution_count": 30,
     "metadata": {},
     "output_type": "execute_result"
    }
   ],
   "source": [
    "H,Z = x_to_h2(X_h_giv_x, 'inv-gp-1_norm_run1_epoch099.pth')\n",
    "torch.stack(H[0]).norm(dim = -1, p = 2).mean()"
   ]
  },
  {
   "cell_type": "markdown",
   "metadata": {},
   "source": [
    "# Example code for calculating E(h|x), E(h) from checkpoint"
   ]
  },
  {
   "cell_type": "markdown",
   "metadata": {},
   "source": [
    "1) gen data set <br>\n",
    "- h|x use this gen function X_h_giv_x, X_h_giv_x_test = gen_data(B=100, sample = 10)<br>\n",
    "- h use this gen function X_h , X_h_test = gen_data_1pic(B = 1000) <br>\n",
    "\n",
    "2) trace_h, trace_z = x_to_trace/ x_to_logdet <br>"
   ]
  },
  {
   "cell_type": "code",
   "execution_count": 32,
   "metadata": {},
   "outputs": [],
   "source": [
    "X_h_giv_x, X_h_giv_x_test = gen_data(B=100, sample = 10)"
   ]
  },
  {
   "cell_type": "code",
   "execution_count": 37,
   "metadata": {},
   "outputs": [],
   "source": [
    "trace_h_giv_x, trace_z_giv_x = x_to_trace(X_h_giv_x, 'inv-gp-0_run1_epoch199.pth')"
   ]
  },
  {
   "cell_type": "code",
   "execution_count": 38,
   "metadata": {},
   "outputs": [
    {
     "data": {
      "text/plain": [
       "tensor([0.3447, 0.1519, 0.2237, 0.2963, 0.2771, 0.1999, 0.1561, 0.1648, 0.2317,\n",
       "        0.1127, 0.2271, 0.3016, 0.2358, 0.2064, 0.2109, 0.2331, 0.1172, 0.1815,\n",
       "        0.1522, 0.1958, 0.1016, 0.1917, 0.1980, 0.1568, 0.2286, 0.3221, 0.0592,\n",
       "        0.1092, 0.1947, 0.2809, 0.1094, 0.0644, 0.1779, 0.2507, 0.1180, 0.1442,\n",
       "        0.2986, 0.2250, 0.2033, 0.2983, 0.2613, 0.1216, 0.2881, 0.0980, 0.1527,\n",
       "        0.1622, 0.1594, 0.1537, 0.2240, 0.1563, 0.1338, 0.0939, 0.2665, 0.1903,\n",
       "        0.2403, 0.2443, 0.2358, 0.0870, 0.2466, 0.1367, 0.2505, 0.2779, 0.2381,\n",
       "        0.1729, 0.1892, 0.1438, 0.1481, 0.1369, 0.3343, 0.1758, 0.1270, 0.1690,\n",
       "        0.2109, 0.1951, 0.1563, 0.3003, 0.2423, 0.2555, 0.1278, 0.0855, 0.2046,\n",
       "        0.2211, 0.1911, 0.2434, 0.1912, 0.1476, 0.2086, 0.1381, 0.1337, 0.1311,\n",
       "        0.2690, 0.1218, 0.2265, 0.1548, 0.1301, 0.2350, 0.1930, 0.1832, 0.2443,\n",
       "        0.1579])"
      ]
     },
     "execution_count": 38,
     "metadata": {},
     "output_type": "execute_result"
    }
   ],
   "source": [
    "trace_h_giv_x"
   ]
  },
  {
   "cell_type": "code",
   "execution_count": 43,
   "metadata": {},
   "outputs": [
    {
     "data": {
      "text/plain": [
       "tensor(0.1927)"
      ]
     },
     "execution_count": 43,
     "metadata": {},
     "output_type": "execute_result"
    }
   ],
   "source": [
    "# mean over 100 images\n",
    "trace_h_giv_x.mean()"
   ]
  },
  {
   "cell_type": "code",
   "execution_count": 42,
   "metadata": {},
   "outputs": [
    {
     "data": {
      "text/plain": [
       "torch.Size([100])"
      ]
     },
     "execution_count": 42,
     "metadata": {},
     "output_type": "execute_result"
    }
   ],
   "source": [
    "trace_h_giv_x.size()"
   ]
  },
  {
   "cell_type": "code",
   "execution_count": 39,
   "metadata": {},
   "outputs": [],
   "source": [
    "X_h , X_h_test = gen_data_1pic(B = 1000)"
   ]
  },
  {
   "cell_type": "code",
   "execution_count": 45,
   "metadata": {},
   "outputs": [],
   "source": [
    "trace_h, trace_z = x_to_trace(X_h, 'inv-gp-0_run1_epoch199.pth')"
   ]
  },
  {
   "cell_type": "code",
   "execution_count": 46,
   "metadata": {},
   "outputs": [
    {
     "data": {
      "text/plain": [
       "tensor([0.6408])"
      ]
     },
     "execution_count": 46,
     "metadata": {},
     "output_type": "execute_result"
    }
   ],
   "source": [
    "# this value is already a mean of 1000 images\n",
    "trace_h"
   ]
  }
 ],
 "metadata": {
  "kernelspec": {
   "display_name": "Python 3",
   "language": "python",
   "name": "python3"
  },
  "language_info": {
   "codemirror_mode": {
    "name": "ipython",
    "version": 3
   },
   "file_extension": ".py",
   "mimetype": "text/x-python",
   "name": "python",
   "nbconvert_exporter": "python",
   "pygments_lexer": "ipython3",
   "version": "3.6.8"
  }
 },
 "nbformat": 4,
 "nbformat_minor": 4
}
